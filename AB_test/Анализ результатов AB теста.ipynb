{
 "cells": [
  {
   "cell_type": "markdown",
   "metadata": {},
   "source": [
    "# Проект \"Анализ результатов А/В теста\""
   ]
  },
  {
   "cell_type": "markdown",
   "metadata": {},
   "source": [
    "Вместе с отделом маркетинга мы подготовили список гипотез. Наша цель - увеличение выручки. \n",
    "\n",
    "Для этого нам предстоит:\n",
    "- приоритизировать гипотезы;\n",
    "- запустить А/В-тест;\n",
    "- проанализировать результаты. \n",
    "\n",
    "Нам предоставлены данные:\n",
    "\n",
    "Файл с гипотезами и параметрами:\n",
    "- Hypothesis — краткое описание гипотезы;\n",
    "- Reach — охват пользователей по 10-балльной шкале;\n",
    "- Impact — влияние на пользователей по 10-балльной шкале;\n",
    "- Confidence — уверенность в гипотезе по 10-балльной шкале;\n",
    "- Efforts — затраты ресурсов на проверку гипотезы по 10-балльной шкале. Чем больше значение Efforts, тем дороже проверка гипотезы.\n",
    "\n",
    "Файл с перечнем заказов:\n",
    "- transactionId — идентификатор заказа;\n",
    "- visitorId — идентификатор пользователя, совершившего заказ;\n",
    "- date — дата, когда был совершён заказ;\n",
    "- revenue — выручка заказа;\n",
    "- group — группа A/B-теста, в которую попал заказ.\n",
    "\n",
    "Файл с перечнем пользователей:\n",
    "- date — дата;\n",
    "- group — группа A/B-теста;\n",
    "- visitors — количество пользователей в указанную дату в указанной группе A/B-теста\n"
   ]
  },
  {
   "cell_type": "markdown",
   "metadata": {},
   "source": [
    "## Приоритизация гипотез"
   ]
  },
  {
   "cell_type": "markdown",
   "metadata": {},
   "source": [
    "Мы будем приоритизировать гипотезы методами ICE и RICE.\n",
    "\n",
    "Первый метод рассчитывает оценку гипотезы по следующим компонентам: \n",
    "- Impact — насколько сильно изменение повлияет на пользователей, их опыт и удовлетворение от продукта;\n",
    "- Confidence — насколько вы уверены, что это изменение повлияет на пользователей именно так; \n",
    "- Efforts — сколько стоит протестировать эту гипотезу. \n",
    "\n",
    "Метод RICE также учитывает такой компонент как охват:\n",
    "- Reach — скольких пользователей затронет изменение, которое вы хотите внести.\n",
    "\n",
    "Изучим содержимое датасета с гипотезами:"
   ]
  },
  {
   "cell_type": "code",
   "execution_count": 1,
   "metadata": {},
   "outputs": [],
   "source": [
    "#импортирование библиотек\n",
    "\n",
    "import pandas as pd\n",
    "import scipy.stats as stats\n",
    "import datetime as dt\n",
    "import numpy as np\n",
    "import matplotlib.pyplot as plt"
   ]
  },
  {
   "cell_type": "code",
   "execution_count": 2,
   "metadata": {},
   "outputs": [
    {
     "data": {
      "text/html": [
       "<div>\n",
       "<style scoped>\n",
       "    .dataframe tbody tr th:only-of-type {\n",
       "        vertical-align: middle;\n",
       "    }\n",
       "\n",
       "    .dataframe tbody tr th {\n",
       "        vertical-align: top;\n",
       "    }\n",
       "\n",
       "    .dataframe thead th {\n",
       "        text-align: right;\n",
       "    }\n",
       "</style>\n",
       "<table border=\"1\" class=\"dataframe\">\n",
       "  <thead>\n",
       "    <tr style=\"text-align: right;\">\n",
       "      <th></th>\n",
       "      <th>Hypothesis</th>\n",
       "      <th>Reach</th>\n",
       "      <th>Impact</th>\n",
       "      <th>Confidence</th>\n",
       "      <th>Efforts</th>\n",
       "    </tr>\n",
       "  </thead>\n",
       "  <tbody>\n",
       "    <tr>\n",
       "      <th>0</th>\n",
       "      <td>Добавить два новых канала привлечения трафика, что позволит привлекать на 30% больше пользователей</td>\n",
       "      <td>3</td>\n",
       "      <td>10</td>\n",
       "      <td>8</td>\n",
       "      <td>6</td>\n",
       "    </tr>\n",
       "    <tr>\n",
       "      <th>1</th>\n",
       "      <td>Запустить собственную службу доставки, что сократит срок доставки заказов</td>\n",
       "      <td>2</td>\n",
       "      <td>5</td>\n",
       "      <td>4</td>\n",
       "      <td>10</td>\n",
       "    </tr>\n",
       "    <tr>\n",
       "      <th>2</th>\n",
       "      <td>Добавить блоки рекомендаций товаров на сайт интернет магазина, чтобы повысить конверсию и средний чек заказа</td>\n",
       "      <td>8</td>\n",
       "      <td>3</td>\n",
       "      <td>7</td>\n",
       "      <td>3</td>\n",
       "    </tr>\n",
       "    <tr>\n",
       "      <th>3</th>\n",
       "      <td>Изменить структура категорий, что увеличит конверсию, т.к. пользователи быстрее найдут нужный товар</td>\n",
       "      <td>8</td>\n",
       "      <td>3</td>\n",
       "      <td>3</td>\n",
       "      <td>8</td>\n",
       "    </tr>\n",
       "    <tr>\n",
       "      <th>4</th>\n",
       "      <td>Изменить цвет фона главной страницы, чтобы увеличить вовлеченность пользователей</td>\n",
       "      <td>3</td>\n",
       "      <td>1</td>\n",
       "      <td>1</td>\n",
       "      <td>1</td>\n",
       "    </tr>\n",
       "    <tr>\n",
       "      <th>5</th>\n",
       "      <td>Добавить страницу отзывов клиентов о магазине, что позволит увеличить количество заказов</td>\n",
       "      <td>3</td>\n",
       "      <td>2</td>\n",
       "      <td>2</td>\n",
       "      <td>3</td>\n",
       "    </tr>\n",
       "    <tr>\n",
       "      <th>6</th>\n",
       "      <td>Показать на главной странице баннеры с актуальными акциями и распродажами, чтобы увеличить конверсию</td>\n",
       "      <td>5</td>\n",
       "      <td>3</td>\n",
       "      <td>8</td>\n",
       "      <td>3</td>\n",
       "    </tr>\n",
       "    <tr>\n",
       "      <th>7</th>\n",
       "      <td>Добавить форму подписки на все основные страницы, чтобы собрать базу клиентов для email-рассылок</td>\n",
       "      <td>10</td>\n",
       "      <td>7</td>\n",
       "      <td>8</td>\n",
       "      <td>5</td>\n",
       "    </tr>\n",
       "    <tr>\n",
       "      <th>8</th>\n",
       "      <td>Запустить акцию, дающую скидку на товар в день рождения</td>\n",
       "      <td>1</td>\n",
       "      <td>9</td>\n",
       "      <td>9</td>\n",
       "      <td>5</td>\n",
       "    </tr>\n",
       "  </tbody>\n",
       "</table>\n",
       "</div>"
      ],
      "text/plain": [
       "                                                                                                     Hypothesis  \\\n",
       "0            Добавить два новых канала привлечения трафика, что позволит привлекать на 30% больше пользователей   \n",
       "1                                     Запустить собственную службу доставки, что сократит срок доставки заказов   \n",
       "2  Добавить блоки рекомендаций товаров на сайт интернет магазина, чтобы повысить конверсию и средний чек заказа   \n",
       "3           Изменить структура категорий, что увеличит конверсию, т.к. пользователи быстрее найдут нужный товар   \n",
       "4                              Изменить цвет фона главной страницы, чтобы увеличить вовлеченность пользователей   \n",
       "5                      Добавить страницу отзывов клиентов о магазине, что позволит увеличить количество заказов   \n",
       "6          Показать на главной странице баннеры с актуальными акциями и распродажами, чтобы увеличить конверсию   \n",
       "7              Добавить форму подписки на все основные страницы, чтобы собрать базу клиентов для email-рассылок   \n",
       "8                                                       Запустить акцию, дающую скидку на товар в день рождения   \n",
       "\n",
       "   Reach  Impact  Confidence  Efforts  \n",
       "0      3      10           8        6  \n",
       "1      2       5           4       10  \n",
       "2      8       3           7        3  \n",
       "3      8       3           3        8  \n",
       "4      3       1           1        1  \n",
       "5      3       2           2        3  \n",
       "6      5       3           8        3  \n",
       "7     10       7           8        5  \n",
       "8      1       9           9        5  "
      ]
     },
     "execution_count": 2,
     "metadata": {},
     "output_type": "execute_result"
    }
   ],
   "source": [
    "#вывод датасета с гипотезами\n",
    "\n",
    "hypothesis = pd.read_csv('/datasets/hypothesis.csv', sep=',')\n",
    "pd.options.display.max_colwidth = 150\n",
    "hypothesis"
   ]
  },
  {
   "cell_type": "code",
   "execution_count": 3,
   "metadata": {},
   "outputs": [
    {
     "data": {
      "text/html": [
       "<div>\n",
       "<style scoped>\n",
       "    .dataframe tbody tr th:only-of-type {\n",
       "        vertical-align: middle;\n",
       "    }\n",
       "\n",
       "    .dataframe tbody tr th {\n",
       "        vertical-align: top;\n",
       "    }\n",
       "\n",
       "    .dataframe thead th {\n",
       "        text-align: right;\n",
       "    }\n",
       "</style>\n",
       "<table border=\"1\" class=\"dataframe\">\n",
       "  <thead>\n",
       "    <tr style=\"text-align: right;\">\n",
       "      <th></th>\n",
       "      <th>hypothesis</th>\n",
       "      <th>reach</th>\n",
       "      <th>impact</th>\n",
       "      <th>confidence</th>\n",
       "      <th>efforts</th>\n",
       "    </tr>\n",
       "  </thead>\n",
       "  <tbody>\n",
       "    <tr>\n",
       "      <th>0</th>\n",
       "      <td>Добавить два новых канала привлечения трафика, что позволит привлекать на 30% больше пользователей</td>\n",
       "      <td>3</td>\n",
       "      <td>10</td>\n",
       "      <td>8</td>\n",
       "      <td>6</td>\n",
       "    </tr>\n",
       "    <tr>\n",
       "      <th>1</th>\n",
       "      <td>Запустить собственную службу доставки, что сократит срок доставки заказов</td>\n",
       "      <td>2</td>\n",
       "      <td>5</td>\n",
       "      <td>4</td>\n",
       "      <td>10</td>\n",
       "    </tr>\n",
       "    <tr>\n",
       "      <th>2</th>\n",
       "      <td>Добавить блоки рекомендаций товаров на сайт интернет магазина, чтобы повысить конверсию и средний чек заказа</td>\n",
       "      <td>8</td>\n",
       "      <td>3</td>\n",
       "      <td>7</td>\n",
       "      <td>3</td>\n",
       "    </tr>\n",
       "    <tr>\n",
       "      <th>3</th>\n",
       "      <td>Изменить структура категорий, что увеличит конверсию, т.к. пользователи быстрее найдут нужный товар</td>\n",
       "      <td>8</td>\n",
       "      <td>3</td>\n",
       "      <td>3</td>\n",
       "      <td>8</td>\n",
       "    </tr>\n",
       "    <tr>\n",
       "      <th>4</th>\n",
       "      <td>Изменить цвет фона главной страницы, чтобы увеличить вовлеченность пользователей</td>\n",
       "      <td>3</td>\n",
       "      <td>1</td>\n",
       "      <td>1</td>\n",
       "      <td>1</td>\n",
       "    </tr>\n",
       "  </tbody>\n",
       "</table>\n",
       "</div>"
      ],
      "text/plain": [
       "                                                                                                     hypothesis  \\\n",
       "0            Добавить два новых канала привлечения трафика, что позволит привлекать на 30% больше пользователей   \n",
       "1                                     Запустить собственную службу доставки, что сократит срок доставки заказов   \n",
       "2  Добавить блоки рекомендаций товаров на сайт интернет магазина, чтобы повысить конверсию и средний чек заказа   \n",
       "3           Изменить структура категорий, что увеличит конверсию, т.к. пользователи быстрее найдут нужный товар   \n",
       "4                              Изменить цвет фона главной страницы, чтобы увеличить вовлеченность пользователей   \n",
       "\n",
       "   reach  impact  confidence  efforts  \n",
       "0      3      10           8        6  \n",
       "1      2       5           4       10  \n",
       "2      8       3           7        3  \n",
       "3      8       3           3        8  \n",
       "4      3       1           1        1  "
      ]
     },
     "execution_count": 3,
     "metadata": {},
     "output_type": "execute_result"
    }
   ],
   "source": [
    "#приведение названий столбцов к нижнему регистру\n",
    "\n",
    "hypothesis.columns = hypothesis.columns.str.lower()\n",
    "hypothesis.head(5)"
   ]
  },
  {
   "cell_type": "markdown",
   "metadata": {},
   "source": [
    "Нам предстоит приоритизировать 9 гипотез. \n",
    "\n",
    "Посчитаем ICE для них:"
   ]
  },
  {
   "cell_type": "code",
   "execution_count": 4,
   "metadata": {},
   "outputs": [
    {
     "data": {
      "text/html": [
       "<div>\n",
       "<style scoped>\n",
       "    .dataframe tbody tr th:only-of-type {\n",
       "        vertical-align: middle;\n",
       "    }\n",
       "\n",
       "    .dataframe tbody tr th {\n",
       "        vertical-align: top;\n",
       "    }\n",
       "\n",
       "    .dataframe thead th {\n",
       "        text-align: right;\n",
       "    }\n",
       "</style>\n",
       "<table border=\"1\" class=\"dataframe\">\n",
       "  <thead>\n",
       "    <tr style=\"text-align: right;\">\n",
       "      <th></th>\n",
       "      <th>hypothesis</th>\n",
       "      <th>ICE</th>\n",
       "    </tr>\n",
       "  </thead>\n",
       "  <tbody>\n",
       "    <tr>\n",
       "      <th>8</th>\n",
       "      <td>Запустить акцию, дающую скидку на товар в день рождения</td>\n",
       "      <td>16.20</td>\n",
       "    </tr>\n",
       "    <tr>\n",
       "      <th>0</th>\n",
       "      <td>Добавить два новых канала привлечения трафика, что позволит привлекать на 30% больше пользователей</td>\n",
       "      <td>13.33</td>\n",
       "    </tr>\n",
       "    <tr>\n",
       "      <th>7</th>\n",
       "      <td>Добавить форму подписки на все основные страницы, чтобы собрать базу клиентов для email-рассылок</td>\n",
       "      <td>11.20</td>\n",
       "    </tr>\n",
       "    <tr>\n",
       "      <th>6</th>\n",
       "      <td>Показать на главной странице баннеры с актуальными акциями и распродажами, чтобы увеличить конверсию</td>\n",
       "      <td>8.00</td>\n",
       "    </tr>\n",
       "    <tr>\n",
       "      <th>2</th>\n",
       "      <td>Добавить блоки рекомендаций товаров на сайт интернет магазина, чтобы повысить конверсию и средний чек заказа</td>\n",
       "      <td>7.00</td>\n",
       "    </tr>\n",
       "    <tr>\n",
       "      <th>1</th>\n",
       "      <td>Запустить собственную службу доставки, что сократит срок доставки заказов</td>\n",
       "      <td>2.00</td>\n",
       "    </tr>\n",
       "    <tr>\n",
       "      <th>5</th>\n",
       "      <td>Добавить страницу отзывов клиентов о магазине, что позволит увеличить количество заказов</td>\n",
       "      <td>1.33</td>\n",
       "    </tr>\n",
       "    <tr>\n",
       "      <th>3</th>\n",
       "      <td>Изменить структура категорий, что увеличит конверсию, т.к. пользователи быстрее найдут нужный товар</td>\n",
       "      <td>1.12</td>\n",
       "    </tr>\n",
       "    <tr>\n",
       "      <th>4</th>\n",
       "      <td>Изменить цвет фона главной страницы, чтобы увеличить вовлеченность пользователей</td>\n",
       "      <td>1.00</td>\n",
       "    </tr>\n",
       "  </tbody>\n",
       "</table>\n",
       "</div>"
      ],
      "text/plain": [
       "                                                                                                     hypothesis  \\\n",
       "8                                                       Запустить акцию, дающую скидку на товар в день рождения   \n",
       "0            Добавить два новых канала привлечения трафика, что позволит привлекать на 30% больше пользователей   \n",
       "7              Добавить форму подписки на все основные страницы, чтобы собрать базу клиентов для email-рассылок   \n",
       "6          Показать на главной странице баннеры с актуальными акциями и распродажами, чтобы увеличить конверсию   \n",
       "2  Добавить блоки рекомендаций товаров на сайт интернет магазина, чтобы повысить конверсию и средний чек заказа   \n",
       "1                                     Запустить собственную службу доставки, что сократит срок доставки заказов   \n",
       "5                      Добавить страницу отзывов клиентов о магазине, что позволит увеличить количество заказов   \n",
       "3           Изменить структура категорий, что увеличит конверсию, т.к. пользователи быстрее найдут нужный товар   \n",
       "4                              Изменить цвет фона главной страницы, чтобы увеличить вовлеченность пользователей   \n",
       "\n",
       "     ICE  \n",
       "8  16.20  \n",
       "0  13.33  \n",
       "7  11.20  \n",
       "6   8.00  \n",
       "2   7.00  \n",
       "1   2.00  \n",
       "5   1.33  \n",
       "3   1.12  \n",
       "4   1.00  "
      ]
     },
     "execution_count": 4,
     "metadata": {},
     "output_type": "execute_result"
    }
   ],
   "source": [
    "#приоритизация методом ICE\n",
    "\n",
    "hypothesis['ICE']=round((hypothesis['impact'] * hypothesis['confidence'])/hypothesis['efforts'],2)\n",
    "hypothesis[['hypothesis','ICE']].sort_values(by='ICE', ascending=False)\n"
   ]
  },
  {
   "cell_type": "markdown",
   "metadata": {},
   "source": [
    "Наиболее перспективными являются гипотезы с индексом 8, 0 и 7. \n",
    "\n",
    "У первых двух низкий параметр Reach (1 и 3 балла), т.е. количество пользователей, которых она затронет, невелико. У гипотезы 7 другая ситуация - она затрагивает много пользователей (Reach = 10), однако стоимость теста гипотезы довольно большая (параметр Efforts = 5).  \n",
    "\n",
    "Приоритизируем гипотезы методом RICE:"
   ]
  },
  {
   "cell_type": "code",
   "execution_count": 5,
   "metadata": {},
   "outputs": [
    {
     "data": {
      "text/html": [
       "<div>\n",
       "<style scoped>\n",
       "    .dataframe tbody tr th:only-of-type {\n",
       "        vertical-align: middle;\n",
       "    }\n",
       "\n",
       "    .dataframe tbody tr th {\n",
       "        vertical-align: top;\n",
       "    }\n",
       "\n",
       "    .dataframe thead th {\n",
       "        text-align: right;\n",
       "    }\n",
       "</style>\n",
       "<table border=\"1\" class=\"dataframe\">\n",
       "  <thead>\n",
       "    <tr style=\"text-align: right;\">\n",
       "      <th></th>\n",
       "      <th>hypothesis</th>\n",
       "      <th>RICE</th>\n",
       "    </tr>\n",
       "  </thead>\n",
       "  <tbody>\n",
       "    <tr>\n",
       "      <th>7</th>\n",
       "      <td>Добавить форму подписки на все основные страницы, чтобы собрать базу клиентов для email-рассылок</td>\n",
       "      <td>112.0</td>\n",
       "    </tr>\n",
       "    <tr>\n",
       "      <th>2</th>\n",
       "      <td>Добавить блоки рекомендаций товаров на сайт интернет магазина, чтобы повысить конверсию и средний чек заказа</td>\n",
       "      <td>56.0</td>\n",
       "    </tr>\n",
       "    <tr>\n",
       "      <th>0</th>\n",
       "      <td>Добавить два новых канала привлечения трафика, что позволит привлекать на 30% больше пользователей</td>\n",
       "      <td>40.0</td>\n",
       "    </tr>\n",
       "    <tr>\n",
       "      <th>6</th>\n",
       "      <td>Показать на главной странице баннеры с актуальными акциями и распродажами, чтобы увеличить конверсию</td>\n",
       "      <td>40.0</td>\n",
       "    </tr>\n",
       "    <tr>\n",
       "      <th>8</th>\n",
       "      <td>Запустить акцию, дающую скидку на товар в день рождения</td>\n",
       "      <td>16.2</td>\n",
       "    </tr>\n",
       "    <tr>\n",
       "      <th>3</th>\n",
       "      <td>Изменить структура категорий, что увеличит конверсию, т.к. пользователи быстрее найдут нужный товар</td>\n",
       "      <td>9.0</td>\n",
       "    </tr>\n",
       "    <tr>\n",
       "      <th>1</th>\n",
       "      <td>Запустить собственную службу доставки, что сократит срок доставки заказов</td>\n",
       "      <td>4.0</td>\n",
       "    </tr>\n",
       "    <tr>\n",
       "      <th>5</th>\n",
       "      <td>Добавить страницу отзывов клиентов о магазине, что позволит увеличить количество заказов</td>\n",
       "      <td>4.0</td>\n",
       "    </tr>\n",
       "    <tr>\n",
       "      <th>4</th>\n",
       "      <td>Изменить цвет фона главной страницы, чтобы увеличить вовлеченность пользователей</td>\n",
       "      <td>3.0</td>\n",
       "    </tr>\n",
       "  </tbody>\n",
       "</table>\n",
       "</div>"
      ],
      "text/plain": [
       "                                                                                                     hypothesis  \\\n",
       "7              Добавить форму подписки на все основные страницы, чтобы собрать базу клиентов для email-рассылок   \n",
       "2  Добавить блоки рекомендаций товаров на сайт интернет магазина, чтобы повысить конверсию и средний чек заказа   \n",
       "0            Добавить два новых канала привлечения трафика, что позволит привлекать на 30% больше пользователей   \n",
       "6          Показать на главной странице баннеры с актуальными акциями и распродажами, чтобы увеличить конверсию   \n",
       "8                                                       Запустить акцию, дающую скидку на товар в день рождения   \n",
       "3           Изменить структура категорий, что увеличит конверсию, т.к. пользователи быстрее найдут нужный товар   \n",
       "1                                     Запустить собственную службу доставки, что сократит срок доставки заказов   \n",
       "5                      Добавить страницу отзывов клиентов о магазине, что позволит увеличить количество заказов   \n",
       "4                              Изменить цвет фона главной страницы, чтобы увеличить вовлеченность пользователей   \n",
       "\n",
       "    RICE  \n",
       "7  112.0  \n",
       "2   56.0  \n",
       "0   40.0  \n",
       "6   40.0  \n",
       "8   16.2  \n",
       "3    9.0  \n",
       "1    4.0  \n",
       "5    4.0  \n",
       "4    3.0  "
      ]
     },
     "execution_count": 5,
     "metadata": {},
     "output_type": "execute_result"
    }
   ],
   "source": [
    "#приоритизация методом RICE\n",
    "\n",
    "hypothesis['RICE']=(hypothesis['reach'] * hypothesis['impact'] \\\n",
    "                * hypothesis['confidence'])/hypothesis['efforts']\n",
    "\n",
    "hypothesis[['hypothesis','RICE']].sort_values(by='RICE', ascending=False)"
   ]
  },
  {
   "cell_type": "markdown",
   "metadata": {},
   "source": [
    "Наиболее перспективной гипотезой стала гипотеза с индексом 7. Она затрагивает всех пользователей (Reach = 10), имеет сильное влияние на пользователей и их удовлетворение от продукта (Impact = 7), и высока уверенность, что изменение повлияет на пользователей именно так (Confidence = 8)."
   ]
  },
  {
   "cell_type": "markdown",
   "metadata": {},
   "source": [
    "**Вывод:** При приоритизации методом ICE, на лидирующие позиции вышли следующие гипотезы:\n",
    "\n",
    "- №8 Запустить акцию, дающую скидку на товар в день рождения\n",
    "- №0 Добавить два новых канала привлечения трафика, что позволит привлекать на 30% больше пользователей\n",
    "- №7 Добавить форму подписки на все основные страницы, чтобы собрать базу клиентов для email-рассылок.\n",
    "\n",
    "Гипотезы, лидирующие по приоритизации методом RICE:\n",
    "- №7 Добавить форму подписки на все основные страницы, чтобы собрать базу клиентов для email-рассылок *(лидер с большим отрывом)*\n",
    "- №2 Добавить блоки рекомендаций товаров на сайт интернет магазина, чтобы повысить конверсию и средний чек заказа\n",
    "- №0 Добавить два новых канала привлечения трафика, что позволит привлекать на 30% больше пользователей\n",
    "\n",
    "Для тестирования следует предложить гипотезу №7 и №0."
   ]
  },
  {
   "cell_type": "markdown",
   "metadata": {},
   "source": [
    "## Подготовка данных"
   ]
  },
  {
   "cell_type": "markdown",
   "metadata": {},
   "source": [
    "Выведем основную информацию о датасете с заказами:"
   ]
  },
  {
   "cell_type": "code",
   "execution_count": 6,
   "metadata": {},
   "outputs": [
    {
     "name": "stdout",
     "output_type": "stream",
     "text": [
      "<class 'pandas.core.frame.DataFrame'>\n",
      "RangeIndex: 1197 entries, 0 to 1196\n",
      "Data columns (total 5 columns):\n",
      " #   Column         Non-Null Count  Dtype \n",
      "---  ------         --------------  ----- \n",
      " 0   transactionId  1197 non-null   int64 \n",
      " 1   visitorId      1197 non-null   int64 \n",
      " 2   date           1197 non-null   object\n",
      " 3   revenue        1197 non-null   int64 \n",
      " 4   group          1197 non-null   object\n",
      "dtypes: int64(3), object(2)\n",
      "memory usage: 46.9+ KB\n"
     ]
    }
   ],
   "source": [
    "#датасет с заказами\n",
    "\n",
    "orders = pd.read_csv('/datasets/orders.csv', sep=',')\n",
    "orders.info()"
   ]
  },
  {
   "cell_type": "code",
   "execution_count": 7,
   "metadata": {},
   "outputs": [
    {
     "data": {
      "text/html": [
       "<div>\n",
       "<style scoped>\n",
       "    .dataframe tbody tr th:only-of-type {\n",
       "        vertical-align: middle;\n",
       "    }\n",
       "\n",
       "    .dataframe tbody tr th {\n",
       "        vertical-align: top;\n",
       "    }\n",
       "\n",
       "    .dataframe thead th {\n",
       "        text-align: right;\n",
       "    }\n",
       "</style>\n",
       "<table border=\"1\" class=\"dataframe\">\n",
       "  <thead>\n",
       "    <tr style=\"text-align: right;\">\n",
       "      <th></th>\n",
       "      <th>transactionId</th>\n",
       "      <th>visitorId</th>\n",
       "      <th>date</th>\n",
       "      <th>revenue</th>\n",
       "      <th>group</th>\n",
       "    </tr>\n",
       "  </thead>\n",
       "  <tbody>\n",
       "    <tr>\n",
       "      <th>0</th>\n",
       "      <td>3667963787</td>\n",
       "      <td>3312258926</td>\n",
       "      <td>2019-08-15</td>\n",
       "      <td>1650</td>\n",
       "      <td>B</td>\n",
       "    </tr>\n",
       "    <tr>\n",
       "      <th>1</th>\n",
       "      <td>2804400009</td>\n",
       "      <td>3642806036</td>\n",
       "      <td>2019-08-15</td>\n",
       "      <td>730</td>\n",
       "      <td>B</td>\n",
       "    </tr>\n",
       "    <tr>\n",
       "      <th>2</th>\n",
       "      <td>2961555356</td>\n",
       "      <td>4069496402</td>\n",
       "      <td>2019-08-15</td>\n",
       "      <td>400</td>\n",
       "      <td>A</td>\n",
       "    </tr>\n",
       "    <tr>\n",
       "      <th>3</th>\n",
       "      <td>3797467345</td>\n",
       "      <td>1196621759</td>\n",
       "      <td>2019-08-15</td>\n",
       "      <td>9759</td>\n",
       "      <td>B</td>\n",
       "    </tr>\n",
       "    <tr>\n",
       "      <th>4</th>\n",
       "      <td>2282983706</td>\n",
       "      <td>2322279887</td>\n",
       "      <td>2019-08-15</td>\n",
       "      <td>2308</td>\n",
       "      <td>B</td>\n",
       "    </tr>\n",
       "  </tbody>\n",
       "</table>\n",
       "</div>"
      ],
      "text/plain": [
       "   transactionId   visitorId        date  revenue group\n",
       "0     3667963787  3312258926  2019-08-15     1650     B\n",
       "1     2804400009  3642806036  2019-08-15      730     B\n",
       "2     2961555356  4069496402  2019-08-15      400     A\n",
       "3     3797467345  1196621759  2019-08-15     9759     B\n",
       "4     2282983706  2322279887  2019-08-15     2308     B"
      ]
     },
     "execution_count": 7,
     "metadata": {},
     "output_type": "execute_result"
    }
   ],
   "source": [
    "#первые 5 строк\n",
    "\n",
    "orders.head(5)"
   ]
  },
  {
   "cell_type": "code",
   "execution_count": 8,
   "metadata": {},
   "outputs": [],
   "source": [
    "#приведение названий столбцов к нижнему регистру\n",
    "\n",
    "orders.columns = orders.columns.str.lower()"
   ]
  },
  {
   "cell_type": "code",
   "execution_count": 9,
   "metadata": {},
   "outputs": [
    {
     "data": {
      "text/plain": [
       "0"
      ]
     },
     "execution_count": 9,
     "metadata": {},
     "output_type": "execute_result"
    }
   ],
   "source": [
    "#проверка явных дубликатов\n",
    "\n",
    "orders.duplicated().sum()"
   ]
  },
  {
   "cell_type": "code",
   "execution_count": 10,
   "metadata": {},
   "outputs": [
    {
     "data": {
      "text/plain": [
       "transactionid    0\n",
       "visitorid        0\n",
       "date             0\n",
       "revenue          0\n",
       "group            0\n",
       "dtype: int64"
      ]
     },
     "execution_count": 10,
     "metadata": {},
     "output_type": "execute_result"
    }
   ],
   "source": [
    "#проверка пропусков\n",
    "\n",
    "orders.isna().sum()"
   ]
  },
  {
   "cell_type": "markdown",
   "metadata": {},
   "source": [
    "Преобразуем тип данных в столбце с датой:"
   ]
  },
  {
   "cell_type": "code",
   "execution_count": 11,
   "metadata": {},
   "outputs": [
    {
     "name": "stdout",
     "output_type": "stream",
     "text": [
      "<class 'pandas.core.frame.DataFrame'>\n",
      "RangeIndex: 1197 entries, 0 to 1196\n",
      "Data columns (total 5 columns):\n",
      " #   Column         Non-Null Count  Dtype         \n",
      "---  ------         --------------  -----         \n",
      " 0   transactionid  1197 non-null   int64         \n",
      " 1   visitorid      1197 non-null   int64         \n",
      " 2   date           1197 non-null   datetime64[ns]\n",
      " 3   revenue        1197 non-null   int64         \n",
      " 4   group          1197 non-null   object        \n",
      "dtypes: datetime64[ns](1), int64(3), object(1)\n",
      "memory usage: 46.9+ KB\n"
     ]
    }
   ],
   "source": [
    "#преобразование типов данных\n",
    "\n",
    "orders['date'] = pd.to_datetime(orders['date'])\n",
    "orders.info()"
   ]
  },
  {
   "cell_type": "code",
   "execution_count": 12,
   "metadata": {},
   "outputs": [
    {
     "name": "stderr",
     "output_type": "stream",
     "text": [
      "/tmp/ipykernel_138/1664553187.py:3: FutureWarning: Treating datetime data as categorical rather than numeric in `.describe` is deprecated and will be removed in a future version of pandas. Specify `datetime_is_numeric=True` to silence this warning and adopt the future behavior now.\n",
      "  orders['date'].describe()\n"
     ]
    },
    {
     "data": {
      "text/plain": [
       "count                    1197\n",
       "unique                     31\n",
       "top       2019-08-05 00:00:00\n",
       "freq                       48\n",
       "first     2019-08-01 00:00:00\n",
       "last      2019-08-31 00:00:00\n",
       "Name: date, dtype: object"
      ]
     },
     "execution_count": 12,
     "metadata": {},
     "output_type": "execute_result"
    }
   ],
   "source": [
    "#описание данных о дате\n",
    "\n",
    "orders['date'].describe()"
   ]
  },
  {
   "cell_type": "markdown",
   "metadata": {},
   "source": [
    "Представлены данные по заказам за август 2019 года, далее проверим период, за который представлены данные о визитах.\n",
    "\n",
    "Проверим корректность данных - есть ли среди пользователей те, которые попали в обе тестовые группы."
   ]
  },
  {
   "cell_type": "code",
   "execution_count": 13,
   "metadata": {},
   "outputs": [
    {
     "name": "stdout",
     "output_type": "stream",
     "text": [
      "Пользователей в обеих группах: 58\n"
     ]
    },
    {
     "data": {
      "text/html": [
       "<div>\n",
       "<style scoped>\n",
       "    .dataframe tbody tr th:only-of-type {\n",
       "        vertical-align: middle;\n",
       "    }\n",
       "\n",
       "    .dataframe tbody tr th {\n",
       "        vertical-align: top;\n",
       "    }\n",
       "\n",
       "    .dataframe thead th {\n",
       "        text-align: right;\n",
       "    }\n",
       "</style>\n",
       "<table border=\"1\" class=\"dataframe\">\n",
       "  <thead>\n",
       "    <tr style=\"text-align: right;\">\n",
       "      <th>group</th>\n",
       "      <th>visitorid</th>\n",
       "      <th>A</th>\n",
       "      <th>B</th>\n",
       "    </tr>\n",
       "  </thead>\n",
       "  <tbody>\n",
       "    <tr>\n",
       "      <th>0</th>\n",
       "      <td>8300375</td>\n",
       "      <td>1.0</td>\n",
       "      <td>1.0</td>\n",
       "    </tr>\n",
       "    <tr>\n",
       "      <th>1</th>\n",
       "      <td>199603092</td>\n",
       "      <td>4.0</td>\n",
       "      <td>1.0</td>\n",
       "    </tr>\n",
       "    <tr>\n",
       "      <th>2</th>\n",
       "      <td>232979603</td>\n",
       "      <td>1.0</td>\n",
       "      <td>1.0</td>\n",
       "    </tr>\n",
       "    <tr>\n",
       "      <th>3</th>\n",
       "      <td>237748145</td>\n",
       "      <td>4.0</td>\n",
       "      <td>1.0</td>\n",
       "    </tr>\n",
       "    <tr>\n",
       "      <th>4</th>\n",
       "      <td>276558944</td>\n",
       "      <td>1.0</td>\n",
       "      <td>1.0</td>\n",
       "    </tr>\n",
       "  </tbody>\n",
       "</table>\n",
       "</div>"
      ],
      "text/plain": [
       "group  visitorid    A    B\n",
       "0        8300375  1.0  1.0\n",
       "1      199603092  4.0  1.0\n",
       "2      232979603  1.0  1.0\n",
       "3      237748145  4.0  1.0\n",
       "4      276558944  1.0  1.0"
      ]
     },
     "execution_count": 13,
     "metadata": {},
     "output_type": "execute_result"
    }
   ],
   "source": [
    "#проверка попадания пользователей в обе группы\n",
    "\n",
    "check = orders.pivot_table(index='visitorid', \n",
    "        columns='group',\n",
    "        values='revenue',\n",
    "        aggfunc='count')\n",
    "check = check.dropna().reset_index() \n",
    "print('Пользователей в обеих группах:', check['visitorid'].nunique())\n",
    "check.head()"
   ]
  },
  {
   "cell_type": "markdown",
   "metadata": {},
   "source": [
    "Таких пользователей оказалось 58. Смысл теста заключается в том, что группы независимы друг от друга, а пересечение пользователей между группами искажают результаты теста. В целях чистоты теста, удалим дублирующихся пользователей из обеих групп. \n",
    "\n",
    "Преобразуем идентификаторы повторяющихся пользователей в список и удалим их из датасета с заказами:"
   ]
  },
  {
   "cell_type": "code",
   "execution_count": 14,
   "metadata": {},
   "outputs": [],
   "source": [
    "#создаем список с id\n",
    "checkid = list(check['visitorid'])\n",
    "\n",
    "#сохраняем исходный датафрейм\n",
    "original_orders = orders.copy()\n",
    "\n",
    "#удаляем пользователей, попавших в обе группы\n",
    "orders = orders.query('visitorid not in @checkid')"
   ]
  },
  {
   "cell_type": "markdown",
   "metadata": {},
   "source": [
    "Выведем основную информацию о датасете с пользователями:"
   ]
  },
  {
   "cell_type": "code",
   "execution_count": 15,
   "metadata": {},
   "outputs": [
    {
     "name": "stdout",
     "output_type": "stream",
     "text": [
      "<class 'pandas.core.frame.DataFrame'>\n",
      "RangeIndex: 62 entries, 0 to 61\n",
      "Data columns (total 3 columns):\n",
      " #   Column    Non-Null Count  Dtype \n",
      "---  ------    --------------  ----- \n",
      " 0   date      62 non-null     object\n",
      " 1   group     62 non-null     object\n",
      " 2   visitors  62 non-null     int64 \n",
      "dtypes: int64(1), object(2)\n",
      "memory usage: 1.6+ KB\n"
     ]
    }
   ],
   "source": [
    "#датасет с пользователями\n",
    "\n",
    "visitors = pd.read_csv('/datasets/visitors.csv', sep=',')\n",
    "visitors.info()"
   ]
  },
  {
   "cell_type": "code",
   "execution_count": 16,
   "metadata": {},
   "outputs": [
    {
     "data": {
      "text/html": [
       "<div>\n",
       "<style scoped>\n",
       "    .dataframe tbody tr th:only-of-type {\n",
       "        vertical-align: middle;\n",
       "    }\n",
       "\n",
       "    .dataframe tbody tr th {\n",
       "        vertical-align: top;\n",
       "    }\n",
       "\n",
       "    .dataframe thead th {\n",
       "        text-align: right;\n",
       "    }\n",
       "</style>\n",
       "<table border=\"1\" class=\"dataframe\">\n",
       "  <thead>\n",
       "    <tr style=\"text-align: right;\">\n",
       "      <th></th>\n",
       "      <th>date</th>\n",
       "      <th>group</th>\n",
       "      <th>visitors</th>\n",
       "    </tr>\n",
       "  </thead>\n",
       "  <tbody>\n",
       "    <tr>\n",
       "      <th>0</th>\n",
       "      <td>2019-08-01</td>\n",
       "      <td>A</td>\n",
       "      <td>719</td>\n",
       "    </tr>\n",
       "    <tr>\n",
       "      <th>1</th>\n",
       "      <td>2019-08-02</td>\n",
       "      <td>A</td>\n",
       "      <td>619</td>\n",
       "    </tr>\n",
       "    <tr>\n",
       "      <th>2</th>\n",
       "      <td>2019-08-03</td>\n",
       "      <td>A</td>\n",
       "      <td>507</td>\n",
       "    </tr>\n",
       "    <tr>\n",
       "      <th>3</th>\n",
       "      <td>2019-08-04</td>\n",
       "      <td>A</td>\n",
       "      <td>717</td>\n",
       "    </tr>\n",
       "    <tr>\n",
       "      <th>4</th>\n",
       "      <td>2019-08-05</td>\n",
       "      <td>A</td>\n",
       "      <td>756</td>\n",
       "    </tr>\n",
       "  </tbody>\n",
       "</table>\n",
       "</div>"
      ],
      "text/plain": [
       "         date group  visitors\n",
       "0  2019-08-01     A       719\n",
       "1  2019-08-02     A       619\n",
       "2  2019-08-03     A       507\n",
       "3  2019-08-04     A       717\n",
       "4  2019-08-05     A       756"
      ]
     },
     "execution_count": 16,
     "metadata": {},
     "output_type": "execute_result"
    }
   ],
   "source": [
    "#первые 5 строк\n",
    "\n",
    "visitors.head(5)"
   ]
  },
  {
   "cell_type": "code",
   "execution_count": 17,
   "metadata": {},
   "outputs": [
    {
     "data": {
      "text/plain": [
       "0"
      ]
     },
     "execution_count": 17,
     "metadata": {},
     "output_type": "execute_result"
    }
   ],
   "source": [
    "#проверка явных дубликатов\n",
    "\n",
    "visitors.duplicated().sum()"
   ]
  },
  {
   "cell_type": "code",
   "execution_count": 18,
   "metadata": {},
   "outputs": [
    {
     "data": {
      "text/plain": [
       "date        0\n",
       "group       0\n",
       "visitors    0\n",
       "dtype: int64"
      ]
     },
     "execution_count": 18,
     "metadata": {},
     "output_type": "execute_result"
    }
   ],
   "source": [
    "#проверка пропусков\n",
    "\n",
    "visitors.isna().sum()"
   ]
  },
  {
   "cell_type": "code",
   "execution_count": 19,
   "metadata": {},
   "outputs": [
    {
     "name": "stdout",
     "output_type": "stream",
     "text": [
      "<class 'pandas.core.frame.DataFrame'>\n",
      "RangeIndex: 62 entries, 0 to 61\n",
      "Data columns (total 3 columns):\n",
      " #   Column    Non-Null Count  Dtype         \n",
      "---  ------    --------------  -----         \n",
      " 0   date      62 non-null     datetime64[ns]\n",
      " 1   group     62 non-null     object        \n",
      " 2   visitors  62 non-null     int64         \n",
      "dtypes: datetime64[ns](1), int64(1), object(1)\n",
      "memory usage: 1.6+ KB\n"
     ]
    }
   ],
   "source": [
    "#преобразование типов данных\n",
    "\n",
    "visitors['date'] = pd.to_datetime(visitors['date'])\n",
    "visitors.info()"
   ]
  },
  {
   "cell_type": "code",
   "execution_count": 20,
   "metadata": {},
   "outputs": [
    {
     "name": "stderr",
     "output_type": "stream",
     "text": [
      "/tmp/ipykernel_138/2987738279.py:3: FutureWarning: Treating datetime data as categorical rather than numeric in `.describe` is deprecated and will be removed in a future version of pandas. Specify `datetime_is_numeric=True` to silence this warning and adopt the future behavior now.\n",
      "  visitors['date'].describe()\n"
     ]
    },
    {
     "data": {
      "text/plain": [
       "count                      62\n",
       "unique                     31\n",
       "top       2019-08-27 00:00:00\n",
       "freq                        2\n",
       "first     2019-08-01 00:00:00\n",
       "last      2019-08-31 00:00:00\n",
       "Name: date, dtype: object"
      ]
     },
     "execution_count": 20,
     "metadata": {},
     "output_type": "execute_result"
    }
   ],
   "source": [
    "#описание данных о дате\n",
    "\n",
    "visitors['date'].describe()"
   ]
  },
  {
   "cell_type": "code",
   "execution_count": 21,
   "metadata": {},
   "outputs": [],
   "source": [
    "#сохраняем исходный датафрейм\n",
    "\n",
    "original_visitors = visitors.copy()"
   ]
  },
  {
   "cell_type": "markdown",
   "metadata": {},
   "source": [
    "Проверим сколько групп и посетителей в А/В тесте:"
   ]
  },
  {
   "cell_type": "code",
   "execution_count": 22,
   "metadata": {},
   "outputs": [
    {
     "data": {
      "text/html": [
       "<div>\n",
       "<style scoped>\n",
       "    .dataframe tbody tr th:only-of-type {\n",
       "        vertical-align: middle;\n",
       "    }\n",
       "\n",
       "    .dataframe tbody tr th {\n",
       "        vertical-align: top;\n",
       "    }\n",
       "\n",
       "    .dataframe thead th {\n",
       "        text-align: right;\n",
       "    }\n",
       "</style>\n",
       "<table border=\"1\" class=\"dataframe\">\n",
       "  <thead>\n",
       "    <tr style=\"text-align: right;\">\n",
       "      <th>group</th>\n",
       "      <th>A</th>\n",
       "      <th>B</th>\n",
       "    </tr>\n",
       "  </thead>\n",
       "  <tbody>\n",
       "    <tr>\n",
       "      <th>visitorid</th>\n",
       "      <td>445</td>\n",
       "      <td>528</td>\n",
       "    </tr>\n",
       "  </tbody>\n",
       "</table>\n",
       "</div>"
      ],
      "text/plain": [
       "group        A    B\n",
       "visitorid  445  528"
      ]
     },
     "execution_count": 22,
     "metadata": {},
     "output_type": "execute_result"
    }
   ],
   "source": [
    "orders.pivot_table(columns='group', values='visitorid', aggfunc='nunique')"
   ]
  },
  {
   "cell_type": "markdown",
   "metadata": {},
   "source": [
    "Нам предоставлены данные по парному А/В тесту (две группы), в группе В на 83 посетителей больше, или 19%. Мы удалили одинаковое количество посетителей из обеих групп, поэтому на текущее количество это повлиять это не могло. Будем иметь ввиду, что группа В более многочислена."
   ]
  },
  {
   "cell_type": "markdown",
   "metadata": {},
   "source": [
    "Представлены данные по посещениям за август 2019 года, также, как и в предыдущем датасете."
   ]
  },
  {
   "cell_type": "markdown",
   "metadata": {},
   "source": [
    "## Анализ A/B-теста (графики)"
   ]
  },
  {
   "cell_type": "markdown",
   "metadata": {},
   "source": [
    "### График кумулятивной выручки по группам"
   ]
  },
  {
   "cell_type": "markdown",
   "metadata": {},
   "source": [
    "Создадим массив уникальных пар значений дат и групп теста методом drop_duplicates(): "
   ]
  },
  {
   "cell_type": "code",
   "execution_count": 23,
   "metadata": {},
   "outputs": [],
   "source": [
    "# создаем массив уникальных пар значений дат и групп теста\n",
    "datesGroups = orders[['date','group']].drop_duplicates() "
   ]
  },
  {
   "cell_type": "markdown",
   "metadata": {},
   "source": [
    "Соберём агрегированные кумулятивные по дням данные о заказах в несколько действий (будто мы ежедневно считали результаты тестирования до выбранного дня включительно и сохраняли их в строках таблицы ordersAggregated):"
   ]
  },
  {
   "cell_type": "code",
   "execution_count": 24,
   "metadata": {},
   "outputs": [],
   "source": [
    "# получаем агрегированные кумулятивные по дням данные о заказах \n",
    "\n",
    "ordersAggregated = datesGroups.apply(    \n",
    "    lambda x: orders[np.logical_and(orders['date'] \n",
    "    <= x['date'], orders['group'] == x['group'])]\\\n",
    "    .agg({'date' : 'max', 'group' : 'max', 'transactionid' : 'nunique', \\\n",
    "    'visitorid' : 'nunique', 'revenue' : 'sum'}), axis=1)\\\n",
    "    .sort_values(by=['date','group']) "
   ]
  },
  {
   "cell_type": "markdown",
   "metadata": {},
   "source": [
    "Аналогично получим агрегированные кумулятивные по дням данные о посетителях: "
   ]
  },
  {
   "cell_type": "code",
   "execution_count": 25,
   "metadata": {},
   "outputs": [],
   "source": [
    "# получаем агрегированные кумулятивные по дням данные о посетителях\n",
    "\n",
    "visitorsAggregated = datesGroups.apply(\n",
    "    lambda x: visitors[np.logical_and(visitors['date'] \\\n",
    "    <= x['date'], visitors['group'] == x['group'])]\\\n",
    "    .agg({'date' : 'max', 'group' : 'max', 'visitors' : 'sum'}),\\\n",
    "    axis=1).sort_values(by=['date','group']) "
   ]
  },
  {
   "cell_type": "markdown",
   "metadata": {},
   "source": [
    "Объединим обе таблицы: "
   ]
  },
  {
   "cell_type": "code",
   "execution_count": 26,
   "metadata": {},
   "outputs": [
    {
     "data": {
      "text/html": [
       "<div>\n",
       "<style scoped>\n",
       "    .dataframe tbody tr th:only-of-type {\n",
       "        vertical-align: middle;\n",
       "    }\n",
       "\n",
       "    .dataframe tbody tr th {\n",
       "        vertical-align: top;\n",
       "    }\n",
       "\n",
       "    .dataframe thead th {\n",
       "        text-align: right;\n",
       "    }\n",
       "</style>\n",
       "<table border=\"1\" class=\"dataframe\">\n",
       "  <thead>\n",
       "    <tr style=\"text-align: right;\">\n",
       "      <th></th>\n",
       "      <th>date</th>\n",
       "      <th>group</th>\n",
       "      <th>orders</th>\n",
       "      <th>buyers</th>\n",
       "      <th>revenue</th>\n",
       "      <th>visitors</th>\n",
       "    </tr>\n",
       "  </thead>\n",
       "  <tbody>\n",
       "    <tr>\n",
       "      <th>0</th>\n",
       "      <td>2019-08-01</td>\n",
       "      <td>A</td>\n",
       "      <td>23</td>\n",
       "      <td>19</td>\n",
       "      <td>142779</td>\n",
       "      <td>719</td>\n",
       "    </tr>\n",
       "    <tr>\n",
       "      <th>1</th>\n",
       "      <td>2019-08-01</td>\n",
       "      <td>B</td>\n",
       "      <td>17</td>\n",
       "      <td>17</td>\n",
       "      <td>59758</td>\n",
       "      <td>713</td>\n",
       "    </tr>\n",
       "    <tr>\n",
       "      <th>2</th>\n",
       "      <td>2019-08-02</td>\n",
       "      <td>A</td>\n",
       "      <td>42</td>\n",
       "      <td>36</td>\n",
       "      <td>234381</td>\n",
       "      <td>1338</td>\n",
       "    </tr>\n",
       "    <tr>\n",
       "      <th>3</th>\n",
       "      <td>2019-08-02</td>\n",
       "      <td>B</td>\n",
       "      <td>40</td>\n",
       "      <td>39</td>\n",
       "      <td>221801</td>\n",
       "      <td>1294</td>\n",
       "    </tr>\n",
       "    <tr>\n",
       "      <th>4</th>\n",
       "      <td>2019-08-03</td>\n",
       "      <td>A</td>\n",
       "      <td>66</td>\n",
       "      <td>60</td>\n",
       "      <td>346854</td>\n",
       "      <td>1845</td>\n",
       "    </tr>\n",
       "  </tbody>\n",
       "</table>\n",
       "</div>"
      ],
      "text/plain": [
       "        date group  orders  buyers  revenue  visitors\n",
       "0 2019-08-01     A      23      19   142779       719\n",
       "1 2019-08-01     B      17      17    59758       713\n",
       "2 2019-08-02     A      42      36   234381      1338\n",
       "3 2019-08-02     B      40      39   221801      1294\n",
       "4 2019-08-03     A      66      60   346854      1845"
      ]
     },
     "execution_count": 26,
     "metadata": {},
     "output_type": "execute_result"
    }
   ],
   "source": [
    "# объединяем кумулятивные данные в одной таблице \n",
    "\n",
    "cumulativeData = ordersAggregated.merge(visitorsAggregated, \\\n",
    "                 left_on=['date', 'group'], right_on=['date', 'group'])\n",
    "\n",
    "cumulativeData.columns = ['date', 'group', 'orders', 'buyers', \\\n",
    "                          'revenue', 'visitors']\n",
    "\n",
    "cumulativeData.head(5)"
   ]
  },
  {
   "cell_type": "markdown",
   "metadata": {},
   "source": [
    "Построим графики кумулятивной выручки по дням и группам A/B-тестирования: "
   ]
  },
  {
   "cell_type": "code",
   "execution_count": 27,
   "metadata": {},
   "outputs": [
    {
     "data": {
      "image/png": "[encoded data removed]",
      "text/plain": [
       "<Figure size 1080x360 with 1 Axes>"
      ]
     },
     "metadata": {
      "needs_background": "light"
     },
     "output_type": "display_data"
    }
   ],
   "source": [
    "plt.figure(figsize=(15,5))\n",
    "\n",
    "# датафрейм с кумулятивным количеством заказов \n",
    "# и кумулятивной выручкой по дням в группе А\n",
    "cumulativeRevenueA = cumulativeData[cumulativeData['group']=='A']\\\n",
    "                     [['date','revenue', 'orders']]\n",
    "\n",
    "# датафрейм с кумулятивным количеством заказов\n",
    "# и кумулятивной выручкой по дням в группе B\n",
    "cumulativeRevenueB = cumulativeData[cumulativeData['group']=='B']\\\n",
    "                     [['date','revenue', 'orders']]\n",
    "\n",
    "# Строим график выручки группы А\n",
    "plt.plot(cumulativeRevenueA['date'], cumulativeRevenueA['revenue'], label='A')\n",
    "\n",
    "# Строим график выручки группы B\n",
    "plt.plot(cumulativeRevenueB['date'], cumulativeRevenueB['revenue'], label='B')\n",
    "\n",
    "plt.grid()\n",
    "plt.title('График кумулятивной выручки по группам')\n",
    "plt.xlabel('Дата')\n",
    "plt.ylabel('Кумулятивная выручка')\n",
    "plt.legend();"
   ]
  },
  {
   "cell_type": "markdown",
   "metadata": {},
   "source": [
    "Выручка почти равномерно увеличивается в течение всего теста, однако в группе В наблюдается сильной скачок выручки 19 августа, это может сигнализировать о всплесках числа заказов, либо о появлении очень дорогих заказов в выборке. Выведем топ-5 заказов по выручке 19 августа:"
   ]
  },
  {
   "cell_type": "code",
   "execution_count": 28,
   "metadata": {},
   "outputs": [
    {
     "data": {
      "text/html": [
       "<div>\n",
       "<style scoped>\n",
       "    .dataframe tbody tr th:only-of-type {\n",
       "        vertical-align: middle;\n",
       "    }\n",
       "\n",
       "    .dataframe tbody tr th {\n",
       "        vertical-align: top;\n",
       "    }\n",
       "\n",
       "    .dataframe thead th {\n",
       "        text-align: right;\n",
       "    }\n",
       "</style>\n",
       "<table border=\"1\" class=\"dataframe\">\n",
       "  <thead>\n",
       "    <tr style=\"text-align: right;\">\n",
       "      <th></th>\n",
       "      <th>transactionid</th>\n",
       "      <th>visitorid</th>\n",
       "      <th>date</th>\n",
       "      <th>revenue</th>\n",
       "      <th>group</th>\n",
       "    </tr>\n",
       "  </thead>\n",
       "  <tbody>\n",
       "    <tr>\n",
       "      <th>425</th>\n",
       "      <td>590470918</td>\n",
       "      <td>1920142716</td>\n",
       "      <td>2019-08-19</td>\n",
       "      <td>1294500</td>\n",
       "      <td>B</td>\n",
       "    </tr>\n",
       "    <tr>\n",
       "      <th>530</th>\n",
       "      <td>3970235543</td>\n",
       "      <td>2912540959</td>\n",
       "      <td>2019-08-19</td>\n",
       "      <td>43990</td>\n",
       "      <td>A</td>\n",
       "    </tr>\n",
       "    <tr>\n",
       "      <th>527</th>\n",
       "      <td>1570513684</td>\n",
       "      <td>2837914161</td>\n",
       "      <td>2019-08-19</td>\n",
       "      <td>33405</td>\n",
       "      <td>B</td>\n",
       "    </tr>\n",
       "    <tr>\n",
       "      <th>421</th>\n",
       "      <td>3765974140</td>\n",
       "      <td>1357170471</td>\n",
       "      <td>2019-08-19</td>\n",
       "      <td>31680</td>\n",
       "      <td>A</td>\n",
       "    </tr>\n",
       "    <tr>\n",
       "      <th>461</th>\n",
       "      <td>2683113224</td>\n",
       "      <td>154576532</td>\n",
       "      <td>2019-08-19</td>\n",
       "      <td>26550</td>\n",
       "      <td>B</td>\n",
       "    </tr>\n",
       "  </tbody>\n",
       "</table>\n",
       "</div>"
      ],
      "text/plain": [
       "     transactionid   visitorid       date  revenue group\n",
       "425      590470918  1920142716 2019-08-19  1294500     B\n",
       "530     3970235543  2912540959 2019-08-19    43990     A\n",
       "527     1570513684  2837914161 2019-08-19    33405     B\n",
       "421     3765974140  1357170471 2019-08-19    31680     A\n",
       "461     2683113224   154576532 2019-08-19    26550     B"
      ]
     },
     "execution_count": 28,
     "metadata": {},
     "output_type": "execute_result"
    }
   ],
   "source": [
    "orders.query('date == \"2019-08-19\" ').\\\n",
    "sort_values(by='revenue', ascending=False).head()"
   ]
  },
  {
   "cell_type": "markdown",
   "metadata": {},
   "source": [
    "Действительно, 19 августа был один крупный заказ на сумму 1295 тыс., что является выбросом и следует учитывать в дальнейшем."
   ]
  },
  {
   "cell_type": "markdown",
   "metadata": {},
   "source": [
    "### График кумулятивного среднего чека по группам"
   ]
  },
  {
   "cell_type": "markdown",
   "metadata": {},
   "source": [
    "Построим графики среднего чека по группам — разделим кумулятивную выручку на кумулятивное число заказов:"
   ]
  },
  {
   "cell_type": "code",
   "execution_count": 29,
   "metadata": {},
   "outputs": [
    {
     "data": {
      "image/png": "[encoded data removed]",
      "text/plain": [
       "<Figure size 1080x360 with 1 Axes>"
      ]
     },
     "metadata": {
      "needs_background": "light"
     },
     "output_type": "display_data"
    }
   ],
   "source": [
    "plt.figure(figsize=(15,5))\n",
    "\n",
    "plt.plot(cumulativeRevenueA['date'], cumulativeRevenueA['revenue']/\\\n",
    "         cumulativeRevenueA['orders'], label='A')\n",
    "plt.plot(cumulativeRevenueB['date'], cumulativeRevenueB['revenue']/\\\n",
    "         cumulativeRevenueB['orders'], label='B')\n",
    "\n",
    "plt.grid()\n",
    "plt.title('График кумулятивного среднего чека по группам')\n",
    "plt.xlabel('Дата')\n",
    "plt.ylabel('Кумулятивный средний чек')\n",
    "plt.legend();"
   ]
  },
  {
   "cell_type": "markdown",
   "metadata": {},
   "source": [
    "Кумулятивный средний чек группы А падает с начала теста до 6 августа, начинает расти, достигает пика 13 августа и далее сохраняется на том же уровне. Кумулятивный средний чек группы В резко вырастает в начал теста, имеет небольшие скачки и падения, резко вырастает 19 августа, но к концу теста снижается, что означает, что далее всплесков не было. "
   ]
  },
  {
   "cell_type": "markdown",
   "metadata": {},
   "source": [
    "### График относительного изменения кумулятивного среднего чека"
   ]
  },
  {
   "cell_type": "markdown",
   "metadata": {},
   "source": [
    "Построим график относительного различия для среднего чека. "
   ]
  },
  {
   "cell_type": "code",
   "execution_count": 30,
   "metadata": {},
   "outputs": [
    {
     "data": {
      "image/png": "[encoded data removed]",
      "text/plain": [
       "<Figure size 1080x360 with 1 Axes>"
      ]
     },
     "metadata": {
      "needs_background": "light"
     },
     "output_type": "display_data"
    }
   ],
   "source": [
    "plt.figure(figsize=(15,5))\n",
    "\n",
    "# собираем данные в одном датафрейме\n",
    "mergedCumulativeRevenue = cumulativeRevenueA.merge(cumulativeRevenueB, \\\n",
    "                          left_on='date', right_on='date', how='left', \\\n",
    "                          suffixes=['A', 'B'])\n",
    "\n",
    "# cтроим отношение средних чеков\n",
    "plt.plot(mergedCumulativeRevenue['date'], \\\n",
    "         (mergedCumulativeRevenue['revenueB']/mergedCumulativeRevenue['ordersB'])/\\\n",
    "         (mergedCumulativeRevenue['revenueA']/mergedCumulativeRevenue['ordersA'])-1)\n",
    "\n",
    "# добавляем ось X\n",
    "plt.axhline(y=0, color='black', linestyle='--')\n",
    "plt.grid()\n",
    "plt.title('График относительного изменения кумулятивного среднего чека')\n",
    "plt.xlabel('Дата')\n",
    "plt.ylabel('Относительное изменение');"
   ]
  },
  {
   "cell_type": "markdown",
   "metadata": {},
   "source": [
    "Средний чек группы В превышал средний чек группы В со 2 по 12 августа и с 19 августа до конца теста. "
   ]
  },
  {
   "cell_type": "markdown",
   "metadata": {},
   "source": [
    "### График кумулятивного среднего количества заказов на посетителя по группам (график кумулятивной конверсии)"
   ]
  },
  {
   "cell_type": "markdown",
   "metadata": {},
   "source": [
    "Аналогично проанализируем график среднего количества заказов на посетителя. "
   ]
  },
  {
   "cell_type": "code",
   "execution_count": 31,
   "metadata": {},
   "outputs": [
    {
     "data": {
      "image/png": "[encoded data removed]",
      "text/plain": [
       "<Figure size 1080x360 with 1 Axes>"
      ]
     },
     "metadata": {
      "needs_background": "light"
     },
     "output_type": "display_data"
    }
   ],
   "source": [
    "plt.figure(figsize=(15,5))\n",
    "\n",
    "# считаем кумулятивную конверсию\n",
    "cumulativeData['conversion'] = cumulativeData['orders']/\\\n",
    "                                cumulativeData['visitors']\n",
    "\n",
    "# отделяем данные по группе A\n",
    "cumulativeDataA = cumulativeData[cumulativeData['group']=='A']\n",
    "\n",
    "# отделяем данные по группе B\n",
    "cumulativeDataB = cumulativeData[cumulativeData['group']=='B']\n",
    "\n",
    "# строим графики\n",
    "plt.plot(cumulativeDataA['date'], cumulativeDataA['conversion'], label='A')\n",
    "plt.plot(cumulativeDataB['date'], cumulativeDataB['conversion'], label='B')\n",
    "plt.grid()\n",
    "plt.title('График кумулятивного среднего количества заказов на посетителя')\n",
    "plt.xlabel('Дата')\n",
    "plt.ylabel('Кум-ное ср. кол-во заказов на посетителя')\n",
    "plt.legend();"
   ]
  },
  {
   "cell_type": "markdown",
   "metadata": {},
   "source": [
    "Кумулятивное среднее количество заказов на посетителя у обоих групп имеет скачок первые 2-3 дня, но кривая группы А стремительно падает и к 10 августа фиксируется около 0.025, а кривая группы В растет с 4 по 10 августа и фиксируется около 0.029, что означает, что в целом кумулятивное среднее количество заказов на посетителя группы В выше."
   ]
  },
  {
   "cell_type": "markdown",
   "metadata": {},
   "source": [
    "### График относительного изменения кумулятивного среднего количества заказов на посетителя группы В к группе А\n",
    "\n",
    "Построим график относительного изменения кумулятивного среднего количества заказов на посетителя группы В к группе А:"
   ]
  },
  {
   "cell_type": "code",
   "execution_count": 32,
   "metadata": {},
   "outputs": [
    {
     "data": {
      "image/png": "[encoded data removed]",
      "text/plain": [
       "<Figure size 1080x504 with 1 Axes>"
      ]
     },
     "metadata": {
      "needs_background": "light"
     },
     "output_type": "display_data"
    }
   ],
   "source": [
    "plt.figure(figsize=(15,7))\n",
    "\n",
    "mergedCumulativeConversions = cumulativeDataA[['date','conversion']].\\\n",
    "                            merge(cumulativeDataB[['date','conversion']],\\\n",
    "                            left_on='date', right_on='date', how='left', \\\n",
    "                            suffixes=['A', 'B'])\n",
    "\n",
    "plt.plot(mergedCumulativeConversions['date'], \n",
    "         mergedCumulativeConversions['conversionB']/mergedCumulativeConversions['conversionA']-1, \n",
    "         label=\"Относительный прирост\")\n",
    "plt.legend()\n",
    "\n",
    "plt.axhline(y=0, color='black', linestyle='--')\n",
    "plt.axhline(y=-0.1, color='grey', linestyle='--')\n",
    "\n",
    "plt.grid()\n",
    "plt.xlabel('Дата')\n",
    "plt.ylabel('Относительное изменение')\n",
    "plt.title('График относительного изменения кумулятивного среднего количества заказов');"
   ]
  },
  {
   "cell_type": "markdown",
   "metadata": {},
   "source": [
    "В начале теста группа B значительно проигрывала группе A, даже несмотря на скачок 2 августа, но 6 августа вырвалась вперёд и установилась до конца теста.  "
   ]
  },
  {
   "cell_type": "markdown",
   "metadata": {},
   "source": [
    "### Точечный график количества заказов по пользователям"
   ]
  },
  {
   "cell_type": "markdown",
   "metadata": {},
   "source": [
    "Изучим аномалии в данных, начнем с количества заказов по пользователям:"
   ]
  },
  {
   "cell_type": "code",
   "execution_count": 33,
   "metadata": {},
   "outputs": [
    {
     "data": {
      "text/html": [
       "<div>\n",
       "<style scoped>\n",
       "    .dataframe tbody tr th:only-of-type {\n",
       "        vertical-align: middle;\n",
       "    }\n",
       "\n",
       "    .dataframe tbody tr th {\n",
       "        vertical-align: top;\n",
       "    }\n",
       "\n",
       "    .dataframe thead th {\n",
       "        text-align: right;\n",
       "    }\n",
       "</style>\n",
       "<table border=\"1\" class=\"dataframe\">\n",
       "  <thead>\n",
       "    <tr style=\"text-align: right;\">\n",
       "      <th>orders</th>\n",
       "      <th>1</th>\n",
       "      <th>2</th>\n",
       "      <th>3</th>\n",
       "    </tr>\n",
       "  </thead>\n",
       "  <tbody>\n",
       "    <tr>\n",
       "      <th>visitorid</th>\n",
       "      <td>937</td>\n",
       "      <td>29</td>\n",
       "      <td>7</td>\n",
       "    </tr>\n",
       "  </tbody>\n",
       "</table>\n",
       "</div>"
      ],
      "text/plain": [
       "orders       1   2  3\n",
       "visitorid  937  29  7"
      ]
     },
     "execution_count": 33,
     "metadata": {},
     "output_type": "execute_result"
    }
   ],
   "source": [
    "#группировка по пользователям и количествам заказов\n",
    "ordersByUsers = (\n",
    "    orders.groupby('visitorid', as_index=False)\n",
    "    .agg({'transactionid': 'nunique'})\n",
    ")\n",
    "\n",
    "ordersByUsers.columns = ['visitorid', 'orders']\n",
    "\n",
    "ordersByUsers.pivot_table(      \n",
    "        columns='orders',\n",
    "        values='visitorid',\n",
    "        aggfunc='count')"
   ]
  },
  {
   "cell_type": "markdown",
   "metadata": {},
   "source": [
    "7 пользователей сделали по три заказа, далее количество заказов на пользователя уменьшается. Построим гистрограмму распределения количества заказов на одного пользователя."
   ]
  },
  {
   "cell_type": "code",
   "execution_count": 34,
   "metadata": {},
   "outputs": [
    {
     "data": {
      "image/png": "[encoded data removed]",
      "text/plain": [
       "<Figure size 1080x360 with 1 Axes>"
      ]
     },
     "metadata": {
      "needs_background": "light"
     },
     "output_type": "display_data"
    }
   ],
   "source": [
    "plt.figure(figsize=(15,5))\n",
    "plt.hist(ordersByUsers['orders'])\n",
    "plt.grid()\n",
    "plt.xlabel('Количество заказов')\n",
    "plt.ylabel('Количество пользователей')\n",
    "plt.title('График количества заказов по пользователям');"
   ]
  },
  {
   "cell_type": "markdown",
   "metadata": {},
   "source": [
    "Большинство пользователей делали по одному заказу. Построим точечную диаграмму числа заказов на одного пользователя:"
   ]
  },
  {
   "cell_type": "code",
   "execution_count": 35,
   "metadata": {},
   "outputs": [
    {
     "data": {
      "image/png": "[encoded data removed]",
      "text/plain": [
       "<Figure size 1080x360 with 1 Axes>"
      ]
     },
     "metadata": {
      "needs_background": "light"
     },
     "output_type": "display_data"
    }
   ],
   "source": [
    "x_values = pd.Series(range(0,len(ordersByUsers)))\n",
    "\n",
    "plt.figure(figsize=(15,5))\n",
    "plt.scatter(x_values, ordersByUsers['orders'])\n",
    "plt.grid()\n",
    "plt.xlabel('Пользователь')\n",
    "plt.ylabel('Количество заказов')\n",
    "plt.title('Диаграмма количества заказов по пользователям');"
   ]
  },
  {
   "cell_type": "markdown",
   "metadata": {},
   "source": [
    "Пользователи не так часто делали по два заказа, а по три - совсем редко. Для определения границы аномальных пользователей посчитаем перцентили:"
   ]
  },
  {
   "cell_type": "markdown",
   "metadata": {},
   "source": [
    "### Выберите границу для определения аномальных пользователей"
   ]
  },
  {
   "cell_type": "code",
   "execution_count": 36,
   "metadata": {},
   "outputs": [
    {
     "data": {
      "text/plain": [
       "array([1., 2.])"
      ]
     },
     "execution_count": 36,
     "metadata": {},
     "output_type": "execute_result"
    }
   ],
   "source": [
    "o_percentiles = np.percentile(ordersByUsers['orders'], [95, 99])\n",
    "o_percentiles"
   ]
  },
  {
   "cell_type": "markdown",
   "metadata": {},
   "source": [
    "Не более 5% пользователей оформляли больше чем один заказ, и не более 1% - больше двух. Определим аномальными пользователей, сделавших более двух заказов."
   ]
  },
  {
   "cell_type": "code",
   "execution_count": 37,
   "metadata": {},
   "outputs": [],
   "source": [
    "orders_limit = o_percentiles[1]"
   ]
  },
  {
   "cell_type": "markdown",
   "metadata": {},
   "source": [
    "### Точечный график стоимостей заказов"
   ]
  },
  {
   "cell_type": "markdown",
   "metadata": {},
   "source": [
    "Продолжим изучать аномалии, простроив график стоимостей заказов:"
   ]
  },
  {
   "cell_type": "code",
   "execution_count": 38,
   "metadata": {},
   "outputs": [
    {
     "data": {
      "image/png": "[encoded data removed]",
      "text/plain": [
       "<Figure size 1080x360 with 1 Axes>"
      ]
     },
     "metadata": {
      "needs_background": "light"
     },
     "output_type": "display_data"
    }
   ],
   "source": [
    "plt.figure(figsize=(15,5))\n",
    "x_values = pd.Series(range(0,len(orders['revenue'])))\n",
    "plt.scatter(x_values, orders['revenue'])\n",
    "plt.grid()\n",
    "plt.xlabel('Пользователь')\n",
    "plt.ylabel('Стоимость заказов')\n",
    "plt.title('График стоимостей заказов');"
   ]
  },
  {
   "cell_type": "markdown",
   "metadata": {},
   "source": [
    "Судя по графику, есть два заказа с аномальной стоимостью (около 200 тыс. и свыше 1200 тыс.). Исключим заказы свыше 200 тыс и построим график для наглядности распределения:"
   ]
  },
  {
   "cell_type": "code",
   "execution_count": 39,
   "metadata": {},
   "outputs": [
    {
     "data": {
      "image/png": "[encoded data removed]",
      "text/plain": [
       "<Figure size 1080x504 with 1 Axes>"
      ]
     },
     "metadata": {
      "needs_background": "light"
     },
     "output_type": "display_data"
    }
   ],
   "source": [
    "orders_normal = orders.query('revenue<200000')\n",
    "plt.figure(figsize=(15,7))\n",
    "x_values = pd.Series(range(0,len(orders_normal['revenue'])))\n",
    "plt.scatter(x_values, orders_normal['revenue'])\n",
    "plt.grid()\n",
    "plt.xlabel('Пользователь')\n",
    "plt.ylabel('Стоимость заказов')\n",
    "plt.title('График стоимостей заказов');"
   ]
  },
  {
   "cell_type": "markdown",
   "metadata": {},
   "source": [
    "Покупки распределены нормально, свыше 100 тыс. аномальных покупок нет. Для определения границы аномальной стоимости посчитаем перцентили:"
   ]
  },
  {
   "cell_type": "markdown",
   "metadata": {},
   "source": [
    "### Выберите границу для определения аномальных заказов"
   ]
  },
  {
   "cell_type": "code",
   "execution_count": 40,
   "metadata": {},
   "outputs": [
    {
     "data": {
      "text/plain": [
       "array([26785., 53904.])"
      ]
     },
     "execution_count": 40,
     "metadata": {},
     "output_type": "execute_result"
    }
   ],
   "source": [
    "r_percentiles = np.percentile(orders['revenue'], [95, 99])\n",
    "r_percentiles"
   ]
  },
  {
   "cell_type": "markdown",
   "metadata": {},
   "source": [
    "Не более 5% заказов дороже 27 тыс. рублей и не более 1% заказов на сумму свыше 54 тыс. рублей.  Опеределим аномальные заказы стоимостью свыше 99 перцентиля или 53 904 руб.:"
   ]
  },
  {
   "cell_type": "code",
   "execution_count": 41,
   "metadata": {},
   "outputs": [],
   "source": [
    "revenue_limit = r_percentiles[1]"
   ]
  },
  {
   "cell_type": "markdown",
   "metadata": {},
   "source": [
    "## Расчет статистических значимостей"
   ]
  },
  {
   "cell_type": "markdown",
   "metadata": {},
   "source": [
    "### Статистическая значимость различий в среднем количестве заказов на посетителя между группами (по \"сырым\" данным)"
   ]
  },
  {
   "cell_type": "markdown",
   "metadata": {},
   "source": [
    "Сделаем расчёт по \"сырым\" данным - без удаления аномальных пользователей. Выборка не распределена нормально, в ней присутствуют выбросы, и чтобы их влияние на результат теста не было сильным, как например при использовании алгебраических метрик, используем непараметрический тест Уилкоксона-Манна-Уитни. \n",
    "\n",
    "Сформулируем гипотезы:\n",
    "- Нулевая: статистически значимых различий в среднем количестве заказов на посетителя между группами нет.\n",
    "- Альтернативная: статистически значимые различия в среднем количестве заказов на посетителя между группами есть."
   ]
  },
  {
   "cell_type": "markdown",
   "metadata": {},
   "source": [
    "Сгруппируем данные по дате и количеству пользователей в каждой группе:"
   ]
  },
  {
   "cell_type": "code",
   "execution_count": 42,
   "metadata": {},
   "outputs": [
    {
     "data": {
      "text/html": [
       "<div>\n",
       "<style scoped>\n",
       "    .dataframe tbody tr th:only-of-type {\n",
       "        vertical-align: middle;\n",
       "    }\n",
       "\n",
       "    .dataframe tbody tr th {\n",
       "        vertical-align: top;\n",
       "    }\n",
       "\n",
       "    .dataframe thead th {\n",
       "        text-align: right;\n",
       "    }\n",
       "</style>\n",
       "<table border=\"1\" class=\"dataframe\">\n",
       "  <thead>\n",
       "    <tr style=\"text-align: right;\">\n",
       "      <th></th>\n",
       "      <th>visitorsPerDateA</th>\n",
       "      <th>visitorsPerDateB</th>\n",
       "    </tr>\n",
       "    <tr>\n",
       "      <th>date</th>\n",
       "      <th></th>\n",
       "      <th></th>\n",
       "    </tr>\n",
       "  </thead>\n",
       "  <tbody>\n",
       "    <tr>\n",
       "      <th>2019-08-01</th>\n",
       "      <td>719</td>\n",
       "      <td>713</td>\n",
       "    </tr>\n",
       "    <tr>\n",
       "      <th>2019-08-02</th>\n",
       "      <td>619</td>\n",
       "      <td>581</td>\n",
       "    </tr>\n",
       "    <tr>\n",
       "      <th>2019-08-03</th>\n",
       "      <td>507</td>\n",
       "      <td>509</td>\n",
       "    </tr>\n",
       "    <tr>\n",
       "      <th>2019-08-04</th>\n",
       "      <td>717</td>\n",
       "      <td>770</td>\n",
       "    </tr>\n",
       "    <tr>\n",
       "      <th>2019-08-05</th>\n",
       "      <td>756</td>\n",
       "      <td>707</td>\n",
       "    </tr>\n",
       "  </tbody>\n",
       "</table>\n",
       "</div>"
      ],
      "text/plain": [
       "            visitorsPerDateA  visitorsPerDateB\n",
       "date                                          \n",
       "2019-08-01               719               713\n",
       "2019-08-02               619               581\n",
       "2019-08-03               507               509\n",
       "2019-08-04               717               770\n",
       "2019-08-05               756               707"
      ]
     },
     "execution_count": 42,
     "metadata": {},
     "output_type": "execute_result"
    }
   ],
   "source": [
    "visitorsPerDate = visitors.pivot_table(index='date', columns='group', values='visitors', aggfunc='sum')\n",
    "\n",
    "visitorsPerDate.columns = ['visitorsPerDateA', 'visitorsPerDateB']\n",
    "visitorsPerDate.head()"
   ]
  },
  {
   "cell_type": "markdown",
   "metadata": {},
   "source": [
    "Создадим переменные ordersByUsersA и ordersByUsersB, в них для пользователей, которые заказывали хотя бы 1 раз, укажем число совершённых заказов. "
   ]
  },
  {
   "cell_type": "code",
   "execution_count": 43,
   "metadata": {},
   "outputs": [],
   "source": [
    "#создадим переменные ordersByUsersA и ordersByUsersB\n",
    "\n",
    "ordersByUsersA = (\n",
    "    original_orders[original_orders['group'] == 'A']\n",
    "    .groupby('visitorid', as_index=False)\n",
    "    .agg({'transactionid': pd.Series.nunique})\n",
    ")\n",
    "ordersByUsersA.columns = ['visitorid', 'transactions']\n",
    "\n",
    "ordersByUsersB = (\n",
    "    original_orders[original_orders['group'] == 'B']\n",
    "    .groupby('visitorid', as_index=False)\n",
    "    .agg({'transactionid': pd.Series.nunique})\n",
    ")\n",
    "ordersByUsersB.columns = ['visitorid', 'transactions'] "
   ]
  },
  {
   "cell_type": "markdown",
   "metadata": {},
   "source": [
    "Объявим переменные sampleA и sampleB, в которых пользователям из разных групп будет соответствовать количество заказов. "
   ]
  },
  {
   "cell_type": "code",
   "execution_count": 44,
   "metadata": {},
   "outputs": [
    {
     "name": "stdout",
     "output_type": "stream",
     "text": [
      "p-value = 0.017\n",
      "Относительный показатель 'B' и 'A' = 0.138\n"
     ]
    }
   ],
   "source": [
    "#объявим переменные sampleA и sampleB, в которых пользователям из разных групп будет соответствовать количество заказов\n",
    "\n",
    "sampleA = pd.concat(\n",
    "    [ordersByUsersA['transactions'],\n",
    "        pd.Series(0,index=np.arange(\n",
    "                visitorsPerDate['visitorsPerDateA'].sum() - len(ordersByUsersA['transactions'])),\n",
    "                  name='transactions',),], axis=0,)\n",
    "\n",
    "sampleB = pd.concat(\n",
    "    [ordersByUsersB['transactions'],\n",
    "        pd.Series(0,index=np.arange(\n",
    "                visitorsPerDate['visitorsPerDateB'].sum() - len(ordersByUsersB['transactions'])),\n",
    "            name='transactions',),],axis=0,)\n",
    "\n",
    "#применим статистический критерий Манна-Уитни к полученным выборкам:\n",
    "print(\"p-value = {0:.3f}\".format(stats.mannwhitneyu(sampleA, sampleB)[1]))\n",
    "\n",
    "print(\"Относительный показатель 'B' и 'A' = {0:.3f}\".format(sampleB.mean() / sampleA.mean() - 1))"
   ]
  },
  {
   "cell_type": "markdown",
   "metadata": {},
   "source": [
    "Первое число — p-value = 0.017 меньше 0.05. Значит, нулевую гипотезу о том, что статистически значимых различий в среднем числе заказов на посетителя между группами нет, отвергаем, т.е. в среднем числе заказов на посетителя между группами различия есть. Относительный выигрыш группы B равен 13.8%."
   ]
  },
  {
   "cell_type": "markdown",
   "metadata": {},
   "source": [
    "### Cтатистическая значимость различий в среднем чеке заказа между группами (по \"сырым\" данным)"
   ]
  },
  {
   "cell_type": "markdown",
   "metadata": {},
   "source": [
    "Чтобы рассчитать статистическую значимость различий в среднем чеке по \"сырым\" данным, передадим критерию mannwhitneyu() данные о выручке с заказов и найдём относительные различия в среднем чеке между группами."
   ]
  },
  {
   "cell_type": "code",
   "execution_count": 45,
   "metadata": {},
   "outputs": [
    {
     "name": "stdout",
     "output_type": "stream",
     "text": [
      "p-value = 0.844\n",
      "Относительный показатель 'B' и 'A' = 0.287\n"
     ]
    }
   ],
   "source": [
    "print(\"p-value = {0:.3f}\".format(stats.mannwhitneyu(original_orders[original_orders['group']=='A']['revenue'], \n",
    "                                          orders[orders['group']=='B']['revenue'])[1]))\n",
    "\n",
    "print(\"Относительный показатель 'B' и 'A' = {0:.3f}\".format(orders[orders['group']=='B']['revenue'].mean()/\\\n",
    "                       orders[orders['group']=='A']['revenue'].mean()-1))"
   ]
  },
  {
   "cell_type": "markdown",
   "metadata": {},
   "source": [
    "P-value значительно больше 0.05. Значит, причин отвергать нулевую гипотезу и считать, что в среднем чеке есть различия, нет, т.е. средние чеки по \"сырым\" данным схожи. Впрочем, средний чек группы B значительно выше среднего чека группы A - на 29%."
   ]
  },
  {
   "cell_type": "markdown",
   "metadata": {},
   "source": [
    "### Cтатистическая значимость различий в среднем количестве заказов на посетителя между группами (по «очищенным» данным)"
   ]
  },
  {
   "cell_type": "markdown",
   "metadata": {},
   "source": [
    "Для начала очистим данные от аномалий. За аномалии в п.3.7 и п.3.8 мы приняли пользователей, сделавших больше двух заказов, и заказы стоимостью свыше 99 перцентиля: "
   ]
  },
  {
   "cell_type": "code",
   "execution_count": 46,
   "metadata": {},
   "outputs": [
    {
     "data": {
      "text/plain": [
       "1099    148427295\n",
       "18      199603092\n",
       "23      237748145\n",
       "37      249864742\n",
       "68      457167155\n",
       "Name: visitorid, dtype: int64"
      ]
     },
     "execution_count": 46,
     "metadata": {},
     "output_type": "execute_result"
    }
   ],
   "source": [
    "#cрез пользователей с числом заказов больше 95 перцентиля\n",
    "usersWithManyOrders = pd.concat(\n",
    "    [ordersByUsersA[ordersByUsersA['transactions'] > orders_limit]['visitorid'],\n",
    "      ordersByUsersB[ordersByUsersB['transactions'] > orders_limit]['visitorid']],\n",
    "    axis=0)\n",
    "\n",
    "#cрез пользователей, совершивших заказы свыше 99 перцентиля\n",
    "usersWithExpensiveOrders = orders[orders['revenue'] > revenue_limit]['visitorid']\n",
    "abnormalUsers = (\n",
    "    pd.concat([usersWithManyOrders, usersWithExpensiveOrders], axis=0)\n",
    "    .drop_duplicates()\n",
    "    .sort_values())\n",
    "\n",
    "abnormalUsers.head(5)"
   ]
  },
  {
   "cell_type": "markdown",
   "metadata": {},
   "source": [
    "\n",
    "Узнаем, сколько всего аномальных пользователей атрибутом shape:"
   ]
  },
  {
   "cell_type": "code",
   "execution_count": 47,
   "metadata": {},
   "outputs": [
    {
     "name": "stdout",
     "output_type": "stream",
     "text": [
      "Количество аномальных пользователей: 29\n",
      "Относительная потеря составит: 0.03\n"
     ]
    }
   ],
   "source": [
    "print('Количество аномальных пользователей:', abnormalUsers.shape[0])\n",
    "print('Относительная потеря составит:', round(abnormalUsers.shape[0]/orders['visitorid'].nunique(),2))"
   ]
  },
  {
   "cell_type": "markdown",
   "metadata": {},
   "source": [
    "Всего 29 аномальных пользователей или 3%. Узнаем, как их действия повлияли на результаты теста. Посчитаем статистическую значимость различий в среднем количестве заказов между группами теста по очищенным данным. "
   ]
  },
  {
   "cell_type": "markdown",
   "metadata": {},
   "source": [
    "Сформулируем гипотезы:\n",
    "\n",
    "- Нулевая: статистически значимых различий в среднем количестве заказов на посетителя между группами нет.\n",
    "- Альтернативная: статистически значимые различия в среднем количестве заказов на посетителя между группами есть."
   ]
  },
  {
   "cell_type": "code",
   "execution_count": 48,
   "metadata": {},
   "outputs": [
    {
     "name": "stdout",
     "output_type": "stream",
     "text": [
      "p-value = 0.010\n",
      "Относительный показатель 'B' и 'A' = 0.174\n"
     ]
    }
   ],
   "source": [
    "#объявим переменные sampleA и sampleB, в которых пользователям из разных групп будет соответствовать количество заказов\n",
    "\n",
    "sampleAFiltered = pd.concat(\n",
    "    [ordersByUsersA[np.logical_not(ordersByUsersA['visitorid'].isin(abnormalUsers))]['transactions'],\n",
    "        pd.Series(0,index=np.arange(\n",
    "            visitorsPerDate['visitorsPerDateA'].sum() - len(ordersByUsersA['transactions'])),\n",
    "            name='transactions',),],axis=0)\n",
    "\n",
    "sampleBFiltered = pd.concat(\n",
    "    [ordersByUsersB[np.logical_not(ordersByUsersB['visitorid'].isin(abnormalUsers))]['transactions'],\n",
    "        pd.Series(0,index=np.arange(\n",
    "             visitorsPerDate['visitorsPerDateB'].sum() - len(ordersByUsersB['transactions'])),\n",
    "            name='transactions',),],axis=0)\n",
    "\n",
    "#применим статистический критерий Манна-Уитни к полученным выборкам\n",
    "print(\"p-value = {0:.3f}\".format(stats.mannwhitneyu(sampleAFiltered, sampleBFiltered)[1]))\n",
    "print(\"Относительный показатель 'B' и 'A' = {0:.3f}\".format(sampleBFiltered.mean()/sampleAFiltered.mean()-1)) "
   ]
  },
  {
   "cell_type": "markdown",
   "metadata": {},
   "source": [
    "P-value = 0.01 меньше 0.05. Значит, нулевую гипотезу о том, что статистически значимых различий в среднем числе заказов на посетителя между группами нет, отвергаем, т.е. статистически значимые различия в среднем количестве заказов на посетителя между группами есть. Относительный выигрыш группы B вырос и теперь равен 17.4%."
   ]
  },
  {
   "cell_type": "markdown",
   "metadata": {},
   "source": [
    "### Cтатистическая значимость различий в среднем чеке заказа между группами (по «очищенным» данным)"
   ]
  },
  {
   "cell_type": "code",
   "execution_count": 49,
   "metadata": {},
   "outputs": [
    {
     "name": "stdout",
     "output_type": "stream",
     "text": [
      "p-value = 0.788\n",
      "Относительный показатель 'B' и 'A' = -0.032\n"
     ]
    }
   ],
   "source": [
    "print(\"p-value = {0:.3f}\".format(stats.mannwhitneyu(orders[np.logical_and(orders['group'] == 'A', \n",
    "                np.logical_not(orders['visitorid'].isin(abnormalUsers)))]['revenue'],\n",
    "                orders[np.logical_and(orders['group'] == 'B',\n",
    "                np.logical_not(orders['visitorid'].isin(abnormalUsers)))]['revenue'])[1]))\n",
    "\n",
    "print(\"Относительный показатель 'B' и 'A' = {0:.3f}\".format(orders[np.logical_and(orders['group'] == 'B',\n",
    "                np.logical_not(orders['visitorid'].isin(abnormalUsers)))]['revenue'].mean() / orders[\n",
    "                np.logical_and(orders['group'] == 'A',\n",
    "                np.logical_not(orders['visitorid'].isin(abnormalUsers)))]['revenue'].mean()- 1))"
   ]
  },
  {
   "cell_type": "markdown",
   "metadata": {},
   "source": [
    "P-value снизился и разница между группами стала обратной: выигрыш группы А стал равен 3% из-за аномально крупного заказа, исключенного ранее."
   ]
  },
  {
   "cell_type": "markdown",
   "metadata": {},
   "source": [
    "## Решение по результатам теста"
   ]
  },
  {
   "cell_type": "markdown",
   "metadata": {},
   "source": [
    "- Статистически значимые различия в среднем числе заказов на посетителя между группами есть и относительный выигрыш группы B по \"сырым\" данным равен 13.8%, по \"очищенным\" данным - 17.4%.\n",
    "- Cтатистически значимых различий в среднем чеке между группами нет, но средний чек группы В по \"сырым\" данным выше на 29%, а по \"очищенным\" средний чек группы А выше на 3%.\n",
    "\n",
    "статистически значимые различия в среднем количестве заказов на посетителя между группами есть\n",
    "\n",
    "\n",
    "Исходя из обнаруженных фактов, тест следует остановить и признать победу группы В."
   ]
  }
 ],
 "metadata": {
  "ExecuteTimeLog": [
   {
    "duration": 853,
    "start_time": "2023-03-23T00:39:02.138Z"
   },
   {
    "duration": 86,
    "start_time": "2023-03-23T00:45:52.442Z"
   },
   {
    "duration": 34,
    "start_time": "2023-03-23T00:46:00.572Z"
   },
   {
    "duration": 30,
    "start_time": "2023-03-23T00:46:21.378Z"
   },
   {
    "duration": 975,
    "start_time": "2023-03-23T00:46:33.793Z"
   },
   {
    "duration": 33,
    "start_time": "2023-03-23T00:46:41.060Z"
   },
   {
    "duration": 33,
    "start_time": "2023-03-23T00:47:42.513Z"
   },
   {
    "duration": 34,
    "start_time": "2023-03-23T00:51:32.527Z"
   },
   {
    "duration": 789,
    "start_time": "2023-03-23T00:52:02.792Z"
   },
   {
    "duration": 4,
    "start_time": "2023-03-23T00:54:39.089Z"
   },
   {
    "duration": 18,
    "start_time": "2023-03-23T00:54:56.436Z"
   },
   {
    "duration": 12,
    "start_time": "2023-03-23T00:55:45.880Z"
   },
   {
    "duration": 11,
    "start_time": "2023-03-23T00:55:57.116Z"
   },
   {
    "duration": 15,
    "start_time": "2023-03-23T00:56:28.963Z"
   },
   {
    "duration": 24,
    "start_time": "2023-03-23T00:56:33.229Z"
   },
   {
    "duration": 11,
    "start_time": "2023-03-23T00:56:37.080Z"
   },
   {
    "duration": 13,
    "start_time": "2023-03-23T00:56:40.676Z"
   },
   {
    "duration": 14,
    "start_time": "2023-03-23T01:04:30.089Z"
   },
   {
    "duration": 11,
    "start_time": "2023-03-23T01:04:38.722Z"
   },
   {
    "duration": 13,
    "start_time": "2023-03-23T01:05:02.497Z"
   },
   {
    "duration": 8,
    "start_time": "2023-03-23T03:00:25.514Z"
   },
   {
    "duration": 125,
    "start_time": "2023-03-23T03:00:45.968Z"
   },
   {
    "duration": 56,
    "start_time": "2023-03-23T03:03:12.761Z"
   },
   {
    "duration": 12,
    "start_time": "2023-03-23T03:04:00.089Z"
   },
   {
    "duration": 311,
    "start_time": "2023-03-23T03:04:14.598Z"
   },
   {
    "duration": 204,
    "start_time": "2023-03-23T03:04:44.767Z"
   },
   {
    "duration": 4,
    "start_time": "2023-03-23T03:05:17.753Z"
   },
   {
    "duration": 6,
    "start_time": "2023-03-23T03:06:43.479Z"
   },
   {
    "duration": 15,
    "start_time": "2023-03-23T03:06:48.856Z"
   },
   {
    "duration": 10,
    "start_time": "2023-03-23T03:07:22.856Z"
   },
   {
    "duration": 307,
    "start_time": "2023-03-23T03:07:45.198Z"
   },
   {
    "duration": 14,
    "start_time": "2023-03-23T03:08:17.559Z"
   },
   {
    "duration": 7,
    "start_time": "2023-03-23T03:08:54.556Z"
   },
   {
    "duration": 7,
    "start_time": "2023-03-23T03:09:34.305Z"
   },
   {
    "duration": 20,
    "start_time": "2023-03-23T03:09:36.855Z"
   },
   {
    "duration": 9,
    "start_time": "2023-03-23T03:10:15.189Z"
   },
   {
    "duration": 14,
    "start_time": "2023-03-23T03:10:37.757Z"
   },
   {
    "duration": 9,
    "start_time": "2023-03-23T03:10:49.883Z"
   },
   {
    "duration": 10,
    "start_time": "2023-03-23T03:11:12.470Z"
   },
   {
    "duration": 11,
    "start_time": "2023-03-23T03:11:39.893Z"
   },
   {
    "duration": 2,
    "start_time": "2023-03-23T03:29:59.861Z"
   },
   {
    "duration": 56,
    "start_time": "2023-03-23T03:29:59.865Z"
   },
   {
    "duration": 8,
    "start_time": "2023-03-23T03:29:59.923Z"
   },
   {
    "duration": 39,
    "start_time": "2023-03-23T03:29:59.934Z"
   },
   {
    "duration": 23,
    "start_time": "2023-03-23T03:29:59.975Z"
   },
   {
    "duration": 64,
    "start_time": "2023-03-23T03:30:00.000Z"
   },
   {
    "duration": 17,
    "start_time": "2023-03-23T03:30:00.066Z"
   },
   {
    "duration": 71,
    "start_time": "2023-03-23T03:30:00.085Z"
   },
   {
    "duration": 71,
    "start_time": "2023-03-23T03:30:00.159Z"
   },
   {
    "duration": 80,
    "start_time": "2023-03-23T03:30:00.232Z"
   },
   {
    "duration": 58,
    "start_time": "2023-03-23T03:30:00.315Z"
   },
   {
    "duration": 12,
    "start_time": "2023-03-23T03:35:54.632Z"
   },
   {
    "duration": 26,
    "start_time": "2023-03-23T03:36:01.330Z"
   },
   {
    "duration": 30,
    "start_time": "2023-03-23T03:36:39.137Z"
   },
   {
    "duration": 26,
    "start_time": "2023-03-23T03:36:42.964Z"
   },
   {
    "duration": 27,
    "start_time": "2023-03-23T03:37:26.550Z"
   },
   {
    "duration": 1058,
    "start_time": "2023-03-23T03:38:05.343Z"
   },
   {
    "duration": 16,
    "start_time": "2023-03-23T03:38:50.360Z"
   },
   {
    "duration": 25,
    "start_time": "2023-03-23T03:39:03.154Z"
   },
   {
    "duration": 21,
    "start_time": "2023-03-23T03:39:12.350Z"
   },
   {
    "duration": 19,
    "start_time": "2023-03-23T03:39:58.880Z"
   },
   {
    "duration": 27,
    "start_time": "2023-03-23T03:40:53.642Z"
   },
   {
    "duration": 1138,
    "start_time": "2023-03-24T02:22:49.423Z"
   },
   {
    "duration": 163,
    "start_time": "2023-03-24T02:22:50.571Z"
   },
   {
    "duration": 17,
    "start_time": "2023-03-24T02:22:50.736Z"
   },
   {
    "duration": 81,
    "start_time": "2023-03-24T02:22:50.756Z"
   },
   {
    "duration": 16,
    "start_time": "2023-03-24T02:22:50.839Z"
   },
   {
    "duration": 258,
    "start_time": "2023-03-24T02:22:50.857Z"
   },
   {
    "duration": 12,
    "start_time": "2023-03-24T02:22:51.121Z"
   },
   {
    "duration": 124,
    "start_time": "2023-03-24T02:22:51.135Z"
   },
   {
    "duration": 105,
    "start_time": "2023-03-24T02:22:51.264Z"
   },
   {
    "duration": 79,
    "start_time": "2023-03-24T02:22:51.372Z"
   },
   {
    "duration": 109,
    "start_time": "2023-03-24T02:22:51.454Z"
   },
   {
    "duration": 61,
    "start_time": "2023-03-24T02:22:51.574Z"
   },
   {
    "duration": 102,
    "start_time": "2023-03-24T02:22:51.637Z"
   },
   {
    "duration": 12,
    "start_time": "2023-03-24T02:23:14.773Z"
   },
   {
    "duration": 6,
    "start_time": "2023-03-24T02:24:59.368Z"
   },
   {
    "duration": 4,
    "start_time": "2023-03-24T02:25:24.878Z"
   },
   {
    "duration": 214,
    "start_time": "2023-03-24T02:30:06.467Z"
   },
   {
    "duration": 18,
    "start_time": "2023-03-24T02:32:17.090Z"
   },
   {
    "duration": 70,
    "start_time": "2023-03-24T02:41:50.615Z"
   },
   {
    "duration": 78,
    "start_time": "2023-03-24T02:42:05.526Z"
   },
   {
    "duration": 13,
    "start_time": "2023-03-24T02:42:14.559Z"
   },
   {
    "duration": 7,
    "start_time": "2023-03-24T02:45:12.510Z"
   },
   {
    "duration": 166,
    "start_time": "2023-03-24T03:11:03.769Z"
   },
   {
    "duration": 116,
    "start_time": "2023-03-24T03:11:33.290Z"
   },
   {
    "duration": 12,
    "start_time": "2023-03-24T03:11:52.793Z"
   },
   {
    "duration": 11,
    "start_time": "2023-03-24T03:11:56.723Z"
   },
   {
    "duration": 7,
    "start_time": "2023-03-24T03:12:18.502Z"
   },
   {
    "duration": 17,
    "start_time": "2023-03-24T03:12:34.436Z"
   },
   {
    "duration": 17,
    "start_time": "2023-03-24T03:12:58.092Z"
   },
   {
    "duration": 3,
    "start_time": "2023-03-24T03:16:27.397Z"
   },
   {
    "duration": 45,
    "start_time": "2023-03-24T03:16:27.402Z"
   },
   {
    "duration": 18,
    "start_time": "2023-03-24T03:16:27.451Z"
   },
   {
    "duration": 50,
    "start_time": "2023-03-24T03:16:27.471Z"
   },
   {
    "duration": 24,
    "start_time": "2023-03-24T03:16:27.523Z"
   },
   {
    "duration": 108,
    "start_time": "2023-03-24T03:16:27.549Z"
   },
   {
    "duration": 13,
    "start_time": "2023-03-24T03:16:27.660Z"
   },
   {
    "duration": 34,
    "start_time": "2023-03-24T03:16:27.675Z"
   },
   {
    "duration": 9,
    "start_time": "2023-03-24T03:16:27.711Z"
   },
   {
    "duration": 14,
    "start_time": "2023-03-24T03:16:27.722Z"
   },
   {
    "duration": 50,
    "start_time": "2023-03-24T03:16:27.738Z"
   },
   {
    "duration": 35,
    "start_time": "2023-03-24T03:16:27.792Z"
   },
   {
    "duration": 6,
    "start_time": "2023-03-24T03:16:27.828Z"
   },
   {
    "duration": 125,
    "start_time": "2023-03-24T03:16:27.836Z"
   },
   {
    "duration": 10,
    "start_time": "2023-03-24T03:16:27.963Z"
   },
   {
    "duration": 38,
    "start_time": "2023-03-24T03:16:27.975Z"
   },
   {
    "duration": 13,
    "start_time": "2023-03-24T03:16:28.015Z"
   },
   {
    "duration": 19,
    "start_time": "2023-03-24T03:16:28.030Z"
   },
   {
    "duration": 6,
    "start_time": "2023-03-24T03:23:44.979Z"
   },
   {
    "duration": 35,
    "start_time": "2023-03-24T03:25:26.376Z"
   },
   {
    "duration": 204,
    "start_time": "2023-03-24T03:25:51.190Z"
   },
   {
    "duration": 143,
    "start_time": "2023-03-24T03:27:47.480Z"
   },
   {
    "duration": 17,
    "start_time": "2023-03-24T03:29:08.769Z"
   },
   {
    "duration": 985,
    "start_time": "2023-03-24T03:29:41.432Z"
   },
   {
    "duration": 229,
    "start_time": "2023-03-24T03:30:38.896Z"
   },
   {
    "duration": 276,
    "start_time": "2023-03-24T03:31:47.984Z"
   },
   {
    "duration": 386,
    "start_time": "2023-03-24T03:33:24.835Z"
   },
   {
    "duration": 313,
    "start_time": "2023-03-24T03:33:29.460Z"
   },
   {
    "duration": 302,
    "start_time": "2023-03-24T03:35:09.857Z"
   },
   {
    "duration": 339,
    "start_time": "2023-03-24T03:36:17.882Z"
   },
   {
    "duration": 913,
    "start_time": "2023-03-25T00:08:55.045Z"
   },
   {
    "duration": 85,
    "start_time": "2023-03-25T00:08:55.960Z"
   },
   {
    "duration": 8,
    "start_time": "2023-03-25T00:08:56.046Z"
   },
   {
    "duration": 14,
    "start_time": "2023-03-25T00:08:56.056Z"
   },
   {
    "duration": 13,
    "start_time": "2023-03-25T00:08:56.072Z"
   },
   {
    "duration": 103,
    "start_time": "2023-03-25T00:08:56.087Z"
   },
   {
    "duration": 9,
    "start_time": "2023-03-25T00:08:56.192Z"
   },
   {
    "duration": 7,
    "start_time": "2023-03-25T00:08:56.203Z"
   },
   {
    "duration": 9,
    "start_time": "2023-03-25T00:08:56.211Z"
   },
   {
    "duration": 13,
    "start_time": "2023-03-25T00:08:56.224Z"
   },
   {
    "duration": 9,
    "start_time": "2023-03-25T00:08:56.239Z"
   },
   {
    "duration": 56,
    "start_time": "2023-03-25T00:08:56.250Z"
   },
   {
    "duration": 7,
    "start_time": "2023-03-25T00:08:56.308Z"
   },
   {
    "duration": 73,
    "start_time": "2023-03-25T00:08:56.317Z"
   },
   {
    "duration": 7,
    "start_time": "2023-03-25T00:08:56.391Z"
   },
   {
    "duration": 7,
    "start_time": "2023-03-25T00:08:56.400Z"
   },
   {
    "duration": 13,
    "start_time": "2023-03-25T00:08:56.409Z"
   },
   {
    "duration": 42,
    "start_time": "2023-03-25T00:08:56.424Z"
   },
   {
    "duration": 55,
    "start_time": "2023-03-25T00:08:56.469Z"
   },
   {
    "duration": 248,
    "start_time": "2023-03-25T00:08:56.526Z"
   },
   {
    "duration": 146,
    "start_time": "2023-03-25T00:08:56.776Z"
   },
   {
    "duration": 11,
    "start_time": "2023-03-25T00:08:56.923Z"
   },
   {
    "duration": 739,
    "start_time": "2023-03-25T00:08:56.936Z"
   },
   {
    "duration": 197,
    "start_time": "2023-03-25T00:08:57.677Z"
   },
   {
    "duration": 337,
    "start_time": "2023-03-25T00:08:57.876Z"
   },
   {
    "duration": 215,
    "start_time": "2023-03-25T00:08:58.215Z"
   },
   {
    "duration": 295,
    "start_time": "2023-03-25T00:08:58.432Z"
   },
   {
    "duration": 104,
    "start_time": "2023-03-25T00:10:03.081Z"
   },
   {
    "duration": 9,
    "start_time": "2023-03-25T00:10:24.132Z"
   },
   {
    "duration": 133,
    "start_time": "2023-03-25T00:10:28.923Z"
   },
   {
    "duration": 124,
    "start_time": "2023-03-25T00:10:36.833Z"
   },
   {
    "duration": 5,
    "start_time": "2023-03-25T00:11:13.164Z"
   },
   {
    "duration": 9,
    "start_time": "2023-03-25T00:12:05.966Z"
   },
   {
    "duration": 19,
    "start_time": "2023-03-25T00:12:56.768Z"
   },
   {
    "duration": 13,
    "start_time": "2023-03-25T00:14:09.145Z"
   },
   {
    "duration": 13,
    "start_time": "2023-03-25T00:14:27.240Z"
   },
   {
    "duration": 148,
    "start_time": "2023-03-25T00:15:02.191Z"
   },
   {
    "duration": 217,
    "start_time": "2023-03-25T00:15:11.192Z"
   },
   {
    "duration": 147,
    "start_time": "2023-03-25T00:15:44.397Z"
   },
   {
    "duration": 5,
    "start_time": "2023-03-25T00:16:32.311Z"
   },
   {
    "duration": 126,
    "start_time": "2023-03-25T00:16:47.866Z"
   },
   {
    "duration": 5,
    "start_time": "2023-03-25T00:16:58.542Z"
   },
   {
    "duration": 171,
    "start_time": "2023-03-25T00:24:48.532Z"
   },
   {
    "duration": 132,
    "start_time": "2023-03-25T00:25:14.265Z"
   },
   {
    "duration": 12,
    "start_time": "2023-03-25T00:25:45.028Z"
   },
   {
    "duration": 191,
    "start_time": "2023-03-25T00:26:32.067Z"
   },
   {
    "duration": 813,
    "start_time": "2023-03-27T02:25:28.666Z"
   },
   {
    "duration": 96,
    "start_time": "2023-03-27T02:25:29.482Z"
   },
   {
    "duration": 9,
    "start_time": "2023-03-27T02:25:29.580Z"
   },
   {
    "duration": 14,
    "start_time": "2023-03-27T02:25:29.591Z"
   },
   {
    "duration": 12,
    "start_time": "2023-03-27T02:25:29.606Z"
   },
   {
    "duration": 95,
    "start_time": "2023-03-27T02:25:29.620Z"
   },
   {
    "duration": 9,
    "start_time": "2023-03-27T02:25:29.717Z"
   },
   {
    "duration": 4,
    "start_time": "2023-03-27T02:25:29.727Z"
   },
   {
    "duration": 9,
    "start_time": "2023-03-27T02:25:29.733Z"
   },
   {
    "duration": 13,
    "start_time": "2023-03-27T02:25:29.744Z"
   },
   {
    "duration": 10,
    "start_time": "2023-03-27T02:25:29.759Z"
   },
   {
    "duration": 53,
    "start_time": "2023-03-27T02:25:29.771Z"
   },
   {
    "duration": 6,
    "start_time": "2023-03-27T02:25:29.827Z"
   },
   {
    "duration": 86,
    "start_time": "2023-03-27T02:25:29.835Z"
   },
   {
    "duration": 8,
    "start_time": "2023-03-27T02:25:29.923Z"
   },
   {
    "duration": 7,
    "start_time": "2023-03-27T02:25:29.932Z"
   },
   {
    "duration": 11,
    "start_time": "2023-03-27T02:25:29.940Z"
   },
   {
    "duration": 8,
    "start_time": "2023-03-27T02:25:29.952Z"
   },
   {
    "duration": 6,
    "start_time": "2023-03-27T02:25:29.961Z"
   },
   {
    "duration": 208,
    "start_time": "2023-03-27T02:25:29.968Z"
   },
   {
    "duration": 163,
    "start_time": "2023-03-27T02:25:30.178Z"
   },
   {
    "duration": 14,
    "start_time": "2023-03-27T02:25:30.343Z"
   },
   {
    "duration": 821,
    "start_time": "2023-03-27T02:25:30.359Z"
   },
   {
    "duration": 192,
    "start_time": "2023-03-27T02:25:31.181Z"
   },
   {
    "duration": 357,
    "start_time": "2023-03-27T02:25:31.375Z"
   },
   {
    "duration": 200,
    "start_time": "2023-03-27T02:25:31.734Z"
   },
   {
    "duration": 313,
    "start_time": "2023-03-27T02:25:31.936Z"
   },
   {
    "duration": 17,
    "start_time": "2023-03-27T02:25:32.252Z"
   },
   {
    "duration": 154,
    "start_time": "2023-03-27T02:25:32.271Z"
   },
   {
    "duration": 167,
    "start_time": "2023-03-27T02:25:32.427Z"
   },
   {
    "duration": 5,
    "start_time": "2023-03-27T02:25:32.596Z"
   },
   {
    "duration": 172,
    "start_time": "2023-03-27T02:25:32.604Z"
   },
   {
    "duration": 4,
    "start_time": "2023-03-27T02:25:32.779Z"
   },
   {
    "duration": 14,
    "start_time": "2023-03-27T02:28:39.655Z"
   },
   {
    "duration": 4,
    "start_time": "2023-03-27T02:29:04.197Z"
   },
   {
    "duration": 234,
    "start_time": "2023-03-27T02:33:05.946Z"
   },
   {
    "duration": 280,
    "start_time": "2023-03-27T02:33:52.995Z"
   },
   {
    "duration": 165,
    "start_time": "2023-03-27T02:34:21.388Z"
   },
   {
    "duration": 162,
    "start_time": "2023-03-27T02:34:37.459Z"
   },
   {
    "duration": 184,
    "start_time": "2023-03-27T02:35:04.633Z"
   },
   {
    "duration": 184,
    "start_time": "2023-03-27T02:35:15.994Z"
   },
   {
    "duration": 212,
    "start_time": "2023-03-27T02:35:20.896Z"
   },
   {
    "duration": 178,
    "start_time": "2023-03-27T02:35:26.377Z"
   },
   {
    "duration": 184,
    "start_time": "2023-03-27T02:35:31.544Z"
   },
   {
    "duration": 179,
    "start_time": "2023-03-27T02:35:35.810Z"
   },
   {
    "duration": 185,
    "start_time": "2023-03-27T02:35:57.779Z"
   },
   {
    "duration": 180,
    "start_time": "2023-03-27T02:36:03.184Z"
   },
   {
    "duration": 268,
    "start_time": "2023-03-27T02:36:31.049Z"
   },
   {
    "duration": 83,
    "start_time": "2023-03-27T02:36:34.768Z"
   },
   {
    "duration": 180,
    "start_time": "2023-03-27T02:36:37.881Z"
   },
   {
    "duration": 177,
    "start_time": "2023-03-27T02:36:41.056Z"
   },
   {
    "duration": 182,
    "start_time": "2023-03-27T02:37:07.986Z"
   },
   {
    "duration": 200,
    "start_time": "2023-03-27T02:37:46.914Z"
   },
   {
    "duration": 190,
    "start_time": "2023-03-27T02:37:53.343Z"
   },
   {
    "duration": 191,
    "start_time": "2023-03-27T02:40:08.674Z"
   },
   {
    "duration": 193,
    "start_time": "2023-03-27T02:44:22.333Z"
   },
   {
    "duration": 300,
    "start_time": "2023-03-27T02:44:36.646Z"
   },
   {
    "duration": 214,
    "start_time": "2023-03-27T02:44:41.397Z"
   },
   {
    "duration": 13,
    "start_time": "2023-03-27T02:46:02.667Z"
   },
   {
    "duration": 13,
    "start_time": "2023-03-27T02:46:08.173Z"
   },
   {
    "duration": 11,
    "start_time": "2023-03-27T02:46:12.565Z"
   },
   {
    "duration": 13,
    "start_time": "2023-03-27T02:46:19.476Z"
   },
   {
    "duration": 197,
    "start_time": "2023-03-27T02:49:03.556Z"
   },
   {
    "duration": 374,
    "start_time": "2023-03-27T03:23:36.805Z"
   },
   {
    "duration": 302,
    "start_time": "2023-03-27T03:23:43.589Z"
   },
   {
    "duration": 427,
    "start_time": "2023-03-27T03:23:53.997Z"
   },
   {
    "duration": 309,
    "start_time": "2023-03-27T03:24:01.584Z"
   },
   {
    "duration": 287,
    "start_time": "2023-03-27T03:24:13.405Z"
   },
   {
    "duration": 207,
    "start_time": "2023-03-27T03:25:52.269Z"
   },
   {
    "duration": 221,
    "start_time": "2023-03-27T03:26:00.603Z"
   },
   {
    "duration": 295,
    "start_time": "2023-03-27T03:26:07.085Z"
   },
   {
    "duration": 294,
    "start_time": "2023-03-27T03:27:30.892Z"
   },
   {
    "duration": 215,
    "start_time": "2023-03-27T03:31:21.835Z"
   },
   {
    "duration": 218,
    "start_time": "2023-03-27T03:31:29.146Z"
   },
   {
    "duration": 330,
    "start_time": "2023-03-27T03:32:00.888Z"
   },
   {
    "duration": 223,
    "start_time": "2023-03-27T03:32:14.540Z"
   },
   {
    "duration": 352,
    "start_time": "2023-03-27T03:32:38.041Z"
   },
   {
    "duration": 218,
    "start_time": "2023-03-27T03:33:05.475Z"
   },
   {
    "duration": 363,
    "start_time": "2023-03-27T03:37:50.040Z"
   },
   {
    "duration": 390,
    "start_time": "2023-03-27T03:38:44.112Z"
   },
   {
    "duration": 351,
    "start_time": "2023-03-27T03:39:05.158Z"
   },
   {
    "duration": 464,
    "start_time": "2023-03-27T03:40:01.175Z"
   },
   {
    "duration": 331,
    "start_time": "2023-03-27T03:40:05.453Z"
   },
   {
    "duration": 17,
    "start_time": "2023-03-27T03:51:39.423Z"
   },
   {
    "duration": 145,
    "start_time": "2023-03-27T03:53:24.384Z"
   },
   {
    "duration": 143,
    "start_time": "2023-03-27T03:54:16.310Z"
   },
   {
    "duration": 352,
    "start_time": "2023-03-27T03:54:42.184Z"
   },
   {
    "duration": 146,
    "start_time": "2023-03-27T03:54:47.047Z"
   },
   {
    "duration": 6,
    "start_time": "2023-03-27T03:57:44.189Z"
   },
   {
    "duration": 155,
    "start_time": "2023-03-27T04:03:35.043Z"
   },
   {
    "duration": 296,
    "start_time": "2023-03-27T04:03:58.315Z"
   },
   {
    "duration": 169,
    "start_time": "2023-03-27T04:04:14.311Z"
   },
   {
    "duration": 178,
    "start_time": "2023-03-27T04:04:33.924Z"
   },
   {
    "duration": 204,
    "start_time": "2023-03-27T04:04:43.410Z"
   },
   {
    "duration": 170,
    "start_time": "2023-03-27T04:04:50.850Z"
   },
   {
    "duration": 156,
    "start_time": "2023-03-27T04:04:56.009Z"
   },
   {
    "duration": 7,
    "start_time": "2023-03-27T04:07:07.785Z"
   },
   {
    "duration": 5,
    "start_time": "2023-03-27T04:07:11.753Z"
   },
   {
    "duration": 6,
    "start_time": "2023-03-27T04:07:13.880Z"
   },
   {
    "duration": 21,
    "start_time": "2023-03-27T04:15:43.526Z"
   },
   {
    "duration": 19,
    "start_time": "2023-03-27T04:16:00.246Z"
   },
   {
    "duration": 21,
    "start_time": "2023-03-27T04:17:20.247Z"
   },
   {
    "duration": 183,
    "start_time": "2023-03-27T04:17:52.441Z"
   },
   {
    "duration": 168,
    "start_time": "2023-03-27T04:18:23.428Z"
   },
   {
    "duration": 143,
    "start_time": "2023-03-27T04:20:15.964Z"
   },
   {
    "duration": 56,
    "start_time": "2023-03-28T00:14:52.889Z"
   },
   {
    "duration": 1103,
    "start_time": "2023-03-28T00:15:13.299Z"
   },
   {
    "duration": 148,
    "start_time": "2023-03-28T00:15:14.404Z"
   },
   {
    "duration": 9,
    "start_time": "2023-03-28T00:15:14.554Z"
   },
   {
    "duration": 36,
    "start_time": "2023-03-28T00:15:14.565Z"
   },
   {
    "duration": 30,
    "start_time": "2023-03-28T00:15:14.603Z"
   },
   {
    "duration": 126,
    "start_time": "2023-03-28T00:15:14.635Z"
   },
   {
    "duration": 7,
    "start_time": "2023-03-28T00:15:14.763Z"
   },
   {
    "duration": 21,
    "start_time": "2023-03-28T00:15:14.772Z"
   },
   {
    "duration": 16,
    "start_time": "2023-03-28T00:15:14.795Z"
   },
   {
    "duration": 15,
    "start_time": "2023-03-28T00:15:14.813Z"
   },
   {
    "duration": 8,
    "start_time": "2023-03-28T00:15:14.830Z"
   },
   {
    "duration": 25,
    "start_time": "2023-03-28T00:15:14.839Z"
   },
   {
    "duration": 14,
    "start_time": "2023-03-28T00:15:14.865Z"
   },
   {
    "duration": 89,
    "start_time": "2023-03-28T00:15:14.881Z"
   },
   {
    "duration": 6,
    "start_time": "2023-03-28T00:15:14.972Z"
   },
   {
    "duration": 32,
    "start_time": "2023-03-28T00:15:14.980Z"
   },
   {
    "duration": 42,
    "start_time": "2023-03-28T00:15:15.014Z"
   },
   {
    "duration": 33,
    "start_time": "2023-03-28T00:15:15.058Z"
   },
   {
    "duration": 22,
    "start_time": "2023-03-28T00:15:15.093Z"
   },
   {
    "duration": 166,
    "start_time": "2023-03-28T00:15:15.117Z"
   },
   {
    "duration": 128,
    "start_time": "2023-03-28T00:15:15.285Z"
   },
   {
    "duration": 20,
    "start_time": "2023-03-28T00:15:15.415Z"
   },
   {
    "duration": 259,
    "start_time": "2023-03-28T00:15:15.437Z"
   },
   {
    "duration": 11,
    "start_time": "2023-03-28T00:15:15.697Z"
   },
   {
    "duration": 196,
    "start_time": "2023-03-28T00:15:15.709Z"
   },
   {
    "duration": 358,
    "start_time": "2023-03-28T00:15:15.907Z"
   },
   {
    "duration": 195,
    "start_time": "2023-03-28T00:15:16.267Z"
   },
   {
    "duration": 314,
    "start_time": "2023-03-28T00:15:16.465Z"
   },
   {
    "duration": 11,
    "start_time": "2023-03-28T00:15:16.780Z"
   },
   {
    "duration": 150,
    "start_time": "2023-03-28T00:15:16.793Z"
   },
   {
    "duration": 152,
    "start_time": "2023-03-28T00:15:16.945Z"
   },
   {
    "duration": 5,
    "start_time": "2023-03-28T00:15:17.099Z"
   },
   {
    "duration": 155,
    "start_time": "2023-03-28T00:15:17.105Z"
   },
   {
    "duration": 5,
    "start_time": "2023-03-28T00:15:17.262Z"
   },
   {
    "duration": 1468,
    "start_time": "2023-03-28T00:15:17.269Z"
   },
   {
    "duration": 3,
    "start_time": "2023-03-28T00:19:18.208Z"
   },
   {
    "duration": 38,
    "start_time": "2023-03-28T00:19:18.213Z"
   },
   {
    "duration": 7,
    "start_time": "2023-03-28T00:19:18.253Z"
   },
   {
    "duration": 11,
    "start_time": "2023-03-28T00:19:18.261Z"
   },
   {
    "duration": 13,
    "start_time": "2023-03-28T00:19:18.274Z"
   },
   {
    "duration": 46,
    "start_time": "2023-03-28T00:19:18.288Z"
   },
   {
    "duration": 7,
    "start_time": "2023-03-28T00:19:18.335Z"
   },
   {
    "duration": 5,
    "start_time": "2023-03-28T00:19:18.343Z"
   },
   {
    "duration": 7,
    "start_time": "2023-03-28T00:19:18.349Z"
   },
   {
    "duration": 11,
    "start_time": "2023-03-28T00:19:18.358Z"
   },
   {
    "duration": 9,
    "start_time": "2023-03-28T00:19:18.371Z"
   },
   {
    "duration": 17,
    "start_time": "2023-03-28T00:19:18.382Z"
   },
   {
    "duration": 36,
    "start_time": "2023-03-28T00:19:18.400Z"
   },
   {
    "duration": 21,
    "start_time": "2023-03-28T00:19:18.437Z"
   },
   {
    "duration": 6,
    "start_time": "2023-03-28T00:19:18.459Z"
   },
   {
    "duration": 6,
    "start_time": "2023-03-28T00:19:18.467Z"
   },
   {
    "duration": 11,
    "start_time": "2023-03-28T00:19:18.475Z"
   },
   {
    "duration": 11,
    "start_time": "2023-03-28T00:19:18.487Z"
   },
   {
    "duration": 12,
    "start_time": "2023-03-28T00:19:18.500Z"
   },
   {
    "duration": 21,
    "start_time": "2023-03-28T00:19:18.513Z"
   },
   {
    "duration": 149,
    "start_time": "2023-03-28T00:19:18.535Z"
   },
   {
    "duration": 120,
    "start_time": "2023-03-28T00:19:18.685Z"
   },
   {
    "duration": 12,
    "start_time": "2023-03-28T00:19:18.808Z"
   },
   {
    "duration": 264,
    "start_time": "2023-03-28T00:19:18.835Z"
   },
   {
    "duration": 11,
    "start_time": "2023-03-28T00:19:19.100Z"
   },
   {
    "duration": 217,
    "start_time": "2023-03-28T00:19:19.112Z"
   },
   {
    "duration": 287,
    "start_time": "2023-03-28T00:19:19.331Z"
   },
   {
    "duration": 201,
    "start_time": "2023-03-28T00:19:19.619Z"
   },
   {
    "duration": 366,
    "start_time": "2023-03-28T00:19:19.823Z"
   },
   {
    "duration": 11,
    "start_time": "2023-03-28T00:19:20.190Z"
   },
   {
    "duration": 180,
    "start_time": "2023-03-28T00:19:20.203Z"
   },
   {
    "duration": 163,
    "start_time": "2023-03-28T00:19:20.385Z"
   },
   {
    "duration": 5,
    "start_time": "2023-03-28T00:19:20.550Z"
   },
   {
    "duration": 150,
    "start_time": "2023-03-28T00:19:20.557Z"
   },
   {
    "duration": 5,
    "start_time": "2023-03-28T00:19:20.709Z"
   },
   {
    "duration": 985,
    "start_time": "2023-03-28T00:19:20.716Z"
   },
   {
    "duration": 199,
    "start_time": "2023-03-28T00:56:51.904Z"
   },
   {
    "duration": 277,
    "start_time": "2023-03-28T01:04:04.476Z"
   },
   {
    "duration": 84,
    "start_time": "2023-03-28T01:06:54.035Z"
   },
   {
    "duration": 107,
    "start_time": "2023-03-28T01:06:56.443Z"
   },
   {
    "duration": 34,
    "start_time": "2023-03-28T01:07:01.058Z"
   },
   {
    "duration": 939,
    "start_time": "2023-03-28T01:07:55.737Z"
   },
   {
    "duration": 114,
    "start_time": "2023-03-28T01:08:01.568Z"
   },
   {
    "duration": 128,
    "start_time": "2023-03-28T01:08:35.542Z"
   },
   {
    "duration": 1004,
    "start_time": "2023-03-28T01:09:59.897Z"
   },
   {
    "duration": 32,
    "start_time": "2023-03-28T01:10:32.561Z"
   },
   {
    "duration": 26,
    "start_time": "2023-03-28T01:12:33.656Z"
   },
   {
    "duration": 38,
    "start_time": "2023-03-28T01:12:39.507Z"
   },
   {
    "duration": 11,
    "start_time": "2023-03-28T02:36:06.251Z"
   },
   {
    "duration": 19,
    "start_time": "2023-03-28T02:47:21.689Z"
   },
   {
    "duration": 12,
    "start_time": "2023-03-28T02:48:07.152Z"
   },
   {
    "duration": 4,
    "start_time": "2023-03-28T02:48:19.550Z"
   },
   {
    "duration": 11,
    "start_time": "2023-03-28T02:48:28.037Z"
   },
   {
    "duration": 139,
    "start_time": "2023-03-28T02:48:34.325Z"
   },
   {
    "duration": 15,
    "start_time": "2023-03-28T02:49:43.068Z"
   },
   {
    "duration": 10,
    "start_time": "2023-03-28T02:52:47.370Z"
   },
   {
    "duration": 9,
    "start_time": "2023-03-28T02:52:58.410Z"
   },
   {
    "duration": 12,
    "start_time": "2023-03-28T02:53:33.397Z"
   },
   {
    "duration": 818,
    "start_time": "2023-03-28T02:55:38.475Z"
   },
   {
    "duration": 9,
    "start_time": "2023-03-28T02:55:51.991Z"
   },
   {
    "duration": 10,
    "start_time": "2023-03-28T02:56:06.139Z"
   },
   {
    "duration": 10,
    "start_time": "2023-03-28T02:57:07.985Z"
   },
   {
    "duration": 4,
    "start_time": "2023-03-28T02:57:14.218Z"
   },
   {
    "duration": 11,
    "start_time": "2023-03-28T02:57:29.130Z"
   },
   {
    "duration": 8,
    "start_time": "2023-03-28T02:57:32.528Z"
   },
   {
    "duration": 10,
    "start_time": "2023-03-28T02:57:36.402Z"
   },
   {
    "duration": 10,
    "start_time": "2023-03-28T02:57:52.930Z"
   },
   {
    "duration": 4,
    "start_time": "2023-03-28T02:57:54.150Z"
   },
   {
    "duration": 11,
    "start_time": "2023-03-28T02:58:12.960Z"
   },
   {
    "duration": 10,
    "start_time": "2023-03-28T02:58:57.864Z"
   },
   {
    "duration": 5,
    "start_time": "2023-03-28T02:58:58.762Z"
   },
   {
    "duration": 809,
    "start_time": "2023-03-28T03:00:58.432Z"
   },
   {
    "duration": 9,
    "start_time": "2023-03-28T03:01:25.432Z"
   },
   {
    "duration": 8,
    "start_time": "2023-03-28T03:02:02.519Z"
   },
   {
    "duration": 32,
    "start_time": "2023-03-28T03:02:30.616Z"
   },
   {
    "duration": 10,
    "start_time": "2023-03-28T03:03:19.792Z"
   },
   {
    "duration": 4,
    "start_time": "2023-03-28T03:03:21.888Z"
   },
   {
    "duration": 31,
    "start_time": "2023-03-28T03:03:23.264Z"
   },
   {
    "duration": 10,
    "start_time": "2023-03-28T03:03:41.007Z"
   },
   {
    "duration": 4,
    "start_time": "2023-03-28T03:03:42.594Z"
   },
   {
    "duration": 35,
    "start_time": "2023-03-28T03:03:43.605Z"
   },
   {
    "duration": 13,
    "start_time": "2023-03-28T03:05:22.151Z"
   },
   {
    "duration": 11,
    "start_time": "2023-03-28T03:07:57.716Z"
   },
   {
    "duration": 58,
    "start_time": "2023-03-29T00:32:16.727Z"
   },
   {
    "duration": 1236,
    "start_time": "2023-03-29T00:32:24.766Z"
   },
   {
    "duration": 168,
    "start_time": "2023-03-29T00:32:26.004Z"
   },
   {
    "duration": 8,
    "start_time": "2023-03-29T00:32:26.174Z"
   },
   {
    "duration": 23,
    "start_time": "2023-03-29T00:32:26.184Z"
   },
   {
    "duration": 27,
    "start_time": "2023-03-29T00:32:26.209Z"
   },
   {
    "duration": 113,
    "start_time": "2023-03-29T00:32:26.237Z"
   },
   {
    "duration": 8,
    "start_time": "2023-03-29T00:32:26.351Z"
   },
   {
    "duration": 15,
    "start_time": "2023-03-29T00:32:26.361Z"
   },
   {
    "duration": 11,
    "start_time": "2023-03-29T00:32:26.378Z"
   },
   {
    "duration": 25,
    "start_time": "2023-03-29T00:32:26.391Z"
   },
   {
    "duration": 9,
    "start_time": "2023-03-29T00:32:26.418Z"
   },
   {
    "duration": 26,
    "start_time": "2023-03-29T00:32:26.429Z"
   },
   {
    "duration": 9,
    "start_time": "2023-03-29T00:32:26.456Z"
   },
   {
    "duration": 82,
    "start_time": "2023-03-29T00:32:26.466Z"
   },
   {
    "duration": 8,
    "start_time": "2023-03-29T00:32:26.550Z"
   },
   {
    "duration": 20,
    "start_time": "2023-03-29T00:32:26.560Z"
   },
   {
    "duration": 43,
    "start_time": "2023-03-29T00:32:26.581Z"
   },
   {
    "duration": 41,
    "start_time": "2023-03-29T00:32:26.626Z"
   },
   {
    "duration": 17,
    "start_time": "2023-03-29T00:32:26.668Z"
   },
   {
    "duration": 15,
    "start_time": "2023-03-29T00:32:26.687Z"
   },
   {
    "duration": 164,
    "start_time": "2023-03-29T00:32:26.703Z"
   },
   {
    "duration": 117,
    "start_time": "2023-03-29T00:32:26.869Z"
   },
   {
    "duration": 12,
    "start_time": "2023-03-29T00:32:26.987Z"
   },
   {
    "duration": 295,
    "start_time": "2023-03-29T00:32:27.001Z"
   },
   {
    "duration": 11,
    "start_time": "2023-03-29T00:32:27.297Z"
   },
   {
    "duration": 214,
    "start_time": "2023-03-29T00:32:27.309Z"
   },
   {
    "duration": 359,
    "start_time": "2023-03-29T00:32:27.526Z"
   },
   {
    "duration": 229,
    "start_time": "2023-03-29T00:32:27.889Z"
   },
   {
    "duration": 359,
    "start_time": "2023-03-29T00:32:28.119Z"
   },
   {
    "duration": 14,
    "start_time": "2023-03-29T00:32:28.479Z"
   },
   {
    "duration": 161,
    "start_time": "2023-03-29T00:32:28.495Z"
   },
   {
    "duration": 170,
    "start_time": "2023-03-29T00:32:28.658Z"
   },
   {
    "duration": 13,
    "start_time": "2023-03-29T00:32:28.830Z"
   },
   {
    "duration": 204,
    "start_time": "2023-03-29T00:32:28.844Z"
   },
   {
    "duration": 6,
    "start_time": "2023-03-29T00:32:29.049Z"
   },
   {
    "duration": 107,
    "start_time": "2023-03-29T00:32:29.057Z"
   },
   {
    "duration": 131,
    "start_time": "2023-03-29T00:32:29.166Z"
   },
   {
    "duration": 27,
    "start_time": "2023-03-29T00:32:29.299Z"
   },
   {
    "duration": 165,
    "start_time": "2023-03-29T00:32:29.328Z"
   },
   {
    "duration": 25,
    "start_time": "2023-03-29T00:32:29.495Z"
   },
   {
    "duration": 26,
    "start_time": "2023-03-29T00:32:29.522Z"
   },
   {
    "duration": 30,
    "start_time": "2023-03-29T00:32:29.549Z"
   },
   {
    "duration": 11,
    "start_time": "2023-03-29T00:32:29.580Z"
   },
   {
    "duration": 38,
    "start_time": "2023-03-29T00:32:29.593Z"
   },
   {
    "duration": 12,
    "start_time": "2023-03-29T00:32:29.634Z"
   },
   {
    "duration": 61,
    "start_time": "2023-03-29T00:42:01.861Z"
   },
   {
    "duration": 37,
    "start_time": "2023-03-29T00:43:06.967Z"
   },
   {
    "duration": 853,
    "start_time": "2023-03-29T00:46:21.147Z"
   },
   {
    "duration": 920,
    "start_time": "2023-03-29T00:46:29.219Z"
   },
   {
    "duration": 797,
    "start_time": "2023-03-29T00:47:07.430Z"
   },
   {
    "duration": 737,
    "start_time": "2023-03-29T00:47:12.474Z"
   },
   {
    "duration": 10,
    "start_time": "2023-03-29T00:47:24.260Z"
   },
   {
    "duration": 14,
    "start_time": "2023-03-29T00:47:27.162Z"
   },
   {
    "duration": 12,
    "start_time": "2023-03-29T00:47:35.022Z"
   },
   {
    "duration": 3,
    "start_time": "2023-03-29T00:47:38.189Z"
   },
   {
    "duration": 53,
    "start_time": "2023-03-29T00:47:38.195Z"
   },
   {
    "duration": 9,
    "start_time": "2023-03-29T00:47:38.251Z"
   },
   {
    "duration": 26,
    "start_time": "2023-03-29T00:47:38.262Z"
   },
   {
    "duration": 21,
    "start_time": "2023-03-29T00:47:38.291Z"
   },
   {
    "duration": 55,
    "start_time": "2023-03-29T00:47:38.314Z"
   },
   {
    "duration": 9,
    "start_time": "2023-03-29T00:47:38.371Z"
   },
   {
    "duration": 17,
    "start_time": "2023-03-29T00:47:38.382Z"
   },
   {
    "duration": 10,
    "start_time": "2023-03-29T00:47:38.401Z"
   },
   {
    "duration": 19,
    "start_time": "2023-03-29T00:47:38.414Z"
   },
   {
    "duration": 20,
    "start_time": "2023-03-29T00:47:38.437Z"
   },
   {
    "duration": 34,
    "start_time": "2023-03-29T00:47:38.459Z"
   },
   {
    "duration": 6,
    "start_time": "2023-03-29T00:47:38.495Z"
   },
   {
    "duration": 38,
    "start_time": "2023-03-29T00:47:38.502Z"
   },
   {
    "duration": 9,
    "start_time": "2023-03-29T00:47:38.542Z"
   },
   {
    "duration": 22,
    "start_time": "2023-03-29T00:47:38.553Z"
   },
   {
    "duration": 30,
    "start_time": "2023-03-29T00:47:38.577Z"
   },
   {
    "duration": 19,
    "start_time": "2023-03-29T00:47:38.608Z"
   },
   {
    "duration": 46,
    "start_time": "2023-03-29T00:47:38.629Z"
   },
   {
    "duration": 19,
    "start_time": "2023-03-29T00:47:38.676Z"
   },
   {
    "duration": 179,
    "start_time": "2023-03-29T00:47:38.697Z"
   },
   {
    "duration": 125,
    "start_time": "2023-03-29T00:47:38.878Z"
   },
   {
    "duration": 27,
    "start_time": "2023-03-29T00:47:39.004Z"
   },
   {
    "duration": 320,
    "start_time": "2023-03-29T00:47:39.032Z"
   },
   {
    "duration": 12,
    "start_time": "2023-03-29T00:47:39.354Z"
   },
   {
    "duration": 235,
    "start_time": "2023-03-29T00:47:39.368Z"
   },
   {
    "duration": 349,
    "start_time": "2023-03-29T00:47:39.605Z"
   },
   {
    "duration": 230,
    "start_time": "2023-03-29T00:47:39.955Z"
   },
   {
    "duration": 425,
    "start_time": "2023-03-29T00:47:40.191Z"
   },
   {
    "duration": 24,
    "start_time": "2023-03-29T00:47:40.618Z"
   },
   {
    "duration": 184,
    "start_time": "2023-03-29T00:47:40.644Z"
   },
   {
    "duration": 180,
    "start_time": "2023-03-29T00:47:40.830Z"
   },
   {
    "duration": 5,
    "start_time": "2023-03-29T00:47:41.012Z"
   },
   {
    "duration": 165,
    "start_time": "2023-03-29T00:47:41.019Z"
   },
   {
    "duration": 6,
    "start_time": "2023-03-29T00:47:41.186Z"
   },
   {
    "duration": 126,
    "start_time": "2023-03-29T00:47:41.193Z"
   },
   {
    "duration": 139,
    "start_time": "2023-03-29T00:47:41.321Z"
   },
   {
    "duration": 30,
    "start_time": "2023-03-29T00:47:41.462Z"
   },
   {
    "duration": 188,
    "start_time": "2023-03-29T00:47:41.493Z"
   },
   {
    "duration": 29,
    "start_time": "2023-03-29T00:47:41.683Z"
   },
   {
    "duration": 30,
    "start_time": "2023-03-29T00:47:41.714Z"
   },
   {
    "duration": 15,
    "start_time": "2023-03-29T00:47:41.747Z"
   },
   {
    "duration": 13,
    "start_time": "2023-03-29T00:47:41.765Z"
   },
   {
    "duration": 36,
    "start_time": "2023-03-29T00:47:41.779Z"
   },
   {
    "duration": 29,
    "start_time": "2023-03-29T00:47:41.817Z"
   },
   {
    "duration": 19,
    "start_time": "2023-03-29T00:48:06.459Z"
   },
   {
    "duration": 13,
    "start_time": "2023-03-29T00:48:15.531Z"
   },
   {
    "duration": 84,
    "start_time": "2023-03-30T02:18:55.747Z"
   },
   {
    "duration": 1385,
    "start_time": "2023-03-30T02:19:50.556Z"
   },
   {
    "duration": 160,
    "start_time": "2023-03-30T02:19:51.944Z"
   },
   {
    "duration": 9,
    "start_time": "2023-03-30T02:19:52.106Z"
   },
   {
    "duration": 13,
    "start_time": "2023-03-30T02:19:52.117Z"
   },
   {
    "duration": 11,
    "start_time": "2023-03-30T02:19:52.132Z"
   },
   {
    "duration": 111,
    "start_time": "2023-03-30T02:19:52.144Z"
   },
   {
    "duration": 7,
    "start_time": "2023-03-30T02:19:52.257Z"
   },
   {
    "duration": 18,
    "start_time": "2023-03-30T02:19:52.265Z"
   },
   {
    "duration": 28,
    "start_time": "2023-03-30T02:19:52.285Z"
   },
   {
    "duration": 12,
    "start_time": "2023-03-30T02:19:52.317Z"
   },
   {
    "duration": 9,
    "start_time": "2023-03-30T02:19:52.331Z"
   },
   {
    "duration": 26,
    "start_time": "2023-03-30T02:19:52.342Z"
   },
   {
    "duration": 26,
    "start_time": "2023-03-30T02:19:52.370Z"
   },
   {
    "duration": 78,
    "start_time": "2023-03-30T02:19:52.400Z"
   },
   {
    "duration": 10,
    "start_time": "2023-03-30T02:19:52.480Z"
   },
   {
    "duration": 40,
    "start_time": "2023-03-30T02:19:52.492Z"
   },
   {
    "duration": 16,
    "start_time": "2023-03-30T02:19:52.534Z"
   },
   {
    "duration": 19,
    "start_time": "2023-03-30T02:19:52.552Z"
   },
   {
    "duration": 34,
    "start_time": "2023-03-30T02:19:52.572Z"
   },
   {
    "duration": 13,
    "start_time": "2023-03-30T02:19:52.608Z"
   },
   {
    "duration": 188,
    "start_time": "2023-03-30T02:19:52.623Z"
   },
   {
    "duration": 130,
    "start_time": "2023-03-30T02:19:52.813Z"
   },
   {
    "duration": 36,
    "start_time": "2023-03-30T02:19:52.944Z"
   },
   {
    "duration": 336,
    "start_time": "2023-03-30T02:19:52.982Z"
   },
   {
    "duration": 12,
    "start_time": "2023-03-30T02:19:53.320Z"
   },
   {
    "duration": 262,
    "start_time": "2023-03-30T02:19:53.333Z"
   },
   {
    "duration": 374,
    "start_time": "2023-03-30T02:19:53.598Z"
   },
   {
    "duration": 250,
    "start_time": "2023-03-30T02:19:53.976Z"
   },
   {
    "duration": 339,
    "start_time": "2023-03-30T02:19:54.227Z"
   },
   {
    "duration": 31,
    "start_time": "2023-03-30T02:19:54.569Z"
   },
   {
    "duration": 173,
    "start_time": "2023-03-30T02:19:54.602Z"
   },
   {
    "duration": 187,
    "start_time": "2023-03-30T02:19:54.777Z"
   },
   {
    "duration": 6,
    "start_time": "2023-03-30T02:19:54.967Z"
   },
   {
    "duration": 197,
    "start_time": "2023-03-30T02:19:54.987Z"
   },
   {
    "duration": 16,
    "start_time": "2023-03-30T02:19:55.186Z"
   },
   {
    "duration": 104,
    "start_time": "2023-03-30T02:19:55.204Z"
   },
   {
    "duration": 146,
    "start_time": "2023-03-30T02:19:55.309Z"
   },
   {
    "duration": 40,
    "start_time": "2023-03-30T02:19:55.457Z"
   },
   {
    "duration": 188,
    "start_time": "2023-03-30T02:19:55.502Z"
   },
   {
    "duration": 50,
    "start_time": "2023-03-30T02:19:55.693Z"
   },
   {
    "duration": 12,
    "start_time": "2023-03-30T02:19:55.745Z"
   },
   {
    "duration": 60,
    "start_time": "2023-03-30T02:19:55.759Z"
   },
   {
    "duration": 7,
    "start_time": "2023-03-30T02:19:55.821Z"
   },
   {
    "duration": 55,
    "start_time": "2023-03-30T02:19:55.830Z"
   },
   {
    "duration": 19,
    "start_time": "2023-03-30T02:19:55.887Z"
   },
   {
    "duration": 6,
    "start_time": "2023-03-30T02:20:26.924Z"
   },
   {
    "duration": 3,
    "start_time": "2023-03-30T02:20:35.982Z"
   },
   {
    "duration": 60,
    "start_time": "2023-03-30T02:20:35.987Z"
   },
   {
    "duration": 8,
    "start_time": "2023-03-30T02:20:36.049Z"
   },
   {
    "duration": 30,
    "start_time": "2023-03-30T02:20:36.059Z"
   },
   {
    "duration": 26,
    "start_time": "2023-03-30T02:20:36.091Z"
   },
   {
    "duration": 54,
    "start_time": "2023-03-30T02:20:36.119Z"
   },
   {
    "duration": 7,
    "start_time": "2023-03-30T02:20:36.175Z"
   },
   {
    "duration": 9,
    "start_time": "2023-03-30T02:20:36.184Z"
   },
   {
    "duration": 27,
    "start_time": "2023-03-30T02:20:36.197Z"
   },
   {
    "duration": 17,
    "start_time": "2023-03-30T02:20:36.226Z"
   },
   {
    "duration": 29,
    "start_time": "2023-03-30T02:20:36.247Z"
   },
   {
    "duration": 32,
    "start_time": "2023-03-30T02:20:36.278Z"
   },
   {
    "duration": 14,
    "start_time": "2023-03-30T02:20:36.311Z"
   },
   {
    "duration": 34,
    "start_time": "2023-03-30T02:20:36.327Z"
   },
   {
    "duration": 9,
    "start_time": "2023-03-30T02:20:36.363Z"
   },
   {
    "duration": 9,
    "start_time": "2023-03-30T02:20:36.374Z"
   },
   {
    "duration": 29,
    "start_time": "2023-03-30T02:20:36.384Z"
   },
   {
    "duration": 8,
    "start_time": "2023-03-30T02:20:36.416Z"
   },
   {
    "duration": 4,
    "start_time": "2023-03-30T02:20:36.426Z"
   },
   {
    "duration": 11,
    "start_time": "2023-03-30T02:20:36.432Z"
   },
   {
    "duration": 181,
    "start_time": "2023-03-30T02:20:36.445Z"
   },
   {
    "duration": 137,
    "start_time": "2023-03-30T02:20:36.628Z"
   },
   {
    "duration": 21,
    "start_time": "2023-03-30T02:20:36.766Z"
   },
   {
    "duration": 317,
    "start_time": "2023-03-30T02:20:36.788Z"
   },
   {
    "duration": 16,
    "start_time": "2023-03-30T02:20:37.106Z"
   },
   {
    "duration": 245,
    "start_time": "2023-03-30T02:20:37.123Z"
   },
   {
    "duration": 357,
    "start_time": "2023-03-30T02:20:37.370Z"
   },
   {
    "duration": 238,
    "start_time": "2023-03-30T02:20:37.729Z"
   },
   {
    "duration": 387,
    "start_time": "2023-03-30T02:20:37.972Z"
   },
   {
    "duration": 32,
    "start_time": "2023-03-30T02:20:38.361Z"
   },
   {
    "duration": 176,
    "start_time": "2023-03-30T02:20:38.402Z"
   },
   {
    "duration": 183,
    "start_time": "2023-03-30T02:20:38.580Z"
   },
   {
    "duration": 6,
    "start_time": "2023-03-30T02:20:38.764Z"
   },
   {
    "duration": 196,
    "start_time": "2023-03-30T02:20:38.772Z"
   },
   {
    "duration": 6,
    "start_time": "2023-03-30T02:20:38.969Z"
   },
   {
    "duration": 112,
    "start_time": "2023-03-30T02:20:38.976Z"
   },
   {
    "duration": 144,
    "start_time": "2023-03-30T02:20:39.090Z"
   },
   {
    "duration": 29,
    "start_time": "2023-03-30T02:20:39.236Z"
   },
   {
    "duration": 169,
    "start_time": "2023-03-30T02:20:39.268Z"
   },
   {
    "duration": 28,
    "start_time": "2023-03-30T02:20:39.439Z"
   },
   {
    "duration": 34,
    "start_time": "2023-03-30T02:20:39.469Z"
   },
   {
    "duration": 34,
    "start_time": "2023-03-30T02:20:39.505Z"
   },
   {
    "duration": 30,
    "start_time": "2023-03-30T02:20:39.541Z"
   },
   {
    "duration": 60,
    "start_time": "2023-03-30T02:20:39.572Z"
   },
   {
    "duration": 15,
    "start_time": "2023-03-30T02:20:39.634Z"
   },
   {
    "duration": 6,
    "start_time": "2023-03-30T02:21:37.995Z"
   },
   {
    "duration": 6,
    "start_time": "2023-03-30T02:23:02.150Z"
   },
   {
    "duration": 8,
    "start_time": "2023-03-30T02:23:13.295Z"
   },
   {
    "duration": 6,
    "start_time": "2023-03-30T02:23:18.311Z"
   },
   {
    "duration": 7,
    "start_time": "2023-03-30T02:23:31.726Z"
   },
   {
    "duration": 6,
    "start_time": "2023-03-30T02:23:38.558Z"
   },
   {
    "duration": 12,
    "start_time": "2023-03-30T02:30:43.660Z"
   },
   {
    "duration": 14,
    "start_time": "2023-03-30T02:31:36.028Z"
   },
   {
    "duration": 12,
    "start_time": "2023-03-30T02:31:52.948Z"
   },
   {
    "duration": 14,
    "start_time": "2023-03-30T02:32:01.108Z"
   },
   {
    "duration": 13,
    "start_time": "2023-03-30T02:36:39.301Z"
   },
   {
    "duration": 13,
    "start_time": "2023-03-30T02:40:54.561Z"
   },
   {
    "duration": 78,
    "start_time": "2023-03-30T02:45:15.931Z"
   },
   {
    "duration": 231,
    "start_time": "2023-03-30T02:48:00.827Z"
   },
   {
    "duration": 236,
    "start_time": "2023-03-30T02:48:16.887Z"
   },
   {
    "duration": 307,
    "start_time": "2023-03-30T02:48:36.533Z"
   },
   {
    "duration": 347,
    "start_time": "2023-03-30T02:49:28.321Z"
   },
   {
    "duration": 242,
    "start_time": "2023-03-30T02:49:47.567Z"
   },
   {
    "duration": 378,
    "start_time": "2023-03-30T02:50:15.246Z"
   },
   {
    "duration": 173,
    "start_time": "2023-03-30T02:50:56.781Z"
   },
   {
    "duration": 210,
    "start_time": "2023-03-30T02:51:20.502Z"
   },
   {
    "duration": 178,
    "start_time": "2023-03-30T02:52:16.880Z"
   },
   {
    "duration": 50,
    "start_time": "2023-03-30T02:57:17.726Z"
   },
   {
    "duration": 6,
    "start_time": "2023-03-30T03:00:43.323Z"
   },
   {
    "duration": 201,
    "start_time": "2023-03-30T03:01:01.140Z"
   },
   {
    "duration": 179,
    "start_time": "2023-03-30T03:01:06.861Z"
   },
   {
    "duration": 183,
    "start_time": "2023-03-30T03:01:11.821Z"
   },
   {
    "duration": 181,
    "start_time": "2023-03-30T03:01:19.973Z"
   },
   {
    "duration": 176,
    "start_time": "2023-03-30T03:02:26.555Z"
   },
   {
    "duration": 277,
    "start_time": "2023-03-30T03:02:46.756Z"
   },
   {
    "duration": 180,
    "start_time": "2023-03-30T03:03:08.299Z"
   },
   {
    "duration": 172,
    "start_time": "2023-03-30T03:03:13.138Z"
   },
   {
    "duration": 176,
    "start_time": "2023-03-30T03:03:26.443Z"
   },
   {
    "duration": 172,
    "start_time": "2023-03-30T03:03:32.475Z"
   },
   {
    "duration": 182,
    "start_time": "2023-03-30T03:03:42.627Z"
   },
   {
    "duration": 199,
    "start_time": "2023-03-30T03:04:33.466Z"
   },
   {
    "duration": 187,
    "start_time": "2023-03-30T03:04:43.724Z"
   },
   {
    "duration": 251,
    "start_time": "2023-03-30T03:06:40.338Z"
   },
   {
    "duration": 170,
    "start_time": "2023-03-30T03:27:13.200Z"
   },
   {
    "duration": 195,
    "start_time": "2023-03-30T03:28:03.733Z"
   },
   {
    "duration": 183,
    "start_time": "2023-03-30T03:28:12.539Z"
   },
   {
    "duration": 278,
    "start_time": "2023-03-30T03:28:34.229Z"
   },
   {
    "duration": 3,
    "start_time": "2023-03-30T03:31:41.921Z"
   },
   {
    "duration": 3,
    "start_time": "2023-03-30T03:31:49.457Z"
   },
   {
    "duration": 118,
    "start_time": "2023-03-30T03:32:12.019Z"
   },
   {
    "duration": 3,
    "start_time": "2023-03-30T03:32:28.630Z"
   },
   {
    "duration": 30,
    "start_time": "2023-03-30T03:32:28.642Z"
   },
   {
    "duration": 8,
    "start_time": "2023-03-30T03:32:28.674Z"
   },
   {
    "duration": 28,
    "start_time": "2023-03-30T03:32:28.683Z"
   },
   {
    "duration": 18,
    "start_time": "2023-03-30T03:32:28.713Z"
   },
   {
    "duration": 66,
    "start_time": "2023-03-30T03:32:28.733Z"
   },
   {
    "duration": 12,
    "start_time": "2023-03-30T03:32:28.802Z"
   },
   {
    "duration": 32,
    "start_time": "2023-03-30T03:32:28.815Z"
   },
   {
    "duration": 10,
    "start_time": "2023-03-30T03:32:28.848Z"
   },
   {
    "duration": 22,
    "start_time": "2023-03-30T03:32:28.860Z"
   },
   {
    "duration": 35,
    "start_time": "2023-03-30T03:32:28.885Z"
   },
   {
    "duration": 19,
    "start_time": "2023-03-30T03:32:28.922Z"
   },
   {
    "duration": 24,
    "start_time": "2023-03-30T03:32:28.942Z"
   },
   {
    "duration": 6,
    "start_time": "2023-03-30T03:32:28.967Z"
   },
   {
    "duration": 34,
    "start_time": "2023-03-30T03:32:28.975Z"
   },
   {
    "duration": 8,
    "start_time": "2023-03-30T03:32:29.011Z"
   },
   {
    "duration": 8,
    "start_time": "2023-03-30T03:32:29.020Z"
   },
   {
    "duration": 10,
    "start_time": "2023-03-30T03:32:29.030Z"
   },
   {
    "duration": 16,
    "start_time": "2023-03-30T03:32:29.041Z"
   },
   {
    "duration": 8,
    "start_time": "2023-03-30T03:32:29.059Z"
   },
   {
    "duration": 4,
    "start_time": "2023-03-30T03:32:29.069Z"
   },
   {
    "duration": 27,
    "start_time": "2023-03-30T03:32:29.074Z"
   },
   {
    "duration": 6,
    "start_time": "2023-03-30T03:32:29.103Z"
   },
   {
    "duration": 191,
    "start_time": "2023-03-30T03:32:29.110Z"
   },
   {
    "duration": 139,
    "start_time": "2023-03-30T03:32:29.303Z"
   },
   {
    "duration": 12,
    "start_time": "2023-03-30T03:32:29.444Z"
   },
   {
    "duration": 255,
    "start_time": "2023-03-30T03:32:29.458Z"
   },
   {
    "duration": 12,
    "start_time": "2023-03-30T03:32:29.715Z"
   },
   {
    "duration": 270,
    "start_time": "2023-03-30T03:32:29.730Z"
   },
   {
    "duration": 348,
    "start_time": "2023-03-30T03:32:30.002Z"
   },
   {
    "duration": 305,
    "start_time": "2023-03-30T03:32:30.353Z"
   },
   {
    "duration": 406,
    "start_time": "2023-03-30T03:32:30.661Z"
   },
   {
    "duration": 28,
    "start_time": "2023-03-30T03:32:31.070Z"
   },
   {
    "duration": 234,
    "start_time": "2023-03-30T03:32:31.100Z"
   },
   {
    "duration": 193,
    "start_time": "2023-03-30T03:32:31.336Z"
   },
   {
    "duration": 5,
    "start_time": "2023-03-30T03:32:31.531Z"
   },
   {
    "duration": 196,
    "start_time": "2023-03-30T03:32:31.537Z"
   },
   {
    "duration": 195,
    "start_time": "2023-03-30T03:32:31.734Z"
   },
   {
    "duration": 5,
    "start_time": "2023-03-30T03:32:31.931Z"
   },
   {
    "duration": 15,
    "start_time": "2023-03-30T03:32:31.938Z"
   },
   {
    "duration": 207,
    "start_time": "2023-03-30T03:32:31.955Z"
   },
   {
    "duration": 145,
    "start_time": "2023-03-30T03:32:32.164Z"
   },
   {
    "duration": 31,
    "start_time": "2023-03-30T03:32:32.311Z"
   },
   {
    "duration": 165,
    "start_time": "2023-03-30T03:32:32.344Z"
   },
   {
    "duration": 31,
    "start_time": "2023-03-30T03:32:32.511Z"
   },
   {
    "duration": 11,
    "start_time": "2023-03-30T03:32:32.544Z"
   },
   {
    "duration": 42,
    "start_time": "2023-03-30T03:32:32.557Z"
   },
   {
    "duration": 0,
    "start_time": "2023-03-30T03:32:32.601Z"
   },
   {
    "duration": 0,
    "start_time": "2023-03-30T03:32:32.602Z"
   },
   {
    "duration": 0,
    "start_time": "2023-03-30T03:32:32.604Z"
   },
   {
    "duration": 136,
    "start_time": "2023-03-30T03:32:57.923Z"
   },
   {
    "duration": 11,
    "start_time": "2023-03-30T03:33:12.512Z"
   },
   {
    "duration": 5,
    "start_time": "2023-03-30T03:33:36.473Z"
   },
   {
    "duration": 9,
    "start_time": "2023-03-30T03:34:43.848Z"
   },
   {
    "duration": 4,
    "start_time": "2023-03-30T03:34:48.346Z"
   },
   {
    "duration": 9,
    "start_time": "2023-03-30T03:35:48.713Z"
   },
   {
    "duration": 4,
    "start_time": "2023-03-30T03:35:52.112Z"
   },
   {
    "duration": 3,
    "start_time": "2023-03-30T03:35:53.061Z"
   },
   {
    "duration": 48,
    "start_time": "2023-03-30T03:37:03.514Z"
   },
   {
    "duration": 3,
    "start_time": "2023-03-30T03:42:32.900Z"
   },
   {
    "duration": 52,
    "start_time": "2023-03-30T03:42:32.905Z"
   },
   {
    "duration": 8,
    "start_time": "2023-03-30T03:42:32.959Z"
   },
   {
    "duration": 39,
    "start_time": "2023-03-30T03:42:32.969Z"
   },
   {
    "duration": 13,
    "start_time": "2023-03-30T03:42:33.010Z"
   },
   {
    "duration": 51,
    "start_time": "2023-03-30T03:42:33.025Z"
   },
   {
    "duration": 8,
    "start_time": "2023-03-30T03:42:33.077Z"
   },
   {
    "duration": 21,
    "start_time": "2023-03-30T03:42:33.086Z"
   },
   {
    "duration": 10,
    "start_time": "2023-03-30T03:42:33.109Z"
   },
   {
    "duration": 5,
    "start_time": "2023-03-30T03:42:33.121Z"
   },
   {
    "duration": 12,
    "start_time": "2023-03-30T03:42:33.129Z"
   },
   {
    "duration": 8,
    "start_time": "2023-03-30T03:42:33.142Z"
   },
   {
    "duration": 22,
    "start_time": "2023-03-30T03:42:33.152Z"
   },
   {
    "duration": 26,
    "start_time": "2023-03-30T03:42:33.175Z"
   },
   {
    "duration": 22,
    "start_time": "2023-03-30T03:42:33.528Z"
   },
   {
    "duration": 8,
    "start_time": "2023-03-30T03:42:33.552Z"
   },
   {
    "duration": 22,
    "start_time": "2023-03-30T03:42:33.561Z"
   },
   {
    "duration": 23,
    "start_time": "2023-03-30T03:42:33.586Z"
   },
   {
    "duration": 18,
    "start_time": "2023-03-30T03:42:33.611Z"
   },
   {
    "duration": 9,
    "start_time": "2023-03-30T03:42:33.631Z"
   },
   {
    "duration": 8,
    "start_time": "2023-03-30T03:42:33.642Z"
   },
   {
    "duration": 14,
    "start_time": "2023-03-30T03:42:33.652Z"
   },
   {
    "duration": 5,
    "start_time": "2023-03-30T03:42:33.667Z"
   },
   {
    "duration": 177,
    "start_time": "2023-03-30T03:42:33.673Z"
   },
   {
    "duration": 146,
    "start_time": "2023-03-30T03:42:33.852Z"
   },
   {
    "duration": 15,
    "start_time": "2023-03-30T03:42:33.999Z"
   },
   {
    "duration": 235,
    "start_time": "2023-03-30T03:42:34.015Z"
   },
   {
    "duration": 11,
    "start_time": "2023-03-30T03:42:34.254Z"
   },
   {
    "duration": 246,
    "start_time": "2023-03-30T03:42:34.267Z"
   },
   {
    "duration": 312,
    "start_time": "2023-03-30T03:42:34.514Z"
   },
   {
    "duration": 244,
    "start_time": "2023-03-30T03:42:34.827Z"
   },
   {
    "duration": 394,
    "start_time": "2023-03-30T03:42:35.073Z"
   },
   {
    "duration": 31,
    "start_time": "2023-03-30T03:42:35.469Z"
   },
   {
    "duration": 177,
    "start_time": "2023-03-30T03:42:35.502Z"
   },
   {
    "duration": 180,
    "start_time": "2023-03-30T03:42:35.680Z"
   },
   {
    "duration": 5,
    "start_time": "2023-03-30T03:42:35.862Z"
   },
   {
    "duration": 211,
    "start_time": "2023-03-30T03:42:35.868Z"
   },
   {
    "duration": 197,
    "start_time": "2023-03-30T03:42:36.081Z"
   },
   {
    "duration": 3,
    "start_time": "2023-03-30T03:42:36.280Z"
   },
   {
    "duration": 24,
    "start_time": "2023-03-30T03:42:36.284Z"
   },
   {
    "duration": 97,
    "start_time": "2023-03-30T03:42:36.310Z"
   },
   {
    "duration": 134,
    "start_time": "2023-03-30T03:42:36.409Z"
   },
   {
    "duration": 29,
    "start_time": "2023-03-30T03:42:36.545Z"
   },
   {
    "duration": 157,
    "start_time": "2023-03-30T03:42:36.588Z"
   },
   {
    "duration": 26,
    "start_time": "2023-03-30T03:42:36.747Z"
   },
   {
    "duration": 25,
    "start_time": "2023-03-30T03:42:36.774Z"
   },
   {
    "duration": 14,
    "start_time": "2023-03-30T03:42:36.802Z"
   },
   {
    "duration": 7,
    "start_time": "2023-03-30T03:42:36.818Z"
   },
   {
    "duration": 28,
    "start_time": "2023-03-30T03:42:36.826Z"
   },
   {
    "duration": 42,
    "start_time": "2023-03-30T03:42:36.855Z"
   },
   {
    "duration": 20,
    "start_time": "2023-03-30T03:54:30.711Z"
   },
   {
    "duration": 19,
    "start_time": "2023-03-30T03:57:35.717Z"
   },
   {
    "duration": 20,
    "start_time": "2023-03-30T03:58:19.158Z"
   },
   {
    "duration": 27,
    "start_time": "2023-03-30T03:58:53.701Z"
   },
   {
    "duration": 30,
    "start_time": "2023-03-30T03:59:13.396Z"
   },
   {
    "duration": 3,
    "start_time": "2023-03-30T04:01:04.824Z"
   },
   {
    "duration": 39,
    "start_time": "2023-03-30T04:01:04.832Z"
   },
   {
    "duration": 37,
    "start_time": "2023-03-30T04:01:04.873Z"
   },
   {
    "duration": 61,
    "start_time": "2023-03-30T04:01:04.912Z"
   },
   {
    "duration": 27,
    "start_time": "2023-03-30T04:01:04.975Z"
   },
   {
    "duration": 58,
    "start_time": "2023-03-30T04:01:05.007Z"
   },
   {
    "duration": 10,
    "start_time": "2023-03-30T04:01:05.067Z"
   },
   {
    "duration": 25,
    "start_time": "2023-03-30T04:01:05.079Z"
   },
   {
    "duration": 17,
    "start_time": "2023-03-30T04:01:05.106Z"
   },
   {
    "duration": 9,
    "start_time": "2023-03-30T04:01:05.126Z"
   },
   {
    "duration": 17,
    "start_time": "2023-03-30T04:01:05.139Z"
   },
   {
    "duration": 18,
    "start_time": "2023-03-30T04:01:05.157Z"
   },
   {
    "duration": 26,
    "start_time": "2023-03-30T04:01:05.178Z"
   },
   {
    "duration": 7,
    "start_time": "2023-03-30T04:01:05.207Z"
   },
   {
    "duration": 35,
    "start_time": "2023-03-30T04:01:05.215Z"
   },
   {
    "duration": 8,
    "start_time": "2023-03-30T04:01:05.252Z"
   },
   {
    "duration": 9,
    "start_time": "2023-03-30T04:01:05.262Z"
   },
   {
    "duration": 30,
    "start_time": "2023-03-30T04:01:05.272Z"
   },
   {
    "duration": 15,
    "start_time": "2023-03-30T04:01:05.305Z"
   },
   {
    "duration": 12,
    "start_time": "2023-03-30T04:01:05.321Z"
   },
   {
    "duration": 22,
    "start_time": "2023-03-30T04:01:05.334Z"
   },
   {
    "duration": 26,
    "start_time": "2023-03-30T04:01:05.357Z"
   },
   {
    "duration": 23,
    "start_time": "2023-03-30T04:01:05.385Z"
   },
   {
    "duration": 175,
    "start_time": "2023-03-30T04:01:05.410Z"
   },
   {
    "duration": 134,
    "start_time": "2023-03-30T04:01:05.587Z"
   },
   {
    "duration": 12,
    "start_time": "2023-03-30T04:01:05.723Z"
   },
   {
    "duration": 338,
    "start_time": "2023-03-30T04:01:05.736Z"
   },
   {
    "duration": 30,
    "start_time": "2023-03-30T04:01:06.076Z"
   },
   {
    "duration": 240,
    "start_time": "2023-03-30T04:01:06.110Z"
   },
   {
    "duration": 364,
    "start_time": "2023-03-30T04:01:06.351Z"
   },
   {
    "duration": 239,
    "start_time": "2023-03-30T04:01:06.717Z"
   },
   {
    "duration": 386,
    "start_time": "2023-03-30T04:01:06.957Z"
   },
   {
    "duration": 14,
    "start_time": "2023-03-30T04:01:07.344Z"
   },
   {
    "duration": 193,
    "start_time": "2023-03-30T04:01:07.360Z"
   },
   {
    "duration": 196,
    "start_time": "2023-03-30T04:01:07.555Z"
   },
   {
    "duration": 6,
    "start_time": "2023-03-30T04:01:07.752Z"
   },
   {
    "duration": 187,
    "start_time": "2023-03-30T04:01:07.760Z"
   },
   {
    "duration": 195,
    "start_time": "2023-03-30T04:01:07.948Z"
   },
   {
    "duration": 4,
    "start_time": "2023-03-30T04:01:08.144Z"
   },
   {
    "duration": 13,
    "start_time": "2023-03-30T04:01:08.149Z"
   },
   {
    "duration": 8,
    "start_time": "2023-03-30T04:01:08.163Z"
   },
   {
    "duration": 6,
    "start_time": "2023-03-30T04:01:08.172Z"
   },
   {
    "duration": 48,
    "start_time": "2023-03-30T04:01:08.189Z"
   },
   {
    "duration": 24,
    "start_time": "2023-03-30T04:01:08.238Z"
   },
   {
    "duration": 158,
    "start_time": "2023-03-30T04:01:08.264Z"
   },
   {
    "duration": 27,
    "start_time": "2023-03-30T04:01:08.423Z"
   },
   {
    "duration": 11,
    "start_time": "2023-03-30T04:01:08.452Z"
   },
   {
    "duration": 40,
    "start_time": "2023-03-30T04:01:08.464Z"
   },
   {
    "duration": 5,
    "start_time": "2023-03-30T04:01:08.506Z"
   },
   {
    "duration": 33,
    "start_time": "2023-03-30T04:01:08.512Z"
   },
   {
    "duration": 14,
    "start_time": "2023-03-30T04:01:08.547Z"
   },
   {
    "duration": 2,
    "start_time": "2023-03-30T04:01:54.428Z"
   },
   {
    "duration": 30,
    "start_time": "2023-03-30T04:08:13.568Z"
   },
   {
    "duration": 4,
    "start_time": "2023-03-30T04:09:00.813Z"
   },
   {
    "duration": 46,
    "start_time": "2023-03-30T04:09:00.823Z"
   },
   {
    "duration": 9,
    "start_time": "2023-03-30T04:09:00.872Z"
   },
   {
    "duration": 45,
    "start_time": "2023-03-30T04:09:00.883Z"
   },
   {
    "duration": 56,
    "start_time": "2023-03-30T04:09:00.931Z"
   },
   {
    "duration": 104,
    "start_time": "2023-03-30T04:09:00.989Z"
   },
   {
    "duration": 9,
    "start_time": "2023-03-30T04:09:01.095Z"
   },
   {
    "duration": 34,
    "start_time": "2023-03-30T04:09:01.106Z"
   },
   {
    "duration": 54,
    "start_time": "2023-03-30T04:09:01.142Z"
   },
   {
    "duration": 38,
    "start_time": "2023-03-30T04:09:01.198Z"
   },
   {
    "duration": 84,
    "start_time": "2023-03-30T04:09:01.239Z"
   },
   {
    "duration": 57,
    "start_time": "2023-03-30T04:09:01.325Z"
   },
   {
    "duration": 57,
    "start_time": "2023-03-30T04:09:01.384Z"
   },
   {
    "duration": 26,
    "start_time": "2023-03-30T04:09:01.443Z"
   },
   {
    "duration": 58,
    "start_time": "2023-03-30T04:09:01.471Z"
   },
   {
    "duration": 42,
    "start_time": "2023-03-30T04:09:01.531Z"
   },
   {
    "duration": 77,
    "start_time": "2023-03-30T04:09:01.576Z"
   },
   {
    "duration": 51,
    "start_time": "2023-03-30T04:09:01.655Z"
   },
   {
    "duration": 54,
    "start_time": "2023-03-30T04:09:01.707Z"
   },
   {
    "duration": 44,
    "start_time": "2023-03-30T04:09:01.762Z"
   },
   {
    "duration": 47,
    "start_time": "2023-03-30T04:09:01.808Z"
   },
   {
    "duration": 57,
    "start_time": "2023-03-30T04:09:01.856Z"
   },
   {
    "duration": 21,
    "start_time": "2023-03-30T04:09:01.915Z"
   },
   {
    "duration": 202,
    "start_time": "2023-03-30T04:09:01.938Z"
   },
   {
    "duration": 126,
    "start_time": "2023-03-30T04:09:02.142Z"
   },
   {
    "duration": 32,
    "start_time": "2023-03-30T04:09:02.270Z"
   },
   {
    "duration": 235,
    "start_time": "2023-03-30T04:09:02.304Z"
   },
   {
    "duration": 12,
    "start_time": "2023-03-30T04:09:02.541Z"
   },
   {
    "duration": 374,
    "start_time": "2023-03-30T04:09:02.558Z"
   },
   {
    "duration": 302,
    "start_time": "2023-03-30T04:09:02.934Z"
   },
   {
    "duration": 266,
    "start_time": "2023-03-30T04:09:03.238Z"
   },
   {
    "duration": 354,
    "start_time": "2023-03-30T04:09:03.507Z"
   },
   {
    "duration": 36,
    "start_time": "2023-03-30T04:09:03.863Z"
   },
   {
    "duration": 177,
    "start_time": "2023-03-30T04:09:03.901Z"
   },
   {
    "duration": 183,
    "start_time": "2023-03-30T04:09:04.080Z"
   },
   {
    "duration": 6,
    "start_time": "2023-03-30T04:09:04.266Z"
   },
   {
    "duration": 177,
    "start_time": "2023-03-30T04:09:04.274Z"
   },
   {
    "duration": 197,
    "start_time": "2023-03-30T04:09:04.452Z"
   },
   {
    "duration": 3,
    "start_time": "2023-03-30T04:09:04.651Z"
   },
   {
    "duration": 10,
    "start_time": "2023-03-30T04:09:04.656Z"
   },
   {
    "duration": 6,
    "start_time": "2023-03-30T04:09:04.668Z"
   },
   {
    "duration": 29,
    "start_time": "2023-03-30T04:09:04.676Z"
   },
   {
    "duration": 11,
    "start_time": "2023-03-30T04:09:04.707Z"
   },
   {
    "duration": 20,
    "start_time": "2023-03-30T04:09:04.719Z"
   },
   {
    "duration": 156,
    "start_time": "2023-03-30T04:09:04.741Z"
   },
   {
    "duration": 29,
    "start_time": "2023-03-30T04:09:04.903Z"
   },
   {
    "duration": 11,
    "start_time": "2023-03-30T04:09:04.934Z"
   },
   {
    "duration": 12,
    "start_time": "2023-03-30T04:09:04.947Z"
   },
   {
    "duration": 11,
    "start_time": "2023-03-30T04:09:04.961Z"
   },
   {
    "duration": 48,
    "start_time": "2023-03-30T04:09:04.973Z"
   },
   {
    "duration": 22,
    "start_time": "2023-03-30T04:09:05.023Z"
   },
   {
    "duration": 27,
    "start_time": "2023-03-30T04:09:41.910Z"
   },
   {
    "duration": 27,
    "start_time": "2023-03-30T04:09:53.102Z"
   },
   {
    "duration": 60,
    "start_time": "2023-03-30T04:11:26.099Z"
   },
   {
    "duration": 81,
    "start_time": "2023-03-30T04:11:39.852Z"
   },
   {
    "duration": 18,
    "start_time": "2023-03-30T04:11:49.383Z"
   },
   {
    "duration": 39,
    "start_time": "2023-03-30T04:12:51.375Z"
   },
   {
    "duration": 13,
    "start_time": "2023-03-30T04:13:28.648Z"
   },
   {
    "duration": 11,
    "start_time": "2023-03-30T04:15:16.306Z"
   },
   {
    "duration": 11,
    "start_time": "2023-03-30T04:15:27.533Z"
   },
   {
    "duration": 3,
    "start_time": "2023-03-30T04:15:29.322Z"
   },
   {
    "duration": 4,
    "start_time": "2023-03-30T04:16:30.543Z"
   },
   {
    "duration": 5,
    "start_time": "2023-03-30T04:16:34.323Z"
   },
   {
    "duration": 4,
    "start_time": "2023-03-30T04:17:01.201Z"
   },
   {
    "duration": 9,
    "start_time": "2023-03-30T04:17:06.877Z"
   },
   {
    "duration": 5,
    "start_time": "2023-03-30T04:17:09.814Z"
   },
   {
    "duration": 2,
    "start_time": "2023-03-30T04:17:10.880Z"
   },
   {
    "duration": 8,
    "start_time": "2023-03-30T04:17:26.699Z"
   },
   {
    "duration": 6,
    "start_time": "2023-03-30T04:17:28.907Z"
   },
   {
    "duration": 3,
    "start_time": "2023-03-30T04:17:29.802Z"
   },
   {
    "duration": 14,
    "start_time": "2023-03-30T04:18:06.525Z"
   },
   {
    "duration": 4,
    "start_time": "2023-03-30T04:18:09.119Z"
   },
   {
    "duration": 66,
    "start_time": "2023-03-30T04:19:01.773Z"
   },
   {
    "duration": 4,
    "start_time": "2023-03-30T04:21:09.187Z"
   },
   {
    "duration": 4,
    "start_time": "2023-03-30T04:22:55.362Z"
   },
   {
    "duration": 6,
    "start_time": "2023-03-30T04:23:09.386Z"
   },
   {
    "duration": 50,
    "start_time": "2023-03-30T04:23:16.731Z"
   },
   {
    "duration": 4,
    "start_time": "2023-03-30T04:23:20.081Z"
   },
   {
    "duration": 8,
    "start_time": "2023-03-30T04:23:23.387Z"
   },
   {
    "duration": 5,
    "start_time": "2023-03-30T04:23:26.409Z"
   },
   {
    "duration": 5,
    "start_time": "2023-03-30T04:23:31.041Z"
   },
   {
    "duration": 3,
    "start_time": "2023-03-30T04:26:20.512Z"
   },
   {
    "duration": 3,
    "start_time": "2023-03-30T04:26:22.737Z"
   },
   {
    "duration": 54,
    "start_time": "2023-03-30T04:26:22.742Z"
   },
   {
    "duration": 13,
    "start_time": "2023-03-30T04:26:22.798Z"
   },
   {
    "duration": 23,
    "start_time": "2023-03-30T04:26:22.812Z"
   },
   {
    "duration": 24,
    "start_time": "2023-03-30T04:26:22.837Z"
   },
   {
    "duration": 56,
    "start_time": "2023-03-30T04:26:22.863Z"
   },
   {
    "duration": 7,
    "start_time": "2023-03-30T04:26:22.921Z"
   },
   {
    "duration": 14,
    "start_time": "2023-03-30T04:26:22.929Z"
   },
   {
    "duration": 11,
    "start_time": "2023-03-30T04:26:22.944Z"
   },
   {
    "duration": 11,
    "start_time": "2023-03-30T04:26:22.956Z"
   },
   {
    "duration": 23,
    "start_time": "2023-03-30T04:26:22.970Z"
   },
   {
    "duration": 12,
    "start_time": "2023-03-30T04:26:23.000Z"
   },
   {
    "duration": 34,
    "start_time": "2023-03-30T04:26:23.013Z"
   },
   {
    "duration": 6,
    "start_time": "2023-03-30T04:26:23.048Z"
   },
   {
    "duration": 28,
    "start_time": "2023-03-30T04:26:23.056Z"
   },
   {
    "duration": 15,
    "start_time": "2023-03-30T04:26:23.086Z"
   },
   {
    "duration": 9,
    "start_time": "2023-03-30T04:26:23.104Z"
   },
   {
    "duration": 9,
    "start_time": "2023-03-30T04:26:23.115Z"
   },
   {
    "duration": 13,
    "start_time": "2023-03-30T04:26:23.125Z"
   },
   {
    "duration": 13,
    "start_time": "2023-03-30T04:26:23.140Z"
   },
   {
    "duration": 5,
    "start_time": "2023-03-30T04:26:23.155Z"
   },
   {
    "duration": 33,
    "start_time": "2023-03-30T04:26:23.162Z"
   },
   {
    "duration": 6,
    "start_time": "2023-03-30T04:26:23.203Z"
   },
   {
    "duration": 171,
    "start_time": "2023-03-30T04:26:23.211Z"
   },
   {
    "duration": 147,
    "start_time": "2023-03-30T04:26:23.384Z"
   },
   {
    "duration": 12,
    "start_time": "2023-03-30T04:26:23.533Z"
   },
   {
    "duration": 222,
    "start_time": "2023-03-30T04:26:23.546Z"
   },
   {
    "duration": 32,
    "start_time": "2023-03-30T04:26:23.771Z"
   },
   {
    "duration": 237,
    "start_time": "2023-03-30T04:26:23.809Z"
   },
   {
    "duration": 407,
    "start_time": "2023-03-30T04:26:24.048Z"
   },
   {
    "duration": 259,
    "start_time": "2023-03-30T04:26:24.457Z"
   },
   {
    "duration": 361,
    "start_time": "2023-03-30T04:26:24.718Z"
   },
   {
    "duration": 29,
    "start_time": "2023-03-30T04:26:25.081Z"
   },
   {
    "duration": 186,
    "start_time": "2023-03-30T04:26:25.112Z"
   },
   {
    "duration": 173,
    "start_time": "2023-03-30T04:26:25.301Z"
   },
   {
    "duration": 13,
    "start_time": "2023-03-30T04:26:25.476Z"
   },
   {
    "duration": 26,
    "start_time": "2023-03-30T04:26:25.491Z"
   },
   {
    "duration": 186,
    "start_time": "2023-03-30T04:26:25.519Z"
   },
   {
    "duration": 176,
    "start_time": "2023-03-30T04:26:25.707Z"
   },
   {
    "duration": 6,
    "start_time": "2023-03-30T04:26:25.897Z"
   },
   {
    "duration": 21,
    "start_time": "2023-03-30T04:26:25.905Z"
   },
   {
    "duration": 8,
    "start_time": "2023-03-30T04:26:25.928Z"
   },
   {
    "duration": 16,
    "start_time": "2023-03-30T04:26:25.938Z"
   },
   {
    "duration": 10,
    "start_time": "2023-03-30T04:26:25.956Z"
   },
   {
    "duration": 34,
    "start_time": "2023-03-30T04:26:25.968Z"
   },
   {
    "duration": 140,
    "start_time": "2023-03-30T04:26:26.004Z"
   },
   {
    "duration": 30,
    "start_time": "2023-03-30T04:26:26.145Z"
   },
   {
    "duration": 31,
    "start_time": "2023-03-30T04:26:26.176Z"
   },
   {
    "duration": 11,
    "start_time": "2023-03-30T04:26:26.209Z"
   },
   {
    "duration": 5,
    "start_time": "2023-03-30T04:26:26.222Z"
   },
   {
    "duration": 29,
    "start_time": "2023-03-30T04:26:26.229Z"
   },
   {
    "duration": 42,
    "start_time": "2023-03-30T04:26:26.259Z"
   },
   {
    "duration": 71,
    "start_time": "2023-03-30T04:28:12.400Z"
   },
   {
    "duration": 1118,
    "start_time": "2023-03-30T04:38:29.485Z"
   },
   {
    "duration": 110,
    "start_time": "2023-03-30T04:38:30.607Z"
   },
   {
    "duration": 9,
    "start_time": "2023-03-30T04:38:30.720Z"
   },
   {
    "duration": 88,
    "start_time": "2023-03-30T04:38:30.732Z"
   },
   {
    "duration": 37,
    "start_time": "2023-03-30T04:38:30.821Z"
   },
   {
    "duration": 93,
    "start_time": "2023-03-30T04:38:30.860Z"
   },
   {
    "duration": 9,
    "start_time": "2023-03-30T04:38:30.954Z"
   },
   {
    "duration": 53,
    "start_time": "2023-03-30T04:38:30.964Z"
   },
   {
    "duration": 89,
    "start_time": "2023-03-30T04:38:31.019Z"
   },
   {
    "duration": 72,
    "start_time": "2023-03-30T04:38:31.111Z"
   },
   {
    "duration": 83,
    "start_time": "2023-03-30T04:38:31.185Z"
   },
   {
    "duration": 53,
    "start_time": "2023-03-30T04:38:31.270Z"
   },
   {
    "duration": 61,
    "start_time": "2023-03-30T04:38:31.324Z"
   },
   {
    "duration": 55,
    "start_time": "2023-03-30T04:38:31.387Z"
   },
   {
    "duration": 63,
    "start_time": "2023-03-30T04:38:31.444Z"
   },
   {
    "duration": 21,
    "start_time": "2023-03-30T04:38:31.509Z"
   },
   {
    "duration": 25,
    "start_time": "2023-03-30T04:38:31.531Z"
   },
   {
    "duration": 49,
    "start_time": "2023-03-30T04:38:31.558Z"
   },
   {
    "duration": 25,
    "start_time": "2023-03-30T04:38:31.609Z"
   },
   {
    "duration": 26,
    "start_time": "2023-03-30T04:38:31.636Z"
   },
   {
    "duration": 46,
    "start_time": "2023-03-30T04:38:31.664Z"
   },
   {
    "duration": 34,
    "start_time": "2023-03-30T04:38:31.712Z"
   },
   {
    "duration": 21,
    "start_time": "2023-03-30T04:38:31.749Z"
   },
   {
    "duration": 174,
    "start_time": "2023-03-30T04:38:31.772Z"
   },
   {
    "duration": 128,
    "start_time": "2023-03-30T04:38:31.948Z"
   },
   {
    "duration": 28,
    "start_time": "2023-03-30T04:38:32.077Z"
   },
   {
    "duration": 391,
    "start_time": "2023-03-30T04:38:32.107Z"
   },
   {
    "duration": 13,
    "start_time": "2023-03-30T04:38:32.504Z"
   },
   {
    "duration": 257,
    "start_time": "2023-03-30T04:38:32.519Z"
   },
   {
    "duration": 337,
    "start_time": "2023-03-30T04:38:32.778Z"
   },
   {
    "duration": 250,
    "start_time": "2023-03-30T04:38:33.117Z"
   },
   {
    "duration": 379,
    "start_time": "2023-03-30T04:38:33.369Z"
   },
   {
    "duration": 16,
    "start_time": "2023-03-30T04:38:33.749Z"
   },
   {
    "duration": 194,
    "start_time": "2023-03-30T04:38:33.767Z"
   },
   {
    "duration": 195,
    "start_time": "2023-03-30T04:38:33.963Z"
   },
   {
    "duration": 6,
    "start_time": "2023-03-30T04:38:34.159Z"
   },
   {
    "duration": 7,
    "start_time": "2023-03-30T04:38:34.167Z"
   },
   {
    "duration": 192,
    "start_time": "2023-03-30T04:38:34.187Z"
   },
   {
    "duration": 202,
    "start_time": "2023-03-30T04:38:34.380Z"
   },
   {
    "duration": 13,
    "start_time": "2023-03-30T04:38:34.589Z"
   },
   {
    "duration": 7,
    "start_time": "2023-03-30T04:38:34.604Z"
   },
   {
    "duration": 8,
    "start_time": "2023-03-30T04:38:34.613Z"
   },
   {
    "duration": 11,
    "start_time": "2023-03-30T04:38:34.623Z"
   },
   {
    "duration": 12,
    "start_time": "2023-03-30T04:38:34.636Z"
   },
   {
    "duration": 33,
    "start_time": "2023-03-30T04:38:34.650Z"
   },
   {
    "duration": 177,
    "start_time": "2023-03-30T04:38:34.684Z"
   },
   {
    "duration": 109,
    "start_time": "2023-03-30T04:38:34.863Z"
   },
   {
    "duration": 24,
    "start_time": "2023-03-30T04:38:34.974Z"
   },
   {
    "duration": 11,
    "start_time": "2023-03-30T04:38:35.002Z"
   },
   {
    "duration": 10,
    "start_time": "2023-03-30T04:38:35.015Z"
   },
   {
    "duration": 34,
    "start_time": "2023-03-30T04:38:35.029Z"
   },
   {
    "duration": 34,
    "start_time": "2023-03-30T04:38:35.065Z"
   },
   {
    "duration": 1309,
    "start_time": "2023-03-30T11:22:47.522Z"
   },
   {
    "duration": 104,
    "start_time": "2023-03-30T11:22:48.836Z"
   },
   {
    "duration": 30,
    "start_time": "2023-03-30T11:22:48.942Z"
   },
   {
    "duration": 33,
    "start_time": "2023-03-30T11:22:48.974Z"
   },
   {
    "duration": 15,
    "start_time": "2023-03-30T11:22:49.010Z"
   },
   {
    "duration": 71,
    "start_time": "2023-03-30T11:22:49.027Z"
   },
   {
    "duration": 14,
    "start_time": "2023-03-30T11:22:49.100Z"
   },
   {
    "duration": 45,
    "start_time": "2023-03-30T11:22:49.120Z"
   },
   {
    "duration": 32,
    "start_time": "2023-03-30T11:22:49.168Z"
   },
   {
    "duration": 25,
    "start_time": "2023-03-30T11:22:49.203Z"
   },
   {
    "duration": 26,
    "start_time": "2023-03-30T11:22:49.230Z"
   },
   {
    "duration": 47,
    "start_time": "2023-03-30T11:22:49.260Z"
   },
   {
    "duration": 40,
    "start_time": "2023-03-30T11:22:49.309Z"
   },
   {
    "duration": 11,
    "start_time": "2023-03-30T11:22:49.353Z"
   },
   {
    "duration": 36,
    "start_time": "2023-03-30T11:22:49.367Z"
   },
   {
    "duration": 12,
    "start_time": "2023-03-30T11:22:49.406Z"
   },
   {
    "duration": 27,
    "start_time": "2023-03-30T11:22:49.419Z"
   },
   {
    "duration": 26,
    "start_time": "2023-03-30T11:22:49.461Z"
   },
   {
    "duration": 22,
    "start_time": "2023-03-30T11:22:49.489Z"
   },
   {
    "duration": 27,
    "start_time": "2023-03-30T11:22:49.513Z"
   },
   {
    "duration": 19,
    "start_time": "2023-03-30T11:22:49.542Z"
   },
   {
    "duration": 62,
    "start_time": "2023-03-30T11:22:49.563Z"
   },
   {
    "duration": 28,
    "start_time": "2023-03-30T11:22:49.627Z"
   },
   {
    "duration": 215,
    "start_time": "2023-03-30T11:22:49.657Z"
   },
   {
    "duration": 174,
    "start_time": "2023-03-30T11:22:49.875Z"
   },
   {
    "duration": 16,
    "start_time": "2023-03-30T11:22:50.052Z"
   },
   {
    "duration": 496,
    "start_time": "2023-03-30T11:22:50.070Z"
   },
   {
    "duration": 24,
    "start_time": "2023-03-30T11:22:50.568Z"
   },
   {
    "duration": 370,
    "start_time": "2023-03-30T11:22:50.595Z"
   },
   {
    "duration": 425,
    "start_time": "2023-03-30T11:22:50.967Z"
   },
   {
    "duration": 334,
    "start_time": "2023-03-30T11:22:51.395Z"
   },
   {
    "duration": 440,
    "start_time": "2023-03-30T11:22:51.731Z"
   },
   {
    "duration": 29,
    "start_time": "2023-03-30T11:22:52.174Z"
   },
   {
    "duration": 264,
    "start_time": "2023-03-30T11:22:52.206Z"
   },
   {
    "duration": 257,
    "start_time": "2023-03-30T11:22:52.473Z"
   },
   {
    "duration": 7,
    "start_time": "2023-03-30T11:22:52.733Z"
   },
   {
    "duration": 16,
    "start_time": "2023-03-30T11:22:52.742Z"
   },
   {
    "duration": 207,
    "start_time": "2023-03-30T11:22:52.761Z"
   },
   {
    "duration": 203,
    "start_time": "2023-03-30T11:22:52.971Z"
   },
   {
    "duration": 17,
    "start_time": "2023-03-30T11:22:53.176Z"
   },
   {
    "duration": 13,
    "start_time": "2023-03-30T11:22:53.197Z"
   },
   {
    "duration": 20,
    "start_time": "2023-03-30T11:22:53.215Z"
   },
   {
    "duration": 186,
    "start_time": "2023-03-30T11:22:53.237Z"
   },
   {
    "duration": 118,
    "start_time": "2023-03-30T11:22:53.426Z"
   },
   {
    "duration": 12,
    "start_time": "2023-03-30T11:22:53.546Z"
   },
   {
    "duration": 28,
    "start_time": "2023-03-30T11:22:53.560Z"
   },
   {
    "duration": 20,
    "start_time": "2023-03-30T11:22:53.590Z"
   },
   {
    "duration": 58,
    "start_time": "2023-03-30T11:22:53.612Z"
   },
   {
    "duration": 18,
    "start_time": "2023-03-30T11:22:53.672Z"
   },
   {
    "duration": 2950,
    "start_time": "2023-05-23T00:14:15.857Z"
   },
   {
    "duration": 306,
    "start_time": "2023-05-23T00:14:18.809Z"
   },
   {
    "duration": 79,
    "start_time": "2023-05-23T00:14:19.117Z"
   },
   {
    "duration": 14,
    "start_time": "2023-05-23T00:14:19.199Z"
   },
   {
    "duration": 15,
    "start_time": "2023-05-23T00:14:19.295Z"
   },
   {
    "duration": 192,
    "start_time": "2023-05-23T00:14:19.312Z"
   },
   {
    "duration": 90,
    "start_time": "2023-05-23T00:14:19.505Z"
   },
   {
    "duration": 3,
    "start_time": "2023-05-23T00:14:19.597Z"
   },
   {
    "duration": 11,
    "start_time": "2023-05-23T00:14:19.602Z"
   },
   {
    "duration": 81,
    "start_time": "2023-05-23T00:14:19.615Z"
   },
   {
    "duration": 98,
    "start_time": "2023-05-23T00:14:19.699Z"
   },
   {
    "duration": 9,
    "start_time": "2023-05-23T00:14:19.799Z"
   },
   {
    "duration": 104,
    "start_time": "2023-05-23T00:14:19.810Z"
   },
   {
    "duration": 7,
    "start_time": "2023-05-23T00:14:19.996Z"
   },
   {
    "duration": 194,
    "start_time": "2023-05-23T00:14:20.004Z"
   },
   {
    "duration": 9,
    "start_time": "2023-05-23T00:14:20.199Z"
   },
   {
    "duration": 87,
    "start_time": "2023-05-23T00:14:20.209Z"
   },
   {
    "duration": 7,
    "start_time": "2023-05-23T00:14:20.298Z"
   },
   {
    "duration": 97,
    "start_time": "2023-05-23T00:14:20.307Z"
   },
   {
    "duration": 92,
    "start_time": "2023-05-23T00:14:20.405Z"
   },
   {
    "duration": 97,
    "start_time": "2023-05-23T00:14:20.499Z"
   },
   {
    "duration": 306,
    "start_time": "2023-05-23T00:14:20.598Z"
   },
   {
    "duration": 5,
    "start_time": "2023-05-23T00:14:20.906Z"
   },
   {
    "duration": 814,
    "start_time": "2023-05-23T00:14:20.996Z"
   },
   {
    "duration": 700,
    "start_time": "2023-05-23T00:14:21.895Z"
   },
   {
    "duration": 100,
    "start_time": "2023-05-23T00:14:22.597Z"
   },
   {
    "duration": 2199,
    "start_time": "2023-05-23T00:14:22.699Z"
   },
   {
    "duration": 102,
    "start_time": "2023-05-23T00:14:24.902Z"
   },
   {
    "duration": 2305,
    "start_time": "2023-05-23T00:14:25.006Z"
   },
   {
    "duration": 1391,
    "start_time": "2023-05-23T00:14:27.313Z"
   },
   {
    "duration": 1911,
    "start_time": "2023-05-23T00:14:28.795Z"
   },
   {
    "duration": 2002,
    "start_time": "2023-05-23T00:14:30.797Z"
   },
   {
    "duration": 193,
    "start_time": "2023-05-23T00:14:32.802Z"
   },
   {
    "duration": 1400,
    "start_time": "2023-05-23T00:14:32.997Z"
   },
   {
    "duration": 1406,
    "start_time": "2023-05-23T00:14:34.399Z"
   },
   {
    "duration": 6,
    "start_time": "2023-05-23T00:14:35.895Z"
   },
   {
    "duration": 94,
    "start_time": "2023-05-23T00:14:35.903Z"
   },
   {
    "duration": 3693,
    "start_time": "2023-05-23T00:14:36.001Z"
   },
   {
    "duration": 1897,
    "start_time": "2023-05-23T00:14:39.698Z"
   },
   {
    "duration": 5,
    "start_time": "2023-05-23T00:14:41.598Z"
   },
   {
    "duration": 1400,
    "start_time": "2023-05-23T00:14:41.695Z"
   },
   {
    "duration": 1211,
    "start_time": "2023-05-23T00:14:43.097Z"
   },
   {
    "duration": 4386,
    "start_time": "2023-05-23T00:14:44.310Z"
   },
   {
    "duration": 1099,
    "start_time": "2023-05-23T00:14:48.699Z"
   },
   {
    "duration": 201,
    "start_time": "2023-05-23T00:14:49.800Z"
   },
   {
    "duration": 99,
    "start_time": "2023-05-23T00:14:50.003Z"
   },
   {
    "duration": 289,
    "start_time": "2023-05-23T00:14:50.107Z"
   },
   {
    "duration": 209,
    "start_time": "2023-05-23T00:14:50.398Z"
   },
   {
    "duration": 100,
    "start_time": "2023-05-23T00:14:50.609Z"
   }
  ],
  "kernelspec": {
   "display_name": "Python 3 (ipykernel)",
   "language": "python",
   "name": "python3"
  },
  "language_info": {
   "codemirror_mode": {
    "name": "ipython",
    "version": 3
   },
   "file_extension": ".py",
   "mimetype": "text/x-python",
   "name": "python",
   "nbconvert_exporter": "python",
   "pygments_lexer": "ipython3",
   "version": "3.9.5"
  },
  "toc": {
   "base_numbering": 1,
   "nav_menu": {},
   "number_sections": true,
   "sideBar": true,
   "skip_h1_title": true,
   "title_cell": "Table of Contents",
   "title_sidebar": "Contents",
   "toc_cell": false,
   "toc_position": {
    "height": "calc(100% - 180px)",
    "left": "10px",
    "top": "150px",
    "width": "402.882px"
   },
   "toc_section_display": true,
   "toc_window_display": true
  }
 },
 "nbformat": 4,
 "nbformat_minor": 2
}
