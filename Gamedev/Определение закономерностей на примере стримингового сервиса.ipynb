{
 "cells": [
  {
   "cell_type": "markdown",
   "metadata": {},
   "source": [
    "# Описание проекта\n",
    "\n",
    "Вы работаете в интернет-магазине «Стримчик», который продаёт по всему миру компьютерные игры. Из открытых источников доступны исторические данные о продажах игр, оценки пользователей и экспертов, жанры и платформы. Вам нужно выявить определяющие успешность игры закономерности. Это позволит сделать ставку на потенциально популярный продукт и спланировать рекламные кампании.\n",
    "\n",
    "Перед вами данные до 2016 года. Представим, что сейчас декабрь 2016 г., и вы планируете кампанию на 2017-й. Нужно отработать принцип работы с данными. \n",
    "\n",
    "Для этого:\n",
    "1. Изучим общую информацию;\n",
    "2. Подготовим данные;\n",
    "3. Проведём исследовательский анализ данных, проанализируем:\n",
    "- выпуск игр в разные годы;\n",
    "- изменение продаж по платформам;\n",
    "- определим актуальный период;\n",
    "- выберем потенциально прибыльные платформы;\n",
    "- определим влияние отзывов пользователей и критиков на продажи;\n",
    "- определим самые популярные жанры;\n",
    "4. Составим портрет пользователя каждого региона (самые популярные платформы, жанры, влияние рейтинга на продажи);\n",
    "5. Проверим гипотезы: \"Средние пользовательские рейтинги платформ Xbox One и PC одинаковые\" и \"Средние пользовательские рейтинги жанров Action и Sports разные\";\n",
    "6. Сделаем общий вывод."
   ]
  },
  {
   "cell_type": "markdown",
   "metadata": {},
   "source": [
    "## Общая информация"
   ]
  },
  {
   "cell_type": "markdown",
   "metadata": {},
   "source": [
    "Загрузим библиотеки, выведем первые 5 строк датасета и общую информацию:"
   ]
  },
  {
   "cell_type": "code",
   "execution_count": 1,
   "metadata": {},
   "outputs": [],
   "source": [
    "#загрузка библиотек\n",
    "\n",
    "import pandas as pd\n",
    "import matplotlib.pyplot as plt\n",
    "from scipy import stats as st"
   ]
  },
  {
   "cell_type": "code",
   "execution_count": 2,
   "metadata": {},
   "outputs": [],
   "source": [
    "#сохранение датасета в переменной\n",
    "\n",
    "data = pd.read_csv('/datasets/games.csv')"
   ]
  },
  {
   "cell_type": "code",
   "execution_count": 3,
   "metadata": {},
   "outputs": [
    {
     "data": {
      "text/html": [
       "<div>\n",
       "<style scoped>\n",
       "    .dataframe tbody tr th:only-of-type {\n",
       "        vertical-align: middle;\n",
       "    }\n",
       "\n",
       "    .dataframe tbody tr th {\n",
       "        vertical-align: top;\n",
       "    }\n",
       "\n",
       "    .dataframe thead th {\n",
       "        text-align: right;\n",
       "    }\n",
       "</style>\n",
       "<table border=\"1\" class=\"dataframe\">\n",
       "  <thead>\n",
       "    <tr style=\"text-align: right;\">\n",
       "      <th></th>\n",
       "      <th>Name</th>\n",
       "      <th>Platform</th>\n",
       "      <th>Year_of_Release</th>\n",
       "      <th>Genre</th>\n",
       "      <th>NA_sales</th>\n",
       "      <th>EU_sales</th>\n",
       "      <th>JP_sales</th>\n",
       "      <th>Other_sales</th>\n",
       "      <th>Critic_Score</th>\n",
       "      <th>User_Score</th>\n",
       "      <th>Rating</th>\n",
       "    </tr>\n",
       "  </thead>\n",
       "  <tbody>\n",
       "    <tr>\n",
       "      <th>0</th>\n",
       "      <td>Wii Sports</td>\n",
       "      <td>Wii</td>\n",
       "      <td>2006.0</td>\n",
       "      <td>Sports</td>\n",
       "      <td>41.36</td>\n",
       "      <td>28.96</td>\n",
       "      <td>3.77</td>\n",
       "      <td>8.45</td>\n",
       "      <td>76.0</td>\n",
       "      <td>8</td>\n",
       "      <td>E</td>\n",
       "    </tr>\n",
       "    <tr>\n",
       "      <th>1</th>\n",
       "      <td>Super Mario Bros.</td>\n",
       "      <td>NES</td>\n",
       "      <td>1985.0</td>\n",
       "      <td>Platform</td>\n",
       "      <td>29.08</td>\n",
       "      <td>3.58</td>\n",
       "      <td>6.81</td>\n",
       "      <td>0.77</td>\n",
       "      <td>NaN</td>\n",
       "      <td>NaN</td>\n",
       "      <td>NaN</td>\n",
       "    </tr>\n",
       "    <tr>\n",
       "      <th>2</th>\n",
       "      <td>Mario Kart Wii</td>\n",
       "      <td>Wii</td>\n",
       "      <td>2008.0</td>\n",
       "      <td>Racing</td>\n",
       "      <td>15.68</td>\n",
       "      <td>12.76</td>\n",
       "      <td>3.79</td>\n",
       "      <td>3.29</td>\n",
       "      <td>82.0</td>\n",
       "      <td>8.3</td>\n",
       "      <td>E</td>\n",
       "    </tr>\n",
       "    <tr>\n",
       "      <th>3</th>\n",
       "      <td>Wii Sports Resort</td>\n",
       "      <td>Wii</td>\n",
       "      <td>2009.0</td>\n",
       "      <td>Sports</td>\n",
       "      <td>15.61</td>\n",
       "      <td>10.93</td>\n",
       "      <td>3.28</td>\n",
       "      <td>2.95</td>\n",
       "      <td>80.0</td>\n",
       "      <td>8</td>\n",
       "      <td>E</td>\n",
       "    </tr>\n",
       "    <tr>\n",
       "      <th>4</th>\n",
       "      <td>Pokemon Red/Pokemon Blue</td>\n",
       "      <td>GB</td>\n",
       "      <td>1996.0</td>\n",
       "      <td>Role-Playing</td>\n",
       "      <td>11.27</td>\n",
       "      <td>8.89</td>\n",
       "      <td>10.22</td>\n",
       "      <td>1.00</td>\n",
       "      <td>NaN</td>\n",
       "      <td>NaN</td>\n",
       "      <td>NaN</td>\n",
       "    </tr>\n",
       "  </tbody>\n",
       "</table>\n",
       "</div>"
      ],
      "text/plain": [
       "                       Name Platform  Year_of_Release         Genre  NA_sales  \\\n",
       "0                Wii Sports      Wii           2006.0        Sports     41.36   \n",
       "1         Super Mario Bros.      NES           1985.0      Platform     29.08   \n",
       "2            Mario Kart Wii      Wii           2008.0        Racing     15.68   \n",
       "3         Wii Sports Resort      Wii           2009.0        Sports     15.61   \n",
       "4  Pokemon Red/Pokemon Blue       GB           1996.0  Role-Playing     11.27   \n",
       "\n",
       "   EU_sales  JP_sales  Other_sales  Critic_Score User_Score Rating  \n",
       "0     28.96      3.77         8.45          76.0          8      E  \n",
       "1      3.58      6.81         0.77           NaN        NaN    NaN  \n",
       "2     12.76      3.79         3.29          82.0        8.3      E  \n",
       "3     10.93      3.28         2.95          80.0          8      E  \n",
       "4      8.89     10.22         1.00           NaN        NaN    NaN  "
      ]
     },
     "execution_count": 3,
     "metadata": {},
     "output_type": "execute_result"
    }
   ],
   "source": [
    "#первые 5 строк датасета\n",
    "\n",
    "data.head()"
   ]
  },
  {
   "cell_type": "code",
   "execution_count": 4,
   "metadata": {},
   "outputs": [
    {
     "name": "stdout",
     "output_type": "stream",
     "text": [
      "<class 'pandas.core.frame.DataFrame'>\n",
      "RangeIndex: 16715 entries, 0 to 16714\n",
      "Data columns (total 11 columns):\n",
      " #   Column           Non-Null Count  Dtype  \n",
      "---  ------           --------------  -----  \n",
      " 0   Name             16713 non-null  object \n",
      " 1   Platform         16715 non-null  object \n",
      " 2   Year_of_Release  16446 non-null  float64\n",
      " 3   Genre            16713 non-null  object \n",
      " 4   NA_sales         16715 non-null  float64\n",
      " 5   EU_sales         16715 non-null  float64\n",
      " 6   JP_sales         16715 non-null  float64\n",
      " 7   Other_sales      16715 non-null  float64\n",
      " 8   Critic_Score     8137 non-null   float64\n",
      " 9   User_Score       10014 non-null  object \n",
      " 10  Rating           9949 non-null   object \n",
      "dtypes: float64(6), object(5)\n",
      "memory usage: 1.4+ MB\n"
     ]
    }
   ],
   "source": [
    "#общая информацию\n",
    "\n",
    "data.info()"
   ]
  },
  {
   "cell_type": "markdown",
   "metadata": {},
   "source": [
    "## Подготовка данных"
   ]
  },
  {
   "cell_type": "markdown",
   "metadata": {},
   "source": [
    "### Преобразуем названия столбцов"
   ]
  },
  {
   "cell_type": "markdown",
   "metadata": {},
   "source": [
    "Названия столбцов состоят из букв разного регистра. Приведем к единому регистру:"
   ]
  },
  {
   "cell_type": "code",
   "execution_count": 5,
   "metadata": {},
   "outputs": [],
   "source": [
    "#приведение названий столбцов к единому регистру\n",
    "\n",
    "data.columns = data.columns.str.lower()"
   ]
  },
  {
   "cell_type": "code",
   "execution_count": 6,
   "metadata": {},
   "outputs": [
    {
     "name": "stdout",
     "output_type": "stream",
     "text": [
      "<class 'pandas.core.frame.DataFrame'>\n",
      "RangeIndex: 16715 entries, 0 to 16714\n",
      "Data columns (total 11 columns):\n",
      " #   Column           Non-Null Count  Dtype  \n",
      "---  ------           --------------  -----  \n",
      " 0   name             16713 non-null  object \n",
      " 1   platform         16715 non-null  object \n",
      " 2   year_of_release  16446 non-null  float64\n",
      " 3   genre            16713 non-null  object \n",
      " 4   na_sales         16715 non-null  float64\n",
      " 5   eu_sales         16715 non-null  float64\n",
      " 6   jp_sales         16715 non-null  float64\n",
      " 7   other_sales      16715 non-null  float64\n",
      " 8   critic_score     8137 non-null   float64\n",
      " 9   user_score       10014 non-null  object \n",
      " 10  rating           9949 non-null   object \n",
      "dtypes: float64(6), object(5)\n",
      "memory usage: 1.4+ MB\n"
     ]
    }
   ],
   "source": [
    "#общая информация\n",
    "\n",
    "data.info()"
   ]
  },
  {
   "cell_type": "markdown",
   "metadata": {},
   "source": [
    "### Обработка пропусков"
   ]
  },
  {
   "cell_type": "markdown",
   "metadata": {},
   "source": [
    "Выведем количество пропусков в столбцах:"
   ]
  },
  {
   "cell_type": "code",
   "execution_count": 7,
   "metadata": {},
   "outputs": [
    {
     "data": {
      "text/plain": [
       "name                  2\n",
       "platform              0\n",
       "year_of_release     269\n",
       "genre                 2\n",
       "na_sales              0\n",
       "eu_sales              0\n",
       "jp_sales              0\n",
       "other_sales           0\n",
       "critic_score       8578\n",
       "user_score         6701\n",
       "rating             6766\n",
       "dtype: int64"
      ]
     },
     "execution_count": 7,
     "metadata": {},
     "output_type": "execute_result"
    }
   ],
   "source": [
    "#количество пропусков в столбцах\n",
    "\n",
    "data.isna().sum()"
   ]
  },
  {
   "cell_type": "markdown",
   "metadata": {},
   "source": [
    "Пропуски в столбцах с названием и жанром, возможно, техническая ошибка.\\\n",
    "Скорее всего, пропуски в столбце \"Год выпуска\" означают, что игра так и не была выпущена. \\\n",
    "Строки с перечисленными пропусками составляют менее 1% массива, их можно удалить:"
   ]
  },
  {
   "cell_type": "code",
   "execution_count": 8,
   "metadata": {},
   "outputs": [],
   "source": [
    "data = data.dropna(subset=['name'])\n",
    "data = data.dropna(subset=['year_of_release'])\n",
    "data = data.dropna(subset=['genre'])"
   ]
  },
  {
   "cell_type": "markdown",
   "metadata": {},
   "source": [
    "Проверим предположение, что у игр без оценки пользователей также отсутствуют  оценка критиков и рейтинг:"
   ]
  },
  {
   "cell_type": "code",
   "execution_count": 9,
   "metadata": {},
   "outputs": [
    {
     "name": "stdout",
     "output_type": "stream",
     "text": [
      "Сколько видов рейтингов у игр без оценки пользователей: 4\n",
      "Сколько разных оценок критиков у игр без оценки пользователей: 23\n"
     ]
    }
   ],
   "source": [
    "data_without_user_score = data[data['user_score'].isna()]\n",
    "print('Сколько видов рейтингов у игр без оценки пользователей:', data_without_user_score['rating'].nunique())\n",
    "print('Сколько разных оценок критиков у игр без оценки пользователей:', data_without_user_score['critic_score'].nunique())"
   ]
  },
  {
   "cell_type": "markdown",
   "metadata": {},
   "source": [
    "Предположение ошибочное (помимо пропусков есть другие значения в столбцах). \\\n",
    "Пропуски в столбцах \"оценка критиков\", \"оценка пользователей\" могут означать, что игра не получила данные оценки ввиду того, что мало популярны или вышли относительно недавно, и ещё не получили оценок. \\\n",
    "Рейтинг может отсутствовать у игр без возрастных ограничений. \\\n",
    "Ознакомимся с уникальными значениями в столбцах с оценками критиков, оценками пользователей и рейтингом:"
   ]
  },
  {
   "cell_type": "code",
   "execution_count": 10,
   "metadata": {},
   "outputs": [
    {
     "data": {
      "text/plain": [
       "array([76., nan, 82., 80., 89., 58., 87., 91., 61., 97., 95., 77., 88.,\n",
       "       83., 94., 93., 85., 86., 98., 96., 90., 84., 73., 74., 78., 92.,\n",
       "       71., 72., 68., 62., 49., 67., 81., 66., 56., 79., 70., 59., 64.,\n",
       "       75., 60., 63., 69., 50., 25., 42., 44., 55., 48., 57., 29., 47.,\n",
       "       65., 54., 20., 53., 37., 38., 33., 52., 30., 32., 43., 45., 51.,\n",
       "       40., 46., 39., 34., 41., 36., 31., 27., 35., 26., 19., 28., 23.,\n",
       "       24., 21., 17., 13.])"
      ]
     },
     "execution_count": 10,
     "metadata": {},
     "output_type": "execute_result"
    }
   ],
   "source": [
    "#уникальные значения столбца оценки критиков\n",
    "\n",
    "data['critic_score'].unique()"
   ]
  },
  {
   "cell_type": "markdown",
   "metadata": {},
   "source": [
    "В столбце изначально нет значения \"0\", поэтому заполним пропуски нулями:"
   ]
  },
  {
   "cell_type": "code",
   "execution_count": 11,
   "metadata": {},
   "outputs": [],
   "source": [
    "data['critic_score'] = data['critic_score'].fillna(value=0)"
   ]
  },
  {
   "cell_type": "code",
   "execution_count": 12,
   "metadata": {},
   "outputs": [
    {
     "data": {
      "text/plain": [
       "array(['8', nan, '8.3', '8.5', '6.6', '8.4', '8.6', '7.7', '6.3', '7.4',\n",
       "       '8.2', '9', '7.9', '8.1', '8.7', '7.1', '3.4', '5.3', '4.8', '3.2',\n",
       "       '8.9', '6.4', '7.8', '7.5', '2.6', '7.2', '9.2', '7', '7.3', '4.3',\n",
       "       '7.6', '5.7', '5', '9.1', '6.5', 'tbd', '8.8', '6.9', '9.4', '6.8',\n",
       "       '6.1', '6.7', '5.4', '4', '4.9', '4.5', '9.3', '6.2', '4.2', '6',\n",
       "       '3.7', '4.1', '5.8', '5.6', '5.5', '4.4', '4.6', '5.9', '3.9',\n",
       "       '3.1', '2.9', '5.2', '3.3', '4.7', '5.1', '3.5', '2.5', '1.9', '3',\n",
       "       '2.7', '2.2', '2', '9.5', '2.1', '3.6', '2.8', '1.8', '3.8', '0',\n",
       "       '1.6', '9.6', '2.4', '1.7', '1.1', '0.3', '1.5', '0.7', '1.2',\n",
       "       '2.3', '0.5', '1.3', '0.2', '0.6', '1.4', '0.9', '1', '9.7'],\n",
       "      dtype=object)"
      ]
     },
     "execution_count": 12,
     "metadata": {},
     "output_type": "execute_result"
    }
   ],
   "source": [
    "#уникальные значения столбца оценки пользователей\n",
    "\n",
    "data['user_score'].unique()"
   ]
  },
  {
   "cell_type": "markdown",
   "metadata": {},
   "source": [
    "Пропуски могли возникнуть из-за технического сбоя при выгрузке данных. Выведем строки с оценками пользователей \"0\":"
   ]
  },
  {
   "cell_type": "code",
   "execution_count": 13,
   "metadata": {
    "scrolled": true
   },
   "outputs": [
    {
     "data": {
      "text/html": [
       "<div>\n",
       "<style scoped>\n",
       "    .dataframe tbody tr th:only-of-type {\n",
       "        vertical-align: middle;\n",
       "    }\n",
       "\n",
       "    .dataframe tbody tr th {\n",
       "        vertical-align: top;\n",
       "    }\n",
       "\n",
       "    .dataframe thead th {\n",
       "        text-align: right;\n",
       "    }\n",
       "</style>\n",
       "<table border=\"1\" class=\"dataframe\">\n",
       "  <thead>\n",
       "    <tr style=\"text-align: right;\">\n",
       "      <th></th>\n",
       "      <th>name</th>\n",
       "      <th>platform</th>\n",
       "      <th>year_of_release</th>\n",
       "      <th>genre</th>\n",
       "      <th>na_sales</th>\n",
       "      <th>eu_sales</th>\n",
       "      <th>jp_sales</th>\n",
       "      <th>other_sales</th>\n",
       "      <th>critic_score</th>\n",
       "      <th>user_score</th>\n",
       "      <th>rating</th>\n",
       "    </tr>\n",
       "  </thead>\n",
       "  <tbody>\n",
       "    <tr>\n",
       "      <th>2835</th>\n",
       "      <td>My Little Pony: Pinkie Pie's Party</td>\n",
       "      <td>DS</td>\n",
       "      <td>2008.0</td>\n",
       "      <td>Adventure</td>\n",
       "      <td>0.66</td>\n",
       "      <td>0.0</td>\n",
       "      <td>0.0</td>\n",
       "      <td>0.06</td>\n",
       "      <td>0.0</td>\n",
       "      <td>0</td>\n",
       "      <td>E</td>\n",
       "    </tr>\n",
       "  </tbody>\n",
       "</table>\n",
       "</div>"
      ],
      "text/plain": [
       "                                    name platform  year_of_release      genre  \\\n",
       "2835  My Little Pony: Pinkie Pie's Party       DS           2008.0  Adventure   \n",
       "\n",
       "      na_sales  eu_sales  jp_sales  other_sales  critic_score user_score  \\\n",
       "2835      0.66       0.0       0.0         0.06           0.0          0   \n",
       "\n",
       "     rating  \n",
       "2835      E  "
      ]
     },
     "execution_count": 13,
     "metadata": {},
     "output_type": "execute_result"
    }
   ],
   "source": [
    "#строки с нулевой оценкой пользователей\n",
    "\n",
    "data.loc[data['user_score'] == '0']"
   ]
  },
  {
   "cell_type": "markdown",
   "metadata": {},
   "source": [
    "Всего одна строка с нулевой оценкой. Так как рейтинг важен для исследования, играм с пропусками присвоим оценку пользователей \"0\".\\\n",
    "Аббривеатура TDB в мире игр расшифровывается как To Be Determined и означает \"будет определено\". Раз оценка пользователей не определена, то заменим также эти значения на нулевые:"
   ]
  },
  {
   "cell_type": "code",
   "execution_count": 14,
   "metadata": {},
   "outputs": [],
   "source": [
    "#замена пропусков и строк с ценкой \"tbd\" на нулевую оценку\n",
    "\n",
    "data['user_score'] = data['user_score'].fillna(value=0)\n",
    "data['user_score'] = data['user_score'].replace('tbd', 0)"
   ]
  },
  {
   "cell_type": "markdown",
   "metadata": {},
   "source": [
    "Выведем уникальные значения столбца с рейтингом:"
   ]
  },
  {
   "cell_type": "code",
   "execution_count": 15,
   "metadata": {},
   "outputs": [
    {
     "data": {
      "text/plain": [
       "array(['E', nan, 'M', 'T', 'E10+', 'K-A', 'AO', 'EC', 'RP'], dtype=object)"
      ]
     },
     "execution_count": 15,
     "metadata": {},
     "output_type": "execute_result"
    }
   ],
   "source": [
    "#уникальные значения рейтинга\n",
    "\n",
    "data['rating'].unique()"
   ]
  },
  {
   "cell_type": "markdown",
   "metadata": {},
   "source": [
    "Рейтинги K-A и E10+ являются идентичными, поэтому объединим их в одно название:"
   ]
  },
  {
   "cell_type": "code",
   "execution_count": 16,
   "metadata": {},
   "outputs": [
    {
     "data": {
      "text/plain": [
       "array(['E', nan, 'M', 'T', 'E10+', 'AO', 'EC', 'RP'], dtype=object)"
      ]
     },
     "execution_count": 16,
     "metadata": {},
     "output_type": "execute_result"
    }
   ],
   "source": [
    "data['rating'] = data['rating'].replace('K-A', 'E10+')\n",
    "data['rating'].unique()"
   ]
  },
  {
   "cell_type": "markdown",
   "metadata": {},
   "source": [
    "В случае с рейтингом пропуски оставим незаполненные.\\\n",
    "Проверим повторно количество пропусков в столбцах:"
   ]
  },
  {
   "cell_type": "code",
   "execution_count": 17,
   "metadata": {},
   "outputs": [
    {
     "data": {
      "text/plain": [
       "name                  0\n",
       "platform              0\n",
       "year_of_release       0\n",
       "genre                 0\n",
       "na_sales              0\n",
       "eu_sales              0\n",
       "jp_sales              0\n",
       "other_sales           0\n",
       "critic_score          0\n",
       "user_score            0\n",
       "rating             6676\n",
       "dtype: int64"
      ]
     },
     "execution_count": 17,
     "metadata": {},
     "output_type": "execute_result"
    }
   ],
   "source": [
    "#количество пропусков в столбцах\n",
    "\n",
    "data.isna().sum()"
   ]
  },
  {
   "cell_type": "markdown",
   "metadata": {},
   "source": [
    "### Изменение типов данных"
   ]
  },
  {
   "cell_type": "markdown",
   "metadata": {},
   "source": [
    "Мы обнаружили столбцы, тип данных которых не соответствует содержимому:\n",
    "- Год выпуска (преобразуем в целочисленный тип, не может быть дробным);\n",
    "- Оценка критиков (преобразуем в целочисленный тип, избавились от пропусков, оставшиеся значения - целые);\n",
    "- Оценка пользователей (преобразуем в вещественный тип, избавились от пропусков и текста, оставшиеся значения - дробные)."
   ]
  },
  {
   "cell_type": "code",
   "execution_count": 18,
   "metadata": {},
   "outputs": [],
   "source": [
    "#изменение типов данных\n",
    "\n",
    "data['year_of_release'] = data['year_of_release'].astype('int64')\n",
    "data['critic_score'] = data['critic_score'].astype('int64')\n",
    "data['user_score'] = data['user_score'].astype('float64')"
   ]
  },
  {
   "cell_type": "markdown",
   "metadata": {},
   "source": [
    "### Поиск дубликатов"
   ]
  },
  {
   "cell_type": "markdown",
   "metadata": {},
   "source": [
    "Проверим наличие явных дубликатов:"
   ]
  },
  {
   "cell_type": "code",
   "execution_count": 19,
   "metadata": {},
   "outputs": [
    {
     "name": "stdout",
     "output_type": "stream",
     "text": [
      "Количество явных дубликатов: 0\n"
     ]
    }
   ],
   "source": [
    "print('Количество явных дубликатов:', data.duplicated().sum())"
   ]
  },
  {
   "cell_type": "markdown",
   "metadata": {},
   "source": [
    "А также дубликатов среди названий игр:"
   ]
  },
  {
   "cell_type": "code",
   "execution_count": 20,
   "metadata": {},
   "outputs": [
    {
     "data": {
      "text/plain": [
       "Need for Speed: Most Wanted    12\n",
       "FIFA 14                         9\n",
       "LEGO Marvel Super Heroes        9\n",
       "Ratatouille                     9\n",
       "FIFA Soccer 13                  8\n",
       "Name: name, dtype: int64"
      ]
     },
     "execution_count": 20,
     "metadata": {},
     "output_type": "execute_result"
    }
   ],
   "source": [
    "#количество строк с каждым названием игры, топ-5\n",
    "\n",
    "data['name'].value_counts().head()"
   ]
  },
  {
   "cell_type": "code",
   "execution_count": 21,
   "metadata": {
    "scrolled": true
   },
   "outputs": [
    {
     "data": {
      "text/html": [
       "<div>\n",
       "<style scoped>\n",
       "    .dataframe tbody tr th:only-of-type {\n",
       "        vertical-align: middle;\n",
       "    }\n",
       "\n",
       "    .dataframe tbody tr th {\n",
       "        vertical-align: top;\n",
       "    }\n",
       "\n",
       "    .dataframe thead th {\n",
       "        text-align: right;\n",
       "    }\n",
       "</style>\n",
       "<table border=\"1\" class=\"dataframe\">\n",
       "  <thead>\n",
       "    <tr style=\"text-align: right;\">\n",
       "      <th></th>\n",
       "      <th>name</th>\n",
       "      <th>platform</th>\n",
       "      <th>year_of_release</th>\n",
       "      <th>genre</th>\n",
       "      <th>na_sales</th>\n",
       "      <th>eu_sales</th>\n",
       "      <th>jp_sales</th>\n",
       "      <th>other_sales</th>\n",
       "      <th>critic_score</th>\n",
       "      <th>user_score</th>\n",
       "      <th>rating</th>\n",
       "    </tr>\n",
       "  </thead>\n",
       "  <tbody>\n",
       "    <tr>\n",
       "      <th>253</th>\n",
       "      <td>Need for Speed: Most Wanted</td>\n",
       "      <td>PS2</td>\n",
       "      <td>2005</td>\n",
       "      <td>Racing</td>\n",
       "      <td>2.03</td>\n",
       "      <td>1.79</td>\n",
       "      <td>0.08</td>\n",
       "      <td>0.47</td>\n",
       "      <td>82</td>\n",
       "      <td>9.1</td>\n",
       "      <td>T</td>\n",
       "    </tr>\n",
       "    <tr>\n",
       "      <th>523</th>\n",
       "      <td>Need for Speed: Most Wanted</td>\n",
       "      <td>PS3</td>\n",
       "      <td>2012</td>\n",
       "      <td>Racing</td>\n",
       "      <td>0.71</td>\n",
       "      <td>1.46</td>\n",
       "      <td>0.06</td>\n",
       "      <td>0.58</td>\n",
       "      <td>0</td>\n",
       "      <td>0.0</td>\n",
       "      <td>NaN</td>\n",
       "    </tr>\n",
       "    <tr>\n",
       "      <th>1190</th>\n",
       "      <td>Need for Speed: Most Wanted</td>\n",
       "      <td>X360</td>\n",
       "      <td>2012</td>\n",
       "      <td>Racing</td>\n",
       "      <td>0.62</td>\n",
       "      <td>0.78</td>\n",
       "      <td>0.01</td>\n",
       "      <td>0.15</td>\n",
       "      <td>83</td>\n",
       "      <td>8.5</td>\n",
       "      <td>T</td>\n",
       "    </tr>\n",
       "    <tr>\n",
       "      <th>1591</th>\n",
       "      <td>Need for Speed: Most Wanted</td>\n",
       "      <td>X360</td>\n",
       "      <td>2005</td>\n",
       "      <td>Racing</td>\n",
       "      <td>1.00</td>\n",
       "      <td>0.13</td>\n",
       "      <td>0.02</td>\n",
       "      <td>0.10</td>\n",
       "      <td>83</td>\n",
       "      <td>8.5</td>\n",
       "      <td>T</td>\n",
       "    </tr>\n",
       "    <tr>\n",
       "      <th>1998</th>\n",
       "      <td>Need for Speed: Most Wanted</td>\n",
       "      <td>XB</td>\n",
       "      <td>2005</td>\n",
       "      <td>Racing</td>\n",
       "      <td>0.53</td>\n",
       "      <td>0.46</td>\n",
       "      <td>0.00</td>\n",
       "      <td>0.05</td>\n",
       "      <td>83</td>\n",
       "      <td>8.8</td>\n",
       "      <td>T</td>\n",
       "    </tr>\n",
       "    <tr>\n",
       "      <th>2048</th>\n",
       "      <td>Need for Speed: Most Wanted</td>\n",
       "      <td>PSV</td>\n",
       "      <td>2012</td>\n",
       "      <td>Racing</td>\n",
       "      <td>0.33</td>\n",
       "      <td>0.45</td>\n",
       "      <td>0.01</td>\n",
       "      <td>0.22</td>\n",
       "      <td>0</td>\n",
       "      <td>0.0</td>\n",
       "      <td>NaN</td>\n",
       "    </tr>\n",
       "    <tr>\n",
       "      <th>3581</th>\n",
       "      <td>Need for Speed: Most Wanted</td>\n",
       "      <td>GC</td>\n",
       "      <td>2005</td>\n",
       "      <td>Racing</td>\n",
       "      <td>0.43</td>\n",
       "      <td>0.11</td>\n",
       "      <td>0.00</td>\n",
       "      <td>0.02</td>\n",
       "      <td>80</td>\n",
       "      <td>9.1</td>\n",
       "      <td>T</td>\n",
       "    </tr>\n",
       "    <tr>\n",
       "      <th>5972</th>\n",
       "      <td>Need for Speed: Most Wanted</td>\n",
       "      <td>PC</td>\n",
       "      <td>2005</td>\n",
       "      <td>Racing</td>\n",
       "      <td>0.02</td>\n",
       "      <td>0.23</td>\n",
       "      <td>0.00</td>\n",
       "      <td>0.04</td>\n",
       "      <td>82</td>\n",
       "      <td>8.5</td>\n",
       "      <td>T</td>\n",
       "    </tr>\n",
       "    <tr>\n",
       "      <th>6273</th>\n",
       "      <td>Need for Speed: Most Wanted</td>\n",
       "      <td>WiiU</td>\n",
       "      <td>2013</td>\n",
       "      <td>Racing</td>\n",
       "      <td>0.13</td>\n",
       "      <td>0.12</td>\n",
       "      <td>0.00</td>\n",
       "      <td>0.02</td>\n",
       "      <td>0</td>\n",
       "      <td>0.0</td>\n",
       "      <td>NaN</td>\n",
       "    </tr>\n",
       "    <tr>\n",
       "      <th>6410</th>\n",
       "      <td>Need for Speed: Most Wanted</td>\n",
       "      <td>DS</td>\n",
       "      <td>2005</td>\n",
       "      <td>Racing</td>\n",
       "      <td>0.24</td>\n",
       "      <td>0.01</td>\n",
       "      <td>0.00</td>\n",
       "      <td>0.02</td>\n",
       "      <td>45</td>\n",
       "      <td>6.1</td>\n",
       "      <td>E</td>\n",
       "    </tr>\n",
       "    <tr>\n",
       "      <th>6473</th>\n",
       "      <td>Need for Speed: Most Wanted</td>\n",
       "      <td>GBA</td>\n",
       "      <td>2005</td>\n",
       "      <td>Racing</td>\n",
       "      <td>0.19</td>\n",
       "      <td>0.07</td>\n",
       "      <td>0.00</td>\n",
       "      <td>0.00</td>\n",
       "      <td>0</td>\n",
       "      <td>8.3</td>\n",
       "      <td>E</td>\n",
       "    </tr>\n",
       "    <tr>\n",
       "      <th>11715</th>\n",
       "      <td>Need for Speed: Most Wanted</td>\n",
       "      <td>PC</td>\n",
       "      <td>2012</td>\n",
       "      <td>Racing</td>\n",
       "      <td>0.00</td>\n",
       "      <td>0.06</td>\n",
       "      <td>0.00</td>\n",
       "      <td>0.02</td>\n",
       "      <td>82</td>\n",
       "      <td>8.5</td>\n",
       "      <td>T</td>\n",
       "    </tr>\n",
       "  </tbody>\n",
       "</table>\n",
       "</div>"
      ],
      "text/plain": [
       "                              name platform  year_of_release   genre  \\\n",
       "253    Need for Speed: Most Wanted      PS2             2005  Racing   \n",
       "523    Need for Speed: Most Wanted      PS3             2012  Racing   \n",
       "1190   Need for Speed: Most Wanted     X360             2012  Racing   \n",
       "1591   Need for Speed: Most Wanted     X360             2005  Racing   \n",
       "1998   Need for Speed: Most Wanted       XB             2005  Racing   \n",
       "2048   Need for Speed: Most Wanted      PSV             2012  Racing   \n",
       "3581   Need for Speed: Most Wanted       GC             2005  Racing   \n",
       "5972   Need for Speed: Most Wanted       PC             2005  Racing   \n",
       "6273   Need for Speed: Most Wanted     WiiU             2013  Racing   \n",
       "6410   Need for Speed: Most Wanted       DS             2005  Racing   \n",
       "6473   Need for Speed: Most Wanted      GBA             2005  Racing   \n",
       "11715  Need for Speed: Most Wanted       PC             2012  Racing   \n",
       "\n",
       "       na_sales  eu_sales  jp_sales  other_sales  critic_score  user_score  \\\n",
       "253        2.03      1.79      0.08         0.47            82         9.1   \n",
       "523        0.71      1.46      0.06         0.58             0         0.0   \n",
       "1190       0.62      0.78      0.01         0.15            83         8.5   \n",
       "1591       1.00      0.13      0.02         0.10            83         8.5   \n",
       "1998       0.53      0.46      0.00         0.05            83         8.8   \n",
       "2048       0.33      0.45      0.01         0.22             0         0.0   \n",
       "3581       0.43      0.11      0.00         0.02            80         9.1   \n",
       "5972       0.02      0.23      0.00         0.04            82         8.5   \n",
       "6273       0.13      0.12      0.00         0.02             0         0.0   \n",
       "6410       0.24      0.01      0.00         0.02            45         6.1   \n",
       "6473       0.19      0.07      0.00         0.00             0         8.3   \n",
       "11715      0.00      0.06      0.00         0.02            82         8.5   \n",
       "\n",
       "      rating  \n",
       "253        T  \n",
       "523      NaN  \n",
       "1190       T  \n",
       "1591       T  \n",
       "1998       T  \n",
       "2048     NaN  \n",
       "3581       T  \n",
       "5972       T  \n",
       "6273     NaN  \n",
       "6410       E  \n",
       "6473       E  \n",
       "11715      T  "
      ]
     },
     "execution_count": 21,
     "metadata": {},
     "output_type": "execute_result"
    }
   ],
   "source": [
    "#таблица с наиболее часто встречающимся названием\n",
    "\n",
    "data.loc[data['name'] == 'Need for Speed: Most Wanted']"
   ]
  },
  {
   "cell_type": "markdown",
   "metadata": {},
   "source": [
    "Одна и та же игра выходит на разных платформах, и на одной и той же платформе может выйти в разные годы, анализировать и удалять дубликаты не имеет смысла."
   ]
  },
  {
   "cell_type": "markdown",
   "metadata": {},
   "source": [
    "### Добавление столбца"
   ]
  },
  {
   "cell_type": "markdown",
   "metadata": {},
   "source": [
    "Добавим столбец с суммарными продажами по всех регионах:"
   ]
  },
  {
   "cell_type": "code",
   "execution_count": 22,
   "metadata": {
    "scrolled": true
   },
   "outputs": [
    {
     "data": {
      "text/html": [
       "<div>\n",
       "<style scoped>\n",
       "    .dataframe tbody tr th:only-of-type {\n",
       "        vertical-align: middle;\n",
       "    }\n",
       "\n",
       "    .dataframe tbody tr th {\n",
       "        vertical-align: top;\n",
       "    }\n",
       "\n",
       "    .dataframe thead th {\n",
       "        text-align: right;\n",
       "    }\n",
       "</style>\n",
       "<table border=\"1\" class=\"dataframe\">\n",
       "  <thead>\n",
       "    <tr style=\"text-align: right;\">\n",
       "      <th></th>\n",
       "      <th>name</th>\n",
       "      <th>platform</th>\n",
       "      <th>year_of_release</th>\n",
       "      <th>genre</th>\n",
       "      <th>na_sales</th>\n",
       "      <th>eu_sales</th>\n",
       "      <th>jp_sales</th>\n",
       "      <th>other_sales</th>\n",
       "      <th>critic_score</th>\n",
       "      <th>user_score</th>\n",
       "      <th>rating</th>\n",
       "      <th>total_sales</th>\n",
       "    </tr>\n",
       "  </thead>\n",
       "  <tbody>\n",
       "    <tr>\n",
       "      <th>0</th>\n",
       "      <td>Wii Sports</td>\n",
       "      <td>Wii</td>\n",
       "      <td>2006</td>\n",
       "      <td>Sports</td>\n",
       "      <td>41.36</td>\n",
       "      <td>28.96</td>\n",
       "      <td>3.77</td>\n",
       "      <td>8.45</td>\n",
       "      <td>76</td>\n",
       "      <td>8.0</td>\n",
       "      <td>E</td>\n",
       "      <td>82.54</td>\n",
       "    </tr>\n",
       "    <tr>\n",
       "      <th>1</th>\n",
       "      <td>Super Mario Bros.</td>\n",
       "      <td>NES</td>\n",
       "      <td>1985</td>\n",
       "      <td>Platform</td>\n",
       "      <td>29.08</td>\n",
       "      <td>3.58</td>\n",
       "      <td>6.81</td>\n",
       "      <td>0.77</td>\n",
       "      <td>0</td>\n",
       "      <td>0.0</td>\n",
       "      <td>NaN</td>\n",
       "      <td>40.24</td>\n",
       "    </tr>\n",
       "    <tr>\n",
       "      <th>2</th>\n",
       "      <td>Mario Kart Wii</td>\n",
       "      <td>Wii</td>\n",
       "      <td>2008</td>\n",
       "      <td>Racing</td>\n",
       "      <td>15.68</td>\n",
       "      <td>12.76</td>\n",
       "      <td>3.79</td>\n",
       "      <td>3.29</td>\n",
       "      <td>82</td>\n",
       "      <td>8.3</td>\n",
       "      <td>E</td>\n",
       "      <td>35.52</td>\n",
       "    </tr>\n",
       "    <tr>\n",
       "      <th>3</th>\n",
       "      <td>Wii Sports Resort</td>\n",
       "      <td>Wii</td>\n",
       "      <td>2009</td>\n",
       "      <td>Sports</td>\n",
       "      <td>15.61</td>\n",
       "      <td>10.93</td>\n",
       "      <td>3.28</td>\n",
       "      <td>2.95</td>\n",
       "      <td>80</td>\n",
       "      <td>8.0</td>\n",
       "      <td>E</td>\n",
       "      <td>32.77</td>\n",
       "    </tr>\n",
       "    <tr>\n",
       "      <th>4</th>\n",
       "      <td>Pokemon Red/Pokemon Blue</td>\n",
       "      <td>GB</td>\n",
       "      <td>1996</td>\n",
       "      <td>Role-Playing</td>\n",
       "      <td>11.27</td>\n",
       "      <td>8.89</td>\n",
       "      <td>10.22</td>\n",
       "      <td>1.00</td>\n",
       "      <td>0</td>\n",
       "      <td>0.0</td>\n",
       "      <td>NaN</td>\n",
       "      <td>31.38</td>\n",
       "    </tr>\n",
       "    <tr>\n",
       "      <th>5</th>\n",
       "      <td>Tetris</td>\n",
       "      <td>GB</td>\n",
       "      <td>1989</td>\n",
       "      <td>Puzzle</td>\n",
       "      <td>23.20</td>\n",
       "      <td>2.26</td>\n",
       "      <td>4.22</td>\n",
       "      <td>0.58</td>\n",
       "      <td>0</td>\n",
       "      <td>0.0</td>\n",
       "      <td>NaN</td>\n",
       "      <td>30.26</td>\n",
       "    </tr>\n",
       "    <tr>\n",
       "      <th>6</th>\n",
       "      <td>New Super Mario Bros.</td>\n",
       "      <td>DS</td>\n",
       "      <td>2006</td>\n",
       "      <td>Platform</td>\n",
       "      <td>11.28</td>\n",
       "      <td>9.14</td>\n",
       "      <td>6.50</td>\n",
       "      <td>2.88</td>\n",
       "      <td>89</td>\n",
       "      <td>8.5</td>\n",
       "      <td>E</td>\n",
       "      <td>29.80</td>\n",
       "    </tr>\n",
       "    <tr>\n",
       "      <th>7</th>\n",
       "      <td>Wii Play</td>\n",
       "      <td>Wii</td>\n",
       "      <td>2006</td>\n",
       "      <td>Misc</td>\n",
       "      <td>13.96</td>\n",
       "      <td>9.18</td>\n",
       "      <td>2.93</td>\n",
       "      <td>2.84</td>\n",
       "      <td>58</td>\n",
       "      <td>6.6</td>\n",
       "      <td>E</td>\n",
       "      <td>28.91</td>\n",
       "    </tr>\n",
       "    <tr>\n",
       "      <th>8</th>\n",
       "      <td>New Super Mario Bros. Wii</td>\n",
       "      <td>Wii</td>\n",
       "      <td>2009</td>\n",
       "      <td>Platform</td>\n",
       "      <td>14.44</td>\n",
       "      <td>6.94</td>\n",
       "      <td>4.70</td>\n",
       "      <td>2.24</td>\n",
       "      <td>87</td>\n",
       "      <td>8.4</td>\n",
       "      <td>E</td>\n",
       "      <td>28.32</td>\n",
       "    </tr>\n",
       "    <tr>\n",
       "      <th>9</th>\n",
       "      <td>Duck Hunt</td>\n",
       "      <td>NES</td>\n",
       "      <td>1984</td>\n",
       "      <td>Shooter</td>\n",
       "      <td>26.93</td>\n",
       "      <td>0.63</td>\n",
       "      <td>0.28</td>\n",
       "      <td>0.47</td>\n",
       "      <td>0</td>\n",
       "      <td>0.0</td>\n",
       "      <td>NaN</td>\n",
       "      <td>28.31</td>\n",
       "    </tr>\n",
       "  </tbody>\n",
       "</table>\n",
       "</div>"
      ],
      "text/plain": [
       "                        name platform  year_of_release         genre  \\\n",
       "0                 Wii Sports      Wii             2006        Sports   \n",
       "1          Super Mario Bros.      NES             1985      Platform   \n",
       "2             Mario Kart Wii      Wii             2008        Racing   \n",
       "3          Wii Sports Resort      Wii             2009        Sports   \n",
       "4   Pokemon Red/Pokemon Blue       GB             1996  Role-Playing   \n",
       "5                     Tetris       GB             1989        Puzzle   \n",
       "6      New Super Mario Bros.       DS             2006      Platform   \n",
       "7                   Wii Play      Wii             2006          Misc   \n",
       "8  New Super Mario Bros. Wii      Wii             2009      Platform   \n",
       "9                  Duck Hunt      NES             1984       Shooter   \n",
       "\n",
       "   na_sales  eu_sales  jp_sales  other_sales  critic_score  user_score rating  \\\n",
       "0     41.36     28.96      3.77         8.45            76         8.0      E   \n",
       "1     29.08      3.58      6.81         0.77             0         0.0    NaN   \n",
       "2     15.68     12.76      3.79         3.29            82         8.3      E   \n",
       "3     15.61     10.93      3.28         2.95            80         8.0      E   \n",
       "4     11.27      8.89     10.22         1.00             0         0.0    NaN   \n",
       "5     23.20      2.26      4.22         0.58             0         0.0    NaN   \n",
       "6     11.28      9.14      6.50         2.88            89         8.5      E   \n",
       "7     13.96      9.18      2.93         2.84            58         6.6      E   \n",
       "8     14.44      6.94      4.70         2.24            87         8.4      E   \n",
       "9     26.93      0.63      0.28         0.47             0         0.0    NaN   \n",
       "\n",
       "   total_sales  \n",
       "0        82.54  \n",
       "1        40.24  \n",
       "2        35.52  \n",
       "3        32.77  \n",
       "4        31.38  \n",
       "5        30.26  \n",
       "6        29.80  \n",
       "7        28.91  \n",
       "8        28.32  \n",
       "9        28.31  "
      ]
     },
     "execution_count": 22,
     "metadata": {},
     "output_type": "execute_result"
    }
   ],
   "source": [
    "#добавим столбец и выведем первые 10 строк\n",
    "\n",
    "data['total_sales'] = data['na_sales'] + data['eu_sales'] + data['jp_sales'] + data['other_sales']\n",
    "data.head(10)"
   ]
  },
  {
   "cell_type": "markdown",
   "metadata": {},
   "source": [
    "## Исследовательский анализ данных"
   ]
  },
  {
   "cell_type": "markdown",
   "metadata": {},
   "source": [
    "### Анализ выпуска игр по годам"
   ]
  },
  {
   "cell_type": "markdown",
   "metadata": {},
   "source": [
    "Для того, чтобы определить актуальный период, посмотрим распределение выпуска игр по годам:"
   ]
  },
  {
   "cell_type": "code",
   "execution_count": 23,
   "metadata": {},
   "outputs": [
    {
     "data": {
      "image/png": "[encoded data removed]",
      "text/plain": [
       "<Figure size 1080x360 with 1 Axes>"
      ]
     },
     "metadata": {
      "needs_background": "light"
     },
     "output_type": "display_data"
    }
   ],
   "source": [
    "data['year_of_release'].plot(kind='hist', x='year_of_release', figsize=(15,5), bins=36, grid=True, \\\n",
    "                        title='Выпуск игр по годам');\n",
    "\n",
    "plt.xlabel('Год выпуска');\n",
    "plt.ylabel('Количество игр');\n",
    "plt.title('Выпуск игр по годам');"
   ]
  },
  {
   "cell_type": "markdown",
   "metadata": {},
   "source": [
    "На графике видно, что пик выпуска игр приходится на 2009-2010 гг, но этот период не является актуальным: сфера игр и игровых платформ развивается и меняется с очень быстрой скоростью. Увеличение количества выпущенных игр наблюдается в последнем, 2016 году. Для определения актуального периода продолжим анализ."
   ]
  },
  {
   "cell_type": "markdown",
   "metadata": {},
   "source": [
    "### Анализ продаж по платформам"
   ]
  },
  {
   "cell_type": "markdown",
   "metadata": {},
   "source": [
    "Чтобы посмотреть изменение продаж по платформам, выберем платформы с наибольшими суммарными продажами (топ-10) и построим распределение по годам."
   ]
  },
  {
   "cell_type": "code",
   "execution_count": 24,
   "metadata": {},
   "outputs": [
    {
     "data": {
      "image/png": "[encoded data removed]",
      "text/plain": [
       "<Figure size 1080x360 with 1 Axes>"
      ]
     },
     "metadata": {
      "needs_background": "light"
     },
     "output_type": "display_data"
    }
   ],
   "source": [
    "#сводная таблица продаж по платформам\n",
    "\n",
    "platforms = data.pivot_table(index='platform', values='total_sales', aggfunc='sum')\n",
    "\n",
    "#сортировка и вывод топ-10 платформ\n",
    "\n",
    "platforms = platforms.sort_values('total_sales',ascending=False)\n",
    "\n",
    "platforms.head(10).plot(grid=True, figsize=(15,5), kind='bar')\n",
    "plt.xlabel('Платформа')\n",
    "plt.ylabel('Продажи игр, млн копий')\n",
    "plt.title('Продажи по платформам');\n"
   ]
  },
  {
   "cell_type": "code",
   "execution_count": 25,
   "metadata": {},
   "outputs": [
    {
     "data": {
      "image/png": "[encoded data removed]",
      "text/plain": [
       "<Figure size 360x216 with 1 Axes>"
      ]
     },
     "metadata": {
      "needs_background": "light"
     },
     "output_type": "display_data"
    },
    {
     "data": {
      "image/png": "[encoded data removed]",
      "text/plain": [
       "<Figure size 360x216 with 1 Axes>"
      ]
     },
     "metadata": {
      "needs_background": "light"
     },
     "output_type": "display_data"
    },
    {
     "data": {
      "image/png": "[encoded data removed]",
      "text/plain": [
       "<Figure size 360x216 with 1 Axes>"
      ]
     },
     "metadata": {
      "needs_background": "light"
     },
     "output_type": "display_data"
    },
    {
     "data": {
      "image/png": "[encoded data removed]",
      "text/plain": [
       "<Figure size 360x216 with 1 Axes>"
      ]
     },
     "metadata": {
      "needs_background": "light"
     },
     "output_type": "display_data"
    },
    {
     "data": {
      "image/png": "[encoded data removed]",
      "text/plain": [
       "<Figure size 360x216 with 1 Axes>"
      ]
     },
     "metadata": {
      "needs_background": "light"
     },
     "output_type": "display_data"
    },
    {
     "data": {
      "image/png": "[encoded data removed]",
      "text/plain": [
       "<Figure size 360x216 with 1 Axes>"
      ]
     },
     "metadata": {
      "needs_background": "light"
     },
     "output_type": "display_data"
    },
    {
     "data": {
      "image/png": "[encoded data removed]",
      "text/plain": [
       "<Figure size 360x216 with 1 Axes>"
      ]
     },
     "metadata": {
      "needs_background": "light"
     },
     "output_type": "display_data"
    },
    {
     "data": {
      "image/png": "[encoded data removed]",
      "text/plain": [
       "<Figure size 360x216 with 1 Axes>"
      ]
     },
     "metadata": {
      "needs_background": "light"
     },
     "output_type": "display_data"
    },
    {
     "data": {
      "image/png": "[encoded data removed]",
      "text/plain": [
       "<Figure size 360x216 with 1 Axes>"
      ]
     },
     "metadata": {
      "needs_background": "light"
     },
     "output_type": "display_data"
    },
    {
     "data": {
      "image/png": "[encoded data removed]",
      "text/plain": [
       "<Figure size 360x216 with 1 Axes>"
      ]
     },
     "metadata": {
      "needs_background": "light"
     },
     "output_type": "display_data"
    }
   ],
   "source": [
    "#список топ-10 платформ\n",
    "\n",
    "top_platforms = ['PS2', 'X360', 'PS3', 'Wii', 'DS', 'PS', 'PS4', 'GBA', 'PSP', '3DS']\n",
    "\n",
    "#сводная таблица топ-10 платформ и распределение продаж по годам\n",
    "for platform in top_platforms:\n",
    "    platforms = data.loc[data['platform']==platform].pivot_table(index='year_of_release',\n",
    "                                                                      columns='platform',\n",
    "                                                                      values='total_sales',\n",
    "                                                                      aggfunc='sum')\n",
    "    platforms.plot(grid=True, figsize=(5,3))\n",
    "    plt.xlabel('Год')\n",
    "    plt.ylabel('Продажи')"
   ]
  },
  {
   "cell_type": "markdown",
   "metadata": {},
   "source": [
    "Согласно графикам выше, средняя продолжительность \"жизни\" платформы составляет 8-11 лет, при чем спад значительно \"плавнее\", чем рост.\n",
    "\n",
    "К 2016 году самой популярной платформой являлась PS4, остальные платформы находились на спаде. Однако в свое время популярность PS, PS2, Wii, 3DS и PS3 значительно превышала текущие показатели PS4, возможно, если дополнить данные за весь 2016 год, продажи PS4 были бы существенно выше."
   ]
  },
  {
   "cell_type": "markdown",
   "metadata": {},
   "source": [
    "### Определение актуального периода"
   ]
  },
  {
   "cell_type": "markdown",
   "metadata": {},
   "source": [
    "Перед нами стоит задача определить актуальный период. Жизненный цикл платформы составляет около 10 лет, из них 2-3 года приходится на рост популярности платформы. Определим актуальным период с 2014 по 2016 год включительно (помним, что 2016 год предоставлен не полностью)."
   ]
  },
  {
   "cell_type": "code",
   "execution_count": 26,
   "metadata": {
    "scrolled": true
   },
   "outputs": [
    {
     "data": {
      "text/html": [
       "<div>\n",
       "<style scoped>\n",
       "    .dataframe tbody tr th:only-of-type {\n",
       "        vertical-align: middle;\n",
       "    }\n",
       "\n",
       "    .dataframe tbody tr th {\n",
       "        vertical-align: top;\n",
       "    }\n",
       "\n",
       "    .dataframe thead th {\n",
       "        text-align: right;\n",
       "    }\n",
       "</style>\n",
       "<table border=\"1\" class=\"dataframe\">\n",
       "  <thead>\n",
       "    <tr style=\"text-align: right;\">\n",
       "      <th></th>\n",
       "      <th>name</th>\n",
       "      <th>platform</th>\n",
       "      <th>year_of_release</th>\n",
       "      <th>genre</th>\n",
       "      <th>na_sales</th>\n",
       "      <th>eu_sales</th>\n",
       "      <th>jp_sales</th>\n",
       "      <th>other_sales</th>\n",
       "      <th>critic_score</th>\n",
       "      <th>user_score</th>\n",
       "      <th>rating</th>\n",
       "      <th>total_sales</th>\n",
       "    </tr>\n",
       "  </thead>\n",
       "  <tbody>\n",
       "    <tr>\n",
       "      <th>31</th>\n",
       "      <td>Call of Duty: Black Ops 3</td>\n",
       "      <td>PS4</td>\n",
       "      <td>2015</td>\n",
       "      <td>Shooter</td>\n",
       "      <td>6.03</td>\n",
       "      <td>5.86</td>\n",
       "      <td>0.36</td>\n",
       "      <td>2.38</td>\n",
       "      <td>0</td>\n",
       "      <td>0.0</td>\n",
       "      <td>NaN</td>\n",
       "      <td>14.63</td>\n",
       "    </tr>\n",
       "    <tr>\n",
       "      <th>42</th>\n",
       "      <td>Grand Theft Auto V</td>\n",
       "      <td>PS4</td>\n",
       "      <td>2014</td>\n",
       "      <td>Action</td>\n",
       "      <td>3.96</td>\n",
       "      <td>6.31</td>\n",
       "      <td>0.38</td>\n",
       "      <td>1.97</td>\n",
       "      <td>97</td>\n",
       "      <td>8.3</td>\n",
       "      <td>M</td>\n",
       "      <td>12.62</td>\n",
       "    </tr>\n",
       "    <tr>\n",
       "      <th>47</th>\n",
       "      <td>Pokemon Omega Ruby/Pokemon Alpha Sapphire</td>\n",
       "      <td>3DS</td>\n",
       "      <td>2014</td>\n",
       "      <td>Role-Playing</td>\n",
       "      <td>4.35</td>\n",
       "      <td>3.49</td>\n",
       "      <td>3.10</td>\n",
       "      <td>0.74</td>\n",
       "      <td>0</td>\n",
       "      <td>0.0</td>\n",
       "      <td>NaN</td>\n",
       "      <td>11.68</td>\n",
       "    </tr>\n",
       "    <tr>\n",
       "      <th>77</th>\n",
       "      <td>FIFA 16</td>\n",
       "      <td>PS4</td>\n",
       "      <td>2015</td>\n",
       "      <td>Sports</td>\n",
       "      <td>1.12</td>\n",
       "      <td>6.12</td>\n",
       "      <td>0.06</td>\n",
       "      <td>1.28</td>\n",
       "      <td>82</td>\n",
       "      <td>4.3</td>\n",
       "      <td>E</td>\n",
       "      <td>8.58</td>\n",
       "    </tr>\n",
       "    <tr>\n",
       "      <th>87</th>\n",
       "      <td>Star Wars Battlefront (2015)</td>\n",
       "      <td>PS4</td>\n",
       "      <td>2015</td>\n",
       "      <td>Shooter</td>\n",
       "      <td>2.99</td>\n",
       "      <td>3.49</td>\n",
       "      <td>0.22</td>\n",
       "      <td>1.28</td>\n",
       "      <td>0</td>\n",
       "      <td>0.0</td>\n",
       "      <td>NaN</td>\n",
       "      <td>7.98</td>\n",
       "    </tr>\n",
       "    <tr>\n",
       "      <th>92</th>\n",
       "      <td>Call of Duty: Advanced Warfare</td>\n",
       "      <td>PS4</td>\n",
       "      <td>2014</td>\n",
       "      <td>Shooter</td>\n",
       "      <td>2.81</td>\n",
       "      <td>3.48</td>\n",
       "      <td>0.14</td>\n",
       "      <td>1.23</td>\n",
       "      <td>83</td>\n",
       "      <td>5.7</td>\n",
       "      <td>M</td>\n",
       "      <td>7.66</td>\n",
       "    </tr>\n",
       "    <tr>\n",
       "      <th>94</th>\n",
       "      <td>FIFA 17</td>\n",
       "      <td>PS4</td>\n",
       "      <td>2016</td>\n",
       "      <td>Sports</td>\n",
       "      <td>0.66</td>\n",
       "      <td>5.75</td>\n",
       "      <td>0.08</td>\n",
       "      <td>1.11</td>\n",
       "      <td>85</td>\n",
       "      <td>5.0</td>\n",
       "      <td>E</td>\n",
       "      <td>7.60</td>\n",
       "    </tr>\n",
       "    <tr>\n",
       "      <th>96</th>\n",
       "      <td>Super Smash Bros. for Wii U and 3DS</td>\n",
       "      <td>3DS</td>\n",
       "      <td>2014</td>\n",
       "      <td>Fighting</td>\n",
       "      <td>3.27</td>\n",
       "      <td>1.37</td>\n",
       "      <td>2.43</td>\n",
       "      <td>0.48</td>\n",
       "      <td>0</td>\n",
       "      <td>0.0</td>\n",
       "      <td>NaN</td>\n",
       "      <td>7.55</td>\n",
       "    </tr>\n",
       "    <tr>\n",
       "      <th>99</th>\n",
       "      <td>Call of Duty: Black Ops 3</td>\n",
       "      <td>XOne</td>\n",
       "      <td>2015</td>\n",
       "      <td>Shooter</td>\n",
       "      <td>4.59</td>\n",
       "      <td>2.11</td>\n",
       "      <td>0.01</td>\n",
       "      <td>0.68</td>\n",
       "      <td>0</td>\n",
       "      <td>0.0</td>\n",
       "      <td>NaN</td>\n",
       "      <td>7.39</td>\n",
       "    </tr>\n",
       "    <tr>\n",
       "      <th>105</th>\n",
       "      <td>Fallout 4</td>\n",
       "      <td>PS4</td>\n",
       "      <td>2015</td>\n",
       "      <td>Role-Playing</td>\n",
       "      <td>2.53</td>\n",
       "      <td>3.27</td>\n",
       "      <td>0.24</td>\n",
       "      <td>1.13</td>\n",
       "      <td>87</td>\n",
       "      <td>6.5</td>\n",
       "      <td>M</td>\n",
       "      <td>7.17</td>\n",
       "    </tr>\n",
       "    <tr>\n",
       "      <th>108</th>\n",
       "      <td>Pokemon Sun/Moon</td>\n",
       "      <td>3DS</td>\n",
       "      <td>2016</td>\n",
       "      <td>Role-Playing</td>\n",
       "      <td>2.98</td>\n",
       "      <td>1.45</td>\n",
       "      <td>2.26</td>\n",
       "      <td>0.45</td>\n",
       "      <td>0</td>\n",
       "      <td>0.0</td>\n",
       "      <td>NaN</td>\n",
       "      <td>7.14</td>\n",
       "    </tr>\n",
       "    <tr>\n",
       "      <th>110</th>\n",
       "      <td>Mario Kart 8</td>\n",
       "      <td>WiiU</td>\n",
       "      <td>2014</td>\n",
       "      <td>Racing</td>\n",
       "      <td>3.15</td>\n",
       "      <td>2.15</td>\n",
       "      <td>1.28</td>\n",
       "      <td>0.51</td>\n",
       "      <td>88</td>\n",
       "      <td>9.1</td>\n",
       "      <td>E</td>\n",
       "      <td>7.09</td>\n",
       "    </tr>\n",
       "    <tr>\n",
       "      <th>143</th>\n",
       "      <td>FIFA 15</td>\n",
       "      <td>PS4</td>\n",
       "      <td>2014</td>\n",
       "      <td>Sports</td>\n",
       "      <td>0.80</td>\n",
       "      <td>4.33</td>\n",
       "      <td>0.05</td>\n",
       "      <td>0.90</td>\n",
       "      <td>82</td>\n",
       "      <td>5.7</td>\n",
       "      <td>E</td>\n",
       "      <td>6.08</td>\n",
       "    </tr>\n",
       "    <tr>\n",
       "      <th>154</th>\n",
       "      <td>Destiny</td>\n",
       "      <td>PS4</td>\n",
       "      <td>2014</td>\n",
       "      <td>Shooter</td>\n",
       "      <td>2.49</td>\n",
       "      <td>2.07</td>\n",
       "      <td>0.16</td>\n",
       "      <td>0.92</td>\n",
       "      <td>76</td>\n",
       "      <td>6.1</td>\n",
       "      <td>T</td>\n",
       "      <td>5.64</td>\n",
       "    </tr>\n",
       "    <tr>\n",
       "      <th>165</th>\n",
       "      <td>Grand Theft Auto V</td>\n",
       "      <td>XOne</td>\n",
       "      <td>2014</td>\n",
       "      <td>Action</td>\n",
       "      <td>2.81</td>\n",
       "      <td>2.19</td>\n",
       "      <td>0.00</td>\n",
       "      <td>0.47</td>\n",
       "      <td>97</td>\n",
       "      <td>7.9</td>\n",
       "      <td>M</td>\n",
       "      <td>5.47</td>\n",
       "    </tr>\n",
       "    <tr>\n",
       "      <th>171</th>\n",
       "      <td>Uncharted 4: A Thief's End</td>\n",
       "      <td>PS4</td>\n",
       "      <td>2016</td>\n",
       "      <td>Shooter</td>\n",
       "      <td>1.85</td>\n",
       "      <td>2.50</td>\n",
       "      <td>0.19</td>\n",
       "      <td>0.85</td>\n",
       "      <td>93</td>\n",
       "      <td>7.9</td>\n",
       "      <td>T</td>\n",
       "      <td>5.39</td>\n",
       "    </tr>\n",
       "    <tr>\n",
       "      <th>179</th>\n",
       "      <td>Call of Duty: Advanced Warfare</td>\n",
       "      <td>XOne</td>\n",
       "      <td>2014</td>\n",
       "      <td>Shooter</td>\n",
       "      <td>3.22</td>\n",
       "      <td>1.55</td>\n",
       "      <td>0.01</td>\n",
       "      <td>0.48</td>\n",
       "      <td>81</td>\n",
       "      <td>5.4</td>\n",
       "      <td>M</td>\n",
       "      <td>5.26</td>\n",
       "    </tr>\n",
       "    <tr>\n",
       "      <th>180</th>\n",
       "      <td>Minecraft</td>\n",
       "      <td>PS3</td>\n",
       "      <td>2014</td>\n",
       "      <td>Misc</td>\n",
       "      <td>2.03</td>\n",
       "      <td>2.37</td>\n",
       "      <td>0.00</td>\n",
       "      <td>0.87</td>\n",
       "      <td>0</td>\n",
       "      <td>0.0</td>\n",
       "      <td>NaN</td>\n",
       "      <td>5.27</td>\n",
       "    </tr>\n",
       "    <tr>\n",
       "      <th>216</th>\n",
       "      <td>Super Smash Bros. for Wii U and 3DS</td>\n",
       "      <td>WiiU</td>\n",
       "      <td>2014</td>\n",
       "      <td>Fighting</td>\n",
       "      <td>2.60</td>\n",
       "      <td>1.08</td>\n",
       "      <td>0.81</td>\n",
       "      <td>0.38</td>\n",
       "      <td>0</td>\n",
       "      <td>0.0</td>\n",
       "      <td>NaN</td>\n",
       "      <td>4.87</td>\n",
       "    </tr>\n",
       "    <tr>\n",
       "      <th>225</th>\n",
       "      <td>The Last of Us</td>\n",
       "      <td>PS4</td>\n",
       "      <td>2014</td>\n",
       "      <td>Action</td>\n",
       "      <td>1.88</td>\n",
       "      <td>2.00</td>\n",
       "      <td>0.07</td>\n",
       "      <td>0.77</td>\n",
       "      <td>0</td>\n",
       "      <td>0.0</td>\n",
       "      <td>NaN</td>\n",
       "      <td>4.72</td>\n",
       "    </tr>\n",
       "  </tbody>\n",
       "</table>\n",
       "</div>"
      ],
      "text/plain": [
       "                                          name platform  year_of_release  \\\n",
       "31                   Call of Duty: Black Ops 3      PS4             2015   \n",
       "42                          Grand Theft Auto V      PS4             2014   \n",
       "47   Pokemon Omega Ruby/Pokemon Alpha Sapphire      3DS             2014   \n",
       "77                                     FIFA 16      PS4             2015   \n",
       "87                Star Wars Battlefront (2015)      PS4             2015   \n",
       "92              Call of Duty: Advanced Warfare      PS4             2014   \n",
       "94                                     FIFA 17      PS4             2016   \n",
       "96         Super Smash Bros. for Wii U and 3DS      3DS             2014   \n",
       "99                   Call of Duty: Black Ops 3     XOne             2015   \n",
       "105                                  Fallout 4      PS4             2015   \n",
       "108                           Pokemon Sun/Moon      3DS             2016   \n",
       "110                               Mario Kart 8     WiiU             2014   \n",
       "143                                    FIFA 15      PS4             2014   \n",
       "154                                    Destiny      PS4             2014   \n",
       "165                         Grand Theft Auto V     XOne             2014   \n",
       "171                 Uncharted 4: A Thief's End      PS4             2016   \n",
       "179             Call of Duty: Advanced Warfare     XOne             2014   \n",
       "180                                  Minecraft      PS3             2014   \n",
       "216        Super Smash Bros. for Wii U and 3DS     WiiU             2014   \n",
       "225                             The Last of Us      PS4             2014   \n",
       "\n",
       "            genre  na_sales  eu_sales  jp_sales  other_sales  critic_score  \\\n",
       "31        Shooter      6.03      5.86      0.36         2.38             0   \n",
       "42         Action      3.96      6.31      0.38         1.97            97   \n",
       "47   Role-Playing      4.35      3.49      3.10         0.74             0   \n",
       "77         Sports      1.12      6.12      0.06         1.28            82   \n",
       "87        Shooter      2.99      3.49      0.22         1.28             0   \n",
       "92        Shooter      2.81      3.48      0.14         1.23            83   \n",
       "94         Sports      0.66      5.75      0.08         1.11            85   \n",
       "96       Fighting      3.27      1.37      2.43         0.48             0   \n",
       "99        Shooter      4.59      2.11      0.01         0.68             0   \n",
       "105  Role-Playing      2.53      3.27      0.24         1.13            87   \n",
       "108  Role-Playing      2.98      1.45      2.26         0.45             0   \n",
       "110        Racing      3.15      2.15      1.28         0.51            88   \n",
       "143        Sports      0.80      4.33      0.05         0.90            82   \n",
       "154       Shooter      2.49      2.07      0.16         0.92            76   \n",
       "165        Action      2.81      2.19      0.00         0.47            97   \n",
       "171       Shooter      1.85      2.50      0.19         0.85            93   \n",
       "179       Shooter      3.22      1.55      0.01         0.48            81   \n",
       "180          Misc      2.03      2.37      0.00         0.87             0   \n",
       "216      Fighting      2.60      1.08      0.81         0.38             0   \n",
       "225        Action      1.88      2.00      0.07         0.77             0   \n",
       "\n",
       "     user_score rating  total_sales  \n",
       "31          0.0    NaN        14.63  \n",
       "42          8.3      M        12.62  \n",
       "47          0.0    NaN        11.68  \n",
       "77          4.3      E         8.58  \n",
       "87          0.0    NaN         7.98  \n",
       "92          5.7      M         7.66  \n",
       "94          5.0      E         7.60  \n",
       "96          0.0    NaN         7.55  \n",
       "99          0.0    NaN         7.39  \n",
       "105         6.5      M         7.17  \n",
       "108         0.0    NaN         7.14  \n",
       "110         9.1      E         7.09  \n",
       "143         5.7      E         6.08  \n",
       "154         6.1      T         5.64  \n",
       "165         7.9      M         5.47  \n",
       "171         7.9      T         5.39  \n",
       "179         5.4      M         5.26  \n",
       "180         0.0    NaN         5.27  \n",
       "216         0.0    NaN         4.87  \n",
       "225         0.0    NaN         4.72  "
      ]
     },
     "execution_count": 26,
     "metadata": {},
     "output_type": "execute_result"
    }
   ],
   "source": [
    "data_for_forecast = data.query('year_of_release >= 2014')\n",
    "data_for_forecast.head(20)"
   ]
  },
  {
   "cell_type": "markdown",
   "metadata": {},
   "source": [
    "### Определение потенциально прибыльных платформ"
   ]
  },
  {
   "cell_type": "markdown",
   "metadata": {},
   "source": [
    "Чтобы определить потенциально прибыльные платформы выведем таблицу по общим продажам за актуальный период и построим график по продажам."
   ]
  },
  {
   "cell_type": "code",
   "execution_count": 27,
   "metadata": {},
   "outputs": [
    {
     "data": {
      "text/html": [
       "<div>\n",
       "<style scoped>\n",
       "    .dataframe tbody tr th:only-of-type {\n",
       "        vertical-align: middle;\n",
       "    }\n",
       "\n",
       "    .dataframe tbody tr th {\n",
       "        vertical-align: top;\n",
       "    }\n",
       "\n",
       "    .dataframe thead th {\n",
       "        text-align: right;\n",
       "    }\n",
       "</style>\n",
       "<table border=\"1\" class=\"dataframe\">\n",
       "  <thead>\n",
       "    <tr style=\"text-align: right;\">\n",
       "      <th></th>\n",
       "      <th>total_sales</th>\n",
       "    </tr>\n",
       "    <tr>\n",
       "      <th>platform</th>\n",
       "      <th></th>\n",
       "    </tr>\n",
       "  </thead>\n",
       "  <tbody>\n",
       "    <tr>\n",
       "      <th>PS4</th>\n",
       "      <td>288.15</td>\n",
       "    </tr>\n",
       "    <tr>\n",
       "      <th>XOne</th>\n",
       "      <td>140.36</td>\n",
       "    </tr>\n",
       "    <tr>\n",
       "      <th>3DS</th>\n",
       "      <td>86.68</td>\n",
       "    </tr>\n",
       "    <tr>\n",
       "      <th>PS3</th>\n",
       "      <td>68.18</td>\n",
       "    </tr>\n",
       "    <tr>\n",
       "      <th>X360</th>\n",
       "      <td>48.22</td>\n",
       "    </tr>\n",
       "    <tr>\n",
       "      <th>WiiU</th>\n",
       "      <td>42.98</td>\n",
       "    </tr>\n",
       "    <tr>\n",
       "      <th>PC</th>\n",
       "      <td>27.05</td>\n",
       "    </tr>\n",
       "    <tr>\n",
       "      <th>PSV</th>\n",
       "      <td>22.40</td>\n",
       "    </tr>\n",
       "    <tr>\n",
       "      <th>Wii</th>\n",
       "      <td>5.07</td>\n",
       "    </tr>\n",
       "    <tr>\n",
       "      <th>PSP</th>\n",
       "      <td>0.36</td>\n",
       "    </tr>\n",
       "  </tbody>\n",
       "</table>\n",
       "</div>"
      ],
      "text/plain": [
       "          total_sales\n",
       "platform             \n",
       "PS4            288.15\n",
       "XOne           140.36\n",
       "3DS             86.68\n",
       "PS3             68.18\n",
       "X360            48.22\n",
       "WiiU            42.98\n",
       "PC              27.05\n",
       "PSV             22.40\n",
       "Wii              5.07\n",
       "PSP              0.36"
      ]
     },
     "execution_count": 27,
     "metadata": {},
     "output_type": "execute_result"
    }
   ],
   "source": [
    "#сводная таблица продаж по платформам\n",
    "\n",
    "data_for_forecast.pivot_table(index='platform', values='total_sales', aggfunc='sum') \\\n",
    ".sort_values('total_sales',ascending=False).head(10)"
   ]
  },
  {
   "cell_type": "code",
   "execution_count": 28,
   "metadata": {},
   "outputs": [
    {
     "data": {
      "image/png": "[encoded data removed]",
      "text/plain": [
       "<Figure size 720x360 with 1 Axes>"
      ]
     },
     "metadata": {
      "needs_background": "light"
     },
     "output_type": "display_data"
    }
   ],
   "source": [
    "#график по продажам\n",
    "\n",
    "platforms = data_for_forecast.pivot_table(index='year_of_release', columns='platform', values='total_sales', aggfunc='sum')\n",
    "\n",
    "platforms.plot(grid=True, figsize=(10,5))\n",
    "plt.locator_params(axis=\"both\", integer=True, tight=True)\n",
    "plt.xlabel('Год')\n",
    "plt.ylabel('Продажи, млн копий')\n",
    "plt.title('Продажи за актуальный период');"
   ]
  },
  {
   "cell_type": "markdown",
   "metadata": {},
   "source": [
    "В 2015 году относительно 2014 года виден рост популярности платформ PS4 и XOne. Так как данные за 2016 год неполные, и предположить продолжился ли рост в 2016 году возможности нет, остановимся на том, что потенциально прибыльными платформами являются PS4 и XOne."
   ]
  },
  {
   "cell_type": "markdown",
   "metadata": {},
   "source": [
    "### График «ящик с усами» "
   ]
  },
  {
   "cell_type": "markdown",
   "metadata": {},
   "source": [
    "Построим график «ящик с усами» по глобальным продажам игр в разбивке по платформам:"
   ]
  },
  {
   "cell_type": "code",
   "execution_count": 29,
   "metadata": {},
   "outputs": [
    {
     "data": {
      "image/png": "[encoded data removed]",
      "text/plain": [
       "<Figure size 1080x720 with 1 Axes>"
      ]
     },
     "metadata": {
      "needs_background": "light"
     },
     "output_type": "display_data"
    }
   ],
   "source": [
    "#график «ящик с усами»  \n",
    "\n",
    "data_for_forecast.boxplot('total_sales', by='platform',figsize=(15, 10)).set_ylim(0, 14)\n",
    "plt.title('\"Ящик с усами\" продаж по платформам');"
   ]
  },
  {
   "cell_type": "markdown",
   "metadata": {},
   "source": [
    "Согласно графику выше видно, что больший \"разброс\" выбросов приходится на PS4, далее на XOne, 3DS и PC. Скорее всего, на этих платформах чаще выходят игры, получающие всеобщее признание.\n",
    "Для детального анализа масштабируем график:"
   ]
  },
  {
   "cell_type": "code",
   "execution_count": 30,
   "metadata": {},
   "outputs": [
    {
     "data": {
      "image/png": "[encoded data removed]",
      "text/plain": [
       "<Figure size 1080x720 with 1 Axes>"
      ]
     },
     "metadata": {
      "needs_background": "light"
     },
     "output_type": "display_data"
    }
   ],
   "source": [
    "#график «ящик с усами»  \n",
    "\n",
    "data_for_forecast.boxplot('total_sales', by='platform',figsize=(15, 10)).set_ylim(0, 3)\n",
    "plt.title('\"Ящик с усами\" продаж по платформам');"
   ]
  },
  {
   "cell_type": "markdown",
   "metadata": {},
   "source": [
    "Выше всего медианы находятся WiiU, XOne, и примерно на одном уровне PS4 и 3DS. Половина всех продаж находится под, а половина - над границей медианы, что позволяет сделать предположение, что, несмотря на большую разницу расположения верхних границ усов у PS4 и XOne (в районе 2.2-2.3 млн копий), WiiU (1.6 млн), 3DS и PS3 (0,9 млн), наиболее частовстречающееся количество продаж по играм у всех вышеперечисленных платформ не превышает 0.3 млн копий."
   ]
  },
  {
   "cell_type": "markdown",
   "metadata": {},
   "source": [
    "### Влияние отзывов на продажи\n",
    "\n",
    "На примере PS4 посмотрим, как влияют на продажи отзывы пользователей и критиков. Для начала уберем из данных игры без отзывов:"
   ]
  },
  {
   "cell_type": "code",
   "execution_count": 31,
   "metadata": {},
   "outputs": [],
   "source": [
    "#убираем игры без отзывов пользователей и критиков (те, которые мы заменили 0)\n",
    "\n",
    "data_without_zero_score = data_for_forecast.loc[data_for_forecast['user_score']!=0]\n",
    "data_without_zero_score = data_without_zero_score.loc[data_without_zero_score['critic_score']!=0]"
   ]
  },
  {
   "cell_type": "markdown",
   "metadata": {},
   "source": [
    "Построим диаграмму рассеяния и посчитаем корреляцию между отзывами и продажами."
   ]
  },
  {
   "cell_type": "code",
   "execution_count": 32,
   "metadata": {
    "scrolled": true
   },
   "outputs": [
    {
     "data": {
      "image/png": "[encoded data removed]",
      "text/plain": [
       "<Figure size 576x288 with 1 Axes>"
      ]
     },
     "metadata": {
      "needs_background": "light"
     },
     "output_type": "display_data"
    },
    {
     "name": "stdout",
     "output_type": "stream",
     "text": [
      "Корреляция отсутствует, коэффициент: -0.043\n"
     ]
    }
   ],
   "source": [
    "#корреляция отзывов пользователей и продаж\n",
    "\n",
    "data_for_forecast_PS4 = data_without_zero_score.loc[data_without_zero_score['platform']=='PS4']\n",
    "\n",
    "data_for_forecast_PS4.plot(x='user_score', y='total_sales', kind='scatter', alpha=0.3, figsize=(8,4), grid=True)\n",
    "plt.xlabel('Оценка пользователей')\n",
    "plt.ylabel('Продажи')\n",
    "plt.title('Влияние оценки пользователей на продажи');\n",
    "plt.show()\n",
    "\n",
    "\n",
    "score_corr = data_for_forecast_PS4['user_score'].corr(data_for_forecast_PS4['total_sales'])\n",
    "if abs(score_corr) <= 0.3:\n",
    "    type_of_corr = 'Корреляция отсутствует, коэффициент:'\n",
    "elif 0.3 < abs(score_corr) <= 0.5:\n",
    "    type_of_corr = 'Корреляция слабая, коэффициент:'\n",
    "elif 0.5 < abs(score_corr) <= 0.7:\n",
    "    type_of_corr = 'Корреляция средняя, коэффициент:'\n",
    "else:\n",
    "    type_of_corr = 'Корреляция сильная, коэффициент:'\n",
    "    \n",
    "    \n",
    "print(type_of_corr, score_corr.round(3))"
   ]
  },
  {
   "cell_type": "markdown",
   "metadata": {},
   "source": [
    "По коэфициенту корреляции, а также на графике видно, что наличие высокой оценки пользователей не гарантирует больших продаж, как и наоборот (видно точку в районе оценки 4 с продажами чуть меньше 9 млн копий). Возможно, это связано с тем, что пользователи сначала приобретают игру, а уже после ознакомления пишут отзывы и ставят оценки. В любом случае, даже если игра получила низкую оценку, она уже куплена. "
   ]
  },
  {
   "cell_type": "code",
   "execution_count": 33,
   "metadata": {},
   "outputs": [
    {
     "data": {
      "image/png": "[encoded data removed]",
      "text/plain": [
       "<Figure size 576x288 with 1 Axes>"
      ]
     },
     "metadata": {
      "needs_background": "light"
     },
     "output_type": "display_data"
    },
    {
     "name": "stdout",
     "output_type": "stream",
     "text": [
      "Корреляция слабая, коэффициент: 0.402\n"
     ]
    }
   ],
   "source": [
    "#корреляция отзывов критиков и продаж\n",
    "\n",
    "data_for_forecast_PS4.plot(x='critic_score', y='total_sales', kind='scatter', alpha=0.3, figsize=(8,4), grid=True)\n",
    "plt.xlabel('Оценка критиков')\n",
    "plt.ylabel('Продажи')\n",
    "plt.title('Влияние оценки критиков на продажи');\n",
    "plt.show()\n",
    "\n",
    "score_corr = data_for_forecast_PS4['critic_score'].corr(data_for_forecast_PS4['total_sales'])\n",
    "if abs(score_corr) <= 0.3:\n",
    "    type_of_corr = 'Корреляция отсутствует, коэффициент:'\n",
    "elif 0.3 < abs(score_corr) <= 0.5:\n",
    "    type_of_corr = 'Корреляция слабая, коэффициент:'\n",
    "elif 0.5 < abs(score_corr) <= 0.7:\n",
    "    type_of_corr = 'Корреляция средняя, коэффициент:'\n",
    "else:\n",
    "    type_of_corr = 'Корреляция сильная, коэффициент:'\n",
    "    \n",
    "    \n",
    "print(type_of_corr, score_corr.round(3))"
   ]
  },
  {
   "cell_type": "markdown",
   "metadata": {},
   "source": [
    "На слабую корреляцию оценки критиков и продаж указывает коэффициент, а также его видно на графике плавный рост продаж с увеличением оценки критиков. Это может означать, что перед покупкой игры пользователи не часто, но ориентируются на оценку критиков.\n",
    "\n",
    "Проверим сделанные выводы на других платформах:"
   ]
  },
  {
   "cell_type": "code",
   "execution_count": 34,
   "metadata": {},
   "outputs": [
    {
     "name": "stdout",
     "output_type": "stream",
     "text": [
      "Корреляция продаж с оценками пользователей:\n",
      "PS3 :  Корреляция отсутствует, коэффициент: 0.157\n",
      "XOne :  Корреляция отсутствует, коэффициент: -0.092\n",
      "3DS :  Корреляция отсутствует, коэффициент: 0.28\n",
      "X360 :  Корреляция слабая, коэффициент: 0.337\n",
      "WiiU :  Корреляция слабая, коэффициент: 0.411\n"
     ]
    }
   ],
   "source": [
    "#выбрали 5 платформ после PS4 из топ-10 \n",
    "\n",
    "top_platforms = ['PS3', 'XOne', '3DS', 'X360', 'WiiU']\n",
    "\n",
    "print('Корреляция продаж с оценками пользователей:')\n",
    "for platform in top_platforms:\n",
    "    new_data = data_without_zero_score.loc[data_without_zero_score['platform']==platform]\n",
    "    score_corr = new_data['user_score'].corr(new_data['total_sales'])\n",
    "    if abs(score_corr) <= 0.3:\n",
    "        type_of_corr = 'Корреляция отсутствует, коэффициент:'\n",
    "    elif 0.3 < abs(score_corr) <= 0.5:\n",
    "        type_of_corr = 'Корреляция слабая, коэффициент:'\n",
    "    elif 0.5 < abs(score_corr) <= 0.7:\n",
    "        type_of_corr = 'Корреляция средняя, коэффициент:'\n",
    "    else:\n",
    "        type_of_corr = 'Корреляция сильная, коэффициент:'\n",
    "    print(platform, ': ', type_of_corr, score_corr.round(3))"
   ]
  },
  {
   "cell_type": "markdown",
   "metadata": {},
   "source": [
    "На 3 из 5 платформ корреляция оценки пользователей и продаж отсуствует, что подтверждает наше предположение: **Оценка пользователей не влияет на продажи игр.**"
   ]
  },
  {
   "cell_type": "code",
   "execution_count": 35,
   "metadata": {},
   "outputs": [
    {
     "name": "stdout",
     "output_type": "stream",
     "text": [
      "Корреляция продаж с оценками критиков:\n",
      "PS3 :  Корреляция слабая, коэффициент: 0.447\n",
      "XOne :  Корреляция слабая, коэффициент: 0.422\n",
      "3DS :  Корреляция отсутствует, коэффициент: 0.285\n",
      "X360 :  Корреляция средняя, коэффициент: 0.526\n",
      "WiiU :  Корреляция слабая, коэффициент: 0.376\n"
     ]
    }
   ],
   "source": [
    "print('Корреляция продаж с оценками критиков:')\n",
    "for platform in top_platforms:\n",
    "    new_data = data_without_zero_score.loc[data_without_zero_score['platform']==platform]\n",
    "    score_corr = new_data['critic_score'].corr(new_data['total_sales'])\n",
    "    if abs(score_corr) <= 0.3:\n",
    "        type_of_corr = 'Корреляция отсутствует, коэффициент:'\n",
    "    elif 0.3 < abs(score_corr) <= 0.5:\n",
    "        type_of_corr = 'Корреляция слабая, коэффициент:'\n",
    "    elif 0.5 < abs(score_corr) <= 0.7:\n",
    "        type_of_corr = 'Корреляция средняя, коэффициент:'\n",
    "    else:\n",
    "        type_of_corr = 'Корреляция сильная, коэффициент:'\n",
    "    print(platform, ': ', type_of_corr, score_corr.round(3))"
   ]
  },
  {
   "cell_type": "markdown",
   "metadata": {},
   "source": [
    "На 3 из 5 платформ присутствует слабая корреляция оценки критиков и продаж, а на одной из платформ - даже средняя (по нижней границе средней корреляции, 0.526). Эти расчеты подтверждают наше предположение: **Оценка критиков слабо влияет на продажи игр.**"
   ]
  },
  {
   "cell_type": "markdown",
   "metadata": {},
   "source": [
    "### Распределение игр по жанрам\n",
    "\n",
    "Выделим самые популярные и наименее популярные жанры:"
   ]
  },
  {
   "cell_type": "code",
   "execution_count": 36,
   "metadata": {},
   "outputs": [
    {
     "data": {
      "text/html": [
       "<div>\n",
       "<style scoped>\n",
       "    .dataframe tbody tr th:only-of-type {\n",
       "        vertical-align: middle;\n",
       "    }\n",
       "\n",
       "    .dataframe tbody tr th {\n",
       "        vertical-align: top;\n",
       "    }\n",
       "\n",
       "    .dataframe thead th {\n",
       "        text-align: right;\n",
       "    }\n",
       "</style>\n",
       "<table border=\"1\" class=\"dataframe\">\n",
       "  <thead>\n",
       "    <tr style=\"text-align: right;\">\n",
       "      <th></th>\n",
       "      <th>total_sales</th>\n",
       "      <th>count</th>\n",
       "      <th>mean</th>\n",
       "    </tr>\n",
       "    <tr>\n",
       "      <th>genre</th>\n",
       "      <th></th>\n",
       "      <th></th>\n",
       "      <th></th>\n",
       "    </tr>\n",
       "  </thead>\n",
       "  <tbody>\n",
       "    <tr>\n",
       "      <th>Shooter</th>\n",
       "      <td>170.94</td>\n",
       "      <td>128</td>\n",
       "      <td>1.34</td>\n",
       "    </tr>\n",
       "    <tr>\n",
       "      <th>Sports</th>\n",
       "      <td>109.48</td>\n",
       "      <td>161</td>\n",
       "      <td>0.68</td>\n",
       "    </tr>\n",
       "    <tr>\n",
       "      <th>Platform</th>\n",
       "      <td>18.09</td>\n",
       "      <td>38</td>\n",
       "      <td>0.48</td>\n",
       "    </tr>\n",
       "    <tr>\n",
       "      <th>Fighting</th>\n",
       "      <td>28.22</td>\n",
       "      <td>60</td>\n",
       "      <td>0.47</td>\n",
       "    </tr>\n",
       "    <tr>\n",
       "      <th>Role-Playing</th>\n",
       "      <td>101.44</td>\n",
       "      <td>221</td>\n",
       "      <td>0.46</td>\n",
       "    </tr>\n",
       "    <tr>\n",
       "      <th>Racing</th>\n",
       "      <td>27.52</td>\n",
       "      <td>69</td>\n",
       "      <td>0.40</td>\n",
       "    </tr>\n",
       "    <tr>\n",
       "      <th>Misc</th>\n",
       "      <td>37.55</td>\n",
       "      <td>113</td>\n",
       "      <td>0.33</td>\n",
       "    </tr>\n",
       "    <tr>\n",
       "      <th>Action</th>\n",
       "      <td>199.36</td>\n",
       "      <td>619</td>\n",
       "      <td>0.32</td>\n",
       "    </tr>\n",
       "    <tr>\n",
       "      <th>Simulation</th>\n",
       "      <td>13.13</td>\n",
       "      <td>44</td>\n",
       "      <td>0.30</td>\n",
       "    </tr>\n",
       "    <tr>\n",
       "      <th>Puzzle</th>\n",
       "      <td>2.21</td>\n",
       "      <td>14</td>\n",
       "      <td>0.16</td>\n",
       "    </tr>\n",
       "    <tr>\n",
       "      <th>Strategy</th>\n",
       "      <td>3.96</td>\n",
       "      <td>37</td>\n",
       "      <td>0.11</td>\n",
       "    </tr>\n",
       "    <tr>\n",
       "      <th>Adventure</th>\n",
       "      <td>17.55</td>\n",
       "      <td>185</td>\n",
       "      <td>0.09</td>\n",
       "    </tr>\n",
       "  </tbody>\n",
       "</table>\n",
       "</div>"
      ],
      "text/plain": [
       "              total_sales  count  mean\n",
       "genre                                 \n",
       "Shooter            170.94    128  1.34\n",
       "Sports             109.48    161  0.68\n",
       "Platform            18.09     38  0.48\n",
       "Fighting            28.22     60  0.47\n",
       "Role-Playing       101.44    221  0.46\n",
       "Racing              27.52     69  0.40\n",
       "Misc                37.55    113  0.33\n",
       "Action             199.36    619  0.32\n",
       "Simulation          13.13     44  0.30\n",
       "Puzzle               2.21     14  0.16\n",
       "Strategy             3.96     37  0.11\n",
       "Adventure           17.55    185  0.09"
      ]
     },
     "execution_count": 36,
     "metadata": {},
     "output_type": "execute_result"
    }
   ],
   "source": [
    "#таблица жанров по продажам\n",
    "\n",
    "genres = data_for_forecast.pivot_table(index='genre', values='total_sales', aggfunc=['sum', 'count'])\n",
    "genres.columns = ['total_sales','count']\n",
    "genres['mean'] = (genres['total_sales']/genres['count']).round(2)\n",
    "genres.sort_values('mean',ascending=False)"
   ]
  },
  {
   "cell_type": "markdown",
   "metadata": {},
   "source": [
    "Для каждого жанра мы посчитали соотношение проданных копий (в млн) к количеству вышедших игр в целом. \n",
    "- Самые высокие соотношения у жанров Shooter (в среднем 1.34 млн проданных копий на каждую игру) и Sports (0.68 млн копий на игру) - это наиболее популярные жанры игр.\n",
    "- Самые низкие соотношения у жанров Strategy (в среднем 0.11 млн проданных копий на каждую игру) и Adventure (0.09 млн копий на игру) - это наименее популярные жанры игр.\n",
    "\n",
    "Интересно, что самый многочисленный жанр Action\t(619 игр) уступает большинству других жанров - всего 0.32 млн проданных копий на игру."
   ]
  },
  {
   "cell_type": "markdown",
   "metadata": {},
   "source": [
    "## Определим для пользователя каждого региона:\n",
    "\n",
    "### Самые популярные платформы в каждом регионе (топ-5):"
   ]
  },
  {
   "cell_type": "code",
   "execution_count": 37,
   "metadata": {},
   "outputs": [
    {
     "data": {
      "image/png": "[encoded data removed]",
      "text/plain": [
       "<Figure size 360x360 with 1 Axes>"
      ]
     },
     "metadata": {},
     "output_type": "display_data"
    },
    {
     "data": {
      "image/png": "[encoded data removed]",
      "text/plain": [
       "<Figure size 360x360 with 1 Axes>"
      ]
     },
     "metadata": {},
     "output_type": "display_data"
    },
    {
     "data": {
      "image/png": "[encoded data removed]",
      "text/plain": [
       "<Figure size 360x360 with 1 Axes>"
      ]
     },
     "metadata": {},
     "output_type": "display_data"
    }
   ],
   "source": [
    "#круговые диаграммы 5 самых продаваемых платформ в каждом регионе:\n",
    "\n",
    "na_platform = data_for_forecast.groupby('platform')['na_sales'].sum().sort_values(ascending=False).head(5)\n",
    "na_platform.plot(x='platform', y='total_sales', figsize=(5, 5), kind='pie',autopct='%1.0f%%')\n",
    "plt.xlabel('Продажи в Северной Америке')\n",
    "plt.show()\n",
    "\n",
    "eu_platform = data_for_forecast.groupby('platform')['eu_sales'].sum().sort_values(ascending=False).head(5)\n",
    "eu_platform.plot(x='platform', y='total_sales', figsize=(5, 5), kind='pie',autopct='%1.0f%%')\n",
    "plt.xlabel('Продажи в Европе')\n",
    "plt.show()\n",
    "\n",
    "jp_platform = data_for_forecast.groupby('platform')['jp_sales'].sum().sort_values(ascending=False).head(5)\n",
    "jp_platform.plot(x='platform', y='total_sales', figsize=(5, 5), kind='pie',autopct='%1.0f%%')\n",
    "plt.xlabel('Продажи в Японии')\n",
    "plt.show()"
   ]
  },
  {
   "cell_type": "markdown",
   "metadata": {},
   "source": [
    "В Европе и Северной Америке лидирует PS4, в Японии - 3DS (Nintendo). Обе платформы производятся в Японии, однако, скорее всего, засчет компактности и мобильности японцы предпочитают портативные платформы, нежели стационарные. Это также подтверждает то, что в платформа Wiiu (также Nintendo) встречается в топ-5 только в Японии. В топ-5 Японии не встречается стационарная платформа XOne (Xbox One), которую производит Microsoft, низкая популярность может быть связана как со стационарностью, так и с поддержкой отечественного производителя (Sony, Nintendo)."
   ]
  },
  {
   "cell_type": "markdown",
   "metadata": {},
   "source": [
    "### Самые популярные жанры в каждом регионе (топ-5):"
   ]
  },
  {
   "cell_type": "code",
   "execution_count": 38,
   "metadata": {},
   "outputs": [
    {
     "data": {
      "image/png": "[encoded data removed]",
      "text/plain": [
       "<Figure size 360x360 with 1 Axes>"
      ]
     },
     "metadata": {},
     "output_type": "display_data"
    },
    {
     "data": {
      "image/png": "[encoded data removed]",
      "text/plain": [
       "<Figure size 360x360 with 1 Axes>"
      ]
     },
     "metadata": {},
     "output_type": "display_data"
    },
    {
     "data": {
      "image/png": "[encoded data removed]",
      "text/plain": [
       "<Figure size 360x360 with 1 Axes>"
      ]
     },
     "metadata": {},
     "output_type": "display_data"
    }
   ],
   "source": [
    "#круговые диаграммы 5 самых продаваемых жанров в каждом регионе:\n",
    "\n",
    "na_genre = data_for_forecast.groupby('genre')['na_sales'].sum().sort_values(ascending=False).head(5)\n",
    "na_genre.plot(x='genre', y='total_sales', figsize=(5, 5), kind='pie',autopct='%1.0f%%')\n",
    "plt.xlabel('Продажи в Северной Америке')\n",
    "plt.show()\n",
    "\n",
    "eu_genre = data_for_forecast.groupby('genre')['eu_sales'].sum().sort_values(ascending=False).head(5)\n",
    "eu_genre.plot(x='genre', y='total_sales', figsize=(5, 5), kind='pie',autopct='%1.0f%%')\n",
    "plt.xlabel('Продажи в Европе')\n",
    "plt.show()\n",
    "\n",
    "jp_genre = data_for_forecast.groupby('genre')['jp_sales'].sum().sort_values(ascending=False).head(5)\n",
    "jp_genre.plot(x='genre', y='total_sales', figsize=(5, 5), kind='pie',autopct='%1.0f%%')\n",
    "plt.xlabel('Продажи в Японии')\n",
    "plt.show()"
   ]
  },
  {
   "cell_type": "markdown",
   "metadata": {},
   "source": [
    "Распределение популярности жанров в Северной Америке и Европе похожи, первые три места занимают Action, Shooter и Sports, различие только в пятом месте - В СА это Misc (аркады для PC), а в Европе это Rasing (гоночные игры).\n",
    "\n",
    "В Японии наиболее продаваемыми жанрами являются ролевые игры и жанр Экшн. Популярность ролевый игр в Японии может быть обусловлена менталитетом и желанием погрузится в виртуальный мир от первого лица и принять на себя новую роль."
   ]
  },
  {
   "cell_type": "markdown",
   "metadata": {},
   "source": [
    "### Самые часто встречающиеся возрастные ограничения в каждом регионе:"
   ]
  },
  {
   "cell_type": "code",
   "execution_count": 39,
   "metadata": {},
   "outputs": [
    {
     "data": {
      "image/png": "[encoded data removed]",
      "text/plain": [
       "<Figure size 360x360 with 1 Axes>"
      ]
     },
     "metadata": {},
     "output_type": "display_data"
    },
    {
     "data": {
      "image/png": "[encoded data removed]",
      "text/plain": [
       "<Figure size 360x360 with 1 Axes>"
      ]
     },
     "metadata": {},
     "output_type": "display_data"
    },
    {
     "data": {
      "image/png": "[encoded data removed]",
      "text/plain": [
       "<Figure size 360x360 with 1 Axes>"
      ]
     },
     "metadata": {},
     "output_type": "display_data"
    }
   ],
   "source": [
    "#круговые диаграммы 5 возрастных ограничений игр в каждом регионе:\n",
    "\n",
    "na_rating = data_for_forecast.groupby('rating')['na_sales'].sum().sort_values(ascending=False).head(5)\n",
    "na_rating.plot(x='rating', y='total_sales', figsize=(5, 5), kind='pie',autopct='%1.0f%%')\n",
    "plt.xlabel('Продажи в Северной Америке')\n",
    "plt.show()\n",
    "\n",
    "eu_rating = data_for_forecast.groupby('rating')['eu_sales'].sum().sort_values(ascending=False).head(5)\n",
    "eu_rating.plot(x='rating', y='total_sales', figsize=(5, 5), kind='pie',autopct='%1.0f%%')\n",
    "plt.xlabel('Продажи в Европе')\n",
    "plt.show()\n",
    "\n",
    "jp_rating = data_for_forecast.groupby('rating')['jp_sales'].sum().sort_values(ascending=False).head(5)\n",
    "jp_rating.plot(x='genre', y='total_sales', figsize=(5, 5), kind='pie',autopct='%1.0f%%')\n",
    "plt.xlabel('Продажи в Японии')\n",
    "plt.show()"
   ]
  },
  {
   "cell_type": "markdown",
   "metadata": {},
   "source": [
    "Как и в диаграммах выше, самые часто встречающиеся возрастные ограниченя в СА и Европе идентичны, самые частые: M (17+) и E (без возрастных ограничений). В Японии лидируют игры для подростков и старше (13+), скорее всего, популярность обусловлена большим количеством японских школьников, а также доступностью платформ в Японии, так как страна является производителем.\n",
    "\n",
    "Из диаграмм можно сделать вывод, что возрастные огранифения влияют на продажи в регионах."
   ]
  },
  {
   "cell_type": "markdown",
   "metadata": {},
   "source": [
    "## Проверка гипотез"
   ]
  },
  {
   "cell_type": "markdown",
   "metadata": {},
   "source": [
    "###  \"Средние пользовательские рейтинги платформ Xbox One и PC одинаковые\""
   ]
  },
  {
   "cell_type": "markdown",
   "metadata": {},
   "source": [
    "Для проверки данной гипотезы установим следующие гипотезы:\n",
    "\n",
    "H0: средние рейтинги по платформам одинаковые - нулевая гипотеза, изначальное предположение \\\n",
    "H1: средние рейтинги по платформам разные - альтернативная гипотеза\n",
    "\n",
    "Применим критерий alpha = 0.05 для проверки гипотез, потому что 95% вероятность верного ответа в данном вопросе нас вполне устраивает."
   ]
  },
  {
   "cell_type": "code",
   "execution_count": 40,
   "metadata": {},
   "outputs": [
    {
     "name": "stdout",
     "output_type": "stream",
     "text": [
      "p-значение: 0.10450507919348415\n",
      "Не получилось отвергнуть нулевую гипотезу\n"
     ]
    }
   ],
   "source": [
    "# убираем значения, которые были пропусками\n",
    "new_data = data_for_forecast[data_for_forecast['user_score'] != 0]\n",
    "\n",
    "#из всех данных выберем нужные платформы\n",
    "data_xbox = new_data[new_data['platform'] == 'XOne']\n",
    "data_pc = new_data[new_data['platform'] == 'PC']\n",
    "\n",
    "#из данных по платформам выберем столбец с оценками пользователей\n",
    "xbox = data_xbox['user_score']\n",
    "pc = data_pc['user_score']\n",
    "\n",
    "#критический уровень статистической значимости\n",
    "alpha = .05 \n",
    "\n",
    "#метод проверки равенства средних двух генеральных совокупностей\n",
    "results = st.ttest_ind(xbox, pc) \n",
    "print('p-значение:', results.pvalue)\n",
    "\n",
    "if results.pvalue < alpha:\n",
    "    print(\"Отвергаем нулевую гипотезу\")\n",
    "else:\n",
    "    print(\"Не получилось отвергнуть нулевую гипотезу\")"
   ]
  },
  {
   "cell_type": "markdown",
   "metadata": {},
   "source": [
    "Гипотезу \"Средние пользовательские рейтинги платформ Xbox One и PC одинаковые\" - не получилось отвергнуть.\n"
   ]
  },
  {
   "cell_type": "markdown",
   "metadata": {},
   "source": [
    "###  \"Средние пользовательские рейтинги жанров Action и Sports разные\""
   ]
  },
  {
   "cell_type": "markdown",
   "metadata": {},
   "source": [
    "Для проверки данной гипотезы установим следующие гипотезы:\n",
    "\n",
    "H0: средние рейтинги по жанрам одинаковые - нулевая гипотеза, изначальное предположение \\\n",
    "H1: средние рейтинги по жанрам разные - альтернативная гипотеза\n",
    "\n",
    "Применим критерий alpha = 0.05 для проверки гипотез, потому что 95% вероятность верного ответа в данном вопросе нас вполне устраивает."
   ]
  },
  {
   "cell_type": "code",
   "execution_count": 41,
   "metadata": {},
   "outputs": [
    {
     "name": "stdout",
     "output_type": "stream",
     "text": [
      "p-значение: 2.8711147985105864e-19\n",
      "Отвергаем нулевую гипотезу\n"
     ]
    }
   ],
   "source": [
    "#из всех данных выберем нужные жанры\n",
    "data_action = new_data[new_data['genre'] == 'Action']\n",
    "data_sports = new_data[new_data['genre'] == 'Sports']\n",
    "\n",
    "#из данных по жанрам выберем столбец с оценками пользователей\n",
    "action = data_action['user_score']\n",
    "sports = data_sports['user_score']\n",
    "\n",
    "# критический уровень статистической значимости\n",
    "alpha = .05 \n",
    "\n",
    "#метод проверки равенства средних двух генеральных совокупностей\n",
    "results = st.ttest_ind(action, sports)\n",
    "print('p-значение:', results.pvalue)\n",
    "\n",
    "if results.pvalue < alpha:\n",
    "    print(\"Отвергаем нулевую гипотезу\")\n",
    "else:\n",
    "    print(\"Не получилось отвергнуть нулевую гипотезу\")"
   ]
  },
  {
   "cell_type": "markdown",
   "metadata": {},
   "source": [
    "Гипотезу \"Средние пользовательские рейтинги жанров Action и Sports разные\" не получилось отвергнуть."
   ]
  },
  {
   "cell_type": "markdown",
   "metadata": {},
   "source": [
    "# Общий вывод"
   ]
  },
  {
   "cell_type": "markdown",
   "metadata": {},
   "source": [
    "Для того, чтобы отработать принцип работы с данными мы прошли несколько этапов:\n",
    "\n",
    "1. **Изучили общую информацию**;"
   ]
  },
  {
   "cell_type": "markdown",
   "metadata": {},
   "source": [
    "2. **Подготовили данные**:\n",
    "\n",
    "- привели названия столбцов к единому регистру;\n",
    "\n",
    "- обработали пропуски - удалили строки с пропусками в столбцах название, год выпуска и жанр; а также заполнили \"0\" пропуски в столбцах: с оценками критиков (изначально нет нулевых оценок), с оценками пользователей (изначально одна игра с нулевой оценкой); заменили аббривеатуру TDB (\"To Be Determined\" на \"0\"). В дальнейшем данные строки были исключены из анализа;\n",
    "\n",
    "- объединили рейтинги K-A и E10+, пропуски оставили незаполненными;\n",
    "\n",
    "- изменили типы данных в столбцах: год выпуска (на целочисленный тип), оценка критиков (на целочисленный тип), оценка пользователей (на вещественный тип);\n",
    "\n",
    "- провели поиск полных дубликатов (отсуствовали);\n",
    "\n",
    "- добавили столбец с суммарными продажами по регионам."
   ]
  },
  {
   "cell_type": "markdown",
   "metadata": {},
   "source": [
    "3. **Провели исследовательский анализ данных**:\n",
    "- **выпуск игр в разные годы**: пик выпуска игр приходится на 2009-2010 гг, но в 2016 году наблюдается резкий рост количества выпущенных игр;\n",
    "\n",
    "\n",
    "- **изменение продаж по платформам**: выбрали 10 платформ с наибольшими суммарными продажами по всем регионам, анализ показал, что средняя продолжительность \"жизни\" платформы составляет 8-11 лет, при чем спад значительно \"плавнее\", чем рост. К 2016 году самой популярной платформой являлась PS4, остальные платформы находились на спаде;\n",
    "\n",
    "\n",
    "- **определили актуальный период**: на основе вышеописанных анализов, определили актуальный для прогноза период - 3 года (с 2014 по 2016 (неполный) год включительно). Дальнейшие выводу относятся только к этому периоду;\n",
    "\n",
    "\n",
    "- **выбрали потенциально прибыльные платформы**: на основе данных только за актуальный период, по количеству проданных копий в разрезе годов, потенциально прибыльными платформами были определены PS4 и XOne, которые на момент 2015 года находились в точке роста;\n",
    "\n",
    "\n",
    "- **построили \"ящик с усами\" по платформам за актуальный период**: по данным графика сделали вывод, что несмотря на большое разную длину \"усов\", показывающую размах количества проданных копий, наиболее частовстречающееся количество проданнных копий на наиболее популярных платформах (WiiU, XOne, PS4 и 3DS) находится на уровне около 0.2 - 0.3 млн копий;\n",
    "\n",
    "\n",
    "- **определили влияние отзывов пользователей и критиков на продажи**: 1) оценка пользователей не влияет на продажи игр, 2) оценка критиков слабо влияет на продажи игр;\n",
    "\n",
    "\n",
    "- **определили самые популярные жанры игр**: такими являются Shooter (в среднем 1.34 млн проданных копий на каждую игру) и Sports (0.68 млн копий на игру). "
   ]
  },
  {
   "cell_type": "markdown",
   "metadata": {},
   "source": [
    "4. **Составили портрет пользователя каждого региона**:\n",
    "\n",
    "\n",
    "- **Северная Америка**: чаще всего пользуется платформой PS4 или XOne, предпочитает жанры Shooter, Action и Sports и возрастную категорию M (17+) и E (без возрастных ограничений);\n",
    "\n",
    "\n",
    " - **Европа** (портрет очень похож на пользователя СА): чаще всего пользуется платформой PS4 или XOne, предпочитает жанры Action, Shooter и Sports и возрастную категорию M (17+) и E (без возрастных ограничений);\n",
    " \n",
    " \n",
    "- **Япония** (портрет сильно отличается от пользователей двух других регионов):  чаще всего пользуется платформой 3DS, предпочитает жанры Role-Playing и Action и возрастную категорию T (13+) и E (без возрастных ограничений)."
   ]
  },
  {
   "cell_type": "markdown",
   "metadata": {},
   "source": [
    "5. **Проверили гипотезы**: \n",
    "\n",
    "\n",
    "- \"Средние пользовательские рейтинги платформ Xbox One и PC одинаковые\" - не получилось отвергнуть;\n",
    "\n",
    "\n",
    "- \"Средние пользовательские рейтинги жанров Action и Sports разные\" - не получилось отвергнуть."
   ]
  }
 ],
 "metadata": {
  "ExecuteTimeLog": [
   {
    "duration": 397,
    "start_time": "2023-01-18T22:52:03.705Z"
   },
   {
    "duration": 188,
    "start_time": "2023-01-18T22:52:27.924Z"
   },
   {
    "duration": 28,
    "start_time": "2023-01-18T22:53:16.580Z"
   },
   {
    "duration": 13,
    "start_time": "2023-01-18T22:53:57.282Z"
   },
   {
    "duration": 379,
    "start_time": "2023-01-18T22:58:38.741Z"
   },
   {
    "duration": 10,
    "start_time": "2023-01-18T23:03:15.212Z"
   },
   {
    "duration": 71,
    "start_time": "2023-01-18T23:10:02.992Z"
   },
   {
    "duration": 6,
    "start_time": "2023-01-18T23:10:15.803Z"
   },
   {
    "duration": 5,
    "start_time": "2023-01-18T23:10:38.172Z"
   },
   {
    "duration": 14,
    "start_time": "2023-01-18T23:24:47.758Z"
   },
   {
    "duration": 17,
    "start_time": "2023-01-18T23:25:01.231Z"
   },
   {
    "duration": 12,
    "start_time": "2023-01-18T23:25:15.637Z"
   },
   {
    "duration": 13,
    "start_time": "2023-01-18T23:25:19.718Z"
   },
   {
    "duration": 11,
    "start_time": "2023-01-18T23:25:22.884Z"
   },
   {
    "duration": 6,
    "start_time": "2023-01-18T23:31:33.392Z"
   },
   {
    "duration": 15,
    "start_time": "2023-01-18T23:31:48.297Z"
   },
   {
    "duration": 6,
    "start_time": "2023-01-18T23:32:17.052Z"
   },
   {
    "duration": 12,
    "start_time": "2023-01-18T23:32:19.144Z"
   },
   {
    "duration": 14,
    "start_time": "2023-01-18T23:33:06.737Z"
   },
   {
    "duration": 13,
    "start_time": "2023-01-18T23:33:33.920Z"
   },
   {
    "duration": 18,
    "start_time": "2023-01-18T23:34:19.192Z"
   },
   {
    "duration": 9,
    "start_time": "2023-01-18T23:34:36.747Z"
   },
   {
    "duration": 13,
    "start_time": "2023-01-18T23:34:41.448Z"
   },
   {
    "duration": 22,
    "start_time": "2023-01-18T23:36:10.497Z"
   },
   {
    "duration": 17,
    "start_time": "2023-01-18T23:36:31.568Z"
   },
   {
    "duration": 13,
    "start_time": "2023-01-18T23:38:16.630Z"
   },
   {
    "duration": 21,
    "start_time": "2023-01-18T23:38:17.630Z"
   },
   {
    "duration": 9,
    "start_time": "2023-01-18T23:38:54.974Z"
   },
   {
    "duration": 6,
    "start_time": "2023-01-18T23:39:04.334Z"
   },
   {
    "duration": 17,
    "start_time": "2023-01-18T23:39:11.749Z"
   },
   {
    "duration": 10,
    "start_time": "2023-01-18T23:39:45.316Z"
   },
   {
    "duration": 15,
    "start_time": "2023-01-18T23:39:49.750Z"
   },
   {
    "duration": 16,
    "start_time": "2023-01-18T23:41:44.852Z"
   },
   {
    "duration": 14,
    "start_time": "2023-01-18T23:41:57.092Z"
   },
   {
    "duration": 6,
    "start_time": "2023-01-18T23:50:57.541Z"
   },
   {
    "duration": 5,
    "start_time": "2023-01-18T23:51:17.806Z"
   },
   {
    "duration": 5,
    "start_time": "2023-01-18T23:51:19.421Z"
   },
   {
    "duration": 93,
    "start_time": "2023-01-18T23:52:54.341Z"
   },
   {
    "duration": 10,
    "start_time": "2023-01-19T00:07:31.309Z"
   },
   {
    "duration": 6,
    "start_time": "2023-01-19T00:09:04.378Z"
   },
   {
    "duration": 4,
    "start_time": "2023-01-19T00:10:22.756Z"
   },
   {
    "duration": 5,
    "start_time": "2023-01-19T00:10:49.421Z"
   },
   {
    "duration": 4,
    "start_time": "2023-01-19T00:12:29.292Z"
   },
   {
    "duration": 4,
    "start_time": "2023-01-19T00:12:33.827Z"
   },
   {
    "duration": 10,
    "start_time": "2023-01-19T00:15:40.245Z"
   },
   {
    "duration": 13,
    "start_time": "2023-01-19T00:15:52.138Z"
   },
   {
    "duration": 20,
    "start_time": "2023-01-19T00:16:10.979Z"
   },
   {
    "duration": 5,
    "start_time": "2023-01-19T00:20:06.567Z"
   },
   {
    "duration": 13,
    "start_time": "2023-01-19T00:21:52.060Z"
   },
   {
    "duration": 5,
    "start_time": "2023-01-19T00:22:05.202Z"
   },
   {
    "duration": 17,
    "start_time": "2023-01-19T00:22:11.843Z"
   },
   {
    "duration": 4,
    "start_time": "2023-01-19T00:22:31.034Z"
   },
   {
    "duration": 24,
    "start_time": "2023-01-19T00:23:36.484Z"
   },
   {
    "duration": 22,
    "start_time": "2023-01-19T00:26:20.323Z"
   },
   {
    "duration": 7,
    "start_time": "2023-01-19T00:30:03.635Z"
   },
   {
    "duration": 5,
    "start_time": "2023-01-19T00:30:16.958Z"
   },
   {
    "duration": 5,
    "start_time": "2023-01-19T00:30:57.387Z"
   },
   {
    "duration": 3,
    "start_time": "2023-01-19T00:31:15.655Z"
   },
   {
    "duration": 55,
    "start_time": "2023-01-19T00:31:15.660Z"
   },
   {
    "duration": 14,
    "start_time": "2023-01-19T00:31:15.716Z"
   },
   {
    "duration": 15,
    "start_time": "2023-01-19T00:31:15.732Z"
   },
   {
    "duration": 4,
    "start_time": "2023-01-19T00:31:15.749Z"
   },
   {
    "duration": 39,
    "start_time": "2023-01-19T00:31:15.754Z"
   },
   {
    "duration": 8,
    "start_time": "2023-01-19T00:31:15.795Z"
   },
   {
    "duration": 10,
    "start_time": "2023-01-19T00:31:15.805Z"
   },
   {
    "duration": 0,
    "start_time": "2023-01-19T00:31:15.817Z"
   },
   {
    "duration": 0,
    "start_time": "2023-01-19T00:31:15.819Z"
   },
   {
    "duration": 0,
    "start_time": "2023-01-19T00:31:15.820Z"
   },
   {
    "duration": 0,
    "start_time": "2023-01-19T00:31:15.821Z"
   },
   {
    "duration": 0,
    "start_time": "2023-01-19T00:31:15.822Z"
   },
   {
    "duration": 0,
    "start_time": "2023-01-19T00:31:15.824Z"
   },
   {
    "duration": 0,
    "start_time": "2023-01-19T00:31:15.824Z"
   },
   {
    "duration": 0,
    "start_time": "2023-01-19T00:31:15.825Z"
   },
   {
    "duration": 0,
    "start_time": "2023-01-19T00:31:15.826Z"
   },
   {
    "duration": 0,
    "start_time": "2023-01-19T00:31:15.827Z"
   },
   {
    "duration": 0,
    "start_time": "2023-01-19T00:31:15.828Z"
   },
   {
    "duration": 0,
    "start_time": "2023-01-19T00:31:15.829Z"
   },
   {
    "duration": 3,
    "start_time": "2023-01-19T00:31:36.755Z"
   },
   {
    "duration": 54,
    "start_time": "2023-01-19T00:31:36.760Z"
   },
   {
    "duration": 14,
    "start_time": "2023-01-19T00:31:36.816Z"
   },
   {
    "duration": 16,
    "start_time": "2023-01-19T00:31:36.832Z"
   },
   {
    "duration": 4,
    "start_time": "2023-01-19T00:31:36.850Z"
   },
   {
    "duration": 16,
    "start_time": "2023-01-19T00:31:36.855Z"
   },
   {
    "duration": 25,
    "start_time": "2023-01-19T00:31:36.872Z"
   },
   {
    "duration": 18,
    "start_time": "2023-01-19T00:31:36.898Z"
   },
   {
    "duration": 0,
    "start_time": "2023-01-19T00:31:36.919Z"
   },
   {
    "duration": 0,
    "start_time": "2023-01-19T00:31:36.921Z"
   },
   {
    "duration": 0,
    "start_time": "2023-01-19T00:31:36.922Z"
   },
   {
    "duration": 0,
    "start_time": "2023-01-19T00:31:36.924Z"
   },
   {
    "duration": 0,
    "start_time": "2023-01-19T00:31:36.925Z"
   },
   {
    "duration": 0,
    "start_time": "2023-01-19T00:31:36.927Z"
   },
   {
    "duration": 0,
    "start_time": "2023-01-19T00:31:36.928Z"
   },
   {
    "duration": 0,
    "start_time": "2023-01-19T00:31:36.929Z"
   },
   {
    "duration": 0,
    "start_time": "2023-01-19T00:31:36.930Z"
   },
   {
    "duration": 0,
    "start_time": "2023-01-19T00:31:36.931Z"
   },
   {
    "duration": 0,
    "start_time": "2023-01-19T00:31:36.932Z"
   },
   {
    "duration": 4,
    "start_time": "2023-01-19T00:32:29.872Z"
   },
   {
    "duration": 10,
    "start_time": "2023-01-19T00:32:31.808Z"
   },
   {
    "duration": 3,
    "start_time": "2023-01-19T00:32:36.962Z"
   },
   {
    "duration": 54,
    "start_time": "2023-01-19T00:32:36.967Z"
   },
   {
    "duration": 13,
    "start_time": "2023-01-19T00:32:37.023Z"
   },
   {
    "duration": 21,
    "start_time": "2023-01-19T00:32:37.039Z"
   },
   {
    "duration": 4,
    "start_time": "2023-01-19T00:32:37.063Z"
   },
   {
    "duration": 29,
    "start_time": "2023-01-19T00:32:37.069Z"
   },
   {
    "duration": 10,
    "start_time": "2023-01-19T00:32:37.101Z"
   },
   {
    "duration": 9,
    "start_time": "2023-01-19T00:32:37.113Z"
   },
   {
    "duration": 13,
    "start_time": "2023-01-19T00:32:37.124Z"
   },
   {
    "duration": 7,
    "start_time": "2023-01-19T00:32:37.138Z"
   },
   {
    "duration": 14,
    "start_time": "2023-01-19T00:32:37.147Z"
   },
   {
    "duration": 13,
    "start_time": "2023-01-19T00:32:37.163Z"
   },
   {
    "duration": 3,
    "start_time": "2023-01-19T00:32:37.193Z"
   },
   {
    "duration": 19,
    "start_time": "2023-01-19T00:32:37.199Z"
   },
   {
    "duration": 10,
    "start_time": "2023-01-19T00:32:37.220Z"
   },
   {
    "duration": 13,
    "start_time": "2023-01-19T00:32:37.232Z"
   },
   {
    "duration": 19,
    "start_time": "2023-01-19T00:32:37.246Z"
   },
   {
    "duration": 7,
    "start_time": "2023-01-19T00:32:37.267Z"
   },
   {
    "duration": 5,
    "start_time": "2023-01-19T00:32:37.276Z"
   },
   {
    "duration": 9,
    "start_time": "2023-01-19T00:32:37.283Z"
   },
   {
    "duration": 2,
    "start_time": "2023-01-19T00:33:05.871Z"
   },
   {
    "duration": 47,
    "start_time": "2023-01-19T00:33:06.734Z"
   },
   {
    "duration": 14,
    "start_time": "2023-01-19T00:33:07.659Z"
   },
   {
    "duration": 13,
    "start_time": "2023-01-19T00:33:10.766Z"
   },
   {
    "duration": 4,
    "start_time": "2023-01-19T00:33:13.448Z"
   },
   {
    "duration": 14,
    "start_time": "2023-01-19T00:33:14.502Z"
   },
   {
    "duration": 5,
    "start_time": "2023-01-19T00:36:00.838Z"
   },
   {
    "duration": 3,
    "start_time": "2023-01-19T00:36:04.190Z"
   },
   {
    "duration": 13,
    "start_time": "2023-01-19T00:36:06.351Z"
   },
   {
    "duration": 54,
    "start_time": "2023-01-19T00:36:16.677Z"
   },
   {
    "duration": 14,
    "start_time": "2023-01-19T00:36:17.566Z"
   },
   {
    "duration": 14,
    "start_time": "2023-01-19T00:36:19.157Z"
   },
   {
    "duration": 3,
    "start_time": "2023-01-19T00:36:22.277Z"
   },
   {
    "duration": 199,
    "start_time": "2023-01-19T00:36:26.178Z"
   },
   {
    "duration": 195,
    "start_time": "2023-01-19T00:36:58.184Z"
   },
   {
    "duration": 44,
    "start_time": "2023-01-19T00:37:11.254Z"
   },
   {
    "duration": 41,
    "start_time": "2023-01-19T00:37:15.677Z"
   },
   {
    "duration": 190,
    "start_time": "2023-01-19T00:37:18.485Z"
   },
   {
    "duration": 3,
    "start_time": "2023-01-19T00:37:28.254Z"
   },
   {
    "duration": 14,
    "start_time": "2023-01-19T00:37:30.742Z"
   },
   {
    "duration": 10,
    "start_time": "2023-01-19T00:37:34.565Z"
   },
   {
    "duration": 14,
    "start_time": "2023-01-19T00:37:37.253Z"
   },
   {
    "duration": 6,
    "start_time": "2023-01-19T00:37:38.884Z"
   },
   {
    "duration": 2,
    "start_time": "2023-01-19T00:37:45.294Z"
   },
   {
    "duration": 54,
    "start_time": "2023-01-19T00:37:45.298Z"
   },
   {
    "duration": 13,
    "start_time": "2023-01-19T00:37:45.354Z"
   },
   {
    "duration": 14,
    "start_time": "2023-01-19T00:37:45.369Z"
   },
   {
    "duration": 3,
    "start_time": "2023-01-19T00:37:45.391Z"
   },
   {
    "duration": 23,
    "start_time": "2023-01-19T00:37:45.395Z"
   },
   {
    "duration": 8,
    "start_time": "2023-01-19T00:37:45.419Z"
   },
   {
    "duration": 15,
    "start_time": "2023-01-19T00:37:45.429Z"
   },
   {
    "duration": 5,
    "start_time": "2023-01-19T00:37:45.445Z"
   },
   {
    "duration": 3,
    "start_time": "2023-01-19T00:37:45.452Z"
   },
   {
    "duration": 6,
    "start_time": "2023-01-19T00:37:45.458Z"
   },
   {
    "duration": 38,
    "start_time": "2023-01-19T00:37:45.466Z"
   },
   {
    "duration": 10,
    "start_time": "2023-01-19T00:37:45.506Z"
   },
   {
    "duration": 25,
    "start_time": "2023-01-19T00:37:45.517Z"
   },
   {
    "duration": 4,
    "start_time": "2023-01-19T00:37:45.544Z"
   },
   {
    "duration": 7,
    "start_time": "2023-01-19T00:37:45.550Z"
   },
   {
    "duration": 41,
    "start_time": "2023-01-19T00:37:45.559Z"
   },
   {
    "duration": 4,
    "start_time": "2023-01-19T00:37:45.601Z"
   },
   {
    "duration": 5,
    "start_time": "2023-01-19T00:37:45.607Z"
   },
   {
    "duration": 6,
    "start_time": "2023-01-19T00:37:45.613Z"
   },
   {
    "duration": 5,
    "start_time": "2023-01-19T00:39:33.795Z"
   },
   {
    "duration": 7,
    "start_time": "2023-01-19T00:39:51.613Z"
   },
   {
    "duration": 55,
    "start_time": "2023-01-19T00:42:25.876Z"
   },
   {
    "duration": 5,
    "start_time": "2023-01-19T00:44:07.483Z"
   },
   {
    "duration": 14,
    "start_time": "2023-01-19T00:45:02.716Z"
   },
   {
    "duration": 4,
    "start_time": "2023-01-19T00:45:59.076Z"
   },
   {
    "duration": 2,
    "start_time": "2023-01-19T00:46:08.667Z"
   },
   {
    "duration": 58,
    "start_time": "2023-01-19T00:46:08.671Z"
   },
   {
    "duration": 13,
    "start_time": "2023-01-19T00:46:08.730Z"
   },
   {
    "duration": 28,
    "start_time": "2023-01-19T00:46:08.745Z"
   },
   {
    "duration": 11,
    "start_time": "2023-01-19T00:46:08.776Z"
   },
   {
    "duration": 22,
    "start_time": "2023-01-19T00:46:08.789Z"
   },
   {
    "duration": 13,
    "start_time": "2023-01-19T00:46:08.814Z"
   },
   {
    "duration": 21,
    "start_time": "2023-01-19T00:46:08.829Z"
   },
   {
    "duration": 6,
    "start_time": "2023-01-19T00:46:08.852Z"
   },
   {
    "duration": 39,
    "start_time": "2023-01-19T00:46:08.860Z"
   },
   {
    "duration": 9,
    "start_time": "2023-01-19T00:46:08.901Z"
   },
   {
    "duration": 15,
    "start_time": "2023-01-19T00:46:08.912Z"
   },
   {
    "duration": 9,
    "start_time": "2023-01-19T00:46:08.930Z"
   },
   {
    "duration": 7,
    "start_time": "2023-01-19T00:46:08.941Z"
   },
   {
    "duration": 9,
    "start_time": "2023-01-19T00:46:08.950Z"
   },
   {
    "duration": 33,
    "start_time": "2023-01-19T00:46:08.960Z"
   },
   {
    "duration": 17,
    "start_time": "2023-01-19T00:47:49.705Z"
   },
   {
    "duration": 15,
    "start_time": "2023-01-19T00:48:22.271Z"
   },
   {
    "duration": 5,
    "start_time": "2023-01-19T00:51:51.258Z"
   },
   {
    "duration": 8,
    "start_time": "2023-01-19T00:52:43.273Z"
   },
   {
    "duration": 5,
    "start_time": "2023-01-19T00:53:29.859Z"
   },
   {
    "duration": 10,
    "start_time": "2023-01-19T00:54:14.235Z"
   },
   {
    "duration": 9,
    "start_time": "2023-01-19T00:54:28.266Z"
   },
   {
    "duration": 16,
    "start_time": "2023-01-19T00:55:00.946Z"
   },
   {
    "duration": 11,
    "start_time": "2023-01-19T00:58:28.473Z"
   },
   {
    "duration": 12,
    "start_time": "2023-01-19T00:58:39.456Z"
   },
   {
    "duration": 14,
    "start_time": "2023-01-19T00:58:44.512Z"
   },
   {
    "duration": 12,
    "start_time": "2023-01-19T00:59:00.280Z"
   },
   {
    "duration": 12,
    "start_time": "2023-01-19T00:59:29.341Z"
   },
   {
    "duration": 3,
    "start_time": "2023-01-19T00:59:33.658Z"
   },
   {
    "duration": 70,
    "start_time": "2023-01-19T00:59:33.663Z"
   },
   {
    "duration": 13,
    "start_time": "2023-01-19T00:59:33.735Z"
   },
   {
    "duration": 19,
    "start_time": "2023-01-19T00:59:33.750Z"
   },
   {
    "duration": 3,
    "start_time": "2023-01-19T00:59:33.771Z"
   },
   {
    "duration": 26,
    "start_time": "2023-01-19T00:59:33.776Z"
   },
   {
    "duration": 9,
    "start_time": "2023-01-19T00:59:33.806Z"
   },
   {
    "duration": 15,
    "start_time": "2023-01-19T00:59:33.817Z"
   },
   {
    "duration": 5,
    "start_time": "2023-01-19T00:59:33.835Z"
   },
   {
    "duration": 7,
    "start_time": "2023-01-19T00:59:33.842Z"
   },
   {
    "duration": 7,
    "start_time": "2023-01-19T00:59:33.851Z"
   },
   {
    "duration": 35,
    "start_time": "2023-01-19T00:59:33.860Z"
   },
   {
    "duration": 7,
    "start_time": "2023-01-19T00:59:33.906Z"
   },
   {
    "duration": 8,
    "start_time": "2023-01-19T00:59:33.915Z"
   },
   {
    "duration": 8,
    "start_time": "2023-01-19T00:59:33.925Z"
   },
   {
    "duration": 7,
    "start_time": "2023-01-19T00:59:33.935Z"
   },
   {
    "duration": 13,
    "start_time": "2023-01-19T00:59:33.943Z"
   },
   {
    "duration": 10,
    "start_time": "2023-01-19T00:59:33.958Z"
   },
   {
    "duration": 25,
    "start_time": "2023-01-19T00:59:33.993Z"
   },
   {
    "duration": 5,
    "start_time": "2023-01-19T01:07:17.166Z"
   },
   {
    "duration": 3,
    "start_time": "2023-01-19T01:07:22.864Z"
   },
   {
    "duration": 57,
    "start_time": "2023-01-19T01:07:22.868Z"
   },
   {
    "duration": 13,
    "start_time": "2023-01-19T01:07:22.927Z"
   },
   {
    "duration": 14,
    "start_time": "2023-01-19T01:07:22.942Z"
   },
   {
    "duration": 4,
    "start_time": "2023-01-19T01:07:22.958Z"
   },
   {
    "duration": 40,
    "start_time": "2023-01-19T01:07:22.964Z"
   },
   {
    "duration": 8,
    "start_time": "2023-01-19T01:07:23.006Z"
   },
   {
    "duration": 13,
    "start_time": "2023-01-19T01:07:23.015Z"
   },
   {
    "duration": 7,
    "start_time": "2023-01-19T01:07:23.030Z"
   },
   {
    "duration": 5,
    "start_time": "2023-01-19T01:07:23.038Z"
   },
   {
    "duration": 5,
    "start_time": "2023-01-19T01:07:23.045Z"
   },
   {
    "duration": 7,
    "start_time": "2023-01-19T01:07:23.052Z"
   },
   {
    "duration": 48,
    "start_time": "2023-01-19T01:07:23.060Z"
   },
   {
    "duration": 6,
    "start_time": "2023-01-19T01:07:23.110Z"
   },
   {
    "duration": 7,
    "start_time": "2023-01-19T01:07:23.118Z"
   },
   {
    "duration": 12,
    "start_time": "2023-01-19T01:07:23.126Z"
   },
   {
    "duration": 7,
    "start_time": "2023-01-19T01:07:23.139Z"
   },
   {
    "duration": 13,
    "start_time": "2023-01-19T01:07:23.148Z"
   },
   {
    "duration": 10,
    "start_time": "2023-01-19T01:07:23.162Z"
   },
   {
    "duration": 26,
    "start_time": "2023-01-19T01:07:23.198Z"
   },
   {
    "duration": 5,
    "start_time": "2023-01-19T01:07:56.062Z"
   },
   {
    "duration": 2,
    "start_time": "2023-01-19T01:08:01.366Z"
   },
   {
    "duration": 94,
    "start_time": "2023-01-19T01:08:01.370Z"
   },
   {
    "duration": 13,
    "start_time": "2023-01-19T01:08:01.465Z"
   },
   {
    "duration": 48,
    "start_time": "2023-01-19T01:08:01.480Z"
   },
   {
    "duration": 25,
    "start_time": "2023-01-19T01:08:01.530Z"
   },
   {
    "duration": 24,
    "start_time": "2023-01-19T01:08:01.556Z"
   },
   {
    "duration": 23,
    "start_time": "2023-01-19T01:08:01.582Z"
   },
   {
    "duration": 14,
    "start_time": "2023-01-19T01:08:01.607Z"
   },
   {
    "duration": 7,
    "start_time": "2023-01-19T01:17:08.851Z"
   },
   {
    "duration": 70,
    "start_time": "2023-01-19T01:17:47.154Z"
   },
   {
    "duration": 764,
    "start_time": "2023-01-21T02:43:21.326Z"
   },
   {
    "duration": 191,
    "start_time": "2023-01-21T02:43:22.092Z"
   },
   {
    "duration": 16,
    "start_time": "2023-01-21T02:43:22.285Z"
   },
   {
    "duration": 21,
    "start_time": "2023-01-21T02:43:22.303Z"
   },
   {
    "duration": 3,
    "start_time": "2023-01-21T02:43:22.326Z"
   },
   {
    "duration": 25,
    "start_time": "2023-01-21T02:43:22.330Z"
   },
   {
    "duration": 12,
    "start_time": "2023-01-21T02:43:22.357Z"
   },
   {
    "duration": 20,
    "start_time": "2023-01-21T02:43:22.370Z"
   },
   {
    "duration": 6,
    "start_time": "2023-01-21T02:43:22.392Z"
   },
   {
    "duration": 10,
    "start_time": "2023-01-21T02:43:22.401Z"
   },
   {
    "duration": 6,
    "start_time": "2023-01-21T02:43:22.413Z"
   },
   {
    "duration": 30,
    "start_time": "2023-01-21T02:43:22.420Z"
   },
   {
    "duration": 19,
    "start_time": "2023-01-21T02:43:22.452Z"
   },
   {
    "duration": 10,
    "start_time": "2023-01-21T02:43:22.473Z"
   },
   {
    "duration": 5,
    "start_time": "2023-01-21T02:43:22.484Z"
   },
   {
    "duration": 16,
    "start_time": "2023-01-21T02:43:22.491Z"
   },
   {
    "duration": 9,
    "start_time": "2023-01-21T02:43:22.509Z"
   },
   {
    "duration": 15,
    "start_time": "2023-01-21T02:43:22.547Z"
   },
   {
    "duration": 10,
    "start_time": "2023-01-21T02:43:22.564Z"
   },
   {
    "duration": 31,
    "start_time": "2023-01-21T02:43:22.576Z"
   },
   {
    "duration": 7,
    "start_time": "2023-01-21T02:46:01.650Z"
   },
   {
    "duration": 3,
    "start_time": "2023-01-21T02:46:12.355Z"
   },
   {
    "duration": 53,
    "start_time": "2023-01-21T02:46:12.359Z"
   },
   {
    "duration": 12,
    "start_time": "2023-01-21T02:46:12.414Z"
   },
   {
    "duration": 22,
    "start_time": "2023-01-21T02:46:12.428Z"
   },
   {
    "duration": 3,
    "start_time": "2023-01-21T02:46:12.452Z"
   },
   {
    "duration": 15,
    "start_time": "2023-01-21T02:46:12.456Z"
   },
   {
    "duration": 8,
    "start_time": "2023-01-21T02:46:12.472Z"
   },
   {
    "duration": 12,
    "start_time": "2023-01-21T02:46:12.482Z"
   },
   {
    "duration": 6,
    "start_time": "2023-01-21T02:46:12.496Z"
   },
   {
    "duration": 5,
    "start_time": "2023-01-21T02:46:12.504Z"
   },
   {
    "duration": 5,
    "start_time": "2023-01-21T02:46:12.510Z"
   },
   {
    "duration": 31,
    "start_time": "2023-01-21T02:46:12.517Z"
   },
   {
    "duration": 12,
    "start_time": "2023-01-21T02:46:12.550Z"
   },
   {
    "duration": 9,
    "start_time": "2023-01-21T02:46:12.563Z"
   },
   {
    "duration": 8,
    "start_time": "2023-01-21T02:46:12.574Z"
   },
   {
    "duration": 10,
    "start_time": "2023-01-21T02:46:12.583Z"
   },
   {
    "duration": 6,
    "start_time": "2023-01-21T02:46:12.594Z"
   },
   {
    "duration": 14,
    "start_time": "2023-01-21T02:46:12.601Z"
   },
   {
    "duration": 33,
    "start_time": "2023-01-21T02:46:12.616Z"
   },
   {
    "duration": 18,
    "start_time": "2023-01-21T02:46:12.650Z"
   },
   {
    "duration": 17,
    "start_time": "2023-01-21T03:12:17.981Z"
   },
   {
    "duration": 717,
    "start_time": "2023-01-22T01:22:08.685Z"
   },
   {
    "duration": 203,
    "start_time": "2023-01-22T01:22:09.404Z"
   },
   {
    "duration": 17,
    "start_time": "2023-01-22T01:22:09.608Z"
   },
   {
    "duration": 14,
    "start_time": "2023-01-22T01:22:09.627Z"
   },
   {
    "duration": 3,
    "start_time": "2023-01-22T01:22:09.642Z"
   },
   {
    "duration": 15,
    "start_time": "2023-01-22T01:22:09.647Z"
   },
   {
    "duration": 9,
    "start_time": "2023-01-22T01:22:09.663Z"
   },
   {
    "duration": 17,
    "start_time": "2023-01-22T01:22:09.673Z"
   },
   {
    "duration": 8,
    "start_time": "2023-01-22T01:22:09.691Z"
   },
   {
    "duration": 7,
    "start_time": "2023-01-22T01:22:09.701Z"
   },
   {
    "duration": 8,
    "start_time": "2023-01-22T01:22:09.709Z"
   },
   {
    "duration": 7,
    "start_time": "2023-01-22T01:22:09.719Z"
   },
   {
    "duration": 28,
    "start_time": "2023-01-22T01:22:09.728Z"
   },
   {
    "duration": 6,
    "start_time": "2023-01-22T01:22:09.757Z"
   },
   {
    "duration": 9,
    "start_time": "2023-01-22T01:22:09.764Z"
   },
   {
    "duration": 9,
    "start_time": "2023-01-22T01:22:09.775Z"
   },
   {
    "duration": 7,
    "start_time": "2023-01-22T01:22:09.785Z"
   },
   {
    "duration": 14,
    "start_time": "2023-01-22T01:22:09.793Z"
   },
   {
    "duration": 9,
    "start_time": "2023-01-22T01:22:09.809Z"
   },
   {
    "duration": 43,
    "start_time": "2023-01-22T01:22:09.819Z"
   },
   {
    "duration": 15,
    "start_time": "2023-01-22T01:22:09.864Z"
   },
   {
    "duration": 155,
    "start_time": "2023-01-22T01:25:04.480Z"
   },
   {
    "duration": 146,
    "start_time": "2023-01-22T01:25:28.886Z"
   },
   {
    "duration": 179,
    "start_time": "2023-01-22T01:26:10.463Z"
   },
   {
    "duration": 14,
    "start_time": "2023-01-22T01:40:38.897Z"
   },
   {
    "duration": 52,
    "start_time": "2023-01-24T05:12:25.626Z"
   },
   {
    "duration": 869,
    "start_time": "2023-01-24T05:12:32.672Z"
   },
   {
    "duration": 98,
    "start_time": "2023-01-24T05:12:33.544Z"
   },
   {
    "duration": 19,
    "start_time": "2023-01-24T05:12:33.644Z"
   },
   {
    "duration": 20,
    "start_time": "2023-01-24T05:12:33.666Z"
   },
   {
    "duration": 4,
    "start_time": "2023-01-24T05:12:33.688Z"
   },
   {
    "duration": 24,
    "start_time": "2023-01-24T05:12:33.695Z"
   },
   {
    "duration": 14,
    "start_time": "2023-01-24T05:12:33.739Z"
   },
   {
    "duration": 19,
    "start_time": "2023-01-24T05:12:33.754Z"
   },
   {
    "duration": 9,
    "start_time": "2023-01-24T05:12:33.775Z"
   },
   {
    "duration": 7,
    "start_time": "2023-01-24T05:12:33.787Z"
   },
   {
    "duration": 7,
    "start_time": "2023-01-24T05:12:33.796Z"
   },
   {
    "duration": 6,
    "start_time": "2023-01-24T05:12:33.841Z"
   },
   {
    "duration": 20,
    "start_time": "2023-01-24T05:12:33.849Z"
   },
   {
    "duration": 11,
    "start_time": "2023-01-24T05:12:33.871Z"
   },
   {
    "duration": 5,
    "start_time": "2023-01-24T05:12:33.883Z"
   },
   {
    "duration": 16,
    "start_time": "2023-01-24T05:12:33.890Z"
   },
   {
    "duration": 38,
    "start_time": "2023-01-24T05:12:33.908Z"
   },
   {
    "duration": 19,
    "start_time": "2023-01-24T05:12:33.948Z"
   },
   {
    "duration": 15,
    "start_time": "2023-01-24T05:12:33.969Z"
   },
   {
    "duration": 18,
    "start_time": "2023-01-24T05:12:33.986Z"
   },
   {
    "duration": 52,
    "start_time": "2023-01-24T05:12:34.006Z"
   },
   {
    "duration": 275,
    "start_time": "2023-01-24T05:12:34.059Z"
   },
   {
    "duration": 362,
    "start_time": "2023-01-24T05:12:34.340Z"
   },
   {
    "duration": 5,
    "start_time": "2023-01-24T05:31:59.813Z"
   },
   {
    "duration": 6,
    "start_time": "2023-01-24T05:32:04.835Z"
   },
   {
    "duration": 11,
    "start_time": "2023-01-24T05:33:55.816Z"
   },
   {
    "duration": 16,
    "start_time": "2023-01-24T05:34:08.600Z"
   },
   {
    "duration": 16,
    "start_time": "2023-01-24T05:35:45.195Z"
   },
   {
    "duration": 220,
    "start_time": "2023-01-24T05:42:41.075Z"
   },
   {
    "duration": 369,
    "start_time": "2023-01-24T05:45:07.548Z"
   },
   {
    "duration": 235,
    "start_time": "2023-01-24T05:45:17.266Z"
   },
   {
    "duration": 283,
    "start_time": "2023-01-24T05:46:40.306Z"
   },
   {
    "duration": 210,
    "start_time": "2023-01-24T05:46:58.281Z"
   },
   {
    "duration": 180,
    "start_time": "2023-01-24T05:47:01.323Z"
   },
   {
    "duration": 272,
    "start_time": "2023-01-24T05:47:52.923Z"
   },
   {
    "duration": 246,
    "start_time": "2023-01-24T05:48:00.073Z"
   },
   {
    "duration": 244,
    "start_time": "2023-01-24T05:49:23.960Z"
   },
   {
    "duration": 255,
    "start_time": "2023-01-24T05:49:30.968Z"
   },
   {
    "duration": 231,
    "start_time": "2023-01-24T05:49:39.161Z"
   },
   {
    "duration": 159,
    "start_time": "2023-01-24T05:50:19.222Z"
   },
   {
    "duration": 227,
    "start_time": "2023-01-24T05:50:23.088Z"
   },
   {
    "duration": 17,
    "start_time": "2023-01-24T05:55:43.493Z"
   },
   {
    "duration": 279,
    "start_time": "2023-01-24T05:56:25.923Z"
   },
   {
    "duration": 7,
    "start_time": "2023-01-24T06:00:19.936Z"
   },
   {
    "duration": 26,
    "start_time": "2023-01-24T06:00:36.775Z"
   },
   {
    "duration": 22,
    "start_time": "2023-01-24T06:00:51.640Z"
   },
   {
    "duration": 33,
    "start_time": "2023-01-24T06:05:58.517Z"
   },
   {
    "duration": 101,
    "start_time": "2023-01-24T06:07:07.557Z"
   },
   {
    "duration": 337,
    "start_time": "2023-01-24T06:07:45.637Z"
   },
   {
    "duration": 35,
    "start_time": "2023-01-24T06:08:32.445Z"
   },
   {
    "duration": 272,
    "start_time": "2023-01-24T06:08:36.276Z"
   },
   {
    "duration": 20,
    "start_time": "2023-01-24T06:08:48.156Z"
   },
   {
    "duration": 16,
    "start_time": "2023-01-24T06:09:28.602Z"
   },
   {
    "duration": 16,
    "start_time": "2023-01-24T06:10:25.714Z"
   },
   {
    "duration": 311,
    "start_time": "2023-01-24T06:10:39.492Z"
   },
   {
    "duration": 15,
    "start_time": "2023-01-24T06:10:56.760Z"
   },
   {
    "duration": 19,
    "start_time": "2023-01-24T06:11:28.969Z"
   },
   {
    "duration": 301,
    "start_time": "2023-01-24T06:11:47.849Z"
   },
   {
    "duration": 769,
    "start_time": "2023-01-24T11:50:55.058Z"
   },
   {
    "duration": 203,
    "start_time": "2023-01-24T11:50:55.829Z"
   },
   {
    "duration": 25,
    "start_time": "2023-01-24T11:50:56.034Z"
   },
   {
    "duration": 19,
    "start_time": "2023-01-24T11:50:56.061Z"
   },
   {
    "duration": 3,
    "start_time": "2023-01-24T11:50:56.081Z"
   },
   {
    "duration": 19,
    "start_time": "2023-01-24T11:50:56.086Z"
   },
   {
    "duration": 8,
    "start_time": "2023-01-24T11:50:56.107Z"
   },
   {
    "duration": 38,
    "start_time": "2023-01-24T11:50:56.117Z"
   },
   {
    "duration": 7,
    "start_time": "2023-01-24T11:50:56.157Z"
   },
   {
    "duration": 13,
    "start_time": "2023-01-24T11:50:56.166Z"
   },
   {
    "duration": 8,
    "start_time": "2023-01-24T11:50:56.180Z"
   },
   {
    "duration": 12,
    "start_time": "2023-01-24T11:50:56.190Z"
   },
   {
    "duration": 20,
    "start_time": "2023-01-24T11:50:56.204Z"
   },
   {
    "duration": 13,
    "start_time": "2023-01-24T11:50:56.226Z"
   },
   {
    "duration": 7,
    "start_time": "2023-01-24T11:50:56.240Z"
   },
   {
    "duration": 13,
    "start_time": "2023-01-24T11:50:56.249Z"
   },
   {
    "duration": 17,
    "start_time": "2023-01-24T11:50:56.263Z"
   },
   {
    "duration": 24,
    "start_time": "2023-01-24T11:50:56.282Z"
   },
   {
    "duration": 11,
    "start_time": "2023-01-24T11:50:56.308Z"
   },
   {
    "duration": 43,
    "start_time": "2023-01-24T11:50:56.321Z"
   },
   {
    "duration": 24,
    "start_time": "2023-01-24T11:50:56.366Z"
   },
   {
    "duration": 328,
    "start_time": "2023-01-24T11:50:56.392Z"
   },
   {
    "duration": 24,
    "start_time": "2023-01-24T11:50:56.721Z"
   },
   {
    "duration": 287,
    "start_time": "2023-01-24T11:50:56.746Z"
   },
   {
    "duration": 24,
    "start_time": "2023-01-24T11:50:57.035Z"
   },
   {
    "duration": 29,
    "start_time": "2023-01-24T11:50:57.061Z"
   },
   {
    "duration": 291,
    "start_time": "2023-01-24T11:50:57.092Z"
   },
   {
    "duration": 106,
    "start_time": "2023-01-24T12:27:07.828Z"
   },
   {
    "duration": 299,
    "start_time": "2023-01-24T12:31:04.498Z"
   },
   {
    "duration": 369,
    "start_time": "2023-01-24T12:31:28.976Z"
   },
   {
    "duration": 423,
    "start_time": "2023-01-24T12:31:54.419Z"
   },
   {
    "duration": 233,
    "start_time": "2023-01-24T12:32:44.905Z"
   },
   {
    "duration": 259,
    "start_time": "2023-01-24T12:36:25.608Z"
   },
   {
    "duration": 291,
    "start_time": "2023-01-24T12:36:33.486Z"
   },
   {
    "duration": 4,
    "start_time": "2023-01-24T12:36:44.480Z"
   },
   {
    "duration": 228,
    "start_time": "2023-01-24T12:36:47.511Z"
   },
   {
    "duration": 254,
    "start_time": "2023-01-24T12:37:24.606Z"
   },
   {
    "duration": 215,
    "start_time": "2023-01-24T12:37:34.347Z"
   },
   {
    "duration": 215,
    "start_time": "2023-01-24T12:37:42.880Z"
   },
   {
    "duration": 539,
    "start_time": "2023-01-24T12:38:11.672Z"
   },
   {
    "duration": 198,
    "start_time": "2023-01-24T12:38:40.183Z"
   },
   {
    "duration": 237,
    "start_time": "2023-01-24T12:40:39.021Z"
   },
   {
    "duration": 229,
    "start_time": "2023-01-24T12:40:43.697Z"
   },
   {
    "duration": 211,
    "start_time": "2023-01-24T12:41:35.938Z"
   },
   {
    "duration": 277,
    "start_time": "2023-01-24T12:41:44.125Z"
   },
   {
    "duration": 228,
    "start_time": "2023-01-24T12:42:00.798Z"
   },
   {
    "duration": 201,
    "start_time": "2023-01-24T12:42:13.301Z"
   },
   {
    "duration": 236,
    "start_time": "2023-01-24T12:42:51.980Z"
   },
   {
    "duration": 248,
    "start_time": "2023-01-24T12:43:02.476Z"
   },
   {
    "duration": 253,
    "start_time": "2023-01-24T12:43:23.855Z"
   },
   {
    "duration": 352,
    "start_time": "2023-01-24T12:43:35.275Z"
   },
   {
    "duration": 277,
    "start_time": "2023-01-24T12:43:44.282Z"
   },
   {
    "duration": 20,
    "start_time": "2023-01-24T12:51:23.831Z"
   },
   {
    "duration": 54,
    "start_time": "2023-01-24T13:17:11.587Z"
   },
   {
    "duration": 22,
    "start_time": "2023-01-24T13:25:27.799Z"
   },
   {
    "duration": 2,
    "start_time": "2023-01-24T13:25:36.347Z"
   },
   {
    "duration": 60,
    "start_time": "2023-01-24T13:25:36.354Z"
   },
   {
    "duration": 14,
    "start_time": "2023-01-24T13:25:36.416Z"
   },
   {
    "duration": 25,
    "start_time": "2023-01-24T13:25:36.431Z"
   },
   {
    "duration": 3,
    "start_time": "2023-01-24T13:25:36.458Z"
   },
   {
    "duration": 15,
    "start_time": "2023-01-24T13:25:36.464Z"
   },
   {
    "duration": 11,
    "start_time": "2023-01-24T13:25:36.481Z"
   },
   {
    "duration": 13,
    "start_time": "2023-01-24T13:25:36.493Z"
   },
   {
    "duration": 9,
    "start_time": "2023-01-24T13:25:36.507Z"
   },
   {
    "duration": 5,
    "start_time": "2023-01-24T13:25:36.544Z"
   },
   {
    "duration": 7,
    "start_time": "2023-01-24T13:25:36.551Z"
   },
   {
    "duration": 7,
    "start_time": "2023-01-24T13:25:36.559Z"
   },
   {
    "duration": 23,
    "start_time": "2023-01-24T13:25:36.568Z"
   },
   {
    "duration": 6,
    "start_time": "2023-01-24T13:25:36.593Z"
   },
   {
    "duration": 8,
    "start_time": "2023-01-24T13:25:36.600Z"
   },
   {
    "duration": 10,
    "start_time": "2023-01-24T13:25:36.609Z"
   },
   {
    "duration": 26,
    "start_time": "2023-01-24T13:25:36.621Z"
   },
   {
    "duration": 12,
    "start_time": "2023-01-24T13:25:36.648Z"
   },
   {
    "duration": 9,
    "start_time": "2023-01-24T13:25:36.662Z"
   },
   {
    "duration": 18,
    "start_time": "2023-01-24T13:25:36.672Z"
   },
   {
    "duration": 16,
    "start_time": "2023-01-24T13:25:36.692Z"
   },
   {
    "duration": 203,
    "start_time": "2023-01-24T13:25:36.710Z"
   },
   {
    "duration": 14,
    "start_time": "2023-01-24T13:25:36.915Z"
   },
   {
    "duration": 253,
    "start_time": "2023-01-24T13:25:36.943Z"
   },
   {
    "duration": 22,
    "start_time": "2023-01-24T13:25:37.197Z"
   },
   {
    "duration": 76,
    "start_time": "2023-01-24T13:25:37.221Z"
   },
   {
    "duration": 333,
    "start_time": "2023-01-24T13:25:37.299Z"
   },
   {
    "duration": 332,
    "start_time": "2023-01-24T13:25:37.634Z"
   },
   {
    "duration": 22,
    "start_time": "2023-01-24T13:25:37.968Z"
   },
   {
    "duration": 41,
    "start_time": "2023-01-24T13:25:37.991Z"
   },
   {
    "duration": 342,
    "start_time": "2023-01-24T13:27:10.658Z"
   },
   {
    "duration": 140,
    "start_time": "2023-01-24T13:27:41.541Z"
   },
   {
    "duration": 138,
    "start_time": "2023-01-24T13:29:31.733Z"
   },
   {
    "duration": 131,
    "start_time": "2023-01-24T13:29:42.873Z"
   },
   {
    "duration": 136,
    "start_time": "2023-01-24T13:30:38.984Z"
   },
   {
    "duration": 7,
    "start_time": "2023-01-24T13:33:13.595Z"
   },
   {
    "duration": 909,
    "start_time": "2023-01-24T13:33:14.499Z"
   },
   {
    "duration": 131,
    "start_time": "2023-01-24T13:33:35.723Z"
   },
   {
    "duration": 122,
    "start_time": "2023-01-24T13:38:04.327Z"
   },
   {
    "duration": 806,
    "start_time": "2023-01-24T13:43:25.268Z"
   },
   {
    "duration": 120,
    "start_time": "2023-01-24T13:43:49.116Z"
   },
   {
    "duration": 124,
    "start_time": "2023-01-24T13:44:03.524Z"
   },
   {
    "duration": 251,
    "start_time": "2023-01-24T13:45:16.381Z"
   },
   {
    "duration": 132,
    "start_time": "2023-01-24T13:45:25.764Z"
   },
   {
    "duration": 5,
    "start_time": "2023-01-24T13:47:48.691Z"
   },
   {
    "duration": 63,
    "start_time": "2023-01-24T13:51:30.098Z"
   },
   {
    "duration": 51,
    "start_time": "2023-01-24T13:51:42.470Z"
   },
   {
    "duration": 87,
    "start_time": "2023-01-24T13:51:50.383Z"
   },
   {
    "duration": 236,
    "start_time": "2023-01-24T13:52:02.875Z"
   },
   {
    "duration": 134,
    "start_time": "2023-01-24T13:52:17.761Z"
   },
   {
    "duration": 143,
    "start_time": "2023-01-24T13:52:21.415Z"
   },
   {
    "duration": 137,
    "start_time": "2023-01-24T13:52:25.032Z"
   },
   {
    "duration": 132,
    "start_time": "2023-01-24T13:53:44.417Z"
   },
   {
    "duration": 139,
    "start_time": "2023-01-24T13:53:55.286Z"
   },
   {
    "duration": 150,
    "start_time": "2023-01-24T13:54:00.048Z"
   },
   {
    "duration": 918,
    "start_time": "2023-01-24T13:58:09.509Z"
   },
   {
    "duration": 9,
    "start_time": "2023-01-24T13:58:19.734Z"
   },
   {
    "duration": 40,
    "start_time": "2023-01-24T13:58:42.492Z"
   },
   {
    "duration": 45,
    "start_time": "2023-01-24T13:59:26.879Z"
   },
   {
    "duration": 33,
    "start_time": "2023-01-24T13:59:29.769Z"
   },
   {
    "duration": 7,
    "start_time": "2023-01-24T13:59:36.886Z"
   },
   {
    "duration": 25,
    "start_time": "2023-01-24T13:59:47.605Z"
   },
   {
    "duration": 25,
    "start_time": "2023-01-24T14:01:40.476Z"
   },
   {
    "duration": 3,
    "start_time": "2023-01-24T14:02:56.359Z"
   },
   {
    "duration": 71,
    "start_time": "2023-01-24T14:02:56.364Z"
   },
   {
    "duration": 14,
    "start_time": "2023-01-24T14:02:56.437Z"
   },
   {
    "duration": 28,
    "start_time": "2023-01-24T14:02:56.453Z"
   },
   {
    "duration": 12,
    "start_time": "2023-01-24T14:02:56.483Z"
   },
   {
    "duration": 25,
    "start_time": "2023-01-24T14:02:56.497Z"
   },
   {
    "duration": 20,
    "start_time": "2023-01-24T14:02:56.524Z"
   },
   {
    "duration": 18,
    "start_time": "2023-01-24T14:02:56.546Z"
   },
   {
    "duration": 18,
    "start_time": "2023-01-24T14:02:56.567Z"
   },
   {
    "duration": 12,
    "start_time": "2023-01-24T14:02:56.587Z"
   },
   {
    "duration": 35,
    "start_time": "2023-01-24T14:02:56.610Z"
   },
   {
    "duration": 53,
    "start_time": "2023-01-24T14:02:56.647Z"
   },
   {
    "duration": 50,
    "start_time": "2023-01-24T14:02:56.702Z"
   },
   {
    "duration": 29,
    "start_time": "2023-01-24T14:02:56.755Z"
   },
   {
    "duration": 28,
    "start_time": "2023-01-24T14:02:56.785Z"
   },
   {
    "duration": 48,
    "start_time": "2023-01-24T14:02:56.819Z"
   },
   {
    "duration": 15,
    "start_time": "2023-01-24T14:02:56.869Z"
   },
   {
    "duration": 15,
    "start_time": "2023-01-24T14:02:56.886Z"
   },
   {
    "duration": 15,
    "start_time": "2023-01-24T14:02:56.903Z"
   },
   {
    "duration": 40,
    "start_time": "2023-01-24T14:02:56.920Z"
   },
   {
    "duration": 38,
    "start_time": "2023-01-24T14:02:56.962Z"
   },
   {
    "duration": 278,
    "start_time": "2023-01-24T14:02:57.002Z"
   },
   {
    "duration": 24,
    "start_time": "2023-01-24T14:02:57.282Z"
   },
   {
    "duration": 355,
    "start_time": "2023-01-24T14:02:57.308Z"
   },
   {
    "duration": 33,
    "start_time": "2023-01-24T14:02:57.665Z"
   },
   {
    "duration": 32,
    "start_time": "2023-01-24T14:02:57.700Z"
   },
   {
    "duration": 303,
    "start_time": "2023-01-24T14:02:57.734Z"
   },
   {
    "duration": 424,
    "start_time": "2023-01-24T14:02:58.044Z"
   },
   {
    "duration": 7,
    "start_time": "2023-01-24T14:02:58.472Z"
   },
   {
    "duration": 148,
    "start_time": "2023-01-24T14:02:58.481Z"
   },
   {
    "duration": 222,
    "start_time": "2023-01-24T14:02:58.631Z"
   },
   {
    "duration": 16,
    "start_time": "2023-01-24T14:02:58.854Z"
   },
   {
    "duration": 16,
    "start_time": "2023-01-24T14:03:35.637Z"
   },
   {
    "duration": 20,
    "start_time": "2023-01-24T14:04:19.781Z"
   },
   {
    "duration": 49,
    "start_time": "2023-01-24T14:10:37.228Z"
   },
   {
    "duration": 48,
    "start_time": "2023-01-24T14:10:45.855Z"
   },
   {
    "duration": 20,
    "start_time": "2023-01-24T14:10:48.695Z"
   },
   {
    "duration": 19,
    "start_time": "2023-01-24T14:11:31.183Z"
   },
   {
    "duration": 18,
    "start_time": "2023-01-24T14:11:45.385Z"
   },
   {
    "duration": 148,
    "start_time": "2023-01-24T14:13:08.056Z"
   },
   {
    "duration": 138,
    "start_time": "2023-01-24T14:13:17.878Z"
   },
   {
    "duration": 26,
    "start_time": "2023-01-24T14:13:53.573Z"
   },
   {
    "duration": 18,
    "start_time": "2023-01-24T14:13:59.528Z"
   },
   {
    "duration": 25,
    "start_time": "2023-01-24T14:14:43.069Z"
   },
   {
    "duration": 20,
    "start_time": "2023-01-24T14:14:44.157Z"
   },
   {
    "duration": 21,
    "start_time": "2023-01-24T14:16:33.034Z"
   },
   {
    "duration": 3,
    "start_time": "2023-01-24T14:16:43.924Z"
   },
   {
    "duration": 54,
    "start_time": "2023-01-24T14:16:43.929Z"
   },
   {
    "duration": 14,
    "start_time": "2023-01-24T14:16:43.986Z"
   },
   {
    "duration": 21,
    "start_time": "2023-01-24T14:16:44.005Z"
   },
   {
    "duration": 12,
    "start_time": "2023-01-24T14:16:44.028Z"
   },
   {
    "duration": 26,
    "start_time": "2023-01-24T14:16:44.042Z"
   },
   {
    "duration": 10,
    "start_time": "2023-01-24T14:16:44.070Z"
   },
   {
    "duration": 26,
    "start_time": "2023-01-24T14:16:44.081Z"
   },
   {
    "duration": 15,
    "start_time": "2023-01-24T14:16:44.109Z"
   },
   {
    "duration": 21,
    "start_time": "2023-01-24T14:16:44.126Z"
   },
   {
    "duration": 40,
    "start_time": "2023-01-24T14:16:44.149Z"
   },
   {
    "duration": 28,
    "start_time": "2023-01-24T14:16:44.191Z"
   },
   {
    "duration": 32,
    "start_time": "2023-01-24T14:16:44.221Z"
   },
   {
    "duration": 16,
    "start_time": "2023-01-24T14:16:44.254Z"
   },
   {
    "duration": 21,
    "start_time": "2023-01-24T14:16:44.272Z"
   },
   {
    "duration": 22,
    "start_time": "2023-01-24T14:16:44.295Z"
   },
   {
    "duration": 18,
    "start_time": "2023-01-24T14:16:44.319Z"
   },
   {
    "duration": 41,
    "start_time": "2023-01-24T14:16:44.338Z"
   },
   {
    "duration": 13,
    "start_time": "2023-01-24T14:16:44.381Z"
   },
   {
    "duration": 22,
    "start_time": "2023-01-24T14:16:44.396Z"
   },
   {
    "duration": 27,
    "start_time": "2023-01-24T14:16:44.420Z"
   },
   {
    "duration": 211,
    "start_time": "2023-01-24T14:16:44.448Z"
   },
   {
    "duration": 19,
    "start_time": "2023-01-24T14:16:44.661Z"
   },
   {
    "duration": 336,
    "start_time": "2023-01-24T14:16:44.683Z"
   },
   {
    "duration": 33,
    "start_time": "2023-01-24T14:16:45.021Z"
   },
   {
    "duration": 19,
    "start_time": "2023-01-24T14:16:45.056Z"
   },
   {
    "duration": 301,
    "start_time": "2023-01-24T14:16:45.077Z"
   },
   {
    "duration": 348,
    "start_time": "2023-01-24T14:16:45.380Z"
   },
   {
    "duration": 15,
    "start_time": "2023-01-24T14:16:45.732Z"
   },
   {
    "duration": 152,
    "start_time": "2023-01-24T14:16:45.749Z"
   },
   {
    "duration": 150,
    "start_time": "2023-01-24T14:16:45.903Z"
   },
   {
    "duration": 18,
    "start_time": "2023-01-24T14:16:46.055Z"
   },
   {
    "duration": 34,
    "start_time": "2023-01-24T14:16:46.075Z"
   },
   {
    "duration": 13,
    "start_time": "2023-01-24T14:17:50.158Z"
   },
   {
    "duration": 16,
    "start_time": "2023-01-24T14:17:51.683Z"
   },
   {
    "duration": 13,
    "start_time": "2023-01-24T14:20:05.417Z"
   },
   {
    "duration": 57,
    "start_time": "2023-01-24T14:20:58.030Z"
   },
   {
    "duration": 30,
    "start_time": "2023-01-24T14:22:06.041Z"
   },
   {
    "duration": 14,
    "start_time": "2023-01-24T14:22:15.463Z"
   },
   {
    "duration": 20,
    "start_time": "2023-01-24T14:22:21.135Z"
   },
   {
    "duration": 22,
    "start_time": "2023-01-24T14:25:31.197Z"
   },
   {
    "duration": 178,
    "start_time": "2023-01-24T14:31:13.834Z"
   },
   {
    "duration": 125,
    "start_time": "2023-01-24T14:31:20.154Z"
   },
   {
    "duration": 131,
    "start_time": "2023-01-24T14:31:35.426Z"
   },
   {
    "duration": 123,
    "start_time": "2023-01-24T14:32:27.378Z"
   },
   {
    "duration": 111,
    "start_time": "2023-01-24T14:33:01.729Z"
   },
   {
    "duration": 152,
    "start_time": "2023-01-24T14:55:40.359Z"
   },
   {
    "duration": 437,
    "start_time": "2023-01-24T14:56:51.631Z"
   },
   {
    "duration": 528,
    "start_time": "2023-01-24T14:57:23.988Z"
   },
   {
    "duration": 448,
    "start_time": "2023-01-24T14:57:31.172Z"
   },
   {
    "duration": 329,
    "start_time": "2023-01-24T14:58:26.580Z"
   },
   {
    "duration": 350,
    "start_time": "2023-01-24T14:58:47.372Z"
   },
   {
    "duration": 329,
    "start_time": "2023-01-24T14:59:44.506Z"
   },
   {
    "duration": 429,
    "start_time": "2023-01-24T15:00:43.051Z"
   },
   {
    "duration": 3,
    "start_time": "2023-01-24T15:14:45.027Z"
   },
   {
    "duration": 56,
    "start_time": "2023-01-24T15:14:45.036Z"
   },
   {
    "duration": 25,
    "start_time": "2023-01-24T15:14:45.095Z"
   },
   {
    "duration": 25,
    "start_time": "2023-01-24T15:14:45.123Z"
   },
   {
    "duration": 7,
    "start_time": "2023-01-24T15:14:45.151Z"
   },
   {
    "duration": 32,
    "start_time": "2023-01-24T15:14:45.160Z"
   },
   {
    "duration": 24,
    "start_time": "2023-01-24T15:14:45.195Z"
   },
   {
    "duration": 39,
    "start_time": "2023-01-24T15:14:45.221Z"
   },
   {
    "duration": 9,
    "start_time": "2023-01-24T15:14:45.263Z"
   },
   {
    "duration": 19,
    "start_time": "2023-01-24T15:14:45.275Z"
   },
   {
    "duration": 5,
    "start_time": "2023-01-24T15:14:45.299Z"
   },
   {
    "duration": 22,
    "start_time": "2023-01-24T15:14:45.305Z"
   },
   {
    "duration": 22,
    "start_time": "2023-01-24T15:14:45.329Z"
   },
   {
    "duration": 36,
    "start_time": "2023-01-24T15:14:45.353Z"
   },
   {
    "duration": 35,
    "start_time": "2023-01-24T15:14:45.391Z"
   },
   {
    "duration": 24,
    "start_time": "2023-01-24T15:14:45.428Z"
   },
   {
    "duration": 17,
    "start_time": "2023-01-24T15:14:45.454Z"
   },
   {
    "duration": 16,
    "start_time": "2023-01-24T15:14:45.473Z"
   },
   {
    "duration": 22,
    "start_time": "2023-01-24T15:14:45.491Z"
   },
   {
    "duration": 30,
    "start_time": "2023-01-24T15:14:45.516Z"
   },
   {
    "duration": 26,
    "start_time": "2023-01-24T15:14:45.548Z"
   },
   {
    "duration": 215,
    "start_time": "2023-01-24T15:14:45.576Z"
   },
   {
    "duration": 14,
    "start_time": "2023-01-24T15:14:45.793Z"
   },
   {
    "duration": 284,
    "start_time": "2023-01-24T15:14:45.808Z"
   },
   {
    "duration": 23,
    "start_time": "2023-01-24T15:14:46.093Z"
   },
   {
    "duration": 29,
    "start_time": "2023-01-24T15:14:46.117Z"
   },
   {
    "duration": 298,
    "start_time": "2023-01-24T15:14:46.148Z"
   },
   {
    "duration": 279,
    "start_time": "2023-01-24T15:14:46.448Z"
   },
   {
    "duration": 15,
    "start_time": "2023-01-24T15:14:46.732Z"
   },
   {
    "duration": 191,
    "start_time": "2023-01-24T15:14:46.750Z"
   },
   {
    "duration": 161,
    "start_time": "2023-01-24T15:14:46.944Z"
   },
   {
    "duration": 18,
    "start_time": "2023-01-24T15:14:47.107Z"
   },
   {
    "duration": 18,
    "start_time": "2023-01-24T15:14:47.145Z"
   },
   {
    "duration": 26,
    "start_time": "2023-01-24T15:14:47.164Z"
   },
   {
    "duration": 466,
    "start_time": "2023-01-24T15:14:47.191Z"
   },
   {
    "duration": 343,
    "start_time": "2023-01-24T15:14:47.659Z"
   },
   {
    "duration": 352,
    "start_time": "2023-01-24T15:14:48.004Z"
   },
   {
    "duration": 329,
    "start_time": "2023-01-24T15:16:08.522Z"
   },
   {
    "duration": 320,
    "start_time": "2023-01-24T15:16:15.896Z"
   },
   {
    "duration": 442,
    "start_time": "2023-01-24T15:16:24.530Z"
   },
   {
    "duration": 49,
    "start_time": "2023-01-24T15:19:41.695Z"
   },
   {
    "duration": 13,
    "start_time": "2023-01-24T15:19:49.395Z"
   },
   {
    "duration": 397,
    "start_time": "2023-01-24T15:20:52.757Z"
   },
   {
    "duration": 54,
    "start_time": "2023-01-24T15:20:57.281Z"
   },
   {
    "duration": 8,
    "start_time": "2023-01-24T15:21:04.248Z"
   },
   {
    "duration": 7,
    "start_time": "2023-01-24T15:24:16.214Z"
   },
   {
    "duration": 8,
    "start_time": "2023-01-24T15:25:01.626Z"
   },
   {
    "duration": 12,
    "start_time": "2023-01-24T15:25:06.356Z"
   },
   {
    "duration": 9,
    "start_time": "2023-01-24T15:25:08.355Z"
   },
   {
    "duration": 9,
    "start_time": "2023-01-24T15:25:16.455Z"
   },
   {
    "duration": 3,
    "start_time": "2023-01-24T15:25:21.226Z"
   },
   {
    "duration": 79,
    "start_time": "2023-01-24T15:25:21.230Z"
   },
   {
    "duration": 15,
    "start_time": "2023-01-24T15:25:21.311Z"
   },
   {
    "duration": 27,
    "start_time": "2023-01-24T15:25:21.327Z"
   },
   {
    "duration": 11,
    "start_time": "2023-01-24T15:25:21.356Z"
   },
   {
    "duration": 25,
    "start_time": "2023-01-24T15:25:21.368Z"
   },
   {
    "duration": 18,
    "start_time": "2023-01-24T15:25:21.395Z"
   },
   {
    "duration": 21,
    "start_time": "2023-01-24T15:25:21.415Z"
   },
   {
    "duration": 13,
    "start_time": "2023-01-24T15:25:21.438Z"
   },
   {
    "duration": 8,
    "start_time": "2023-01-24T15:25:21.453Z"
   },
   {
    "duration": 10,
    "start_time": "2023-01-24T15:25:21.464Z"
   },
   {
    "duration": 6,
    "start_time": "2023-01-24T15:25:21.476Z"
   },
   {
    "duration": 18,
    "start_time": "2023-01-24T15:25:21.484Z"
   },
   {
    "duration": 13,
    "start_time": "2023-01-24T15:25:21.504Z"
   },
   {
    "duration": 11,
    "start_time": "2023-01-24T15:25:21.518Z"
   },
   {
    "duration": 23,
    "start_time": "2023-01-24T15:25:21.531Z"
   },
   {
    "duration": 9,
    "start_time": "2023-01-24T15:25:21.556Z"
   },
   {
    "duration": 24,
    "start_time": "2023-01-24T15:25:21.567Z"
   },
   {
    "duration": 10,
    "start_time": "2023-01-24T15:25:21.593Z"
   },
   {
    "duration": 40,
    "start_time": "2023-01-24T15:25:21.605Z"
   },
   {
    "duration": 18,
    "start_time": "2023-01-24T15:25:21.646Z"
   },
   {
    "duration": 225,
    "start_time": "2023-01-24T15:25:21.666Z"
   },
   {
    "duration": 16,
    "start_time": "2023-01-24T15:25:21.893Z"
   },
   {
    "duration": 292,
    "start_time": "2023-01-24T15:25:21.911Z"
   },
   {
    "duration": 21,
    "start_time": "2023-01-24T15:25:22.205Z"
   },
   {
    "duration": 27,
    "start_time": "2023-01-24T15:25:22.228Z"
   },
   {
    "duration": 286,
    "start_time": "2023-01-24T15:25:22.256Z"
   },
   {
    "duration": 357,
    "start_time": "2023-01-24T15:25:22.544Z"
   },
   {
    "duration": 6,
    "start_time": "2023-01-24T15:25:22.904Z"
   },
   {
    "duration": 153,
    "start_time": "2023-01-24T15:25:22.911Z"
   },
   {
    "duration": 154,
    "start_time": "2023-01-24T15:25:23.065Z"
   },
   {
    "duration": 24,
    "start_time": "2023-01-24T15:25:23.222Z"
   },
   {
    "duration": 13,
    "start_time": "2023-01-24T15:25:23.247Z"
   },
   {
    "duration": 20,
    "start_time": "2023-01-24T15:25:23.261Z"
   },
   {
    "duration": 341,
    "start_time": "2023-01-24T15:25:23.283Z"
   },
   {
    "duration": 342,
    "start_time": "2023-01-24T15:25:23.626Z"
   },
   {
    "duration": 300,
    "start_time": "2023-01-24T15:25:23.970Z"
   },
   {
    "duration": 8,
    "start_time": "2023-01-24T15:25:24.271Z"
   },
   {
    "duration": 34,
    "start_time": "2023-01-24T15:25:24.283Z"
   },
   {
    "duration": 327,
    "start_time": "2023-01-24T15:28:17.958Z"
   },
   {
    "duration": 445,
    "start_time": "2023-01-24T15:29:17.690Z"
   },
   {
    "duration": 439,
    "start_time": "2023-01-24T15:29:25.799Z"
   },
   {
    "duration": 441,
    "start_time": "2023-01-24T15:29:39.067Z"
   },
   {
    "duration": 423,
    "start_time": "2023-01-24T15:29:53.602Z"
   },
   {
    "duration": 420,
    "start_time": "2023-01-24T15:30:48.159Z"
   },
   {
    "duration": 305,
    "start_time": "2023-01-24T15:32:03.586Z"
   },
   {
    "duration": 283,
    "start_time": "2023-01-24T15:32:26.220Z"
   },
   {
    "duration": 286,
    "start_time": "2023-01-24T15:32:32.079Z"
   },
   {
    "duration": 294,
    "start_time": "2023-01-24T15:33:03.425Z"
   },
   {
    "duration": 273,
    "start_time": "2023-01-24T15:33:42.624Z"
   },
   {
    "duration": 261,
    "start_time": "2023-01-24T15:34:37.527Z"
   },
   {
    "duration": 1283,
    "start_time": "2023-01-25T13:50:09.968Z"
   },
   {
    "duration": 105,
    "start_time": "2023-01-25T13:50:11.253Z"
   },
   {
    "duration": 19,
    "start_time": "2023-01-25T13:50:11.360Z"
   },
   {
    "duration": 25,
    "start_time": "2023-01-25T13:50:11.381Z"
   },
   {
    "duration": 5,
    "start_time": "2023-01-25T13:50:11.407Z"
   },
   {
    "duration": 35,
    "start_time": "2023-01-25T13:50:11.414Z"
   },
   {
    "duration": 15,
    "start_time": "2023-01-25T13:50:11.450Z"
   },
   {
    "duration": 15,
    "start_time": "2023-01-25T13:50:11.467Z"
   },
   {
    "duration": 7,
    "start_time": "2023-01-25T13:50:11.483Z"
   },
   {
    "duration": 31,
    "start_time": "2023-01-25T13:50:11.492Z"
   },
   {
    "duration": 8,
    "start_time": "2023-01-25T13:50:11.524Z"
   },
   {
    "duration": 7,
    "start_time": "2023-01-25T13:50:11.533Z"
   },
   {
    "duration": 19,
    "start_time": "2023-01-25T13:50:11.542Z"
   },
   {
    "duration": 22,
    "start_time": "2023-01-25T13:50:11.562Z"
   },
   {
    "duration": 8,
    "start_time": "2023-01-25T13:50:11.586Z"
   },
   {
    "duration": 25,
    "start_time": "2023-01-25T13:50:11.596Z"
   },
   {
    "duration": 10,
    "start_time": "2023-01-25T13:50:11.623Z"
   },
   {
    "duration": 17,
    "start_time": "2023-01-25T13:50:11.635Z"
   },
   {
    "duration": 11,
    "start_time": "2023-01-25T13:50:11.654Z"
   },
   {
    "duration": 27,
    "start_time": "2023-01-25T13:50:11.666Z"
   },
   {
    "duration": 23,
    "start_time": "2023-01-25T13:50:11.695Z"
   },
   {
    "duration": 227,
    "start_time": "2023-01-25T13:50:11.719Z"
   },
   {
    "duration": 15,
    "start_time": "2023-01-25T13:50:11.948Z"
   },
   {
    "duration": 316,
    "start_time": "2023-01-25T13:50:11.965Z"
   },
   {
    "duration": 35,
    "start_time": "2023-01-25T13:50:12.283Z"
   },
   {
    "duration": 24,
    "start_time": "2023-01-25T13:50:12.320Z"
   },
   {
    "duration": 328,
    "start_time": "2023-01-25T13:50:12.346Z"
   },
   {
    "duration": 297,
    "start_time": "2023-01-25T13:50:12.677Z"
   },
   {
    "duration": 6,
    "start_time": "2023-01-25T13:50:12.975Z"
   },
   {
    "duration": 167,
    "start_time": "2023-01-25T13:50:12.983Z"
   },
   {
    "duration": 182,
    "start_time": "2023-01-25T13:50:13.152Z"
   },
   {
    "duration": 16,
    "start_time": "2023-01-25T13:50:13.335Z"
   },
   {
    "duration": 25,
    "start_time": "2023-01-25T13:50:13.353Z"
   },
   {
    "duration": 58,
    "start_time": "2023-01-25T13:50:13.380Z"
   },
   {
    "duration": 386,
    "start_time": "2023-01-25T13:50:13.439Z"
   },
   {
    "duration": 387,
    "start_time": "2023-01-25T13:50:13.827Z"
   },
   {
    "duration": 308,
    "start_time": "2023-01-25T13:50:14.216Z"
   },
   {
    "duration": 10,
    "start_time": "2023-01-25T13:50:14.527Z"
   },
   {
    "duration": 19,
    "start_time": "2023-01-25T13:50:14.539Z"
   },
   {
    "duration": 3,
    "start_time": "2023-01-25T13:52:59.715Z"
   },
   {
    "duration": 5,
    "start_time": "2023-01-25T14:04:49.113Z"
   },
   {
    "duration": 15,
    "start_time": "2023-01-25T14:06:11.588Z"
   },
   {
    "duration": 260,
    "start_time": "2023-01-25T14:08:08.383Z"
   },
   {
    "duration": 23,
    "start_time": "2023-01-25T14:08:46.951Z"
   },
   {
    "duration": 1482,
    "start_time": "2023-01-25T23:07:43.959Z"
   },
   {
    "duration": 107,
    "start_time": "2023-01-25T23:07:45.444Z"
   },
   {
    "duration": 22,
    "start_time": "2023-01-25T23:07:45.553Z"
   },
   {
    "duration": 28,
    "start_time": "2023-01-25T23:07:45.577Z"
   },
   {
    "duration": 29,
    "start_time": "2023-01-25T23:07:45.608Z"
   },
   {
    "duration": 24,
    "start_time": "2023-01-25T23:07:45.642Z"
   },
   {
    "duration": 15,
    "start_time": "2023-01-25T23:07:45.668Z"
   },
   {
    "duration": 40,
    "start_time": "2023-01-25T23:07:45.685Z"
   },
   {
    "duration": 11,
    "start_time": "2023-01-25T23:07:45.727Z"
   },
   {
    "duration": 6,
    "start_time": "2023-01-25T23:07:45.740Z"
   },
   {
    "duration": 20,
    "start_time": "2023-01-25T23:07:45.747Z"
   },
   {
    "duration": 10,
    "start_time": "2023-01-25T23:07:45.770Z"
   },
   {
    "duration": 22,
    "start_time": "2023-01-25T23:07:45.785Z"
   },
   {
    "duration": 8,
    "start_time": "2023-01-25T23:07:45.811Z"
   },
   {
    "duration": 6,
    "start_time": "2023-01-25T23:07:45.822Z"
   },
   {
    "duration": 14,
    "start_time": "2023-01-25T23:07:45.829Z"
   },
   {
    "duration": 43,
    "start_time": "2023-01-25T23:07:45.845Z"
   },
   {
    "duration": 23,
    "start_time": "2023-01-25T23:07:45.890Z"
   },
   {
    "duration": 21,
    "start_time": "2023-01-25T23:07:45.915Z"
   },
   {
    "duration": 24,
    "start_time": "2023-01-25T23:07:45.938Z"
   },
   {
    "duration": 44,
    "start_time": "2023-01-25T23:07:45.964Z"
   },
   {
    "duration": 269,
    "start_time": "2023-01-25T23:07:46.010Z"
   },
   {
    "duration": 25,
    "start_time": "2023-01-25T23:07:46.283Z"
   },
   {
    "duration": 386,
    "start_time": "2023-01-25T23:07:46.310Z"
   },
   {
    "duration": 31,
    "start_time": "2023-01-25T23:07:46.697Z"
   },
   {
    "duration": 17,
    "start_time": "2023-01-25T23:07:46.730Z"
   },
   {
    "duration": 408,
    "start_time": "2023-01-25T23:07:46.748Z"
   },
   {
    "duration": 325,
    "start_time": "2023-01-25T23:07:47.158Z"
   },
   {
    "duration": 10,
    "start_time": "2023-01-25T23:07:47.484Z"
   },
   {
    "duration": 205,
    "start_time": "2023-01-25T23:07:47.499Z"
   },
   {
    "duration": 188,
    "start_time": "2023-01-25T23:07:47.706Z"
   },
   {
    "duration": 27,
    "start_time": "2023-01-25T23:07:47.899Z"
   },
   {
    "duration": 22,
    "start_time": "2023-01-25T23:07:47.929Z"
   },
   {
    "duration": 54,
    "start_time": "2023-01-25T23:07:47.953Z"
   },
   {
    "duration": 471,
    "start_time": "2023-01-25T23:07:48.009Z"
   },
   {
    "duration": 378,
    "start_time": "2023-01-25T23:07:48.484Z"
   },
   {
    "duration": 366,
    "start_time": "2023-01-25T23:07:48.865Z"
   },
   {
    "duration": 12,
    "start_time": "2023-01-25T23:07:49.233Z"
   },
   {
    "duration": 21,
    "start_time": "2023-01-25T23:07:49.246Z"
   },
   {
    "duration": 111,
    "start_time": "2023-01-25T23:08:16.868Z"
   },
   {
    "duration": 317,
    "start_time": "2023-01-25T23:08:24.812Z"
   },
   {
    "duration": 353,
    "start_time": "2023-01-25T23:11:08.529Z"
   },
   {
    "duration": 350,
    "start_time": "2023-01-25T23:12:04.849Z"
   },
   {
    "duration": 25,
    "start_time": "2023-01-25T23:12:59.459Z"
   },
   {
    "duration": 299,
    "start_time": "2023-01-25T23:13:11.746Z"
   },
   {
    "duration": 405,
    "start_time": "2023-01-25T23:13:42.499Z"
   },
   {
    "duration": 308,
    "start_time": "2023-01-25T23:13:57.639Z"
   },
   {
    "duration": 286,
    "start_time": "2023-01-25T23:14:23.257Z"
   },
   {
    "duration": 295,
    "start_time": "2023-01-25T23:14:50.016Z"
   },
   {
    "duration": 264,
    "start_time": "2023-01-25T23:16:46.990Z"
   },
   {
    "duration": 286,
    "start_time": "2023-01-25T23:25:53.170Z"
   },
   {
    "duration": 258,
    "start_time": "2023-01-25T23:34:42.038Z"
   },
   {
    "duration": 267,
    "start_time": "2023-01-25T23:34:49.936Z"
   },
   {
    "duration": 283,
    "start_time": "2023-01-25T23:36:43.414Z"
   },
   {
    "duration": 381,
    "start_time": "2023-01-25T23:37:22.334Z"
   },
   {
    "duration": 277,
    "start_time": "2023-01-25T23:37:28.061Z"
   },
   {
    "duration": 289,
    "start_time": "2023-01-25T23:37:38.287Z"
   },
   {
    "duration": 11,
    "start_time": "2023-01-25T23:39:09.763Z"
   },
   {
    "duration": 7,
    "start_time": "2023-01-25T23:39:28.526Z"
   },
   {
    "duration": 304,
    "start_time": "2023-01-25T23:45:41.304Z"
   },
   {
    "duration": 291,
    "start_time": "2023-01-25T23:46:43.635Z"
   },
   {
    "duration": 292,
    "start_time": "2023-01-25T23:46:53.415Z"
   },
   {
    "duration": 403,
    "start_time": "2023-01-25T23:47:01.726Z"
   },
   {
    "duration": 280,
    "start_time": "2023-01-25T23:47:06.455Z"
   },
   {
    "duration": 81,
    "start_time": "2023-01-26T00:11:37.761Z"
   },
   {
    "duration": 15,
    "start_time": "2023-01-26T00:11:41.262Z"
   },
   {
    "duration": 279,
    "start_time": "2023-01-26T00:12:05.361Z"
   },
   {
    "duration": 285,
    "start_time": "2023-01-26T00:12:09.161Z"
   },
   {
    "duration": 6,
    "start_time": "2023-01-26T00:14:06.202Z"
   },
   {
    "duration": 170,
    "start_time": "2023-01-26T00:14:18.663Z"
   },
   {
    "duration": 3,
    "start_time": "2023-01-26T00:15:05.950Z"
   },
   {
    "duration": 83,
    "start_time": "2023-01-26T00:15:05.955Z"
   },
   {
    "duration": 17,
    "start_time": "2023-01-26T00:15:06.039Z"
   },
   {
    "duration": 19,
    "start_time": "2023-01-26T00:15:06.058Z"
   },
   {
    "duration": 3,
    "start_time": "2023-01-26T00:15:06.079Z"
   },
   {
    "duration": 37,
    "start_time": "2023-01-26T00:15:06.090Z"
   },
   {
    "duration": 11,
    "start_time": "2023-01-26T00:15:06.129Z"
   },
   {
    "duration": 18,
    "start_time": "2023-01-26T00:15:06.142Z"
   },
   {
    "duration": 15,
    "start_time": "2023-01-26T00:15:06.163Z"
   },
   {
    "duration": 24,
    "start_time": "2023-01-26T00:15:06.180Z"
   },
   {
    "duration": 21,
    "start_time": "2023-01-26T00:15:06.206Z"
   },
   {
    "duration": 11,
    "start_time": "2023-01-26T00:15:06.230Z"
   },
   {
    "duration": 33,
    "start_time": "2023-01-26T00:15:06.244Z"
   },
   {
    "duration": 30,
    "start_time": "2023-01-26T00:15:06.280Z"
   },
   {
    "duration": 26,
    "start_time": "2023-01-26T00:15:06.313Z"
   },
   {
    "duration": 28,
    "start_time": "2023-01-26T00:15:06.341Z"
   },
   {
    "duration": 16,
    "start_time": "2023-01-26T00:15:06.371Z"
   },
   {
    "duration": 42,
    "start_time": "2023-01-26T00:15:06.389Z"
   },
   {
    "duration": 12,
    "start_time": "2023-01-26T00:15:06.433Z"
   },
   {
    "duration": 24,
    "start_time": "2023-01-26T00:15:06.447Z"
   },
   {
    "duration": 25,
    "start_time": "2023-01-26T00:15:06.473Z"
   },
   {
    "duration": 250,
    "start_time": "2023-01-26T00:15:06.500Z"
   },
   {
    "duration": 17,
    "start_time": "2023-01-26T00:15:06.752Z"
   },
   {
    "duration": 317,
    "start_time": "2023-01-26T00:15:06.791Z"
   },
   {
    "duration": 26,
    "start_time": "2023-01-26T00:15:07.110Z"
   },
   {
    "duration": 16,
    "start_time": "2023-01-26T00:15:07.138Z"
   },
   {
    "duration": 331,
    "start_time": "2023-01-26T00:15:07.156Z"
   },
   {
    "duration": 410,
    "start_time": "2023-01-26T00:15:07.491Z"
   },
   {
    "duration": 321,
    "start_time": "2023-01-26T00:15:07.903Z"
   },
   {
    "duration": 7,
    "start_time": "2023-01-26T00:15:08.226Z"
   },
   {
    "duration": 94,
    "start_time": "2023-01-26T00:15:08.235Z"
   },
   {
    "duration": 0,
    "start_time": "2023-01-26T00:15:08.331Z"
   },
   {
    "duration": 0,
    "start_time": "2023-01-26T00:15:08.333Z"
   },
   {
    "duration": 0,
    "start_time": "2023-01-26T00:15:08.334Z"
   },
   {
    "duration": 0,
    "start_time": "2023-01-26T00:15:08.335Z"
   },
   {
    "duration": 0,
    "start_time": "2023-01-26T00:15:08.336Z"
   },
   {
    "duration": 0,
    "start_time": "2023-01-26T00:15:08.337Z"
   },
   {
    "duration": 0,
    "start_time": "2023-01-26T00:15:08.338Z"
   },
   {
    "duration": 0,
    "start_time": "2023-01-26T00:15:08.341Z"
   },
   {
    "duration": 0,
    "start_time": "2023-01-26T00:15:08.342Z"
   },
   {
    "duration": 0,
    "start_time": "2023-01-26T00:15:08.343Z"
   },
   {
    "duration": 195,
    "start_time": "2023-01-26T00:15:33.232Z"
   },
   {
    "duration": 212,
    "start_time": "2023-01-26T00:15:33.429Z"
   },
   {
    "duration": 18,
    "start_time": "2023-01-26T00:15:33.643Z"
   },
   {
    "duration": 57,
    "start_time": "2023-01-26T00:15:33.664Z"
   },
   {
    "duration": 23,
    "start_time": "2023-01-26T00:15:33.724Z"
   },
   {
    "duration": 347,
    "start_time": "2023-01-26T00:15:33.749Z"
   },
   {
    "duration": 351,
    "start_time": "2023-01-26T00:15:34.098Z"
   },
   {
    "duration": 354,
    "start_time": "2023-01-26T00:15:34.451Z"
   },
   {
    "duration": 9,
    "start_time": "2023-01-26T00:15:34.807Z"
   },
   {
    "duration": 14,
    "start_time": "2023-01-26T00:15:34.817Z"
   },
   {
    "duration": 300,
    "start_time": "2023-01-26T00:20:57.903Z"
   },
   {
    "duration": 179,
    "start_time": "2023-01-26T00:21:06.551Z"
   },
   {
    "duration": 16,
    "start_time": "2023-01-26T00:25:34.626Z"
   },
   {
    "duration": 16,
    "start_time": "2023-01-26T00:25:36.303Z"
   },
   {
    "duration": 23,
    "start_time": "2023-01-26T00:33:00.006Z"
   },
   {
    "duration": 4,
    "start_time": "2023-01-26T00:35:49.844Z"
   },
   {
    "duration": 89,
    "start_time": "2023-01-26T00:35:49.850Z"
   },
   {
    "duration": 22,
    "start_time": "2023-01-26T00:35:49.943Z"
   },
   {
    "duration": 74,
    "start_time": "2023-01-26T00:35:49.967Z"
   },
   {
    "duration": 28,
    "start_time": "2023-01-26T00:35:50.044Z"
   },
   {
    "duration": 64,
    "start_time": "2023-01-26T00:35:50.074Z"
   },
   {
    "duration": 12,
    "start_time": "2023-01-26T00:35:50.140Z"
   },
   {
    "duration": 20,
    "start_time": "2023-01-26T00:35:50.154Z"
   },
   {
    "duration": 16,
    "start_time": "2023-01-26T00:35:50.176Z"
   },
   {
    "duration": 28,
    "start_time": "2023-01-26T00:35:50.194Z"
   },
   {
    "duration": 8,
    "start_time": "2023-01-26T00:35:50.224Z"
   },
   {
    "duration": 9,
    "start_time": "2023-01-26T00:35:50.234Z"
   },
   {
    "duration": 44,
    "start_time": "2023-01-26T00:35:50.247Z"
   },
   {
    "duration": 28,
    "start_time": "2023-01-26T00:35:50.293Z"
   },
   {
    "duration": 9,
    "start_time": "2023-01-26T00:35:50.323Z"
   },
   {
    "duration": 16,
    "start_time": "2023-01-26T00:35:50.334Z"
   },
   {
    "duration": 67,
    "start_time": "2023-01-26T00:35:50.352Z"
   },
   {
    "duration": 35,
    "start_time": "2023-01-26T00:35:50.422Z"
   },
   {
    "duration": 18,
    "start_time": "2023-01-26T00:35:50.459Z"
   },
   {
    "duration": 61,
    "start_time": "2023-01-26T00:35:50.479Z"
   },
   {
    "duration": 27,
    "start_time": "2023-01-26T00:35:50.545Z"
   },
   {
    "duration": 351,
    "start_time": "2023-01-26T00:35:50.576Z"
   },
   {
    "duration": 21,
    "start_time": "2023-01-26T00:35:50.930Z"
   },
   {
    "duration": 367,
    "start_time": "2023-01-26T00:35:50.954Z"
   },
   {
    "duration": 25,
    "start_time": "2023-01-26T00:35:51.323Z"
   },
   {
    "duration": 15,
    "start_time": "2023-01-26T00:35:51.350Z"
   },
   {
    "duration": 322,
    "start_time": "2023-01-26T00:35:51.391Z"
   },
   {
    "duration": 341,
    "start_time": "2023-01-26T00:35:51.715Z"
   },
   {
    "duration": 368,
    "start_time": "2023-01-26T00:35:52.059Z"
   },
   {
    "duration": 7,
    "start_time": "2023-01-26T00:35:52.428Z"
   },
   {
    "duration": 184,
    "start_time": "2023-01-26T00:35:52.437Z"
   },
   {
    "duration": 192,
    "start_time": "2023-01-26T00:35:52.623Z"
   },
   {
    "duration": 15,
    "start_time": "2023-01-26T00:35:52.818Z"
   },
   {
    "duration": 21,
    "start_time": "2023-01-26T00:35:52.836Z"
   },
   {
    "duration": 28,
    "start_time": "2023-01-26T00:35:52.887Z"
   },
   {
    "duration": 489,
    "start_time": "2023-01-26T00:35:52.918Z"
   },
   {
    "duration": 389,
    "start_time": "2023-01-26T00:35:53.411Z"
   },
   {
    "duration": 349,
    "start_time": "2023-01-26T00:35:53.802Z"
   },
   {
    "duration": 10,
    "start_time": "2023-01-26T00:35:54.153Z"
   },
   {
    "duration": 29,
    "start_time": "2023-01-26T00:35:54.165Z"
   },
   {
    "duration": 399,
    "start_time": "2023-01-26T00:41:25.018Z"
   },
   {
    "duration": 367,
    "start_time": "2023-01-26T00:58:03.438Z"
   },
   {
    "duration": 325,
    "start_time": "2023-01-26T00:58:17.911Z"
   },
   {
    "duration": 440,
    "start_time": "2023-01-26T00:59:48.213Z"
   },
   {
    "duration": 5,
    "start_time": "2023-01-26T01:10:28.855Z"
   },
   {
    "duration": 8,
    "start_time": "2023-01-26T01:10:37.880Z"
   },
   {
    "duration": 3,
    "start_time": "2023-01-26T01:10:56.195Z"
   },
   {
    "duration": 57,
    "start_time": "2023-01-26T01:10:56.201Z"
   },
   {
    "duration": 19,
    "start_time": "2023-01-26T01:10:56.259Z"
   },
   {
    "duration": 24,
    "start_time": "2023-01-26T01:10:56.280Z"
   },
   {
    "duration": 4,
    "start_time": "2023-01-26T01:10:56.306Z"
   },
   {
    "duration": 19,
    "start_time": "2023-01-26T01:10:56.312Z"
   },
   {
    "duration": 10,
    "start_time": "2023-01-26T01:10:56.333Z"
   },
   {
    "duration": 52,
    "start_time": "2023-01-26T01:10:56.345Z"
   },
   {
    "duration": 9,
    "start_time": "2023-01-26T01:10:56.400Z"
   },
   {
    "duration": 8,
    "start_time": "2023-01-26T01:10:56.411Z"
   },
   {
    "duration": 6,
    "start_time": "2023-01-26T01:10:56.421Z"
   },
   {
    "duration": 8,
    "start_time": "2023-01-26T01:10:56.429Z"
   },
   {
    "duration": 50,
    "start_time": "2023-01-26T01:10:56.439Z"
   },
   {
    "duration": 10,
    "start_time": "2023-01-26T01:10:56.491Z"
   },
   {
    "duration": 9,
    "start_time": "2023-01-26T01:10:56.504Z"
   },
   {
    "duration": 17,
    "start_time": "2023-01-26T01:10:56.515Z"
   },
   {
    "duration": 12,
    "start_time": "2023-01-26T01:10:56.534Z"
   },
   {
    "duration": 37,
    "start_time": "2023-01-26T01:10:56.549Z"
   },
   {
    "duration": 25,
    "start_time": "2023-01-26T01:10:56.589Z"
   },
   {
    "duration": 20,
    "start_time": "2023-01-26T01:10:56.616Z"
   },
   {
    "duration": 25,
    "start_time": "2023-01-26T01:10:56.638Z"
   },
   {
    "duration": 39,
    "start_time": "2023-01-26T01:10:56.665Z"
   },
   {
    "duration": 250,
    "start_time": "2023-01-26T01:10:56.707Z"
   },
   {
    "duration": 30,
    "start_time": "2023-01-26T01:10:56.961Z"
   },
   {
    "duration": 301,
    "start_time": "2023-01-26T01:10:56.993Z"
   },
   {
    "duration": 37,
    "start_time": "2023-01-26T01:10:57.297Z"
   },
   {
    "duration": 19,
    "start_time": "2023-01-26T01:10:57.336Z"
   },
   {
    "duration": 371,
    "start_time": "2023-01-26T01:10:57.358Z"
   },
   {
    "duration": 326,
    "start_time": "2023-01-26T01:10:57.731Z"
   },
   {
    "duration": 307,
    "start_time": "2023-01-26T01:10:58.059Z"
   },
   {
    "duration": 7,
    "start_time": "2023-01-26T01:10:58.368Z"
   },
   {
    "duration": 179,
    "start_time": "2023-01-26T01:10:58.383Z"
   },
   {
    "duration": 190,
    "start_time": "2023-01-26T01:10:58.564Z"
   },
   {
    "duration": 16,
    "start_time": "2023-01-26T01:10:58.757Z"
   },
   {
    "duration": 21,
    "start_time": "2023-01-26T01:10:58.785Z"
   },
   {
    "duration": 24,
    "start_time": "2023-01-26T01:10:58.808Z"
   },
   {
    "duration": 508,
    "start_time": "2023-01-26T01:10:58.834Z"
   },
   {
    "duration": 425,
    "start_time": "2023-01-26T01:10:59.344Z"
   },
   {
    "duration": 375,
    "start_time": "2023-01-26T01:10:59.772Z"
   },
   {
    "duration": 14,
    "start_time": "2023-01-26T01:11:00.149Z"
   },
   {
    "duration": 29,
    "start_time": "2023-01-26T01:11:00.165Z"
   },
   {
    "duration": 3,
    "start_time": "2023-01-26T03:53:02.569Z"
   },
   {
    "duration": 91,
    "start_time": "2023-01-26T03:53:02.575Z"
   },
   {
    "duration": 16,
    "start_time": "2023-01-26T03:53:02.667Z"
   },
   {
    "duration": 38,
    "start_time": "2023-01-26T03:53:02.686Z"
   },
   {
    "duration": 4,
    "start_time": "2023-01-26T03:53:02.726Z"
   },
   {
    "duration": 26,
    "start_time": "2023-01-26T03:53:02.732Z"
   },
   {
    "duration": 32,
    "start_time": "2023-01-26T03:53:02.760Z"
   },
   {
    "duration": 28,
    "start_time": "2023-01-26T03:53:02.794Z"
   },
   {
    "duration": 10,
    "start_time": "2023-01-26T03:53:02.825Z"
   },
   {
    "duration": 18,
    "start_time": "2023-01-26T03:53:02.837Z"
   },
   {
    "duration": 7,
    "start_time": "2023-01-26T03:53:02.857Z"
   },
   {
    "duration": 53,
    "start_time": "2023-01-26T03:53:02.867Z"
   },
   {
    "duration": 49,
    "start_time": "2023-01-26T03:53:02.922Z"
   },
   {
    "duration": 36,
    "start_time": "2023-01-26T03:53:02.974Z"
   },
   {
    "duration": 35,
    "start_time": "2023-01-26T03:53:03.013Z"
   },
   {
    "duration": 61,
    "start_time": "2023-01-26T03:53:03.050Z"
   },
   {
    "duration": 27,
    "start_time": "2023-01-26T03:53:03.113Z"
   },
   {
    "duration": 29,
    "start_time": "2023-01-26T03:53:03.142Z"
   },
   {
    "duration": 45,
    "start_time": "2023-01-26T03:53:03.173Z"
   },
   {
    "duration": 25,
    "start_time": "2023-01-26T03:53:03.220Z"
   },
   {
    "duration": 36,
    "start_time": "2023-01-26T03:53:03.246Z"
   },
   {
    "duration": 43,
    "start_time": "2023-01-26T03:53:03.285Z"
   },
   {
    "duration": 273,
    "start_time": "2023-01-26T03:53:03.331Z"
   },
   {
    "duration": 20,
    "start_time": "2023-01-26T03:53:03.608Z"
   },
   {
    "duration": 352,
    "start_time": "2023-01-26T03:53:03.630Z"
   },
   {
    "duration": 30,
    "start_time": "2023-01-26T03:53:03.984Z"
   },
   {
    "duration": 25,
    "start_time": "2023-01-26T03:53:04.015Z"
   },
   {
    "duration": 309,
    "start_time": "2023-01-26T03:53:04.042Z"
   },
   {
    "duration": 312,
    "start_time": "2023-01-26T03:53:04.352Z"
   },
   {
    "duration": 455,
    "start_time": "2023-01-26T03:53:04.666Z"
   },
   {
    "duration": 6,
    "start_time": "2023-01-26T03:53:05.123Z"
   },
   {
    "duration": 236,
    "start_time": "2023-01-26T03:53:05.131Z"
   },
   {
    "duration": 206,
    "start_time": "2023-01-26T03:53:05.370Z"
   },
   {
    "duration": 22,
    "start_time": "2023-01-26T03:53:05.592Z"
   },
   {
    "duration": 40,
    "start_time": "2023-01-26T03:53:05.615Z"
   },
   {
    "duration": 58,
    "start_time": "2023-01-26T03:53:05.657Z"
   },
   {
    "duration": 340,
    "start_time": "2023-01-26T03:53:05.717Z"
   },
   {
    "duration": 350,
    "start_time": "2023-01-26T03:53:06.060Z"
   },
   {
    "duration": 329,
    "start_time": "2023-01-26T03:53:06.412Z"
   },
   {
    "duration": 9,
    "start_time": "2023-01-26T03:53:06.743Z"
   },
   {
    "duration": 12,
    "start_time": "2023-01-26T03:53:06.755Z"
   },
   {
    "duration": 12,
    "start_time": "2023-01-26T04:07:02.101Z"
   },
   {
    "duration": 9,
    "start_time": "2023-01-26T04:14:43.345Z"
   },
   {
    "duration": 3,
    "start_time": "2023-01-26T05:33:09.349Z"
   },
   {
    "duration": 69,
    "start_time": "2023-01-26T05:33:09.355Z"
   },
   {
    "duration": 19,
    "start_time": "2023-01-26T05:33:09.426Z"
   },
   {
    "duration": 23,
    "start_time": "2023-01-26T05:33:09.447Z"
   },
   {
    "duration": 15,
    "start_time": "2023-01-26T05:33:09.473Z"
   },
   {
    "duration": 40,
    "start_time": "2023-01-26T05:33:09.491Z"
   },
   {
    "duration": 11,
    "start_time": "2023-01-26T05:33:09.532Z"
   },
   {
    "duration": 16,
    "start_time": "2023-01-26T05:33:09.545Z"
   },
   {
    "duration": 24,
    "start_time": "2023-01-26T05:33:09.563Z"
   },
   {
    "duration": 27,
    "start_time": "2023-01-26T05:33:09.594Z"
   },
   {
    "duration": 31,
    "start_time": "2023-01-26T05:33:09.623Z"
   },
   {
    "duration": 73,
    "start_time": "2023-01-26T05:33:09.656Z"
   },
   {
    "duration": 30,
    "start_time": "2023-01-26T05:33:09.731Z"
   },
   {
    "duration": 34,
    "start_time": "2023-01-26T05:33:09.766Z"
   },
   {
    "duration": 49,
    "start_time": "2023-01-26T05:33:09.802Z"
   },
   {
    "duration": 29,
    "start_time": "2023-01-26T05:33:09.854Z"
   },
   {
    "duration": 19,
    "start_time": "2023-01-26T05:33:09.889Z"
   },
   {
    "duration": 48,
    "start_time": "2023-01-26T05:33:09.910Z"
   },
   {
    "duration": 39,
    "start_time": "2023-01-26T05:33:09.961Z"
   },
   {
    "duration": 42,
    "start_time": "2023-01-26T05:33:10.002Z"
   },
   {
    "duration": 39,
    "start_time": "2023-01-26T05:33:10.046Z"
   },
   {
    "duration": 29,
    "start_time": "2023-01-26T05:33:10.091Z"
   },
   {
    "duration": 343,
    "start_time": "2023-01-26T05:33:10.123Z"
   },
   {
    "duration": 34,
    "start_time": "2023-01-26T05:33:10.469Z"
   },
   {
    "duration": 334,
    "start_time": "2023-01-26T05:33:10.506Z"
   },
   {
    "duration": 27,
    "start_time": "2023-01-26T05:33:10.842Z"
   },
   {
    "duration": 26,
    "start_time": "2023-01-26T05:33:10.884Z"
   },
   {
    "duration": 320,
    "start_time": "2023-01-26T05:33:10.912Z"
   },
   {
    "duration": 508,
    "start_time": "2023-01-26T05:33:11.234Z"
   },
   {
    "duration": 349,
    "start_time": "2023-01-26T05:33:11.744Z"
   },
   {
    "duration": 16,
    "start_time": "2023-01-26T05:33:12.095Z"
   },
   {
    "duration": 202,
    "start_time": "2023-01-26T05:33:12.117Z"
   },
   {
    "duration": 204,
    "start_time": "2023-01-26T05:33:12.321Z"
   },
   {
    "duration": 20,
    "start_time": "2023-01-26T05:33:12.528Z"
   },
   {
    "duration": 46,
    "start_time": "2023-01-26T05:33:12.550Z"
   },
   {
    "duration": 36,
    "start_time": "2023-01-26T05:33:12.602Z"
   },
   {
    "duration": 380,
    "start_time": "2023-01-26T05:33:12.640Z"
   },
   {
    "duration": 377,
    "start_time": "2023-01-26T05:33:13.022Z"
   },
   {
    "duration": 320,
    "start_time": "2023-01-26T05:33:13.401Z"
   },
   {
    "duration": 11,
    "start_time": "2023-01-26T05:33:13.723Z"
   },
   {
    "duration": 15,
    "start_time": "2023-01-26T05:33:13.738Z"
   },
   {
    "duration": 1029,
    "start_time": "2023-01-26T16:07:09.418Z"
   },
   {
    "duration": 191,
    "start_time": "2023-01-26T16:07:10.449Z"
   },
   {
    "duration": 23,
    "start_time": "2023-01-26T16:07:10.642Z"
   },
   {
    "duration": 13,
    "start_time": "2023-01-26T16:07:10.667Z"
   },
   {
    "duration": 3,
    "start_time": "2023-01-26T16:07:10.682Z"
   },
   {
    "duration": 18,
    "start_time": "2023-01-26T16:07:10.687Z"
   },
   {
    "duration": 9,
    "start_time": "2023-01-26T16:07:10.707Z"
   },
   {
    "duration": 22,
    "start_time": "2023-01-26T16:07:10.717Z"
   },
   {
    "duration": 6,
    "start_time": "2023-01-26T16:07:10.741Z"
   },
   {
    "duration": 5,
    "start_time": "2023-01-26T16:07:10.749Z"
   },
   {
    "duration": 31,
    "start_time": "2023-01-26T16:07:10.756Z"
   },
   {
    "duration": 10,
    "start_time": "2023-01-26T16:07:10.788Z"
   },
   {
    "duration": 23,
    "start_time": "2023-01-26T16:07:10.800Z"
   },
   {
    "duration": 22,
    "start_time": "2023-01-26T16:07:10.827Z"
   },
   {
    "duration": 12,
    "start_time": "2023-01-26T16:07:10.852Z"
   },
   {
    "duration": 24,
    "start_time": "2023-01-26T16:07:10.865Z"
   },
   {
    "duration": 25,
    "start_time": "2023-01-26T16:07:10.892Z"
   },
   {
    "duration": 20,
    "start_time": "2023-01-26T16:07:10.919Z"
   },
   {
    "duration": 20,
    "start_time": "2023-01-26T16:07:10.941Z"
   },
   {
    "duration": 13,
    "start_time": "2023-01-26T16:07:10.963Z"
   },
   {
    "duration": 27,
    "start_time": "2023-01-26T16:07:10.978Z"
   },
   {
    "duration": 24,
    "start_time": "2023-01-26T16:07:11.006Z"
   },
   {
    "duration": 242,
    "start_time": "2023-01-26T16:07:11.032Z"
   },
   {
    "duration": 18,
    "start_time": "2023-01-26T16:07:11.276Z"
   },
   {
    "duration": 297,
    "start_time": "2023-01-26T16:07:11.295Z"
   },
   {
    "duration": 23,
    "start_time": "2023-01-26T16:07:11.594Z"
   },
   {
    "duration": 13,
    "start_time": "2023-01-26T16:07:11.619Z"
   },
   {
    "duration": 272,
    "start_time": "2023-01-26T16:07:11.633Z"
   },
   {
    "duration": 277,
    "start_time": "2023-01-26T16:07:11.906Z"
   },
   {
    "duration": 278,
    "start_time": "2023-01-26T16:07:12.185Z"
   },
   {
    "duration": 6,
    "start_time": "2023-01-26T16:07:12.464Z"
   },
   {
    "duration": 165,
    "start_time": "2023-01-26T16:07:12.471Z"
   },
   {
    "duration": 160,
    "start_time": "2023-01-26T16:07:12.638Z"
   },
   {
    "duration": 13,
    "start_time": "2023-01-26T16:07:12.800Z"
   },
   {
    "duration": 13,
    "start_time": "2023-01-26T16:07:12.815Z"
   },
   {
    "duration": 25,
    "start_time": "2023-01-26T16:07:12.830Z"
   },
   {
    "duration": 390,
    "start_time": "2023-01-26T16:07:12.882Z"
   },
   {
    "duration": 333,
    "start_time": "2023-01-26T16:07:13.274Z"
   },
   {
    "duration": 294,
    "start_time": "2023-01-26T16:07:13.609Z"
   },
   {
    "duration": 9,
    "start_time": "2023-01-26T16:07:13.904Z"
   },
   {
    "duration": 25,
    "start_time": "2023-01-26T16:07:13.917Z"
   },
   {
    "duration": 53,
    "start_time": "2023-01-26T17:30:19.144Z"
   },
   {
    "duration": 1293,
    "start_time": "2023-01-26T17:30:23.123Z"
   },
   {
    "duration": 97,
    "start_time": "2023-01-26T17:30:24.418Z"
   },
   {
    "duration": 19,
    "start_time": "2023-01-26T17:30:24.516Z"
   },
   {
    "duration": 31,
    "start_time": "2023-01-26T17:30:24.537Z"
   },
   {
    "duration": 13,
    "start_time": "2023-01-26T17:30:24.571Z"
   },
   {
    "duration": 17,
    "start_time": "2023-01-26T17:30:24.586Z"
   },
   {
    "duration": 15,
    "start_time": "2023-01-26T17:30:24.605Z"
   },
   {
    "duration": 23,
    "start_time": "2023-01-26T17:30:24.621Z"
   },
   {
    "duration": 19,
    "start_time": "2023-01-26T17:30:24.646Z"
   },
   {
    "duration": 14,
    "start_time": "2023-01-26T17:30:24.669Z"
   },
   {
    "duration": 8,
    "start_time": "2023-01-26T17:30:24.685Z"
   },
   {
    "duration": 22,
    "start_time": "2023-01-26T17:30:24.694Z"
   },
   {
    "duration": 20,
    "start_time": "2023-01-26T17:30:24.718Z"
   },
   {
    "duration": 8,
    "start_time": "2023-01-26T17:30:24.741Z"
   },
   {
    "duration": 25,
    "start_time": "2023-01-26T17:30:24.750Z"
   },
   {
    "duration": 9,
    "start_time": "2023-01-26T17:30:24.776Z"
   },
   {
    "duration": 11,
    "start_time": "2023-01-26T17:30:24.786Z"
   },
   {
    "duration": 16,
    "start_time": "2023-01-26T17:30:24.798Z"
   },
   {
    "duration": 17,
    "start_time": "2023-01-26T17:30:24.815Z"
   },
   {
    "duration": 12,
    "start_time": "2023-01-26T17:30:24.834Z"
   },
   {
    "duration": 36,
    "start_time": "2023-01-26T17:30:24.848Z"
   },
   {
    "duration": 18,
    "start_time": "2023-01-26T17:30:24.885Z"
   },
   {
    "duration": 268,
    "start_time": "2023-01-26T17:30:24.904Z"
   },
   {
    "duration": 235,
    "start_time": "2023-01-26T17:30:25.174Z"
   },
   {
    "duration": 335,
    "start_time": "2023-01-26T17:30:25.411Z"
   },
   {
    "duration": 32,
    "start_time": "2023-01-26T17:30:25.748Z"
   },
   {
    "duration": 13,
    "start_time": "2023-01-26T17:30:25.781Z"
   },
   {
    "duration": 309,
    "start_time": "2023-01-26T17:30:25.796Z"
   },
   {
    "duration": 330,
    "start_time": "2023-01-26T17:30:26.106Z"
   },
   {
    "duration": 298,
    "start_time": "2023-01-26T17:30:26.438Z"
   },
   {
    "duration": 6,
    "start_time": "2023-01-26T17:30:26.737Z"
   },
   {
    "duration": 184,
    "start_time": "2023-01-26T17:30:26.744Z"
   },
   {
    "duration": 263,
    "start_time": "2023-01-26T17:30:26.929Z"
   },
   {
    "duration": 13,
    "start_time": "2023-01-26T17:30:27.194Z"
   },
   {
    "duration": 13,
    "start_time": "2023-01-26T17:30:27.209Z"
   },
   {
    "duration": 45,
    "start_time": "2023-01-26T17:30:27.224Z"
   },
   {
    "duration": 359,
    "start_time": "2023-01-26T17:30:27.271Z"
   },
   {
    "duration": 449,
    "start_time": "2023-01-26T17:30:27.633Z"
   },
   {
    "duration": 291,
    "start_time": "2023-01-26T17:30:28.084Z"
   },
   {
    "duration": 9,
    "start_time": "2023-01-26T17:30:28.377Z"
   },
   {
    "duration": 7,
    "start_time": "2023-01-26T17:30:28.390Z"
   },
   {
    "duration": 234,
    "start_time": "2023-01-26T17:31:39.784Z"
   },
   {
    "duration": 210,
    "start_time": "2023-01-26T17:32:15.296Z"
   },
   {
    "duration": 1912,
    "start_time": "2023-01-26T17:38:16.422Z"
   },
   {
    "duration": 1516,
    "start_time": "2023-01-26T17:38:39.124Z"
   },
   {
    "duration": 801,
    "start_time": "2023-01-26T17:40:01.229Z"
   },
   {
    "duration": 573,
    "start_time": "2023-01-26T17:40:12.621Z"
   },
   {
    "duration": 2395,
    "start_time": "2023-01-26T17:40:18.642Z"
   },
   {
    "duration": 2163,
    "start_time": "2023-01-26T17:40:24.683Z"
   },
   {
    "duration": 2312,
    "start_time": "2023-01-26T17:40:37.178Z"
   },
   {
    "duration": 2269,
    "start_time": "2023-01-26T17:40:46.343Z"
   },
   {
    "duration": 7961,
    "start_time": "2023-01-26T17:40:56.642Z"
   },
   {
    "duration": 156,
    "start_time": "2023-01-26T17:41:09.964Z"
   },
   {
    "duration": 152,
    "start_time": "2023-01-26T17:41:14.122Z"
   },
   {
    "duration": 82,
    "start_time": "2023-01-26T17:41:20.120Z"
   },
   {
    "duration": 1573,
    "start_time": "2023-01-26T17:41:28.441Z"
   },
   {
    "duration": 1749,
    "start_time": "2023-01-26T17:41:54.569Z"
   },
   {
    "duration": 2531,
    "start_time": "2023-01-26T17:42:02.954Z"
   },
   {
    "duration": 2271,
    "start_time": "2023-01-26T17:42:45.867Z"
   },
   {
    "duration": 5274,
    "start_time": "2023-01-26T17:45:05.022Z"
   },
   {
    "duration": 8771,
    "start_time": "2023-01-26T17:45:12.776Z"
   },
   {
    "duration": 2552,
    "start_time": "2023-01-26T17:45:25.222Z"
   },
   {
    "duration": 1672,
    "start_time": "2023-01-26T17:45:32.540Z"
   },
   {
    "duration": 98,
    "start_time": "2023-01-26T17:46:33.373Z"
   },
   {
    "duration": 294,
    "start_time": "2023-01-26T17:47:44.095Z"
   },
   {
    "duration": 290,
    "start_time": "2023-01-26T17:47:49.693Z"
   },
   {
    "duration": 214,
    "start_time": "2023-01-26T17:48:32.522Z"
   },
   {
    "duration": 231,
    "start_time": "2023-01-26T17:49:09.989Z"
   },
   {
    "duration": 293,
    "start_time": "2023-01-26T17:50:32.172Z"
   },
   {
    "duration": 305,
    "start_time": "2023-01-26T17:50:43.229Z"
   },
   {
    "duration": 176,
    "start_time": "2023-01-26T17:51:58.690Z"
   },
   {
    "duration": 84,
    "start_time": "2023-01-26T17:52:21.026Z"
   },
   {
    "duration": 172,
    "start_time": "2023-01-26T17:52:46.674Z"
   },
   {
    "duration": 22,
    "start_time": "2023-01-26T17:55:08.778Z"
   },
   {
    "duration": 24,
    "start_time": "2023-01-26T17:55:30.184Z"
   },
   {
    "duration": 22,
    "start_time": "2023-01-26T17:56:28.868Z"
   },
   {
    "duration": 24,
    "start_time": "2023-01-26T17:57:03.266Z"
   },
   {
    "duration": 23,
    "start_time": "2023-01-26T17:57:14.488Z"
   },
   {
    "duration": 34,
    "start_time": "2023-01-26T17:57:38.952Z"
   },
   {
    "duration": 10,
    "start_time": "2023-01-26T18:07:09.474Z"
   },
   {
    "duration": 8,
    "start_time": "2023-01-26T18:07:18.387Z"
   },
   {
    "duration": 71,
    "start_time": "2023-01-26T18:07:59.719Z"
   },
   {
    "duration": 5403,
    "start_time": "2023-05-23T00:14:20.496Z"
   },
   {
    "duration": 794,
    "start_time": "2023-05-23T00:14:25.901Z"
   },
   {
    "duration": 197,
    "start_time": "2023-05-23T00:14:26.698Z"
   },
   {
    "duration": 497,
    "start_time": "2023-05-23T00:14:26.899Z"
   },
   {
    "duration": 5,
    "start_time": "2023-05-23T00:14:27.398Z"
   },
   {
    "duration": 192,
    "start_time": "2023-05-23T00:14:27.405Z"
   },
   {
    "duration": 491,
    "start_time": "2023-05-23T00:14:27.603Z"
   },
   {
    "duration": 100,
    "start_time": "2023-05-23T00:14:28.097Z"
   },
   {
    "duration": 98,
    "start_time": "2023-05-23T00:14:28.200Z"
   },
   {
    "duration": 100,
    "start_time": "2023-05-23T00:14:28.302Z"
   },
   {
    "duration": 90,
    "start_time": "2023-05-23T00:14:28.405Z"
   },
   {
    "duration": 5,
    "start_time": "2023-05-23T00:14:28.498Z"
   },
   {
    "duration": 291,
    "start_time": "2023-05-23T00:14:28.505Z"
   },
   {
    "duration": 402,
    "start_time": "2023-05-23T00:14:28.798Z"
   },
   {
    "duration": 193,
    "start_time": "2023-05-23T00:14:29.203Z"
   },
   {
    "duration": 102,
    "start_time": "2023-05-23T00:14:29.398Z"
   },
   {
    "duration": 1106,
    "start_time": "2023-05-23T00:14:29.502Z"
   },
   {
    "duration": 402,
    "start_time": "2023-05-23T00:14:30.696Z"
   },
   {
    "duration": 708,
    "start_time": "2023-05-23T00:14:31.194Z"
   },
   {
    "duration": 1492,
    "start_time": "2023-05-23T00:14:31.905Z"
   },
   {
    "duration": 295,
    "start_time": "2023-05-23T00:14:33.400Z"
   },
   {
    "duration": 198,
    "start_time": "2023-05-23T00:14:33.697Z"
   },
   {
    "duration": 2400,
    "start_time": "2023-05-23T00:14:33.898Z"
   },
   {
    "duration": 1698,
    "start_time": "2023-05-23T00:14:36.301Z"
   },
   {
    "duration": 12197,
    "start_time": "2023-05-23T00:14:38.001Z"
   },
   {
    "duration": 196,
    "start_time": "2023-05-23T00:14:50.200Z"
   },
   {
    "duration": 106,
    "start_time": "2023-05-23T00:14:50.401Z"
   },
   {
    "duration": 1606,
    "start_time": "2023-05-23T00:14:50.595Z"
   },
   {
    "duration": 1894,
    "start_time": "2023-05-23T00:14:52.203Z"
   },
   {
    "duration": 1610,
    "start_time": "2023-05-23T00:14:54.099Z"
   },
   {
    "duration": 85,
    "start_time": "2023-05-23T00:14:55.710Z"
   },
   {
    "duration": 518,
    "start_time": "2023-05-23T00:14:55.796Z"
   },
   {
    "duration": 684,
    "start_time": "2023-05-23T00:14:56.316Z"
   },
   {
    "duration": 93,
    "start_time": "2023-05-23T00:14:57.002Z"
   },
   {
    "duration": 122,
    "start_time": "2023-05-23T00:14:57.098Z"
   },
   {
    "duration": 102,
    "start_time": "2023-05-23T00:14:57.295Z"
   },
   {
    "duration": 1508,
    "start_time": "2023-05-23T00:14:57.399Z"
   },
   {
    "duration": 1786,
    "start_time": "2023-05-23T00:14:58.909Z"
   },
   {
    "duration": 1602,
    "start_time": "2023-05-23T00:15:00.697Z"
   },
   {
    "duration": 93,
    "start_time": "2023-05-23T00:15:02.301Z"
   },
   {
    "duration": 9,
    "start_time": "2023-05-23T00:15:02.396Z"
   }
  ],
  "kernelspec": {
   "display_name": "Python 3 (ipykernel)",
   "language": "python",
   "name": "python3"
  },
  "language_info": {
   "codemirror_mode": {
    "name": "ipython",
    "version": 3
   },
   "file_extension": ".py",
   "mimetype": "text/x-python",
   "name": "python",
   "nbconvert_exporter": "python",
   "pygments_lexer": "ipython3",
   "version": "3.9.5"
  },
  "toc": {
   "base_numbering": 1,
   "nav_menu": {},
   "number_sections": true,
   "sideBar": true,
   "skip_h1_title": true,
   "title_cell": "Table of Contents",
   "title_sidebar": "Contents",
   "toc_cell": false,
   "toc_position": {},
   "toc_section_display": true,
   "toc_window_display": false
  }
 },
 "nbformat": 4,
 "nbformat_minor": 2
}
